{
 "cells": [
  {
   "cell_type": "markdown",
   "id": "3b7283f3",
   "metadata": {},
   "source": [
    "# Classification Predict Student Solution\n",
    "\n",
    "© Explore Data Science Academy\n",
    "\n",
    "---\n",
    "### Honour Code\n",
    "\n",
    "I {**Team-14**}, confirm - by submitting this document - that the solutions in this notebook are a result of my own work and that I abide by the [EDSA honour code](https://drive.google.com/file/d/1QDCjGZJ8-FmJE3bZdIQNwnJyQKPhHZBn/view?usp=sharing).\n",
    "\n",
    "Non-compliance with the honour code constitutes a material breach of contract.\n"
   ]
  },
  {
   "cell_type": "markdown",
   "id": "20cfc715",
   "metadata": {},
   "source": [
    "## Introduction\n",
    "\n",
    "### Climate Change Belief Analysis 2022\n",
    "\n",
    "\n",
    "A warming planet creates many risks not only for the humans and animals on the plant but also for  businesses.Companies need to participate in globl warming conversations and actions because they are directly affected by it. Climate change is expensive for compnies, poses a risk to the supply and causes increases in both insurance and labour costs. As such many companies are built around lessening one’s environmental impact or carbon footprint. These companies offer products and services that are environmentally friendly and sustainable, in line with their values and ideals. \n",
    "\n",
    "\n",
    "\n",
    "#### Problem statement\n",
    "\n",
    "We have been tasked with determining how people perceive climate change and whether or not they believe it is a real threat.Providing an accurate and robust model will give companies access to a broad base of consumer sentiment on global warming. This will enable companies to increase their insights and can inform future marketing strategies.\n",
    "\n",
    "#### Data\n",
    "\n",
    "The collection of the data was funded by a Canada Foundation for Innovation JELF Grant to Chris Bauch, University of Waterloo. The dataset aggregates tweets pertaining to climate change collected between Apr 27, 2015 and Feb 21, 2018. In total, 43943 tweets were collected. Each tweet is labelled as one of the following classes:\n",
    "\n",
    "Class Description\n",
    "* 2 News: the tweet links to factual news about climate change\n",
    "* 1 Pro: the tweet supports the belief of man-made climate change\n",
    "* 0 Neutral: the tweet neither supports nor refutes the belief of man-made climate change\n",
    "* -1 Anti: the tweet does not believe in man-made climate change\n"
   ]
  },
  {
   "cell_type": "markdown",
   "id": "0fa7d9e9",
   "metadata": {},
   "source": [
    "<a id=\"cont\"></a>\n",
    "\n",
    "## Table of Contents\n",
    "<a href=#one>1. Importing Packages</a>\n",
    "\n",
    "<a href=#two>2. Loading Data</a>\n",
    "\n",
    "<a href=#three>3. Exploratory Data Analysis (EDA)</a>\n",
    "\n",
    "- <a href=#two>3.1 Numerical and categorical features</a>\n",
    "\n",
    "- <a href=#four>3.2 Null Values </a>\n",
    "\n",
    "- <a href=#four>3.3 Descriptive analysis </a>\n",
    "\n",
    "- <a href=#four>3.4 The target variable </a>\n",
    "\n",
    "- <a href=#four>3.5 Feature variables </a>\n",
    "\n",
    "\n",
    "<a href=#four>4. Data Engineering</a>\n",
    "\n",
    "- <a href=#four>4.1 removing the web-urls</a>\n",
    "\n",
    "- <a href=#four>4.2 Lowercase conversion </a>\n",
    "\n",
    "- <a href=#four>4.3 Removing punctuation and special characters </a>\n",
    "\n",
    "- <a href=#four>4.4 Lemmatization </a>\n",
    "\n",
    "- <a href=#four>4.5 Removing Stop words </a>\n",
    "\n",
    "- <a href=#four>4.6 Feature Extraction using CountVectorizer </a>\n",
    "\n",
    "- <a href=#four>4.7 Preparing the test dataset </a>\n",
    "\n",
    "\n",
    "<a href=#five>5. Modeling</a>\n",
    "\n",
    "\n",
    "- <a href=#four>5.1 Logistic regression classification </a>\n",
    "\n",
    "- <a href=#four>5.2 Decision Tree </a>\n",
    "\n",
    "- <a href=#four>5.3 Random Forests</a>\n",
    "\n",
    "- <a href=#four>5.4 Naive Bayes</a>\n",
    "\n",
    "- <a href=#four>5.5 k nearest neighbuors </a>\n",
    "\n",
    "- <a href=#four> </a>\n",
    "\n",
    "- <a href=#four> </a>\n",
    "\n",
    "\n",
    "<a href=#six>6. Model Performance</a>\n",
    "\n",
    "<a href=#seven>7. Model Explanations</a>"
   ]
  },
  {
   "cell_type": "markdown",
   "id": "e2b80f08",
   "metadata": {},
   "source": [
    "<a id=\"one\"></a>\n",
    "## 1. Importing Packages\n",
    "<a href=#cont>Back to Table of Contents</a>\n",
    "\n",
    "In this section the necessary libraries that will be used throughout the anaylisis are imported.\n",
    "\n",
    "---"
   ]
  },
  {
   "cell_type": "code",
   "execution_count": 1,
   "id": "2ef81f58",
   "metadata": {},
   "outputs": [],
   "source": [
    "# Libraries for data loading, data manipulation and data visulisation\n",
    "\n",
    "import numpy as np\n",
    "import pandas as pd\n",
    "import matplotlib.pyplot as plt\n",
    "%matplotlib inline\n",
    "import seaborn as sns\n",
    "import re\n",
    "import string\n",
    "import neattext.functions as nt\n",
    "import neattext.functions as nt\n",
    "\n",
    "import nltk\n",
    "from nltk.corpus import stopwords\n",
    "from nltk import SnowballStemmer, PorterStemmer, LancasterStemmer\n",
    "from nltk.stem import WordNetLemmatizer\n",
    "from nltk.corpus import stopwords\n",
    "from nltk.util import ngrams\n",
    "\n",
    "# Libraries for data preparation and model building\n",
    "from sklearn.feature_extraction.text import CountVectorizer\n",
    "\n",
    "\n",
    "# set plot style\n",
    "sns.set()\n",
    "\n",
    "\n",
    "#import *\n",
    "\n",
    "# Setting global constants to ensure notebook results are reproducible\n",
    "#PARAMETER_CONSTANT = ###"
   ]
  },
  {
   "cell_type": "markdown",
   "id": "715cc340",
   "metadata": {},
   "source": [
    "<a id=\"two\"></a>\n",
    "## 2. Loading the Data\n",
    "<a class=\"anchor\" id=\"1.1\"></a>\n",
    "<a href=#cont>Back to Table of Contents</a>\n",
    "\n",
    "\n",
    "In this section the data is loaded from the `df_train` file.\n",
    "\n"
   ]
  },
  {
   "cell_type": "code",
   "execution_count": 2,
   "id": "7557d744",
   "metadata": {},
   "outputs": [],
   "source": [
    "#show all columns\n",
    "pd.set_option('display.max_colwidth', None)\n",
    "\n",
    " # load the data\n",
    "df_train = pd.read_csv('train.csv')"
   ]
  },
  {
   "cell_type": "code",
   "execution_count": 3,
   "id": "c4d7a75b",
   "metadata": {
    "scrolled": true
   },
   "outputs": [
    {
     "data": {
      "text/html": [
       "<div>\n",
       "<style scoped>\n",
       "    .dataframe tbody tr th:only-of-type {\n",
       "        vertical-align: middle;\n",
       "    }\n",
       "\n",
       "    .dataframe tbody tr th {\n",
       "        vertical-align: top;\n",
       "    }\n",
       "\n",
       "    .dataframe thead th {\n",
       "        text-align: right;\n",
       "    }\n",
       "</style>\n",
       "<table border=\"1\" class=\"dataframe\">\n",
       "  <thead>\n",
       "    <tr style=\"text-align: right;\">\n",
       "      <th></th>\n",
       "      <th>sentiment</th>\n",
       "      <th>message</th>\n",
       "      <th>tweetid</th>\n",
       "    </tr>\n",
       "  </thead>\n",
       "  <tbody>\n",
       "    <tr>\n",
       "      <th>0</th>\n",
       "      <td>1</td>\n",
       "      <td>PolySciMajor EPA chief doesn't think carbon dioxide is main cause of global warming and.. wait, what!? https://t.co/yeLvcEFXkC via @mashable</td>\n",
       "      <td>625221</td>\n",
       "    </tr>\n",
       "    <tr>\n",
       "      <th>1</th>\n",
       "      <td>1</td>\n",
       "      <td>It's not like we lack evidence of anthropogenic global warming</td>\n",
       "      <td>126103</td>\n",
       "    </tr>\n",
       "    <tr>\n",
       "      <th>2</th>\n",
       "      <td>2</td>\n",
       "      <td>RT @RawStory: Researchers say we have three years to act on climate change before it’s too late https://t.co/WdT0KdUr2f https://t.co/Z0ANPT…</td>\n",
       "      <td>698562</td>\n",
       "    </tr>\n",
       "    <tr>\n",
       "      <th>3</th>\n",
       "      <td>1</td>\n",
       "      <td>#TodayinMaker# WIRED : 2016 was a pivotal year in the war on climate change https://t.co/44wOTxTLcD</td>\n",
       "      <td>573736</td>\n",
       "    </tr>\n",
       "    <tr>\n",
       "      <th>4</th>\n",
       "      <td>1</td>\n",
       "      <td>RT @SoyNovioDeTodas: It's 2016, and a racist, sexist, climate change denying bigot is leading in the polls. #ElectionNight</td>\n",
       "      <td>466954</td>\n",
       "    </tr>\n",
       "  </tbody>\n",
       "</table>\n",
       "</div>"
      ],
      "text/plain": [
       "   sentiment  \\\n",
       "0          1   \n",
       "1          1   \n",
       "2          2   \n",
       "3          1   \n",
       "4          1   \n",
       "\n",
       "                                                                                                                                        message  \\\n",
       "0  PolySciMajor EPA chief doesn't think carbon dioxide is main cause of global warming and.. wait, what!? https://t.co/yeLvcEFXkC via @mashable   \n",
       "1                                                                                It's not like we lack evidence of anthropogenic global warming   \n",
       "2  RT @RawStory: Researchers say we have three years to act on climate change before it’s too late https://t.co/WdT0KdUr2f https://t.co/Z0ANPT…   \n",
       "3                                           #TodayinMaker# WIRED : 2016 was a pivotal year in the war on climate change https://t.co/44wOTxTLcD   \n",
       "4                    RT @SoyNovioDeTodas: It's 2016, and a racist, sexist, climate change denying bigot is leading in the polls. #ElectionNight   \n",
       "\n",
       "   tweetid  \n",
       "0   625221  \n",
       "1   126103  \n",
       "2   698562  \n",
       "3   573736  \n",
       "4   466954  "
      ]
     },
     "execution_count": 3,
     "metadata": {},
     "output_type": "execute_result"
    }
   ],
   "source": [
    "# View dataset\n",
    "df_train.head()"
   ]
  },
  {
   "cell_type": "markdown",
   "id": "806a5cb2",
   "metadata": {},
   "source": [
    "<a id=\"three\"></a>\n",
    "## 3. Exploratory Data Analysis (EDA)\n",
    "<a class=\"anchor\" id=\"1.1\"></a>\n",
    "<a href=#cont>Back to Table of Contents</a>\n",
    "\n",
    "\n",
    "    \n",
    "In this section,  an in-depth analysis of all the variables in the DataFrame is perfomed.\n",
    "\n",
    "-  Numerical and categorical features\n",
    "-  Null values\n",
    "-  Descriptive analysis \n",
    "-  The target variable 'sentiment'\n",
    "-  Feature variables 'message'"
   ]
  },
  {
   "cell_type": "markdown",
   "id": "58e11866",
   "metadata": {},
   "source": [
    "###  3.1 Numerical and categorical features\n",
    "\n",
    "Looking  at the method df.info(). This will provide the information about the data types of the variables, the number of variables and the non-null count for each variable."
   ]
  },
  {
   "cell_type": "code",
   "execution_count": 4,
   "id": "3c87d42f",
   "metadata": {
    "scrolled": false
   },
   "outputs": [
    {
     "name": "stdout",
     "output_type": "stream",
     "text": [
      "<class 'pandas.core.frame.DataFrame'>\n",
      "RangeIndex: 15819 entries, 0 to 15818\n",
      "Data columns (total 3 columns):\n",
      " #   Column     Non-Null Count  Dtype \n",
      "---  ------     --------------  ----- \n",
      " 0   sentiment  15819 non-null  int64 \n",
      " 1   message    15819 non-null  object\n",
      " 2   tweetid    15819 non-null  int64 \n",
      "dtypes: int64(2), object(1)\n",
      "memory usage: 370.9+ KB\n"
     ]
    }
   ],
   "source": [
    "#train information\n",
    "df_train.info()"
   ]
  },
  {
   "cell_type": "markdown",
   "id": "601db8c6",
   "metadata": {},
   "source": [
    "Sentiment and tweetid columns contains numerical data, while clean_message contain Categorical data"
   ]
  },
  {
   "cell_type": "markdown",
   "id": "a9b404b4",
   "metadata": {},
   "source": [
    "###  3.2 Null Values\n",
    "\n",
    " Looking at the function df.isnull().sum(). This will give us information about which variables have null values."
   ]
  },
  {
   "cell_type": "code",
   "execution_count": 5,
   "id": "bcb581ba",
   "metadata": {
    "scrolled": true
   },
   "outputs": [
    {
     "data": {
      "text/plain": [
       "sentiment    0\n",
       "message      0\n",
       "tweetid      0\n",
       "dtype: int64"
      ]
     },
     "execution_count": 5,
     "metadata": {},
     "output_type": "execute_result"
    }
   ],
   "source": [
    "#checking for nulls\n",
    "df_train.isnull().sum()"
   ]
  },
  {
   "cell_type": "markdown",
   "id": "ad1b379d",
   "metadata": {},
   "source": [
    "There are no null values present in all columns."
   ]
  },
  {
   "cell_type": "markdown",
   "id": "c399fa54",
   "metadata": {},
   "source": [
    "###  3.3 Descriptive analysis"
   ]
  },
  {
   "cell_type": "markdown",
   "id": "c78af324",
   "metadata": {},
   "source": [
    "To run summary statistics on columns containing `Numerical data`, we use `.describe()` function"
   ]
  },
  {
   "cell_type": "code",
   "execution_count": 6,
   "id": "2dd7868f",
   "metadata": {
    "scrolled": true
   },
   "outputs": [
    {
     "data": {
      "text/html": [
       "<div>\n",
       "<style scoped>\n",
       "    .dataframe tbody tr th:only-of-type {\n",
       "        vertical-align: middle;\n",
       "    }\n",
       "\n",
       "    .dataframe tbody tr th {\n",
       "        vertical-align: top;\n",
       "    }\n",
       "\n",
       "    .dataframe thead th {\n",
       "        text-align: right;\n",
       "    }\n",
       "</style>\n",
       "<table border=\"1\" class=\"dataframe\">\n",
       "  <thead>\n",
       "    <tr style=\"text-align: right;\">\n",
       "      <th></th>\n",
       "      <th>sentiment</th>\n",
       "      <th>tweetid</th>\n",
       "    </tr>\n",
       "  </thead>\n",
       "  <tbody>\n",
       "    <tr>\n",
       "      <th>count</th>\n",
       "      <td>15819.000000</td>\n",
       "      <td>15819.000000</td>\n",
       "    </tr>\n",
       "    <tr>\n",
       "      <th>mean</th>\n",
       "      <td>0.917504</td>\n",
       "      <td>501719.433656</td>\n",
       "    </tr>\n",
       "    <tr>\n",
       "      <th>std</th>\n",
       "      <td>0.836537</td>\n",
       "      <td>289045.983132</td>\n",
       "    </tr>\n",
       "    <tr>\n",
       "      <th>min</th>\n",
       "      <td>-1.000000</td>\n",
       "      <td>6.000000</td>\n",
       "    </tr>\n",
       "    <tr>\n",
       "      <th>25%</th>\n",
       "      <td>1.000000</td>\n",
       "      <td>253207.500000</td>\n",
       "    </tr>\n",
       "    <tr>\n",
       "      <th>50%</th>\n",
       "      <td>1.000000</td>\n",
       "      <td>502291.000000</td>\n",
       "    </tr>\n",
       "    <tr>\n",
       "      <th>75%</th>\n",
       "      <td>1.000000</td>\n",
       "      <td>753769.000000</td>\n",
       "    </tr>\n",
       "    <tr>\n",
       "      <th>max</th>\n",
       "      <td>2.000000</td>\n",
       "      <td>999888.000000</td>\n",
       "    </tr>\n",
       "  </tbody>\n",
       "</table>\n",
       "</div>"
      ],
      "text/plain": [
       "          sentiment        tweetid\n",
       "count  15819.000000   15819.000000\n",
       "mean       0.917504  501719.433656\n",
       "std        0.836537  289045.983132\n",
       "min       -1.000000       6.000000\n",
       "25%        1.000000  253207.500000\n",
       "50%        1.000000  502291.000000\n",
       "75%        1.000000  753769.000000\n",
       "max        2.000000  999888.000000"
      ]
     },
     "execution_count": 6,
     "metadata": {},
     "output_type": "execute_result"
    }
   ],
   "source": [
    "#descriptive analysis\n",
    "df_train.describe()"
   ]
  },
  {
   "cell_type": "markdown",
   "id": "678445c6",
   "metadata": {},
   "source": [
    "Summary statistics on `Categorical` column"
   ]
  },
  {
   "cell_type": "code",
   "execution_count": 7,
   "id": "8a299922",
   "metadata": {},
   "outputs": [
    {
     "data": {
      "text/html": [
       "<div>\n",
       "<style scoped>\n",
       "    .dataframe tbody tr th:only-of-type {\n",
       "        vertical-align: middle;\n",
       "    }\n",
       "\n",
       "    .dataframe tbody tr th {\n",
       "        vertical-align: top;\n",
       "    }\n",
       "\n",
       "    .dataframe thead th {\n",
       "        text-align: right;\n",
       "    }\n",
       "</style>\n",
       "<table border=\"1\" class=\"dataframe\">\n",
       "  <thead>\n",
       "    <tr style=\"text-align: right;\">\n",
       "      <th></th>\n",
       "      <th>message</th>\n",
       "    </tr>\n",
       "  </thead>\n",
       "  <tbody>\n",
       "    <tr>\n",
       "      <th>count</th>\n",
       "      <td>15819</td>\n",
       "    </tr>\n",
       "    <tr>\n",
       "      <th>unique</th>\n",
       "      <td>14229</td>\n",
       "    </tr>\n",
       "    <tr>\n",
       "      <th>top</th>\n",
       "      <td>RT @StephenSchlegel: she's thinking about how she's going to die because your husband doesn't believe in climate change https://t.co/SjoFoNÃ¢â‚¬Â¦</td>\n",
       "    </tr>\n",
       "    <tr>\n",
       "      <th>freq</th>\n",
       "      <td>307</td>\n",
       "    </tr>\n",
       "  </tbody>\n",
       "</table>\n",
       "</div>"
      ],
      "text/plain": [
       "                                                                                                                                                   message\n",
       "count                                                                                                                                                15819\n",
       "unique                                                                                                                                               14229\n",
       "top     RT @StephenSchlegel: she's thinking about how she's going to die because your husband doesn't believe in climate change https://t.co/SjoFoNÃ¢â‚¬Â¦\n",
       "freq                                                                                                                                                   307"
      ]
     },
     "execution_count": 7,
     "metadata": {},
     "output_type": "execute_result"
    }
   ],
   "source": [
    "#descriptive analysis for categorical information\n",
    "df_train.describe(include='object')"
   ]
  },
  {
   "cell_type": "markdown",
   "id": "31c7b39b",
   "metadata": {},
   "source": [
    "We notice that there are duplicates in message column, as shown by the unique row. These could be messages retweeted by different people.   \n",
    "\n",
    "Possible solution would be to drop the duplicate columns. "
   ]
  },
  {
   "cell_type": "markdown",
   "id": "054c6cc4",
   "metadata": {},
   "source": [
    "###  3.4 The target variable 'sentiment'"
   ]
  },
  {
   "cell_type": "markdown",
   "id": "54806398",
   "metadata": {},
   "source": [
    "##### Class Description (Sentiments)\n",
    "\n",
    "- 2 : News: the tweet links to factual news about climate change\n",
    "- 1 : Pro: the tweet supports the belief of man-made climate change\n",
    "- 0 : Neutral: the tweet neither supports nor refutes the belief of man-made climate change\n",
    "- -1: Anti: the tweet does not believe in man-made climate change"
   ]
  },
  {
   "cell_type": "code",
   "execution_count": 8,
   "id": "1bb138b8",
   "metadata": {},
   "outputs": [
    {
     "name": "stdout",
     "output_type": "stream",
     "text": [
      "[-1, 0, 1, 2]\n"
     ]
    }
   ],
   "source": [
    "# list of unique types of Sentiments\n",
    "type_sentis = list(sorted(df_train.sentiment.unique()))\n",
    "print(type_sentis)"
   ]
  },
  {
   "cell_type": "code",
   "execution_count": 9,
   "id": "3681f3cb",
   "metadata": {},
   "outputs": [
    {
     "data": {
      "image/png": "[encoded data removed]",
      "text/plain": [
       "<Figure size 432x288 with 1 Axes>"
      ]
     },
     "metadata": {},
     "output_type": "display_data"
    }
   ],
   "source": [
    "# bar graph of Sentiments\n",
    "df_train['sentiment'].value_counts().sort_index().plot(kind = 'bar')\n",
    "plt.show()"
   ]
  },
  {
   "cell_type": "markdown",
   "id": "27f527a4",
   "metadata": {},
   "source": [
    "It can be observed that the classes are not balanced. Majority of the tweets belong to classe 1(Pro: the tweet supports the belief of man-made climate change) and class -1(Anti: the tweet does not believe in man-made climate change) has the least amount of tweets.  The data shows that there are a lot more people who believe climate change is man mode then those who don't."
   ]
  },
  {
   "cell_type": "markdown",
   "id": "2548ab89",
   "metadata": {},
   "source": [
    "###  3.5 Feature variables 'message'"
   ]
  },
  {
   "cell_type": "markdown",
   "id": "11019fd7",
   "metadata": {},
   "source": [
    "#### Words cloud of frequently twitted words\n",
    "\n",
    "We will create a word could image of the frequently twitted word in each of the different classes which are as follows:\n",
    "\n",
    "* 2 News: the tweet links to factual news about climate change\n",
    "* 1 Pro: the tweet supports the belief of man-made climate change\n",
    "* 0 Neutral: the tweet neither supports nor refutes the belief of man-made climate change\n",
    "* -1 Anti: the tweet does not believe in man-made climate change"
   ]
  },
  {
   "cell_type": "code",
   "execution_count": 10,
   "id": "e4326b41",
   "metadata": {},
   "outputs": [],
   "source": [
    "#Copy of dataframe\n",
    "df_gm = df_train.copy()"
   ]
  },
  {
   "cell_type": "code",
   "execution_count": 11,
   "id": "4e817e42",
   "metadata": {},
   "outputs": [],
   "source": [
    "#create different dataframes for each of the classes\n",
    "df_news= df_gm.drop(df_gm[df_gm.sentiment <= 1].index)\n",
    "\n",
    "df_pro= df_gm.drop(df_gm[df_gm.sentiment<=0].index)\n",
    "df_pro= df_gm.drop(df_gm[df_gm.sentiment>=2].index)\n",
    "\n",
    "df_neutral= df_gm.drop(df_gm[df_gm.sentiment<=(-1)].index)\n",
    "df_neutral= df_gm.drop(df_gm[df_gm.sentiment>=1].index)\n",
    "\n",
    "df_anti= df_gm.drop(df_gm[df_gm.sentiment>=0].index)"
   ]
  },
  {
   "cell_type": "code",
   "execution_count": 12,
   "id": "7398cad5",
   "metadata": {},
   "outputs": [
    {
     "data": {
      "text/plain": [
       "Text(0.5, 1.0, 'Anti Tweets')"
      ]
     },
     "execution_count": 12,
     "metadata": {},
     "output_type": "execute_result"
    },
    {
     "data": {
      "image/png": "[encoded data removed]",
      "text/plain": [
       "<Figure size 288x576 with 1 Axes>"
      ]
     },
     "metadata": {},
     "output_type": "display_data"
    },
    {
     "data": {
      "image/png": "[encoded data removed]",
      "text/plain": [
       "<Figure size 288x576 with 1 Axes>"
      ]
     },
     "metadata": {},
     "output_type": "display_data"
    },
    {
     "data": {
      "image/png": "[encoded data removed]",
      "text/plain": [
       "<Figure size 288x576 with 1 Axes>"
      ]
     },
     "metadata": {},
     "output_type": "display_data"
    },
    {
     "data": {
      "image/png": "[encoded data removed]",
      "text/plain": [
       "<Figure size 288x576 with 1 Axes>"
      ]
     },
     "metadata": {},
     "output_type": "display_data"
    }
   ],
   "source": [
    "# Importing wordcloud for plotting word clouds and textwrap for wrapping longer text\n",
    "from wordcloud import WordCloud\n",
    "from textwrap import wrap\n",
    "\n",
    "#create instance of WordCloud\n",
    "wc=WordCloud(width=400, height=330, max_words=150,colormap=\"Dark2\")\n",
    "\n",
    "#Create string of 100 words\n",
    "wcVect = CountVectorizer(stop_words='english',max_features=100) \n",
    "wcVect.fit(df_news['message'])\n",
    "text1=list(wcVect.vocabulary_)\n",
    "text2=string = ' '.join(text1)\n",
    "\n",
    "text2\n",
    "#createWordCloud\n",
    "a=wc.generate(string)\n",
    "\n",
    "plt.figure(figsize = (4, 8), facecolor = None)\n",
    "plt.imshow(a)\n",
    "plt.axis(\"off\")\n",
    "plt.tight_layout(pad = 0);\n",
    "\n",
    "plt.title(\"News Tweets\")\n",
    "##########################################################\n",
    "#create instance of WordCloud\n",
    "wc=WordCloud(width=400, height=330, max_words=150,colormap=\"Dark2\")\n",
    "\n",
    "#Create string of 100 words\n",
    "wcVect = CountVectorizer(stop_words='english',max_features=100) \n",
    "wcVect.fit(df_pro['message'])\n",
    "text1=list(wcVect.vocabulary_)\n",
    "text2=string = ' '.join(text1)\n",
    "\n",
    "text2\n",
    "\n",
    "#createWordCloud\n",
    "b=wc.generate(string)\n",
    "\n",
    "\n",
    "plt.figure(figsize = (4, 8), facecolor = None)\n",
    "plt.imshow(b)\n",
    "plt.axis(\"off\")\n",
    "plt.tight_layout(pad = 0)\n",
    "\n",
    "plt.title(\"Pro Tweets\")\n",
    "##################################################################\n",
    "#create instance of WordCloud\n",
    "wc=WordCloud(width=400, height=330, max_words=150,colormap=\"Dark2\")\n",
    "\n",
    "#Create string of 100 words\n",
    "wcVect = CountVectorizer(stop_words='english',max_features=100) \n",
    "wcVect.fit(df_neutral['message'])\n",
    "text1=list(wcVect.vocabulary_)\n",
    "text2=string = ' '.join(text1)\n",
    "\n",
    "text2\n",
    "\n",
    "#createWordCloud\n",
    "c=wc.generate(string)\n",
    "\n",
    "\n",
    "plt.figure(figsize = (4, 8), facecolor = None)\n",
    "plt.imshow(c)\n",
    "plt.axis(\"off\")\n",
    "plt.tight_layout(pad = 0);\n",
    "\n",
    "plt.title(\"Neutral Tweets\")\n",
    "\n",
    "#########################################################\n",
    "#create instance of WordCloud\n",
    "wc=WordCloud(width=400, height=330, max_words=150,colormap=\"Dark2\")\n",
    "\n",
    "#Create string of 100 words\n",
    "wcVect = CountVectorizer(stop_words='english',max_features=100) \n",
    "wcVect.fit(df_anti['message'])\n",
    "text1=list(wcVect.vocabulary_)\n",
    "text2=string = ' '.join(text1)\n",
    "\n",
    "text2\n",
    "\n",
    "#createWordCloud\n",
    "d=wc.generate(string)\n",
    "\n",
    "\n",
    "plt.figure(figsize = (4, 8), facecolor = None)\n",
    "plt.imshow(d)\n",
    "plt.axis(\"off\")\n",
    "plt.tight_layout(pad = 0);\n",
    "\n",
    "plt.title(\"Anti Tweets\")\n"
   ]
  },
  {
   "cell_type": "markdown",
   "id": "cd7a56fe",
   "metadata": {},
   "source": [
    "These are some of the most frequently twitted words for each of the classes\n",
    "\n",
    "- 1) 2 News: say, new, scientists, climate, change, years, warming, study, government\n",
    "- 2) 1 Pro: think, year, epa, doesn't, denier, cause, warming, carbon, climate\n",
    "- 3) 0 Neutral: scientist, climate, change, global, warming, realdonaldtrump, energy, worl\n",
    "- 4) -1 Anti: scientist, liberal, climate, change, evidence, need, blame, tax, stevesgoddard\n",
    "\n"
   ]
  },
  {
   "cell_type": "markdown",
   "id": "0037ecbb",
   "metadata": {},
   "source": [
    "## 4. Data Engineering\n",
    "<a class=\"anchor\" id=\"1.1\"></a>\n",
    "<a href=#cont>Back to Table of Contents</a>\n",
    "\n",
    "Data engineering is the complex task of making raw data usable for the modeling phase. In this section we engineer the features such that they are ready for modelling\n",
    "\n",
    "\n",
    "For our dataset, we will be doing the following steps:\n",
    "* removing the web-urls\n",
    "* making everything lower case\n",
    "* removing punctuation and special characters\n",
    "* removing mentions and retweets(`rt`)"
   ]
  },
  {
   "cell_type": "markdown",
   "id": "788ceccb",
   "metadata": {},
   "source": [
    "### 4.1 removing the web-urls"
   ]
  },
  {
   "cell_type": "code",
   "execution_count": 13,
   "id": "2cef88bb",
   "metadata": {},
   "outputs": [],
   "source": [
    "pattern_url = r'http[s]?://(?:[A-Za-z]|[0-9]|[$-_@.&+]|[!*\\(\\),]|(?:%[0-9A-Fa-f][0-9A-Fa-f]))+'\n",
    "subs_url = r'url-web'\n",
    "df_train['message'] = df_train['message'].replace(to_replace = pattern_url, value = subs_url, regex = True)"
   ]
  },
  {
   "cell_type": "markdown",
   "id": "dca722af",
   "metadata": {},
   "source": [
    "### 4.2 Lowercase conversion"
   ]
  },
  {
   "cell_type": "code",
   "execution_count": 14,
   "id": "98d39251",
   "metadata": {},
   "outputs": [],
   "source": [
    "#loewer case conversion\n",
    "df_train['message'] = df_train['message'].str.lower()"
   ]
  },
  {
   "cell_type": "markdown",
   "id": "3e73f1b8",
   "metadata": {},
   "source": [
    "### 4.3 Removing punctuation and special characters"
   ]
  },
  {
   "cell_type": "markdown",
   "id": "bc6b01cf",
   "metadata": {},
   "source": [
    "We create a funcion that will remove the web-urls, punctuation, and mentions along with retweets(`rt`)"
   ]
  },
  {
   "cell_type": "code",
   "execution_count": 15,
   "id": "e5a5098a",
   "metadata": {},
   "outputs": [
    {
     "data": {
      "text/html": [
       "<div>\n",
       "<style scoped>\n",
       "    .dataframe tbody tr th:only-of-type {\n",
       "        vertical-align: middle;\n",
       "    }\n",
       "\n",
       "    .dataframe tbody tr th {\n",
       "        vertical-align: top;\n",
       "    }\n",
       "\n",
       "    .dataframe thead th {\n",
       "        text-align: right;\n",
       "    }\n",
       "</style>\n",
       "<table border=\"1\" class=\"dataframe\">\n",
       "  <thead>\n",
       "    <tr style=\"text-align: right;\">\n",
       "      <th></th>\n",
       "      <th>sentiment</th>\n",
       "      <th>message</th>\n",
       "      <th>tweetid</th>\n",
       "      <th>clean_message</th>\n",
       "    </tr>\n",
       "  </thead>\n",
       "  <tbody>\n",
       "    <tr>\n",
       "      <th>0</th>\n",
       "      <td>1</td>\n",
       "      <td>polyscimajor epa chief doesn't think carbon dioxide is main cause of global warming and.. wait, what!? url-web via @mashable</td>\n",
       "      <td>625221</td>\n",
       "      <td>polyscimajor epa chief doesn't think carbon dioxide is main cause of global warming and.. wait, what!? url-web via</td>\n",
       "    </tr>\n",
       "    <tr>\n",
       "      <th>1</th>\n",
       "      <td>1</td>\n",
       "      <td>it's not like we lack evidence of anthropogenic global warming</td>\n",
       "      <td>126103</td>\n",
       "      <td>it's not like we lack evidence of anthropogenic global warming</td>\n",
       "    </tr>\n",
       "  </tbody>\n",
       "</table>\n",
       "</div>"
      ],
      "text/plain": [
       "   sentiment  \\\n",
       "0          1   \n",
       "1          1   \n",
       "\n",
       "                                                                                                                        message  \\\n",
       "0  polyscimajor epa chief doesn't think carbon dioxide is main cause of global warming and.. wait, what!? url-web via @mashable   \n",
       "1                                                                it's not like we lack evidence of anthropogenic global warming   \n",
       "\n",
       "   tweetid  \\\n",
       "0   625221   \n",
       "1   126103   \n",
       "\n",
       "                                                                                                         clean_message  \n",
       "0  polyscimajor epa chief doesn't think carbon dioxide is main cause of global warming and.. wait, what!? url-web via   \n",
       "1                                                       it's not like we lack evidence of anthropogenic global warming  "
      ]
     },
     "execution_count": 15,
     "metadata": {},
     "output_type": "execute_result"
    }
   ],
   "source": [
    "def data_cleaning(tweet):\n",
    "    tweet = re.sub(r'@[a-z0-9]+', '', tweet) # removing mentions\n",
    "    tweet = re.sub(r'#', '', tweet) # remove #\n",
    "    tweet = re.sub(r'rt[\\s]+', '', tweet) # remove retweets(`rt`)\n",
    "    #tweet = re.sub(r'url-web', '', tweet) # remove web-urls\n",
    "    \n",
    "    return tweet\n",
    "\n",
    "df_train['clean_message'] = df_train['message'].apply(data_cleaning)\n",
    "\n",
    "df_train.head(2)"
   ]
  },
  {
   "cell_type": "markdown",
   "id": "418bd287",
   "metadata": {},
   "source": [
    "#### In case of special characters and extra whitespace, we employed NeatText "
   ]
  },
  {
   "cell_type": "code",
   "execution_count": 16,
   "id": "ccab941b",
   "metadata": {},
   "outputs": [
    {
     "data": {
      "text/html": [
       "<div>\n",
       "<style scoped>\n",
       "    .dataframe tbody tr th:only-of-type {\n",
       "        vertical-align: middle;\n",
       "    }\n",
       "\n",
       "    .dataframe tbody tr th {\n",
       "        vertical-align: top;\n",
       "    }\n",
       "\n",
       "    .dataframe thead th {\n",
       "        text-align: right;\n",
       "    }\n",
       "</style>\n",
       "<table border=\"1\" class=\"dataframe\">\n",
       "  <thead>\n",
       "    <tr style=\"text-align: right;\">\n",
       "      <th></th>\n",
       "      <th>sentiment</th>\n",
       "      <th>message</th>\n",
       "      <th>tweetid</th>\n",
       "      <th>clean_message</th>\n",
       "    </tr>\n",
       "  </thead>\n",
       "  <tbody>\n",
       "    <tr>\n",
       "      <th>0</th>\n",
       "      <td>1</td>\n",
       "      <td>polyscimajor epa chief doesn't think carbon dioxide is main cause of global warming and.. wait, what!? url-web via @mashable</td>\n",
       "      <td>625221</td>\n",
       "      <td>polyscimajor epa chief doesnt think carbon dioxide is main cause of global warming and wait what urlweb via</td>\n",
       "    </tr>\n",
       "    <tr>\n",
       "      <th>1</th>\n",
       "      <td>1</td>\n",
       "      <td>it's not like we lack evidence of anthropogenic global warming</td>\n",
       "      <td>126103</td>\n",
       "      <td>its not like we lack evidence of anthropogenic global warming</td>\n",
       "    </tr>\n",
       "  </tbody>\n",
       "</table>\n",
       "</div>"
      ],
      "text/plain": [
       "   sentiment  \\\n",
       "0          1   \n",
       "1          1   \n",
       "\n",
       "                                                                                                                        message  \\\n",
       "0  polyscimajor epa chief doesn't think carbon dioxide is main cause of global warming and.. wait, what!? url-web via @mashable   \n",
       "1                                                                it's not like we lack evidence of anthropogenic global warming   \n",
       "\n",
       "   tweetid  \\\n",
       "0   625221   \n",
       "1   126103   \n",
       "\n",
       "                                                                                                  clean_message  \n",
       "0  polyscimajor epa chief doesnt think carbon dioxide is main cause of global warming and wait what urlweb via   \n",
       "1                                                 its not like we lack evidence of anthropogenic global warming  "
      ]
     },
     "execution_count": 16,
     "metadata": {},
     "output_type": "execute_result"
    }
   ],
   "source": [
    "# Remove special characters using NeatText\n",
    "df_train['clean_message'] = df_train['clean_message'].apply(nt.remove_special_characters)\n",
    "\n",
    "# Remove multiple whitespace between words\n",
    "df_train['clean_message'] = df_train['clean_message'].apply(nt.remove_multiple_spaces)\n",
    "\n",
    "df_train.head(2)"
   ]
  },
  {
   "cell_type": "code",
   "execution_count": 17,
   "id": "7aa0df2d",
   "metadata": {
    "scrolled": false
   },
   "outputs": [
    {
     "data": {
      "text/html": [
       "<div>\n",
       "<style scoped>\n",
       "    .dataframe tbody tr th:only-of-type {\n",
       "        vertical-align: middle;\n",
       "    }\n",
       "\n",
       "    .dataframe tbody tr th {\n",
       "        vertical-align: top;\n",
       "    }\n",
       "\n",
       "    .dataframe thead th {\n",
       "        text-align: right;\n",
       "    }\n",
       "</style>\n",
       "<table border=\"1\" class=\"dataframe\">\n",
       "  <thead>\n",
       "    <tr style=\"text-align: right;\">\n",
       "      <th></th>\n",
       "      <th>message</th>\n",
       "      <th>clean_message</th>\n",
       "    </tr>\n",
       "  </thead>\n",
       "  <tbody>\n",
       "    <tr>\n",
       "      <th>0</th>\n",
       "      <td>polyscimajor epa chief doesn't think carbon dioxide is main cause of global warming and.. wait, what!? url-web via @mashable</td>\n",
       "      <td>polyscimajor epa chief doesnt think carbon dioxide is main cause of global warming and wait what urlweb via</td>\n",
       "    </tr>\n",
       "    <tr>\n",
       "      <th>1</th>\n",
       "      <td>it's not like we lack evidence of anthropogenic global warming</td>\n",
       "      <td>its not like we lack evidence of anthropogenic global warming</td>\n",
       "    </tr>\n",
       "    <tr>\n",
       "      <th>2</th>\n",
       "      <td>rt @rawstory: researchers say we have three years to act on climate change before it’s too late url-web url-web…</td>\n",
       "      <td>researchers say we have three years to act on climate change before its too late urlweb urlweb</td>\n",
       "    </tr>\n",
       "    <tr>\n",
       "      <th>3</th>\n",
       "      <td>#todayinmaker# wired : 2016 was a pivotal year in the war on climate change url-web</td>\n",
       "      <td>todayinmaker wired 2016 was a pivotal year in the war on climate change urlweb</td>\n",
       "    </tr>\n",
       "    <tr>\n",
       "      <th>4</th>\n",
       "      <td>rt @soynoviodetodas: it's 2016, and a racist, sexist, climate change denying bigot is leading in the polls. #electionnight</td>\n",
       "      <td>its 2016 and a racist sexist climate change denying bigot is leading in the polls electionnight</td>\n",
       "    </tr>\n",
       "  </tbody>\n",
       "</table>\n",
       "</div>"
      ],
      "text/plain": [
       "                                                                                                                        message  \\\n",
       "0  polyscimajor epa chief doesn't think carbon dioxide is main cause of global warming and.. wait, what!? url-web via @mashable   \n",
       "1                                                                it's not like we lack evidence of anthropogenic global warming   \n",
       "2              rt @rawstory: researchers say we have three years to act on climate change before it’s too late url-web url-web…   \n",
       "3                                           #todayinmaker# wired : 2016 was a pivotal year in the war on climate change url-web   \n",
       "4    rt @soynoviodetodas: it's 2016, and a racist, sexist, climate change denying bigot is leading in the polls. #electionnight   \n",
       "\n",
       "                                                                                                  clean_message  \n",
       "0  polyscimajor epa chief doesnt think carbon dioxide is main cause of global warming and wait what urlweb via   \n",
       "1                                                 its not like we lack evidence of anthropogenic global warming  \n",
       "2                researchers say we have three years to act on climate change before its too late urlweb urlweb  \n",
       "3                                todayinmaker wired 2016 was a pivotal year in the war on climate change urlweb  \n",
       "4               its 2016 and a racist sexist climate change denying bigot is leading in the polls electionnight  "
      ]
     },
     "execution_count": 17,
     "metadata": {},
     "output_type": "execute_result"
    }
   ],
   "source": [
    "#view clean and processed \"message\" with the unclean and unprocessed\n",
    "df_train[['message','clean_message']].head()"
   ]
  },
  {
   "cell_type": "code",
   "execution_count": 18,
   "id": "1d0917d3",
   "metadata": {},
   "outputs": [
    {
     "data": {
      "text/html": [
       "<div>\n",
       "<style scoped>\n",
       "    .dataframe tbody tr th:only-of-type {\n",
       "        vertical-align: middle;\n",
       "    }\n",
       "\n",
       "    .dataframe tbody tr th {\n",
       "        vertical-align: top;\n",
       "    }\n",
       "\n",
       "    .dataframe thead th {\n",
       "        text-align: right;\n",
       "    }\n",
       "</style>\n",
       "<table border=\"1\" class=\"dataframe\">\n",
       "  <thead>\n",
       "    <tr style=\"text-align: right;\">\n",
       "      <th></th>\n",
       "      <th>sentiment</th>\n",
       "      <th>tweetid</th>\n",
       "      <th>clean_message</th>\n",
       "    </tr>\n",
       "  </thead>\n",
       "  <tbody>\n",
       "    <tr>\n",
       "      <th>0</th>\n",
       "      <td>1</td>\n",
       "      <td>625221</td>\n",
       "      <td>polyscimajor epa chief doesnt think carbon dioxide is main cause of global warming and wait what urlweb via</td>\n",
       "    </tr>\n",
       "    <tr>\n",
       "      <th>1</th>\n",
       "      <td>1</td>\n",
       "      <td>126103</td>\n",
       "      <td>its not like we lack evidence of anthropogenic global warming</td>\n",
       "    </tr>\n",
       "  </tbody>\n",
       "</table>\n",
       "</div>"
      ],
      "text/plain": [
       "   sentiment  tweetid  \\\n",
       "0          1   625221   \n",
       "1          1   126103   \n",
       "\n",
       "                                                                                                  clean_message  \n",
       "0  polyscimajor epa chief doesnt think carbon dioxide is main cause of global warming and wait what urlweb via   \n",
       "1                                                 its not like we lack evidence of anthropogenic global warming  "
      ]
     },
     "execution_count": 18,
     "metadata": {},
     "output_type": "execute_result"
    }
   ],
   "source": [
    "#drop unclean and unprocessed message\n",
    "df_train = df_train.drop('message', axis=1)\n",
    "\n",
    "df_train.head(2)"
   ]
  },
  {
   "cell_type": "markdown",
   "id": "3a8123f5",
   "metadata": {},
   "source": [
    " ### 4.4 Lemmatization"
   ]
  },
  {
   "cell_type": "markdown",
   "id": "108ccb2a",
   "metadata": {},
   "source": [
    "Lemmatization will help in getting the root forms (synonyms) of the words."
   ]
  },
  {
   "cell_type": "code",
   "execution_count": 19,
   "id": "1b3abf2a",
   "metadata": {},
   "outputs": [
    {
     "data": {
      "text/html": [
       "<div>\n",
       "<style scoped>\n",
       "    .dataframe tbody tr th:only-of-type {\n",
       "        vertical-align: middle;\n",
       "    }\n",
       "\n",
       "    .dataframe tbody tr th {\n",
       "        vertical-align: top;\n",
       "    }\n",
       "\n",
       "    .dataframe thead th {\n",
       "        text-align: right;\n",
       "    }\n",
       "</style>\n",
       "<table border=\"1\" class=\"dataframe\">\n",
       "  <thead>\n",
       "    <tr style=\"text-align: right;\">\n",
       "      <th></th>\n",
       "      <th>sentiment</th>\n",
       "      <th>tweetid</th>\n",
       "      <th>clean_message</th>\n",
       "    </tr>\n",
       "  </thead>\n",
       "  <tbody>\n",
       "    <tr>\n",
       "      <th>0</th>\n",
       "      <td>1</td>\n",
       "      <td>625221</td>\n",
       "      <td>polyscimajor epa chief doesnt think carbon dioxide is main cause of global warming and wait what urlweb via</td>\n",
       "    </tr>\n",
       "    <tr>\n",
       "      <th>1</th>\n",
       "      <td>1</td>\n",
       "      <td>126103</td>\n",
       "      <td>it not like we lack evidence of anthropogenic global warming</td>\n",
       "    </tr>\n",
       "  </tbody>\n",
       "</table>\n",
       "</div>"
      ],
      "text/plain": [
       "   sentiment  tweetid  \\\n",
       "0          1   625221   \n",
       "1          1   126103   \n",
       "\n",
       "                                                                                                 clean_message  \n",
       "0  polyscimajor epa chief doesnt think carbon dioxide is main cause of global warming and wait what urlweb via  \n",
       "1                                                 it not like we lack evidence of anthropogenic global warming  "
      ]
     },
     "execution_count": 19,
     "metadata": {},
     "output_type": "execute_result"
    }
   ],
   "source": [
    "from nltk.stem import WordNetLemmatizer\n",
    "\n",
    "lemmatizer = WordNetLemmatizer()\n",
    "\n",
    "def lemma(words, lemmatizer):\n",
    "    return ' '.join(([lemmatizer.lemmatize(word) for word in words.split()]))\n",
    "\n",
    "df_train['clean_message'] = df_train['clean_message'].apply(lemma, args=(lemmatizer, ))\n",
    "\n",
    "df_train.head(2)\n"
   ]
  },
  {
   "cell_type": "markdown",
   "id": "eb39f6e1",
   "metadata": {},
   "source": [
    "### 4.5 Removing Stop words"
   ]
  },
  {
   "cell_type": "code",
   "execution_count": 20,
   "id": "abbb1146",
   "metadata": {
    "scrolled": true
   },
   "outputs": [
    {
     "data": {
      "text/html": [
       "<div>\n",
       "<style scoped>\n",
       "    .dataframe tbody tr th:only-of-type {\n",
       "        vertical-align: middle;\n",
       "    }\n",
       "\n",
       "    .dataframe tbody tr th {\n",
       "        vertical-align: top;\n",
       "    }\n",
       "\n",
       "    .dataframe thead th {\n",
       "        text-align: right;\n",
       "    }\n",
       "</style>\n",
       "<table border=\"1\" class=\"dataframe\">\n",
       "  <thead>\n",
       "    <tr style=\"text-align: right;\">\n",
       "      <th></th>\n",
       "      <th>sentiment</th>\n",
       "      <th>tweetid</th>\n",
       "      <th>clean_message</th>\n",
       "    </tr>\n",
       "  </thead>\n",
       "  <tbody>\n",
       "    <tr>\n",
       "      <th>0</th>\n",
       "      <td>1</td>\n",
       "      <td>625221</td>\n",
       "      <td>polyscimajor epa chief doesnt think carbon dioxide main cause global warming wait urlweb via</td>\n",
       "    </tr>\n",
       "    <tr>\n",
       "      <th>1</th>\n",
       "      <td>1</td>\n",
       "      <td>126103</td>\n",
       "      <td>like lack evidence anthropogenic global warming</td>\n",
       "    </tr>\n",
       "    <tr>\n",
       "      <th>2</th>\n",
       "      <td>2</td>\n",
       "      <td>698562</td>\n",
       "      <td>researcher say three year act climate change late urlweb urlweb</td>\n",
       "    </tr>\n",
       "    <tr>\n",
       "      <th>3</th>\n",
       "      <td>1</td>\n",
       "      <td>573736</td>\n",
       "      <td>todayinmaker wired 2016 wa pivotal year war climate change urlweb</td>\n",
       "    </tr>\n",
       "    <tr>\n",
       "      <th>4</th>\n",
       "      <td>1</td>\n",
       "      <td>466954</td>\n",
       "      <td>2016 racist sexist climate change denying bigot leading poll electionnight</td>\n",
       "    </tr>\n",
       "  </tbody>\n",
       "</table>\n",
       "</div>"
      ],
      "text/plain": [
       "   sentiment  tweetid  \\\n",
       "0          1   625221   \n",
       "1          1   126103   \n",
       "2          2   698562   \n",
       "3          1   573736   \n",
       "4          1   466954   \n",
       "\n",
       "                                                                                  clean_message  \n",
       "0  polyscimajor epa chief doesnt think carbon dioxide main cause global warming wait urlweb via  \n",
       "1                                               like lack evidence anthropogenic global warming  \n",
       "2                               researcher say three year act climate change late urlweb urlweb  \n",
       "3                             todayinmaker wired 2016 wa pivotal year war climate change urlweb  \n",
       "4                    2016 racist sexist climate change denying bigot leading poll electionnight  "
      ]
     },
     "execution_count": 20,
     "metadata": {},
     "output_type": "execute_result"
    }
   ],
   "source": [
    "#remove stop words\n",
    "from nltk.corpus import stopwords\n",
    "stop = stopwords.words('english')\n",
    "\n",
    "df_train['clean_message']= df_train['clean_message'].apply(lambda x: ' '.join([word for word in x.split() if word not in (stop)]))\n",
    "\n",
    "df_train.head()"
   ]
  },
  {
   "cell_type": "markdown",
   "id": "fb468cfd",
   "metadata": {},
   "source": [
    "### 4.6 Spelling"
   ]
  },
  {
   "cell_type": "code",
   "execution_count": 21,
   "id": "bd505997",
   "metadata": {},
   "outputs": [],
   "source": [
    "#from textblob import TextBlob \n",
    "\n",
    "#def spelling(words):\n",
    " #   return ' '.join(([str(TextBlob(word).correct()) for word in words.split()]))\n",
    "\n",
    "#df_train['clean_message'] = df_train['clean_message'].apply(spelling)\n",
    "\n",
    "#df.head()"
   ]
  },
  {
   "cell_type": "markdown",
   "id": "38fb1dbc",
   "metadata": {},
   "source": [
    "### 4.7 Process and clean unseen test data"
   ]
  },
  {
   "cell_type": "code",
   "execution_count": 22,
   "id": "0082c437",
   "metadata": {},
   "outputs": [],
   "source": [
    "df_test = pd.read_csv('test_with_no_labels.csv')\n",
    "#df_test.info()"
   ]
  },
  {
   "cell_type": "code",
   "execution_count": 23,
   "id": "9271dfbd",
   "metadata": {},
   "outputs": [
    {
     "data": {
      "text/html": [
       "<div>\n",
       "<style scoped>\n",
       "    .dataframe tbody tr th:only-of-type {\n",
       "        vertical-align: middle;\n",
       "    }\n",
       "\n",
       "    .dataframe tbody tr th {\n",
       "        vertical-align: top;\n",
       "    }\n",
       "\n",
       "    .dataframe thead th {\n",
       "        text-align: right;\n",
       "    }\n",
       "</style>\n",
       "<table border=\"1\" class=\"dataframe\">\n",
       "  <thead>\n",
       "    <tr style=\"text-align: right;\">\n",
       "      <th></th>\n",
       "      <th>tweetid</th>\n",
       "      <th>clean_message</th>\n",
       "    </tr>\n",
       "  </thead>\n",
       "  <tbody>\n",
       "    <tr>\n",
       "      <th>0</th>\n",
       "      <td>169760</td>\n",
       "      <td>europe looking china make sure alone fighting climate change urlweb</td>\n",
       "    </tr>\n",
       "    <tr>\n",
       "      <th>1</th>\n",
       "      <td>35326</td>\n",
       "      <td>combine polling staffer climate change woman right fascist state urlweb</td>\n",
       "    </tr>\n",
       "  </tbody>\n",
       "</table>\n",
       "</div>"
      ],
      "text/plain": [
       "   tweetid  \\\n",
       "0   169760   \n",
       "1    35326   \n",
       "\n",
       "                                                             clean_message  \n",
       "0      europe looking china make sure alone fighting climate change urlweb  \n",
       "1  combine polling staffer climate change woman right fascist state urlweb  "
      ]
     },
     "execution_count": 23,
     "metadata": {},
     "output_type": "execute_result"
    }
   ],
   "source": [
    "#removing the web-urls\n",
    "pattern_url = r'http[s]?://(?:[A-Za-z]|[0-9]|[$-_@.&+]|[!*\\(\\),]|(?:%[0-9A-Fa-f][0-9A-Fa-f]))+'\n",
    "subs_url = r'url-web'\n",
    "df_test['message'] = df_test['message'].replace(to_replace = pattern_url, value = subs_url, regex = True)\n",
    "\n",
    "# Lowercase conversion\n",
    "df_test['message'] = df_test['message'].str.lower()\n",
    "\n",
    "#Removing punctuation and special characters\n",
    "def data_cleaning(tweet):\n",
    "    tweet = re.sub(r'@[a-z0-9]+', '', tweet) # removing mentions\n",
    "    tweet = re.sub(r'#', '', tweet) # remove #\n",
    "    tweet = re.sub(r'rt[\\s]+', '', tweet) # remove retweets(`rt`)\n",
    "    #tweet = re.sub(r'url-web', '', tweet) # remove web-urls\n",
    "    \n",
    "    return tweet\n",
    "\n",
    "df_test['clean_message'] = df_test['message'].apply(data_cleaning)\n",
    "\n",
    "# Remove special characters using NeatText\n",
    "df_test['clean_message'] = df_test['clean_message'].apply(nt.remove_special_characters)\n",
    "\n",
    "\n",
    " ### 4.4 Lemmatization\n",
    "lemmatizer = WordNetLemmatizer()\n",
    "\n",
    "def lemma(words, lemmatizer):\n",
    "    return ' '.join(([lemmatizer.lemmatize(word) for word in words.split()]))\n",
    "\n",
    "df_test['clean_message'] = df_test['clean_message'].apply(lemma, args=(lemmatizer, ))\n",
    "\n",
    "#remove stop words\n",
    "from nltk.corpus import stopwords\n",
    "stop = stopwords.words('english')\n",
    "\n",
    "df_test['clean_message']= df_test['clean_message'].apply(lambda x: ' '.join([word for word in x.split() if word not in (stop)]))\n",
    "\n",
    "#drop unclean and unprocessed message\n",
    "df_test = df_test.drop('message', axis=1)\n",
    "df_test.head(2)\n"
   ]
  },
  {
   "cell_type": "code",
   "execution_count": 24,
   "id": "7367c3c3",
   "metadata": {},
   "outputs": [
    {
     "name": "stderr",
     "output_type": "stream",
     "text": [
      "C:\\Users\\u1121\\anaconda3\\lib\\site-packages\\sklearn\\utils\\deprecation.py:87: FutureWarning: Function get_feature_names is deprecated; get_feature_names is deprecated in 1.0 and will be removed in 1.2. Please use get_feature_names_out instead.\n",
      "  warnings.warn(msg, category=FutureWarning)\n"
     ]
    },
    {
     "data": {
      "text/html": [
       "<div>\n",
       "<style scoped>\n",
       "    .dataframe tbody tr th:only-of-type {\n",
       "        vertical-align: middle;\n",
       "    }\n",
       "\n",
       "    .dataframe tbody tr th {\n",
       "        vertical-align: top;\n",
       "    }\n",
       "\n",
       "    .dataframe thead th {\n",
       "        text-align: right;\n",
       "    }\n",
       "</style>\n",
       "<table border=\"1\" class=\"dataframe\">\n",
       "  <thead>\n",
       "    <tr style=\"text-align: right;\">\n",
       "      <th></th>\n",
       "      <th>00018</th>\n",
       "      <th>10</th>\n",
       "      <th>100</th>\n",
       "      <th>1000</th>\n",
       "      <th>100days</th>\n",
       "      <th>100th</th>\n",
       "      <th>101</th>\n",
       "      <th>109c</th>\n",
       "      <th>10th</th>\n",
       "      <th>11</th>\n",
       "      <th>...</th>\n",
       "      <th>youve</th>\n",
       "      <th>yr</th>\n",
       "      <th>yung</th>\n",
       "      <th>zealand</th>\n",
       "      <th>zero</th>\n",
       "      <th>zika</th>\n",
       "      <th>zimbabwe</th>\n",
       "      <th>zimmer</th>\n",
       "      <th>zoe</th>\n",
       "      <th>zombie</th>\n",
       "    </tr>\n",
       "  </thead>\n",
       "  <tbody>\n",
       "    <tr>\n",
       "      <th>0</th>\n",
       "      <td>0.0</td>\n",
       "      <td>0.0</td>\n",
       "      <td>0.0</td>\n",
       "      <td>0.0</td>\n",
       "      <td>0.0</td>\n",
       "      <td>0.0</td>\n",
       "      <td>0.0</td>\n",
       "      <td>0.0</td>\n",
       "      <td>0.0</td>\n",
       "      <td>0.0</td>\n",
       "      <td>...</td>\n",
       "      <td>0.0</td>\n",
       "      <td>0.0</td>\n",
       "      <td>0.0</td>\n",
       "      <td>0.0</td>\n",
       "      <td>0.0</td>\n",
       "      <td>0.0</td>\n",
       "      <td>0.0</td>\n",
       "      <td>0.0</td>\n",
       "      <td>0.0</td>\n",
       "      <td>0.0</td>\n",
       "    </tr>\n",
       "    <tr>\n",
       "      <th>1</th>\n",
       "      <td>0.0</td>\n",
       "      <td>0.0</td>\n",
       "      <td>0.0</td>\n",
       "      <td>0.0</td>\n",
       "      <td>0.0</td>\n",
       "      <td>0.0</td>\n",
       "      <td>0.0</td>\n",
       "      <td>0.0</td>\n",
       "      <td>0.0</td>\n",
       "      <td>0.0</td>\n",
       "      <td>...</td>\n",
       "      <td>0.0</td>\n",
       "      <td>0.0</td>\n",
       "      <td>0.0</td>\n",
       "      <td>0.0</td>\n",
       "      <td>0.0</td>\n",
       "      <td>0.0</td>\n",
       "      <td>0.0</td>\n",
       "      <td>0.0</td>\n",
       "      <td>0.0</td>\n",
       "      <td>0.0</td>\n",
       "    </tr>\n",
       "  </tbody>\n",
       "</table>\n",
       "<p>2 rows × 5422 columns</p>\n",
       "</div>"
      ],
      "text/plain": [
       "   00018   10  100  1000  100days  100th  101  109c  10th   11  ...  youve  \\\n",
       "0    0.0  0.0  0.0   0.0      0.0    0.0  0.0   0.0   0.0  0.0  ...    0.0   \n",
       "1    0.0  0.0  0.0   0.0      0.0    0.0  0.0   0.0   0.0  0.0  ...    0.0   \n",
       "\n",
       "    yr  yung  zealand  zero  zika  zimbabwe  zimmer  zoe  zombie  \n",
       "0  0.0   0.0      0.0   0.0   0.0       0.0     0.0  0.0     0.0  \n",
       "1  0.0   0.0      0.0   0.0   0.0       0.0     0.0  0.0     0.0  \n",
       "\n",
       "[2 rows x 5422 columns]"
      ]
     },
     "execution_count": 24,
     "metadata": {},
     "output_type": "execute_result"
    }
   ],
   "source": [
    "#Count Vectorizer on unseen test dat\n",
    "\n",
    "vect_test = CountVectorizer(stop_words='english', min_df=2)\n",
    "\n",
    "vect_fit_test=vect_test.fit(df_test['clean_message'])\n",
    "\n",
    "vect_transform_test=vect_test.transform(df_test['clean_message'])\n",
    "\n",
    "feat_test=vect_transform_test.toarray()\n",
    "\n",
    "#scaling Vect_test\n",
    "from sklearn import preprocessing\n",
    "scaler = preprocessing.MinMaxScaler()\n",
    "feat_test = scaler.fit_transform(feat_test)\n",
    "\n",
    "x_feat=pd.DataFrame(feat_test, columns = vect_test.get_feature_names())\n",
    "x_feat.head(2)"
   ]
  },
  {
   "cell_type": "code",
   "execution_count": 25,
   "id": "5f4739bf",
   "metadata": {},
   "outputs": [
    {
     "name": "stderr",
     "output_type": "stream",
     "text": [
      "C:\\Users\\u1121\\anaconda3\\lib\\site-packages\\sklearn\\utils\\deprecation.py:87: FutureWarning: Function get_feature_names is deprecated; get_feature_names is deprecated in 1.0 and will be removed in 1.2. Please use get_feature_names_out instead.\n",
      "  warnings.warn(msg, category=FutureWarning)\n"
     ]
    }
   ],
   "source": [
    "#get feature names from vector\n",
    "x_names=vect_test.get_feature_names()"
   ]
  },
  {
   "cell_type": "markdown",
   "id": "99f9a70a",
   "metadata": {},
   "source": [
    "### 4.8 Feature Extraction using CountVectorizer"
   ]
  },
  {
   "cell_type": "markdown",
   "id": "a538ff7a",
   "metadata": {},
   "source": [
    "The text feature extraction module called CountVectorizer is used to convert a collection of documents (rows of text) into a matrix of token counts."
   ]
  },
  {
   "cell_type": "code",
   "execution_count": 26,
   "id": "e9e14d71",
   "metadata": {},
   "outputs": [
    {
     "data": {
      "text/plain": [
       "CountVectorizer(min_df=2, stop_words='english')"
      ]
     },
     "execution_count": 26,
     "metadata": {},
     "output_type": "execute_result"
    }
   ],
   "source": [
    "# create vectorizer instance\n",
    "vect = CountVectorizer(stop_words='english', min_df=2)\n",
    "\n",
    "#fit vectorizer\n",
    "vect.fit(df_train['clean_message'])"
   ]
  },
  {
   "cell_type": "code",
   "execution_count": 27,
   "id": "11526265",
   "metadata": {},
   "outputs": [
    {
     "name": "stdout",
     "output_type": "stream",
     "text": [
      "6959\n"
     ]
    }
   ],
   "source": [
    "# NUM of predictors\n",
    "print(len(vect.vocabulary_))"
   ]
  },
  {
   "cell_type": "code",
   "execution_count": 28,
   "id": "efcfb35b",
   "metadata": {},
   "outputs": [
    {
     "data": {
      "text/plain": [
       "(15819, 6959)"
      ]
     },
     "execution_count": 28,
     "metadata": {},
     "output_type": "execute_result"
    }
   ],
   "source": [
    "#transform features to numbers for modelling\n",
    "vect_transform=vect.transform(df_train['clean_message'])\n",
    "\n",
    "# Get shape of our predictive variables\n",
    "vect_transform.shape"
   ]
  },
  {
   "cell_type": "code",
   "execution_count": 29,
   "id": "a80162f1",
   "metadata": {},
   "outputs": [
    {
     "data": {
      "text/plain": [
       "array([[0., 0., 0., ..., 0., 0., 0.],\n",
       "       [0., 0., 0., ..., 0., 0., 0.],\n",
       "       [0., 0., 0., ..., 0., 0., 0.],\n",
       "       ...,\n",
       "       [0., 0., 0., ..., 0., 0., 0.],\n",
       "       [0., 0., 0., ..., 0., 0., 0.],\n",
       "       [0., 0., 0., ..., 0., 0., 0.]])"
      ]
     },
     "execution_count": 29,
     "metadata": {},
     "output_type": "execute_result"
    }
   ],
   "source": [
    "#scaling\n",
    "from sklearn import preprocessing\n",
    "scaler = preprocessing.MinMaxScaler()\n",
    "X_feat = scaler.fit_transform(vect_transform.toarray())\n",
    "\n",
    "X_feat"
   ]
  },
  {
   "cell_type": "code",
   "execution_count": 30,
   "id": "e32d430d",
   "metadata": {
    "scrolled": true
   },
   "outputs": [
    {
     "name": "stderr",
     "output_type": "stream",
     "text": [
      "C:\\Users\\u1121\\anaconda3\\lib\\site-packages\\sklearn\\utils\\deprecation.py:87: FutureWarning: Function get_feature_names is deprecated; get_feature_names is deprecated in 1.0 and will be removed in 1.2. Please use get_feature_names_out instead.\n",
      "  warnings.warn(msg, category=FutureWarning)\n"
     ]
    },
    {
     "data": {
      "text/html": [
       "<div>\n",
       "<style scoped>\n",
       "    .dataframe tbody tr th:only-of-type {\n",
       "        vertical-align: middle;\n",
       "    }\n",
       "\n",
       "    .dataframe tbody tr th {\n",
       "        vertical-align: top;\n",
       "    }\n",
       "\n",
       "    .dataframe thead th {\n",
       "        text-align: right;\n",
       "    }\n",
       "</style>\n",
       "<table border=\"1\" class=\"dataframe\">\n",
       "  <thead>\n",
       "    <tr style=\"text-align: right;\">\n",
       "      <th></th>\n",
       "      <th>10</th>\n",
       "      <th>100</th>\n",
       "      <th>1000</th>\n",
       "      <th>100000</th>\n",
       "      <th>101</th>\n",
       "      <th>105</th>\n",
       "      <th>109c</th>\n",
       "      <th>10yrs</th>\n",
       "      <th>11</th>\n",
       "      <th>110</th>\n",
       "      <th>...</th>\n",
       "      <th>zealot</th>\n",
       "      <th>zealotry</th>\n",
       "      <th>zero</th>\n",
       "      <th>zijn</th>\n",
       "      <th>zika</th>\n",
       "      <th>zimbabwe</th>\n",
       "      <th>zimmer</th>\n",
       "      <th>zinke</th>\n",
       "      <th>zoe</th>\n",
       "      <th>zone</th>\n",
       "    </tr>\n",
       "  </thead>\n",
       "  <tbody>\n",
       "    <tr>\n",
       "      <th>0</th>\n",
       "      <td>0.0</td>\n",
       "      <td>0.0</td>\n",
       "      <td>0.0</td>\n",
       "      <td>0.0</td>\n",
       "      <td>0.0</td>\n",
       "      <td>0.0</td>\n",
       "      <td>0.0</td>\n",
       "      <td>0.0</td>\n",
       "      <td>0.0</td>\n",
       "      <td>0.0</td>\n",
       "      <td>...</td>\n",
       "      <td>0.0</td>\n",
       "      <td>0.0</td>\n",
       "      <td>0.0</td>\n",
       "      <td>0.0</td>\n",
       "      <td>0.0</td>\n",
       "      <td>0.0</td>\n",
       "      <td>0.0</td>\n",
       "      <td>0.0</td>\n",
       "      <td>0.0</td>\n",
       "      <td>0.0</td>\n",
       "    </tr>\n",
       "    <tr>\n",
       "      <th>1</th>\n",
       "      <td>0.0</td>\n",
       "      <td>0.0</td>\n",
       "      <td>0.0</td>\n",
       "      <td>0.0</td>\n",
       "      <td>0.0</td>\n",
       "      <td>0.0</td>\n",
       "      <td>0.0</td>\n",
       "      <td>0.0</td>\n",
       "      <td>0.0</td>\n",
       "      <td>0.0</td>\n",
       "      <td>...</td>\n",
       "      <td>0.0</td>\n",
       "      <td>0.0</td>\n",
       "      <td>0.0</td>\n",
       "      <td>0.0</td>\n",
       "      <td>0.0</td>\n",
       "      <td>0.0</td>\n",
       "      <td>0.0</td>\n",
       "      <td>0.0</td>\n",
       "      <td>0.0</td>\n",
       "      <td>0.0</td>\n",
       "    </tr>\n",
       "    <tr>\n",
       "      <th>2</th>\n",
       "      <td>0.0</td>\n",
       "      <td>0.0</td>\n",
       "      <td>0.0</td>\n",
       "      <td>0.0</td>\n",
       "      <td>0.0</td>\n",
       "      <td>0.0</td>\n",
       "      <td>0.0</td>\n",
       "      <td>0.0</td>\n",
       "      <td>0.0</td>\n",
       "      <td>0.0</td>\n",
       "      <td>...</td>\n",
       "      <td>0.0</td>\n",
       "      <td>0.0</td>\n",
       "      <td>0.0</td>\n",
       "      <td>0.0</td>\n",
       "      <td>0.0</td>\n",
       "      <td>0.0</td>\n",
       "      <td>0.0</td>\n",
       "      <td>0.0</td>\n",
       "      <td>0.0</td>\n",
       "      <td>0.0</td>\n",
       "    </tr>\n",
       "    <tr>\n",
       "      <th>3</th>\n",
       "      <td>0.0</td>\n",
       "      <td>0.0</td>\n",
       "      <td>0.0</td>\n",
       "      <td>0.0</td>\n",
       "      <td>0.0</td>\n",
       "      <td>0.0</td>\n",
       "      <td>0.0</td>\n",
       "      <td>0.0</td>\n",
       "      <td>0.0</td>\n",
       "      <td>0.0</td>\n",
       "      <td>...</td>\n",
       "      <td>0.0</td>\n",
       "      <td>0.0</td>\n",
       "      <td>0.0</td>\n",
       "      <td>0.0</td>\n",
       "      <td>0.0</td>\n",
       "      <td>0.0</td>\n",
       "      <td>0.0</td>\n",
       "      <td>0.0</td>\n",
       "      <td>0.0</td>\n",
       "      <td>0.0</td>\n",
       "    </tr>\n",
       "    <tr>\n",
       "      <th>4</th>\n",
       "      <td>0.0</td>\n",
       "      <td>0.0</td>\n",
       "      <td>0.0</td>\n",
       "      <td>0.0</td>\n",
       "      <td>0.0</td>\n",
       "      <td>0.0</td>\n",
       "      <td>0.0</td>\n",
       "      <td>0.0</td>\n",
       "      <td>0.0</td>\n",
       "      <td>0.0</td>\n",
       "      <td>...</td>\n",
       "      <td>0.0</td>\n",
       "      <td>0.0</td>\n",
       "      <td>0.0</td>\n",
       "      <td>0.0</td>\n",
       "      <td>0.0</td>\n",
       "      <td>0.0</td>\n",
       "      <td>0.0</td>\n",
       "      <td>0.0</td>\n",
       "      <td>0.0</td>\n",
       "      <td>0.0</td>\n",
       "    </tr>\n",
       "  </tbody>\n",
       "</table>\n",
       "<p>5 rows × 6959 columns</p>\n",
       "</div>"
      ],
      "text/plain": [
       "    10  100  1000  100000  101  105  109c  10yrs   11  110  ...  zealot  \\\n",
       "0  0.0  0.0   0.0     0.0  0.0  0.0   0.0    0.0  0.0  0.0  ...     0.0   \n",
       "1  0.0  0.0   0.0     0.0  0.0  0.0   0.0    0.0  0.0  0.0  ...     0.0   \n",
       "2  0.0  0.0   0.0     0.0  0.0  0.0   0.0    0.0  0.0  0.0  ...     0.0   \n",
       "3  0.0  0.0   0.0     0.0  0.0  0.0   0.0    0.0  0.0  0.0  ...     0.0   \n",
       "4  0.0  0.0   0.0     0.0  0.0  0.0   0.0    0.0  0.0  0.0  ...     0.0   \n",
       "\n",
       "   zealotry  zero  zijn  zika  zimbabwe  zimmer  zinke  zoe  zone  \n",
       "0       0.0   0.0   0.0   0.0       0.0     0.0    0.0  0.0   0.0  \n",
       "1       0.0   0.0   0.0   0.0       0.0     0.0    0.0  0.0   0.0  \n",
       "2       0.0   0.0   0.0   0.0       0.0     0.0    0.0  0.0   0.0  \n",
       "3       0.0   0.0   0.0   0.0       0.0     0.0    0.0  0.0   0.0  \n",
       "4       0.0   0.0   0.0   0.0       0.0     0.0    0.0  0.0   0.0  \n",
       "\n",
       "[5 rows x 6959 columns]"
      ]
     },
     "execution_count": 30,
     "metadata": {},
     "output_type": "execute_result"
    }
   ],
   "source": [
    "#datafram of X features\n",
    "X_feat=pd.DataFrame(X_feat, columns = vect.get_feature_names())\n",
    "\n",
    "X_feat.head()"
   ]
  },
  {
   "cell_type": "code",
   "execution_count": 31,
   "id": "cd8b063d",
   "metadata": {},
   "outputs": [],
   "source": [
    "##### Match features\n",
    "\n",
    "#new_X_feat=X_feat[x_names]\n",
    "\n",
    "#text that is  not common in both text\n",
    "no_match=['00018', '100days', '100th', '10th', '12tn', '137', '1850', '1900', '193', '1960s', '1977', '1978', '1981', '1982', '1988', '1stglobal', '2020dontbelate', '2025644700', '2080', '2140', '24m', '2a', '30000', '35m', '360video', '375b', '3rdlargest', '4000', '49', '52', '55', '630', '72', '750', '78', '7th', '810', '85', '8th', '93', '99c', 'a1', 'abbottturnbull', 'abo', 'abscbn', 'absorb', 'acceptable', 'accessible', 'accession', 'accountable', 'acidification', 'actionurlweb', 'activi', 'activit', 'adaption', 'adesina', 'admire', 'adopted', 'aerial', 'affirm', 'aga', 'agm', 'agri', 'airpocalypse', 'ak', 'akin', 'alarmed', 'alarmis', 'alex', 'alot', 'alters', 'altgov', 'alumnus', 'amaze', 'amazonians', 'amiright', 'amor', 'analogy', 'analyzes', 'analyzing', 'anatomy', 'ancestor', 'andrea', 'anniversary', 'answered', 'antigay', 'anyways', 'aok', 'appalling', 'application', 'applied', 'approving', 'argentinian', 'arguable', 'argued', 'arizona', 'armed', 'arrest', 'arrival', 'asap', 'ash', 'ashamed', 'asleep', 'assad', 'assist', 'assisted', 'astonishingly', 'astronaut', 'atashesi', 'attending', 'awardwinning', 'awe', 'awkward', 'aww', 'aye', 'backyard', 'balanced', 'banal', 'bangladeshi', 'banker', 'banking', 'bar', 'barrow', 'barry', 'bartley', 'baseless', 'baseline', 'bat', 'beard', 'beauty', 'beefban', 'belong', 'belt', 'bend', 'berg', 'besar', 'bezos', 'binding', 'biomedical', 'bitter', 'blacklistfor', 'blatantly', 'blessed', 'blizzard2017', 'blossom', 'bluehand', 'bn', 'bollock', 'bombshell', 'bothered', 'boulder', 'boutta', 'boyfriend', 'braavarela', 'branch', 'branding', 'bre', 'bread', 'breaker', 'breakneck', 'breakup', 'breathing', 'brett', 'brics', 'briefed', 'btsbbmas', 'burden', 'buries', 'bussin', 'busyme', 'cab', 'cabal', 'californian', 'cambridge', 'canberra', 'cannes', 'capable', 'capacity', 'carbondioxide', 'carbontax', 'cardsmove', 'carson', 'carteret', 'catalyst', 'cau', 'ceiling', 'censored', 'chan', 'chang', 'changealways', 'changebut', 'changeclimate', 'changeclimatechange', 'changefor', 'changeha', 'changehow', 'changehttp', 'changei', 'changeinduced', 'changeso', 'changetrump', 'chapter', 'characterized', 'charged', 'charlie', 'chatted', 'cheaper', 'checkmate', 'chick', 'chosen', 'christopher', 'chromosome', 'chuck', 'chump', 'cicerone', 'cigarette', 'citiesclimate', 'clark', 'classmate', 'classroom', 'cleverest', 'click', 'climatecentral', 'climatechangeshealth', 'climatechangeurlweb', 'climatehour', 'climber', 'clip', 'closest', 'coalmines', 'coexist', 'cognitive', 'collapsing', 'colombia', 'colorful', 'comey', 'comm', 'communication', 'comparable', 'comparing', 'compensation', 'compiling', 'complexity', 'condemned', 'condemns', 'conf', 'congo', 'congratulating', 'conservationist', 'conserving', 'constitutional', 'construct', 'consultation', 'contain', 'controversy', 'convention', 'cookstove', 'coordination', 'cop13', 'copenhagen', 'corrected', 'correctness', 'cotton', 'counting', 'couorders', 'couurlweb', 'cpcldr', 'crab', 'crafting', 'creator', 'cricket', 'criticized', 'cross', 'crude', 'crusade', 'cruzs', 'ctv', 'cutie', 'cycling', 'czar', 'dahil', 'dai', 'dampak', 'dancing', 'dangerousreason', 'darth', 'database', 'dave', 'debated', 'debbie', 'dec', 'deceitful', 'deceiving', 'decimated', 'deck', 'declare', 'decrease', 'decreasing', 'defiant', 'defining', 'definition', 'defra', 'demonic', 'denmark', 'denounced', 'dent', 'dependence', 'depiction', 'deportation', 'deposit', 'descent', 'described', 'dese', 'desecloser', 'devastated', 'device', 'devote', 'dial', 'dialogue', 'dictate', 'differently', 'dimension', 'dimmer', 'diplomatic', 'disavowing', 'disbands', 'disgraced', 'disguised', 'dismantled', 'dismantles', 'dismayed', 'dismissal', 'disorder', 'displacement', 'disputed', 'disrupt', 'dissonance', 'distraction', 'disturbing', 'dive', 'dividing', 'division', 'diy', 'dod', 'dokumenter', 'dominate', 'donating', 'donthecon', 'doomsdayclock', 'doorway', 'dope', 'douglas', 'downplays', 'draining', 'dreamer', 'drier', 'drown', 'drowns', 'drumpf', 'drying', 'dsnscience', 'dumped', 'dyk', 'ea', 'earful', 'earthhour2017', 'earthhours', 'earthsky', 'ec', 'educationa', 'elaborate', 'electoral', 'emailed', 'emitter', 'emphasized', 'enduring', 'energynews', 'enforce', 'enlightened', 'enrich', 'ensuring', 'enter', 'entered', 'entitlement', 'entourage', 'eos', 'epaa', 'erase', 'erasing', 'escalate', 'establishment', 'estimate', 'estimated', 'ethical', 'evaded', 'evolving', 'exaggerated', 'examiner', 'excellence', 'exempt', 'exo', 'expe', 'explainer', 'exploitation', 'exploration', 'exploring', 'exponential', 'express', 'extended', 'extensive', 'eyewitness', 'fabled', 'faculty', 'fairly', 'falseurlweb', 'faltering', 'fascism2', 'faulty', 'fbi', 'feb', 'fee', 'fetus', 'fiddled', 'filth', 'finna', 'finnish', 'fist', 'flatearthers', 'flatout', 'flip', 'flop', 'fm', 'fn', 'formal', 'formed', 'forth', 'fourth', 'foxnews', 'fragility', 'framing', 'frat', 'frightful', 'frio', 'frisk', 'frontrunner', 'frustrating', 'fue', 'fuelled', 'fuelling', 'fulfill', 'fundamentally', 'fundraiser', 'fur', 'furious', 'gaia', 'gained', 'gak', 'gatlinburg', 'gear', 'gee', 'geez', 'genetics', 'gesture', 'getready', 'girlfriend', 'glassyeyed', 'gmos', 'goodnight', 'gorgeous', 'govegan', 'gpusa', 'grandma', 'grandson', 'grasp', 'greatly', 'greenscam', 'grew', 'grid', 'grief', 'grist', 'grizzly', 'gross', 'groundhogday', 'guarantee', 'guessing', 'gunna', 'guru', 'haiku', 'hailstorm', 'hang', 'haphazard', 'happer', 'haram', 'harass', 'harshest', 'hater', 'haunting', 'hawaiian', 'headass', 'headed', 'heal', 'hears', 'heath', 'helpful', 'hemplemanadams', 'hhs', 'highlighting', 'hilary', 'hilton', 'hinder', 'hivaids', 'hmmm', 'hoc', 'hog', 'hometown', 'homo', 'hosted', 'hostility', 'household', 'howard', 'hu', 'hub', 'huffington', 'hugely', 'hunter', 'hunting', 'iam', 'iamaclimatechangedenier', 'ian', 'iceland', 'icing', 'idc', 'identity', 'idiocy', 'illustration', 'immaterial', 'imminent', 'imposed', 'incorrectly', 'ind', 'indepth', 'indisputable', 'indonesia', 'influenced', 'influencing', 'infographic', 'informal', 'informative', 'infrast', 'injecting', 'injury', 'inner', 'inquirer', 'inst', 'instructed', 'instrumental', 'integrate', 'intelligence', 'intend', 'intends', 'intensify', 'interfere', 'intergenerational', 'intl', 'introduced', 'introducing', 'investmenturlweb', 'inviting', 'ipa', 'irrational', 'iwantamerica', 'jack', 'jail', 'jailing', 'jampk', 'japanese', 'jfk', 'joking', 'jon', 'jordan', 'josefina', 'juans', 'kamala', 'kardashian', 'kathy', 'keepitintheground', 'kept', 'keynote', 'kicking', 'kn', 'knife', 'knight', 'knowingly', 'knowledgeable', 'ksa', 'lacking', 'lain', 'lame', 'lang', 'lasting', 'lately', 'leadi', 'league', 'learns', 'legend', 'lethal', 'levin', 'liable', 'liberalism', 'libtard', 'lifesaving', 'liking', 'lincoln', 'lise', 'listing', 'literacy', 'litigation', 'litre', 'litter', 'lmfao', 'loaded', 'locally', 'lock', 'loudly', 'lse', 'lukewarm', 'mag', 'magically', 'mak', 'malpractice', 'manhandles', 'mantle', 'mapped', 'margaret', 'marked', 'marking', 'maximum', 'mckenna', 'measured', 'medicine', 'mekong', 'melti', 'merkels', 'mersea', 'messenger', 'metal', 'mick', 'microbe', 'microbial', 'microbiologist', 'midwestern', 'migrate', 'migratory', 'milan', 'mildly', 'ministry', 'mistiu', 'mix', 'mnn', 'molecule', 'mon', 'mongering', 'monsoon', 'moraltime', 'moran', 'moreurlweb', 'moroccan', 'motif', 'msps', 'mud', 'muggles', 'mull', 'murderer', 'muslimsugh', 'mustread', 'mustsee', 'mysteriously', 'nah', 'naked', 'namjoon', 'nawaz', 'naysayer', 'naziinspired', 'nc', 'nd', 'nears', 'negara', 'nelson', 'neutrality', 'newbluehand', 'nexus', 'ngo', 'nigh', 'nih', 'nj', 'nominates', 'norm', 'notched', 'noting', 'nowclimate', 'nowreading', 'numbskulls', 'nyes', 'nyetho', 'nypost', 'object', 'occurrence', 'ofeurope', 'offset', 'oilsoaked', 'oj', 'omb', 'onpoli', 'ook', 'opwhales', 'ordinary', 'original', 'orthodoxy', 'osullivan', 'oth', 'outback', 'outnumber', 'outwitting', 'overflow', 'overleo', 'overturn', 'overwhelms', 'owning', 'pachauri', 'pais', 'panicking', 'parang', 'paranoid', 'pari', 'parigi', 'participate', 'participation', 'partly', 'paterson', 'peddle', 'penn', 'peo', 'peoplesclimate', 'perfectly', 'permanent', 'permit', 'pervasive', 'pet', 'pft', 'ph', 'phil', 'physorgcom', 'pivot', 'pix', 'pizzagate', 'plain', 'planetearth2', 'plate', 'plausible', 'playlist', 'pleading', 'pleasure', 'pledging', 'ploy', 'plummet', 'poc', 'poem', 'poisonous', 'polarized', 'politic', 'polled', 'pollster', 'pollu', 'pollutionwe', 'pompeo', 'ponzi', 'poorer', 'poorly', 'possibility', 'postcardperfect', 'postponement', 'powerbroker', 'praying', 'precision', 'prehistoric', 'prejudice', 'preparing', 'presidente', 'pressuring', 'pride', 'princeton', 'prized', 'prob', 'probing', 'progmo', 'proly', 'promoter', 'promotes', 'proponent', 'proportion', 'prospect', 'protects', 'providing', 'pruit', 'psychologist', 'puanconference', 'pullout', 'pun', 'punxsutawney', 'pwcs', 'qc', 'qt', 'queen', 'questionnaire', 'rainforest', 'ralph', 'rapper', 'ravage', 'raw', 'realise', 'realistic', 'realleo', 'reasonable', 'rebuttal', 'receive', 'recommends', 'recordsetting', 'rees', 'reesmogg', 'reflection', 'refund', 'refused', 'register', 'regret', 'regulatory', 'rejectrex', 'relative', 'relocate', 'remarkable', 'renewableenergy', 'renowned', 'repair', 'repeated', 'repercussion', 'repoby', 'repoout', 'reported', 'repoto', 'representation', 'reproductive', 'resea', 'researchersurlweb', 'reset', 'resign', 'resistant', 'resolve', 'resonance', 'responded', 'rethinking', 'returned', 'rev', 'revelation', 'revenge', 'reviving', 'revolut', 'ripping', 'ritter', 'riveting', 'rob', 'robust', 'rogers', 'rolled', 'ron', 'roof', 'royal', 'rubio', 'rug', 'ruined', 'saddening', 'sahara', 'salt', 'sami', 'sanity', 'satan', 'saveourfuture', 'sayin', 'scandinavia', 'scaremongering', 'schneiderman', 'scicomm', 'sciencedenying', 'score', 'scot', \n",
    "          'scotclimate', 'scum', 'secnewsbot', 'sensitive', 'serf', 'serial', 'setback', 'sexy', 'seychelles', 'sf', 'sfgate', 'shamelessly', 'shellfish', 'sheriff', 'shoe', 'sholist', 'shoof', 'shopping', 'shou', 'shoved', 'showcase', 'shrug', 'siberian', 'sickening', 'sigh', 'sight', 'signaling', 'singlepayer', 'siskind', 'sister', 'sk', 'skilfully', 'skyscraper', 'slack', 'slaughter', 'slavishly', 'slime', 'smacities', 'smallscale', 'snowman', 'snp', 'soar', 'socially', 'societal', 'solareclipse2017', 'songbird', 'soooo', 'spanish', 'specify', 'spectacular', 'spiritual', 'spouted', 'spray', 'sta', 'staa', 'stability', 'stanley', 'starve', 'starved', 'statalking', 'stathe', 'stating', 'stella', 'stephenhawking', 'steven', 'stevens', 'steward', 'stocking', 'stone', 'stratosphere', 'strengthen', 'strict', 'stripped', 'stripping', 'strive', 'submerged', 'submission', 'subsidize', 'subsidized', 'succeed', 'succes', 'sucker', 'suddenly', 'suggested', 'sul', 'sundance', 'sunscreen', 'suppoan', 'suppoand', 'supporeporting', 'supposedly', 'suppoto', 'surfer', 'surveyed', 'sustainableag', 'sustained', 'susteren', 'swallowed', 'swim', 'swimmer', 'sycophantism3', 'symbolic', 'symptom', 'tackled', 'tampering', 'tansat', 'tanya', 'taormina', 'targeted', 'tattoo', 'taxation', 'te', 'teamfollowback', 'teaparty', 'teaser', 'technica', 'technical', 'technique', 'temporarily', 'tennessee', 'terrific', 'theblaze', 'theme', 'thinkin', 'thirty', 'thisurlweb', 'thomas', 'thompson', 'thoughtprovoking', 'threestorey', 'thurs', 'ti', 'ticket', 'tight', 'tit', 'toast', 'tolerant', 'torres', 'toy', 'traced', 'tracking', 'traction', 'transi', 'transport', 'treasure', 'treated', 'treatise', 'trending', 'triggering', 'trophy', 'trumpcare', 'trumped', 'trumphell', 'trumpwins', 'trusting', 'trustworthy', 'tsunami', 'turbine', 'unaware', 'unborn', 'uncle', 'undergoing', 'understatement', 'undocumented', 'undp', 'unep', 'unfair', 'unicorn', 'unnatural', 'unsung', 'upcoming', 'urlwebmeet', 'urlwebthe', 'urlwebwe', 'user', 'usfa', 'uv', 'uw', 'vaderstyle', 'vape', 'variability', 'vegetation', 'veteran', 'victoria', 'vid', 'viewing', 'vineyard', 'virtual', 'virtue', 'vision', 'visualize', 'visually', 'vocal', 'volunteer', 'vowing', 'vr', 'vw', 'waddle', 'waging', 'wagner', 'walked', 'wallet', 'warmingand', 'warminghttps', 'weakened', 'websiteurlweb', 'weed', 'westpacs', 'wet', 'wether', 'wholly', 'willfully', 'william', 'witchcraft', 'withdraws', 'witnessing', 'wondered', 'wonread', 'wore', 'worldcoffeeproducersforum', 'worldoceansday', 'worldrenowned', 'wounded', 'wp', 'wwfs', 'wykonews', 'xiuhtezcatl', 'yangtze', 'yelled', 'yellow', 'zombie']"
   ]
  },
  {
   "cell_type": "code",
   "execution_count": 32,
   "id": "d50d5b52",
   "metadata": {
    "scrolled": true
   },
   "outputs": [
    {
     "data": {
      "text/html": [
       "<div>\n",
       "<style scoped>\n",
       "    .dataframe tbody tr th:only-of-type {\n",
       "        vertical-align: middle;\n",
       "    }\n",
       "\n",
       "    .dataframe tbody tr th {\n",
       "        vertical-align: top;\n",
       "    }\n",
       "\n",
       "    .dataframe thead th {\n",
       "        text-align: right;\n",
       "    }\n",
       "</style>\n",
       "<table border=\"1\" class=\"dataframe\">\n",
       "  <thead>\n",
       "    <tr style=\"text-align: right;\">\n",
       "      <th></th>\n",
       "      <th>10</th>\n",
       "      <th>100</th>\n",
       "      <th>1000</th>\n",
       "      <th>101</th>\n",
       "      <th>109c</th>\n",
       "      <th>11</th>\n",
       "      <th>12</th>\n",
       "      <th>125</th>\n",
       "      <th>13</th>\n",
       "      <th>14</th>\n",
       "      <th>...</th>\n",
       "      <th>youtube</th>\n",
       "      <th>youve</th>\n",
       "      <th>yr</th>\n",
       "      <th>yung</th>\n",
       "      <th>zealand</th>\n",
       "      <th>zero</th>\n",
       "      <th>zika</th>\n",
       "      <th>zimbabwe</th>\n",
       "      <th>zimmer</th>\n",
       "      <th>zoe</th>\n",
       "    </tr>\n",
       "  </thead>\n",
       "  <tbody>\n",
       "    <tr>\n",
       "      <th>0</th>\n",
       "      <td>0.0</td>\n",
       "      <td>0.0</td>\n",
       "      <td>0.0</td>\n",
       "      <td>0.0</td>\n",
       "      <td>0.0</td>\n",
       "      <td>0.0</td>\n",
       "      <td>0.0</td>\n",
       "      <td>0.0</td>\n",
       "      <td>0.0</td>\n",
       "      <td>0.0</td>\n",
       "      <td>...</td>\n",
       "      <td>0.0</td>\n",
       "      <td>0.0</td>\n",
       "      <td>0.0</td>\n",
       "      <td>0.0</td>\n",
       "      <td>0.0</td>\n",
       "      <td>0.0</td>\n",
       "      <td>0.0</td>\n",
       "      <td>0.0</td>\n",
       "      <td>0.0</td>\n",
       "      <td>0.0</td>\n",
       "    </tr>\n",
       "    <tr>\n",
       "      <th>1</th>\n",
       "      <td>0.0</td>\n",
       "      <td>0.0</td>\n",
       "      <td>0.0</td>\n",
       "      <td>0.0</td>\n",
       "      <td>0.0</td>\n",
       "      <td>0.0</td>\n",
       "      <td>0.0</td>\n",
       "      <td>0.0</td>\n",
       "      <td>0.0</td>\n",
       "      <td>0.0</td>\n",
       "      <td>...</td>\n",
       "      <td>0.0</td>\n",
       "      <td>0.0</td>\n",
       "      <td>0.0</td>\n",
       "      <td>0.0</td>\n",
       "      <td>0.0</td>\n",
       "      <td>0.0</td>\n",
       "      <td>0.0</td>\n",
       "      <td>0.0</td>\n",
       "      <td>0.0</td>\n",
       "      <td>0.0</td>\n",
       "    </tr>\n",
       "  </tbody>\n",
       "</table>\n",
       "<p>2 rows × 4298 columns</p>\n",
       "</div>"
      ],
      "text/plain": [
       "    10  100  1000  101  109c   11   12  125   13   14  ...  youtube  youve  \\\n",
       "0  0.0  0.0   0.0  0.0   0.0  0.0  0.0  0.0  0.0  0.0  ...      0.0    0.0   \n",
       "1  0.0  0.0   0.0  0.0   0.0  0.0  0.0  0.0  0.0  0.0  ...      0.0    0.0   \n",
       "\n",
       "    yr  yung  zealand  zero  zika  zimbabwe  zimmer  zoe  \n",
       "0  0.0   0.0      0.0   0.0   0.0       0.0     0.0  0.0  \n",
       "1  0.0   0.0      0.0   0.0   0.0       0.0     0.0  0.0  \n",
       "\n",
       "[2 rows x 4298 columns]"
      ]
     },
     "execution_count": 32,
     "metadata": {},
     "output_type": "execute_result"
    }
   ],
   "source": [
    "#drop no_match\n",
    "x_feat.drop(no_match, axis = 1, inplace=True)\n",
    "x_feat.head(2)"
   ]
  },
  {
   "cell_type": "code",
   "execution_count": 33,
   "id": "8aa598ec",
   "metadata": {},
   "outputs": [
    {
     "data": {
      "text/plain": [
       "4298"
      ]
     },
     "execution_count": 33,
     "metadata": {},
     "output_type": "execute_result"
    }
   ],
   "source": [
    "#length of final list of feature\n",
    "x_names2=x_feat.columns\n",
    "len(x_names2)"
   ]
  },
  {
   "cell_type": "code",
   "execution_count": 34,
   "id": "02b790ae",
   "metadata": {},
   "outputs": [
    {
     "data": {
      "text/html": [
       "<div>\n",
       "<style scoped>\n",
       "    .dataframe tbody tr th:only-of-type {\n",
       "        vertical-align: middle;\n",
       "    }\n",
       "\n",
       "    .dataframe tbody tr th {\n",
       "        vertical-align: top;\n",
       "    }\n",
       "\n",
       "    .dataframe thead th {\n",
       "        text-align: right;\n",
       "    }\n",
       "</style>\n",
       "<table border=\"1\" class=\"dataframe\">\n",
       "  <thead>\n",
       "    <tr style=\"text-align: right;\">\n",
       "      <th></th>\n",
       "      <th>10</th>\n",
       "      <th>100</th>\n",
       "      <th>1000</th>\n",
       "      <th>101</th>\n",
       "      <th>109c</th>\n",
       "      <th>11</th>\n",
       "      <th>12</th>\n",
       "      <th>125</th>\n",
       "      <th>13</th>\n",
       "      <th>14</th>\n",
       "      <th>...</th>\n",
       "      <th>youtube</th>\n",
       "      <th>youve</th>\n",
       "      <th>yr</th>\n",
       "      <th>yung</th>\n",
       "      <th>zealand</th>\n",
       "      <th>zero</th>\n",
       "      <th>zika</th>\n",
       "      <th>zimbabwe</th>\n",
       "      <th>zimmer</th>\n",
       "      <th>zoe</th>\n",
       "    </tr>\n",
       "  </thead>\n",
       "  <tbody>\n",
       "    <tr>\n",
       "      <th>0</th>\n",
       "      <td>0.0</td>\n",
       "      <td>0.0</td>\n",
       "      <td>0.0</td>\n",
       "      <td>0.0</td>\n",
       "      <td>0.0</td>\n",
       "      <td>0.0</td>\n",
       "      <td>0.0</td>\n",
       "      <td>0.0</td>\n",
       "      <td>0.0</td>\n",
       "      <td>0.0</td>\n",
       "      <td>...</td>\n",
       "      <td>0.0</td>\n",
       "      <td>0.0</td>\n",
       "      <td>0.0</td>\n",
       "      <td>0.0</td>\n",
       "      <td>0.0</td>\n",
       "      <td>0.0</td>\n",
       "      <td>0.0</td>\n",
       "      <td>0.0</td>\n",
       "      <td>0.0</td>\n",
       "      <td>0.0</td>\n",
       "    </tr>\n",
       "    <tr>\n",
       "      <th>1</th>\n",
       "      <td>0.0</td>\n",
       "      <td>0.0</td>\n",
       "      <td>0.0</td>\n",
       "      <td>0.0</td>\n",
       "      <td>0.0</td>\n",
       "      <td>0.0</td>\n",
       "      <td>0.0</td>\n",
       "      <td>0.0</td>\n",
       "      <td>0.0</td>\n",
       "      <td>0.0</td>\n",
       "      <td>...</td>\n",
       "      <td>0.0</td>\n",
       "      <td>0.0</td>\n",
       "      <td>0.0</td>\n",
       "      <td>0.0</td>\n",
       "      <td>0.0</td>\n",
       "      <td>0.0</td>\n",
       "      <td>0.0</td>\n",
       "      <td>0.0</td>\n",
       "      <td>0.0</td>\n",
       "      <td>0.0</td>\n",
       "    </tr>\n",
       "    <tr>\n",
       "      <th>2</th>\n",
       "      <td>0.0</td>\n",
       "      <td>0.0</td>\n",
       "      <td>0.0</td>\n",
       "      <td>0.0</td>\n",
       "      <td>0.0</td>\n",
       "      <td>0.0</td>\n",
       "      <td>0.0</td>\n",
       "      <td>0.0</td>\n",
       "      <td>0.0</td>\n",
       "      <td>0.0</td>\n",
       "      <td>...</td>\n",
       "      <td>0.0</td>\n",
       "      <td>0.0</td>\n",
       "      <td>0.0</td>\n",
       "      <td>0.0</td>\n",
       "      <td>0.0</td>\n",
       "      <td>0.0</td>\n",
       "      <td>0.0</td>\n",
       "      <td>0.0</td>\n",
       "      <td>0.0</td>\n",
       "      <td>0.0</td>\n",
       "    </tr>\n",
       "    <tr>\n",
       "      <th>3</th>\n",
       "      <td>0.0</td>\n",
       "      <td>0.0</td>\n",
       "      <td>0.0</td>\n",
       "      <td>0.0</td>\n",
       "      <td>0.0</td>\n",
       "      <td>0.0</td>\n",
       "      <td>0.0</td>\n",
       "      <td>0.0</td>\n",
       "      <td>0.0</td>\n",
       "      <td>0.0</td>\n",
       "      <td>...</td>\n",
       "      <td>0.0</td>\n",
       "      <td>0.0</td>\n",
       "      <td>0.0</td>\n",
       "      <td>0.0</td>\n",
       "      <td>0.0</td>\n",
       "      <td>0.0</td>\n",
       "      <td>0.0</td>\n",
       "      <td>0.0</td>\n",
       "      <td>0.0</td>\n",
       "      <td>0.0</td>\n",
       "    </tr>\n",
       "    <tr>\n",
       "      <th>4</th>\n",
       "      <td>0.0</td>\n",
       "      <td>0.0</td>\n",
       "      <td>0.0</td>\n",
       "      <td>0.0</td>\n",
       "      <td>0.0</td>\n",
       "      <td>0.0</td>\n",
       "      <td>0.0</td>\n",
       "      <td>0.0</td>\n",
       "      <td>0.0</td>\n",
       "      <td>0.0</td>\n",
       "      <td>...</td>\n",
       "      <td>0.0</td>\n",
       "      <td>0.0</td>\n",
       "      <td>0.0</td>\n",
       "      <td>0.0</td>\n",
       "      <td>0.0</td>\n",
       "      <td>0.0</td>\n",
       "      <td>0.0</td>\n",
       "      <td>0.0</td>\n",
       "      <td>0.0</td>\n",
       "      <td>0.0</td>\n",
       "    </tr>\n",
       "  </tbody>\n",
       "</table>\n",
       "<p>5 rows × 4298 columns</p>\n",
       "</div>"
      ],
      "text/plain": [
       "    10  100  1000  101  109c   11   12  125   13   14  ...  youtube  youve  \\\n",
       "0  0.0  0.0   0.0  0.0   0.0  0.0  0.0  0.0  0.0  0.0  ...      0.0    0.0   \n",
       "1  0.0  0.0   0.0  0.0   0.0  0.0  0.0  0.0  0.0  0.0  ...      0.0    0.0   \n",
       "2  0.0  0.0   0.0  0.0   0.0  0.0  0.0  0.0  0.0  0.0  ...      0.0    0.0   \n",
       "3  0.0  0.0   0.0  0.0   0.0  0.0  0.0  0.0  0.0  0.0  ...      0.0    0.0   \n",
       "4  0.0  0.0   0.0  0.0   0.0  0.0  0.0  0.0  0.0  0.0  ...      0.0    0.0   \n",
       "\n",
       "    yr  yung  zealand  zero  zika  zimbabwe  zimmer  zoe  \n",
       "0  0.0   0.0      0.0   0.0   0.0       0.0     0.0  0.0  \n",
       "1  0.0   0.0      0.0   0.0   0.0       0.0     0.0  0.0  \n",
       "2  0.0   0.0      0.0   0.0   0.0       0.0     0.0  0.0  \n",
       "3  0.0   0.0      0.0   0.0   0.0       0.0     0.0  0.0  \n",
       "4  0.0   0.0      0.0   0.0   0.0       0.0     0.0  0.0  \n",
       "\n",
       "[5 rows x 4298 columns]"
      ]
     },
     "execution_count": 34,
     "metadata": {},
     "output_type": "execute_result"
    }
   ],
   "source": [
    "#final list of features\n",
    "new_X_feat=X_feat[x_names2]\n",
    "new_X_feat.head()"
   ]
  },
  {
   "cell_type": "markdown",
   "id": "9c083960",
   "metadata": {},
   "source": [
    "### 4.9 Balancing the classes"
   ]
  },
  {
   "cell_type": "markdown",
   "id": "b95c3555",
   "metadata": {},
   "source": [
    "SMOTE is an oversampling technique that generates synthetic samples from the minority class. We will use this technique to balance our data"
   ]
  },
  {
   "cell_type": "code",
   "execution_count": 35,
   "id": "f5ab5a20",
   "metadata": {},
   "outputs": [
    {
     "name": "stdout",
     "output_type": "stream",
     "text": [
      "1 2\n",
      "2 3\n",
      "0 1\n",
      "-1 0\n"
     ]
    }
   ],
   "source": [
    "#features and target\n",
    "X=new_X_feat\n",
    "y=df_train['sentiment']\n",
    "\n",
    "#Enconding\n",
    "from sklearn.preprocessing import LabelEncoder\n",
    "le = LabelEncoder()\n",
    "y = le.fit_transform(y)\n",
    "\n",
    "#Mapp encoded classes to class\n",
    "def get_integer_mapping(le):\n",
    "    '''\n",
    "    Return a dict mapping labels to their integer values\n",
    "    from an SKlearn LabelEncoder\n",
    "    le = a fitted SKlearn LabelEncoder\n",
    "    '''\n",
    "    res = {}\n",
    "    for cl in le.classes_:\n",
    "        res.update({cl:le.transform([cl])[0]})\n",
    "\n",
    "    return res\n",
    "\n",
    "integerMapping = get_integer_mapping(le)\n",
    "\n",
    "for name in df_train['sentiment'].unique():\n",
    "    print(name,integerMapping[name])"
   ]
  },
  {
   "cell_type": "code",
   "execution_count": 36,
   "id": "7db957d1",
   "metadata": {},
   "outputs": [
    {
     "name": "stdout",
     "output_type": "stream",
     "text": [
      "Class=2, n=7635 (48.265%)\n",
      "Class=0, n=1170 (7.396%)\n",
      "Class=1, n=2129 (13.458%)\n",
      "Class=3, n=3303 (20.880%)\n"
     ]
    },
    {
     "data": {
      "image/png": "[encoded data removed]",
      "text/plain": [
       "<Figure size 432x288 with 1 Axes>"
      ]
     },
     "metadata": {},
     "output_type": "display_data"
    }
   ],
   "source": [
    "from collections import Counter\n",
    "from sklearn.preprocessing import LabelEncoder\n",
    "\n",
    "# split into input and output elements\n",
    "X=new_X_feat\n",
    "y=y\n",
    "\n",
    "# import train/test split module\n",
    "from sklearn.model_selection import train_test_split\n",
    "\n",
    "# Get training and testing data \n",
    "X_train, X_test, y_train, y_test = train_test_split(X, y, test_size=0.1, random_state=42)\n",
    "\n",
    "# summarize distribution\n",
    "counter = Counter(y_train)\n",
    "for k,v in counter.items():\n",
    "    per = v / len(y) * 100\n",
    "    print('Class=%d, n=%d (%.3f%%)' % (k, v, per))\n",
    "# plot the distribution\n",
    "plt.bar(counter.keys(), counter.values())\n",
    "plt.show()"
   ]
  },
  {
   "cell_type": "code",
   "execution_count": 37,
   "id": "eadac560",
   "metadata": {
    "scrolled": true
   },
   "outputs": [
    {
     "name": "stdout",
     "output_type": "stream",
     "text": [
      "Class=2, n=7635 (48.265%)\n",
      "Class=0, n=7635 (48.265%)\n",
      "Class=1, n=7635 (48.265%)\n",
      "Class=3, n=7635 (48.265%)\n"
     ]
    },
    {
     "data": {
      "image/png": "[encoded data removed]",
      "text/plain": [
       "<Figure size 432x288 with 1 Axes>"
      ]
     },
     "metadata": {},
     "output_type": "display_data"
    }
   ],
   "source": [
    "from imblearn.over_sampling import SMOTE\n",
    "from collections import Counter\n",
    "\n",
    "# transform the dataset\n",
    "oversample = SMOTE()\n",
    "\n",
    "X_train, y_train = oversample.fit_resample(X_train, y_train)\n",
    "# summarize distribution\n",
    "counter = Counter(y_train)\n",
    "for k,v in counter.items():\n",
    "    per = v / len(y) * 100\n",
    "    print('Class=%d, n=%d (%.3f%%)' % (k, v, per))\n",
    "# plot the distribution\n",
    "plt.bar(counter.keys(), counter.values())\n",
    "plt.show()"
   ]
  },
  {
   "cell_type": "markdown",
   "id": "6dee40c8",
   "metadata": {},
   "source": [
    "## 5. Modelling\n",
    "<a class=\"anchor\" id=\"1.1\"></a>\n",
    "<a href=#cont>Back to Table of Contents</a>\n",
    "\n",
    "In this section, we will create one or more classification models that are able to accurately predict our classes. \n",
    "\n",
    "These are the models that will created:\n",
    "- 1. Logistic Regression\n",
    "- 2. Decision Tree\n",
    "- 3. Random Forests\n",
    "- 4. Naive Bayes\n",
    "- 5. k nearest neighbuors\n",
    "- 6. Support Vector Machines\n",
    "- 7. Neural Networks\n",
    "\n",
    "\n"
   ]
  },
  {
   "cell_type": "markdown",
   "id": "a7167546",
   "metadata": {},
   "source": [
    "First all the classifiers are built together to see which ones will perform the best"
   ]
  },
  {
   "cell_type": "code",
   "execution_count": 41,
   "id": "553b4427",
   "metadata": {},
   "outputs": [],
   "source": [
    "from sklearn.linear_model import LogisticRegression\n",
    "from sklearn.ensemble import RandomForestClassifier\n",
    "from sklearn.tree import DecisionTreeClassifier\n",
    "from sklearn.ensemble import RandomForestClassifier\n",
    "from sklearn.naive_bayes import MultinomialNB\n",
    "from sklearn.naive_bayes import GaussianNB\n",
    "from sklearn.neighbors import KNeighborsClassifier\n",
    "from sklearn.svm import SVC\n",
    "from sklearn.svm import LinearSVC\n",
    "\n",
    "\n",
    "from sklearn import metrics\n"
   ]
  },
  {
   "cell_type": "code",
   "execution_count": 42,
   "id": "9b218fa4",
   "metadata": {},
   "outputs": [],
   "source": [
    "#list of names of the models\n",
    "names = ['Logistic Regression',\n",
    "         'Decision Tree',\n",
    "         'Random Forest',\n",
    "         'Gaussian NB',\n",
    "         'Multinomial NB',\n",
    "         'Nearest Neighbors', \n",
    "         'linear SVc',          \n",
    "        ]\n",
    "\n",
    "#intstances of all the classifiers\n",
    "classifiers = [\n",
    "    LogisticRegression(max_iter=400),\n",
    "    DecisionTreeClassifier(),\n",
    "    RandomForestClassifier(),\n",
    "    GaussianNB(),\n",
    "    MultinomialNB(),\n",
    "    KNeighborsClassifier(3),\n",
    "    LinearSVC(multi_class='ovr'),\n",
    "    \n",
    "]"
   ]
  },
  {
   "cell_type": "code",
   "execution_count": 43,
   "id": "a96980d9",
   "metadata": {
    "scrolled": true
   },
   "outputs": [
    {
     "name": "stdout",
     "output_type": "stream",
     "text": [
      "Fitting Logistic Regression model...\n",
      "... predicting\n",
      "... scoring\n",
      "Fitting Decision Tree model...\n",
      "... predicting\n",
      "... scoring\n",
      "Fitting Random Forest model...\n",
      "... predicting\n",
      "... scoring\n",
      "Fitting Gaussian NB model...\n",
      "... predicting\n",
      "... scoring\n",
      "Fitting Multinomial NB model...\n",
      "... predicting\n",
      "... scoring\n",
      "Fitting Nearest Neighbors model...\n",
      "... predicting\n",
      "... scoring\n",
      "Fitting linear SVc model...\n",
      "... predicting\n",
      "... scoring\n",
      "... All done!\n"
     ]
    }
   ],
   "source": [
    "results = []\n",
    "\n",
    "models = {}\n",
    "confusion = {}\n",
    "class_report = {}\n",
    "\n",
    "#each model is trained to make predictions and calculate metrics\n",
    "for name, clf in zip(names, classifiers):    \n",
    "    print ('Fitting {:s} model...'.format(name))\n",
    "    run_time = %timeit -q -o clf.fit(X_train, y_train)\n",
    "    \n",
    "    print ('... predicting')\n",
    "    y_pred = clf.predict(X_train)   \n",
    "    y_pred_test = clf.predict(X_test)\n",
    "    \n",
    "    print ('... scoring')\n",
    "    accuracy  = metrics.accuracy_score(y_train, y_pred)\n",
    "    precision = metrics.precision_score(y_train, y_pred,average='micro')\n",
    "    recall    = metrics.recall_score(y_train, y_pred,average='micro')\n",
    "    \n",
    "    f1        = metrics.f1_score(y_train, y_pred,average='micro')    \n",
    "    f1_test   = metrics.f1_score(y_test, y_pred_test,average='micro')    \n",
    "    \n",
    "    # Save the results to dictionaries\n",
    "    models[name] = clf    \n",
    "    confusion[name] = metrics.confusion_matrix(y_train, y_pred)\n",
    "    class_report[name] = metrics.classification_report(y_train, y_pred)\n",
    "    \n",
    "    results.append([name, accuracy, precision, recall, f1, f1_test, run_time.best])\n",
    "\n",
    "    \n",
    "results = pd.DataFrame(results, columns=['Classifier', 'Accuracy', 'Precision', 'Recall', 'F1 Train', 'F1 Test', 'Train Time'])\n",
    "results.set_index('Classifier', inplace= True)\n",
    "\n",
    "print ('... All done!')"
   ]
  },
  {
   "cell_type": "code",
   "execution_count": 46,
   "id": "e8312502",
   "metadata": {},
   "outputs": [
    {
     "data": {
      "text/html": [
       "<div>\n",
       "<style scoped>\n",
       "    .dataframe tbody tr th:only-of-type {\n",
       "        vertical-align: middle;\n",
       "    }\n",
       "\n",
       "    .dataframe tbody tr th {\n",
       "        vertical-align: top;\n",
       "    }\n",
       "\n",
       "    .dataframe thead th {\n",
       "        text-align: right;\n",
       "    }\n",
       "</style>\n",
       "<table border=\"1\" class=\"dataframe\">\n",
       "  <thead>\n",
       "    <tr style=\"text-align: right;\">\n",
       "      <th></th>\n",
       "      <th>Accuracy</th>\n",
       "      <th>Precision</th>\n",
       "      <th>Recall</th>\n",
       "      <th>F1 Train</th>\n",
       "      <th>F1 Test</th>\n",
       "      <th>Train Time</th>\n",
       "    </tr>\n",
       "    <tr>\n",
       "      <th>Classifier</th>\n",
       "      <th></th>\n",
       "      <th></th>\n",
       "      <th></th>\n",
       "      <th></th>\n",
       "      <th></th>\n",
       "      <th></th>\n",
       "    </tr>\n",
       "  </thead>\n",
       "  <tbody>\n",
       "    <tr>\n",
       "      <th>Decision Tree</th>\n",
       "      <td>0.997086</td>\n",
       "      <td>0.997086</td>\n",
       "      <td>0.997086</td>\n",
       "      <td>0.997086</td>\n",
       "      <td>0.626422</td>\n",
       "      <td>73.089031</td>\n",
       "    </tr>\n",
       "    <tr>\n",
       "      <th>Random Forest</th>\n",
       "      <td>0.997086</td>\n",
       "      <td>0.997086</td>\n",
       "      <td>0.997086</td>\n",
       "      <td>0.997086</td>\n",
       "      <td>0.691530</td>\n",
       "      <td>165.179326</td>\n",
       "    </tr>\n",
       "    <tr>\n",
       "      <th>linear SVc</th>\n",
       "      <td>0.918599</td>\n",
       "      <td>0.918599</td>\n",
       "      <td>0.918599</td>\n",
       "      <td>0.918599</td>\n",
       "      <td>0.652339</td>\n",
       "      <td>2.689950</td>\n",
       "    </tr>\n",
       "    <tr>\n",
       "      <th>Logistic Regression</th>\n",
       "      <td>0.885363</td>\n",
       "      <td>0.885363</td>\n",
       "      <td>0.885363</td>\n",
       "      <td>0.885363</td>\n",
       "      <td>0.665613</td>\n",
       "      <td>80.153422</td>\n",
       "    </tr>\n",
       "    <tr>\n",
       "      <th>Nearest Neighbors</th>\n",
       "      <td>0.857760</td>\n",
       "      <td>0.857760</td>\n",
       "      <td>0.857760</td>\n",
       "      <td>0.857760</td>\n",
       "      <td>0.457649</td>\n",
       "      <td>0.352615</td>\n",
       "    </tr>\n",
       "    <tr>\n",
       "      <th>Multinomial NB</th>\n",
       "      <td>0.780026</td>\n",
       "      <td>0.780026</td>\n",
       "      <td>0.780026</td>\n",
       "      <td>0.780026</td>\n",
       "      <td>0.630847</td>\n",
       "      <td>0.482224</td>\n",
       "    </tr>\n",
       "    <tr>\n",
       "      <th>Gaussian NB</th>\n",
       "      <td>0.675573</td>\n",
       "      <td>0.675573</td>\n",
       "      <td>0.675573</td>\n",
       "      <td>0.675573</td>\n",
       "      <td>0.397598</td>\n",
       "      <td>6.558761</td>\n",
       "    </tr>\n",
       "  </tbody>\n",
       "</table>\n",
       "</div>"
      ],
      "text/plain": [
       "                     Accuracy  Precision    Recall  F1 Train   F1 Test  \\\n",
       "Classifier                                                               \n",
       "Decision Tree        0.997086   0.997086  0.997086  0.997086  0.626422   \n",
       "Random Forest        0.997086   0.997086  0.997086  0.997086  0.691530   \n",
       "linear SVc           0.918599   0.918599  0.918599  0.918599  0.652339   \n",
       "Logistic Regression  0.885363   0.885363  0.885363  0.885363  0.665613   \n",
       "Nearest Neighbors    0.857760   0.857760  0.857760  0.857760  0.457649   \n",
       "Multinomial NB       0.780026   0.780026  0.780026  0.780026  0.630847   \n",
       "Gaussian NB          0.675573   0.675573  0.675573  0.675573  0.397598   \n",
       "\n",
       "                     Train Time  \n",
       "Classifier                       \n",
       "Decision Tree         73.089031  \n",
       "Random Forest        165.179326  \n",
       "linear SVc             2.689950  \n",
       "Logistic Regression   80.153422  \n",
       "Nearest Neighbors      0.352615  \n",
       "Multinomial NB         0.482224  \n",
       "Gaussian NB            6.558761  "
      ]
     },
     "execution_count": 46,
     "metadata": {},
     "output_type": "execute_result"
    }
   ],
   "source": [
    "#table of results\n",
    "results.sort_values('F1 Train', ascending=False)"
   ]
  },
  {
   "cell_type": "code",
   "execution_count": 51,
   "id": "9dcaa46c",
   "metadata": {},
   "outputs": [
    {
     "data": {
      "text/plain": [
       "<AxesSubplot:xlabel='Classifier'>"
      ]
     },
     "execution_count": 51,
     "metadata": {},
     "output_type": "execute_result"
    },
    {
     "data": {
      "image/png": "[encoded data removed]",
      "text/plain": [
       "<Figure size 936x360 with 2 Axes>"
      ]
     },
     "metadata": {},
     "output_type": "display_data"
    }
   ],
   "source": [
    "fig, ax = plt.subplots(1, 2, figsize=(13,5))\n",
    "results.sort_values('F1 Train', ascending=False, inplace=True)\n",
    "results.plot(y=['F1 Test'], kind='bar', ax=ax[0], xlim=[0,1.1], ylim=[0.50,0.72])\n",
    "results.plot(y='Train Time', kind='bar', ax=ax[1])"
   ]
  },
  {
   "cell_type": "markdown",
   "id": "5c3d8d48",
   "metadata": {},
   "source": [
    "### 5.1 Logistic regression classification\n",
    "\n",
    "- <a href=#four>5.1.1 Model and predictions </a>\n",
    "- <a href=#four>5.1.2 Logging results on comet</a>\n",
    "- <a href=#four>5.1.3 Kaggle submission</a>\n"
   ]
  },
  {
   "cell_type": "markdown",
   "id": "73887a0a",
   "metadata": {},
   "source": [
    "###### 5.1.1 Model and prediction results"
   ]
  },
  {
   "cell_type": "code",
   "execution_count": 38,
   "id": "4a383543",
   "metadata": {
    "scrolled": true
   },
   "outputs": [
    {
     "name": "stdout",
     "output_type": "stream",
     "text": [
      "              precision    recall  f1-score   support\n",
      "\n",
      "           0       0.38      0.56      0.45       126\n",
      "           1       0.45      0.51      0.48       224\n",
      "           2       0.82      0.67      0.74       895\n",
      "           3       0.64      0.80      0.71       337\n",
      "\n",
      "    accuracy                           0.66      1582\n",
      "   macro avg       0.57      0.63      0.60      1582\n",
      "weighted avg       0.70      0.66      0.67      1582\n",
      "\n"
     ]
    }
   ],
   "source": [
    "# import logistic regression module\n",
    "from sklearn.linear_model import LogisticRegression\n",
    "\n",
    "# create model object\n",
    "lr = LogisticRegression(multi_class='ovr',max_iter=400)\n",
    "\n",
    "# train model\n",
    "lr.fit(X_train, y_train)\n",
    "\n",
    "#Generate predictions\n",
    "y_pred = lr.predict(X_test)\n",
    "\n",
    "\n",
    "# Classification report\n",
    "from sklearn.metrics import classification_report\n",
    "print(classification_report(y_test, y_pred))\n",
    "\n",
    "import warnings\n",
    "warnings.filterwarnings('ignore')"
   ]
  },
  {
   "cell_type": "markdown",
   "id": "e261bb32",
   "metadata": {},
   "source": [
    "#### 5.1.2 Logging results on comet"
   ]
  },
  {
   "cell_type": "code",
   "execution_count": 39,
   "id": "26aadc4c",
   "metadata": {
    "scrolled": true
   },
   "outputs": [
    {
     "name": "stderr",
     "output_type": "stream",
     "text": [
      "COMET WARNING: Comet has disabled auto-logging functionality as it has been imported after the following ML modules: sklearn. Metrics and hyperparameters can still be logged using comet_ml.log_metrics() and comet_ml.log_parameters()\n",
      "COMET WARNING: As you are running in a Jupyter environment, you will need to call `experiment.end()` when finished to ensure all metrics and code are logged before exiting.\n",
      "COMET INFO: Experiment is live on comet.ml https://www.comet.ml/sixolilej/team-14-classification-sprint/ddf29641c5ff45dca34c10d674f67560\n",
      "\n"
     ]
    }
   ],
   "source": [
    "# import comet_ml at the top of your file\n",
    "from comet_ml import Experiment\n",
    "\n",
    "# Create an experiment with your api key\n",
    "experiment = Experiment(\n",
    "    api_key=\"j6t6QCKPHzxLlzGL6upDixMVs\",\n",
    "    project_name=\"team-14-classification-sprint\",\n",
    "    workspace=\"sixolilej\",\n",
    ")"
   ]
  },
  {
   "cell_type": "code",
   "execution_count": 40,
   "id": "54d40cbb",
   "metadata": {},
   "outputs": [
    {
     "name": "stderr",
     "output_type": "stream",
     "text": [
      "COMET WARNING: Converting metric value ''LogisticRegression'' into a string using str(), resulting string might be invalid\n",
      "COMET WARNING: Converting metric value ''standard scale'' into a string using str(), resulting string might be invalid\n"
     ]
    }
   ],
   "source": [
    "# lr parameters\n",
    "params_lr = {\"random_state=\": 42,\n",
    "      \"model_type\": \"LogisticRegression\",\n",
    "      \"scaler:\": \"standard scale\"\n",
    "         }\n",
    "\n",
    "#f1 metric\n",
    "from sklearn.metrics import f1_score\n",
    "f1_lr=round(f1_score(y_test, y_pred, average='weighted'),2)\n",
    "\n",
    "metrics_lr={\"f1\": f1_lr}\n",
    "\n",
    "experiment.log_metrics(params_lr)\n",
    "experiment.log_metrics(metrics_lr)\n"
   ]
  },
  {
   "cell_type": "code",
   "execution_count": 41,
   "id": "c115272c",
   "metadata": {},
   "outputs": [
    {
     "name": "stderr",
     "output_type": "stream",
     "text": [
      "COMET INFO: ---------------------------\n",
      "COMET INFO: Comet.ml Experiment Summary\n",
      "COMET INFO: ---------------------------\n",
      "COMET INFO:   Data:\n",
      "COMET INFO:     display_summary_level : 1\n",
      "COMET INFO:     url                   : https://www.comet.ml/sixolilej/team-14-classification-sprint/ddf29641c5ff45dca34c10d674f67560\n",
      "COMET INFO:   Metrics:\n",
      "COMET INFO:     f1            : 0.67\n",
      "COMET INFO:     model_type    : LogisticRegression\n",
      "COMET INFO:     random_state= : 42\n",
      "COMET INFO:     scaler:       : standard scale\n",
      "COMET INFO:   Uploads:\n",
      "COMET INFO:     conda-environment-definition : 1\n",
      "COMET INFO:     conda-info                   : 1\n",
      "COMET INFO:     conda-specification          : 1\n",
      "COMET INFO:     environment details          : 1\n",
      "COMET INFO:     filename                     : 1\n",
      "COMET INFO:     git metadata                 : 1\n",
      "COMET INFO:     git-patch (uncompressed)     : 1 (8.64 MB)\n",
      "COMET INFO:     installed packages           : 1\n",
      "COMET INFO:     notebook                     : 1\n",
      "COMET INFO:     source_code                  : 1\n",
      "COMET INFO: ---------------------------\n",
      "COMET WARNING: Comet has disabled auto-logging functionality as it has been imported after the following ML modules: sklearn. Metrics and hyperparameters can still be logged using comet_ml.log_metrics() and comet_ml.log_parameters()\n",
      "COMET INFO: Uploading metrics, params, and assets to Comet before program termination (may take several seconds)\n",
      "COMET INFO: The Python SDK has 3600 seconds to finish before aborting...\n",
      "COMET INFO: Waiting for completion of the file uploads (may take several seconds)\n",
      "COMET INFO: The Python SDK has 10800 seconds to finish before aborting...\n",
      "COMET INFO: Still uploading 5 file(s), remaining 896.39 KB/3.08 MB\n"
     ]
    }
   ],
   "source": [
    "experiment.end()\n"
   ]
  },
  {
   "cell_type": "markdown",
   "id": "fd16b1ef",
   "metadata": {},
   "source": [
    "#### 5.1.3 Kaggle submission"
   ]
  },
  {
   "cell_type": "code",
   "execution_count": 43,
   "id": "9e764b75",
   "metadata": {},
   "outputs": [
    {
     "data": {
      "text/html": [
       "<div>\n",
       "<style scoped>\n",
       "    .dataframe tbody tr th:only-of-type {\n",
       "        vertical-align: middle;\n",
       "    }\n",
       "\n",
       "    .dataframe tbody tr th {\n",
       "        vertical-align: top;\n",
       "    }\n",
       "\n",
       "    .dataframe thead th {\n",
       "        text-align: right;\n",
       "    }\n",
       "</style>\n",
       "<table border=\"1\" class=\"dataframe\">\n",
       "  <thead>\n",
       "    <tr style=\"text-align: right;\">\n",
       "      <th></th>\n",
       "      <th>tweetid</th>\n",
       "      <th>sentiment</th>\n",
       "    </tr>\n",
       "  </thead>\n",
       "  <tbody>\n",
       "    <tr>\n",
       "      <th>0</th>\n",
       "      <td>169760</td>\n",
       "      <td>3</td>\n",
       "    </tr>\n",
       "    <tr>\n",
       "      <th>1</th>\n",
       "      <td>35326</td>\n",
       "      <td>2</td>\n",
       "    </tr>\n",
       "  </tbody>\n",
       "</table>\n",
       "</div>"
      ],
      "text/plain": [
       "   tweetid  sentiment\n",
       "0   169760          3\n",
       "1    35326          2"
      ]
     },
     "execution_count": 43,
     "metadata": {},
     "output_type": "execute_result"
    }
   ],
   "source": [
    "preds=lr.predict(x_feat)\n",
    "daf=pd.DataFrame(preds,columns=['sentiment'])\n",
    "daf.head(2)\n",
    "\n",
    "output=pd.DataFrame({'tweetid':df_test['tweetid']})\n",
    "submission=output.join(daf)\n",
    "submission.to_csv('submission4.csv',index=False)\n",
    "\n",
    "submission.head(2)"
   ]
  },
  {
   "cell_type": "markdown",
   "id": "270a13a9",
   "metadata": {},
   "source": [
    "\n",
    "### 5.2 Decision Tree\n",
    "\n",
    "- <a href=#four>5.2.1 Model and predictions </a>\n",
    "- <a href=#four>5.2.2 Hyperparameter tuningt</a>\n",
    "- <a href=#four>5.2.3 Logging results on comet</a>"
   ]
  },
  {
   "cell_type": "markdown",
   "id": "433a8135",
   "metadata": {},
   "source": [
    "###### 5.2.1 Model and predictions"
   ]
  },
  {
   "cell_type": "code",
   "execution_count": 44,
   "id": "7ac369c1",
   "metadata": {
    "scrolled": true
   },
   "outputs": [
    {
     "name": "stdout",
     "output_type": "stream",
     "text": [
      "              precision    recall  f1-score   support\n",
      "\n",
      "           0       0.36      0.38      0.37       126\n",
      "           1       0.35      0.42      0.38       224\n",
      "           2       0.73      0.70      0.71       895\n",
      "           3       0.63      0.61      0.62       337\n",
      "\n",
      "    accuracy                           0.61      1582\n",
      "   macro avg       0.52      0.53      0.52      1582\n",
      "weighted avg       0.63      0.61      0.62      1582\n",
      "\n"
     ]
    }
   ],
   "source": [
    "# import DecisionTreeClassifier module\n",
    "from sklearn.tree import DecisionTreeClassifier\n",
    "\n",
    "# train model\n",
    "forest = DecisionTreeClassifier(random_state=42)\n",
    "forest.fit(X_train, y_train)\n",
    "\n",
    "#Generate predictions\n",
    "pred_forest_dt = forest.predict(X_test)\n",
    "\n",
    "# Classification report\n",
    "from sklearn.metrics import classification_report\n",
    "print(classification_report(y_test, pred_forest_dt))\n",
    "\n",
    "import warnings\n",
    "warnings.filterwarnings('ignore')"
   ]
  },
  {
   "cell_type": "markdown",
   "id": "d4f28dd8",
   "metadata": {},
   "source": [
    "#### 5.2.2 Hyperparameter tuning"
   ]
  },
  {
   "cell_type": "code",
   "execution_count": 71,
   "id": "f4d448c8",
   "metadata": {},
   "outputs": [
    {
     "name": "stdout",
     "output_type": "stream",
     "text": [
      "Fitting 5 folds for each of 18 candidates, totalling 90 fits\n"
     ]
    },
    {
     "data": {
      "text/plain": [
       "{'criterion': 'gini', 'max_depth': 450}"
      ]
     },
     "execution_count": 71,
     "metadata": {},
     "output_type": "execute_result"
    }
   ],
   "source": [
    "from sklearn.model_selection import GridSearchCV\n",
    "params_dt = {'criterion':['gini','entropy'],'max_depth':[100,150,200,250,300,350,400,450,500]}\n",
    "gs_nb = GridSearchCV(estimator=forest, \n",
    "                 param_grid=params_dt,    \n",
    "                 verbose=1, \n",
    "                 scoring='f1_macro') \n",
    "gs_nb.fit(X_train, y_train)\n",
    "\n",
    "gs_nb.best_params_"
   ]
  },
  {
   "cell_type": "markdown",
   "id": "fa558d3d",
   "metadata": {},
   "source": [
    "_*Tuned Model*_"
   ]
  },
  {
   "cell_type": "code",
   "execution_count": 48,
   "id": "8006c138",
   "metadata": {},
   "outputs": [
    {
     "name": "stdout",
     "output_type": "stream",
     "text": [
      "              precision    recall  f1-score   support\n",
      "\n",
      "           0       0.36      0.38      0.37       126\n",
      "           1       0.37      0.40      0.38       224\n",
      "           2       0.73      0.72      0.73       895\n",
      "           3       0.64      0.62      0.63       337\n",
      "\n",
      "    accuracy                           0.63      1582\n",
      "   macro avg       0.52      0.53      0.53      1582\n",
      "weighted avg       0.63      0.63      0.63      1582\n",
      "\n"
     ]
    }
   ],
   "source": [
    "# import DecisionTreeClassifier module\n",
    "from sklearn.tree import DecisionTreeClassifier\n",
    "\n",
    "#DecisionTreeClassifier instance\n",
    "tree_tuned = DecisionTreeClassifier(criterion=\"gini\", max_depth=450, random_state=42)\n",
    "tree_tuned.fit(X_train, y_train)\n",
    "\n",
    "#predictions on test\n",
    "pred_tree_tuned = tree_tuned.predict(X_test)\n",
    "\n",
    "# Classification report\n",
    "from sklearn.metrics import classification_report\n",
    "print(classification_report(y_test, pred_tree_tuned))\n",
    "\n",
    "import warnings\n",
    "warnings.filterwarnings('ignore')"
   ]
  },
  {
   "cell_type": "markdown",
   "id": "a9108a0b",
   "metadata": {},
   "source": [
    "#### 5.2.3 Logging results on comet"
   ]
  },
  {
   "cell_type": "code",
   "execution_count": 47,
   "id": "3f48124b",
   "metadata": {
    "scrolled": true
   },
   "outputs": [
    {
     "name": "stderr",
     "output_type": "stream",
     "text": [
      "COMET WARNING: Comet has disabled auto-logging functionality as it has been imported after the following ML modules: sklearn. Metrics and hyperparameters can still be logged using comet_ml.log_metrics() and comet_ml.log_parameters()\n",
      "COMET INFO: ---------------------------\n",
      "COMET INFO: Comet.ml Experiment Summary\n",
      "COMET INFO: ---------------------------\n",
      "COMET INFO:   Data:\n",
      "COMET INFO:     display_summary_level : 1\n",
      "COMET INFO:     url                   : https://www.comet.ml/sixolilej/team-14-classification-sprint/72ef4434ee48417ba9d27fa8d767d4f2\n",
      "COMET INFO:   Uploads:\n",
      "COMET INFO:     conda-environment-definition : 1\n",
      "COMET INFO:     conda-info                   : 1\n",
      "COMET INFO:     conda-specification          : 1\n",
      "COMET INFO:     environment details          : 1\n",
      "COMET INFO:     filename                     : 1\n",
      "COMET INFO:     git metadata                 : 1\n",
      "COMET INFO:     git-patch (uncompressed)     : 1 (8.64 MB)\n",
      "COMET INFO:     installed packages           : 1\n",
      "COMET INFO:     notebook                     : 1\n",
      "COMET INFO:     source_code                  : 1\n",
      "COMET INFO: ---------------------------\n",
      "COMET WARNING: Comet has disabled auto-logging functionality as it has been imported after the following ML modules: sklearn. Metrics and hyperparameters can still be logged using comet_ml.log_metrics() and comet_ml.log_parameters()\n",
      "COMET WARNING: As you are running in a Jupyter environment, you will need to call `experiment.end()` when finished to ensure all metrics and code are logged before exiting.\n",
      "COMET INFO: Experiment is live on comet.ml https://www.comet.ml/sixolilej/team-14-classification-sprint/11eef0de32c5417a8a7d68496bc6bca5\n",
      "\n"
     ]
    }
   ],
   "source": [
    "# import comet_ml at the top of your file\n",
    "from comet_ml import Experiment\n",
    "\n",
    "# Create an experiment with your api key\n",
    "experiment = Experiment(\n",
    "    api_key=\"j6t6QCKPHzxLlzGL6upDixMVs\",\n",
    "    project_name=\"team-14-classification-sprint\",\n",
    "    workspace=\"sixolilej\",\n",
    ")"
   ]
  },
  {
   "cell_type": "code",
   "execution_count": 50,
   "id": "dde9d0de",
   "metadata": {},
   "outputs": [
    {
     "name": "stderr",
     "output_type": "stream",
     "text": [
      "COMET WARNING: Converting metric value ''gini'' into a string using str(), resulting string might be invalid\n",
      "COMET WARNING: Converting metric value ''DecisionTreeClassifier'' into a string using str(), resulting string might be invalid\n"
     ]
    }
   ],
   "source": [
    "# dt parameters\n",
    "params_dt = {\n",
    "    \"random_state=\": 42,\n",
    "    \"model_type\": \"DecisionTreeClassifier\",\n",
    "    'criterion': 'gini', \n",
    "    'max_depth': 450\n",
    "         }\n",
    "\n",
    "#f1 metric\n",
    "from sklearn.metrics import f1_score\n",
    "f1_dt=round(f1_score(y_test, pred_tree_tuned, average='weighted'),2)\n",
    "\n",
    "metrics_dt={\"f1\": f1_dt}\n",
    "\n",
    "experiment.log_metrics(params_dt)\n",
    "experiment.log_metrics(metrics_dt)"
   ]
  },
  {
   "cell_type": "code",
   "execution_count": 51,
   "id": "d4357310",
   "metadata": {},
   "outputs": [
    {
     "name": "stderr",
     "output_type": "stream",
     "text": [
      "COMET INFO: ---------------------------\n",
      "COMET INFO: Comet.ml Experiment Summary\n",
      "COMET INFO: ---------------------------\n",
      "COMET INFO:   Data:\n",
      "COMET INFO:     display_summary_level : 1\n",
      "COMET INFO:     url                   : https://www.comet.ml/sixolilej/team-14-classification-sprint/11eef0de32c5417a8a7d68496bc6bca5\n",
      "COMET INFO:   Metrics:\n",
      "COMET INFO:     criterion     : gini\n",
      "COMET INFO:     f1            : 0.63\n",
      "COMET INFO:     max_depth     : 450\n",
      "COMET INFO:     model_type    : DecisionTreeClassifier\n",
      "COMET INFO:     random_state= : 42\n",
      "COMET INFO:   Uploads:\n",
      "COMET INFO:     conda-environment-definition : 1\n",
      "COMET INFO:     conda-info                   : 1\n",
      "COMET INFO:     conda-specification          : 1\n",
      "COMET INFO:     environment details          : 1\n",
      "COMET INFO:     filename                     : 1\n",
      "COMET INFO:     git metadata                 : 1\n",
      "COMET INFO:     git-patch (uncompressed)     : 1 (8.65 MB)\n",
      "COMET INFO:     installed packages           : 1\n",
      "COMET INFO:     notebook                     : 1\n",
      "COMET INFO:     source_code                  : 1\n",
      "COMET INFO: ---------------------------\n",
      "COMET WARNING: Comet has disabled auto-logging functionality as it has been imported after the following ML modules: sklearn. Metrics and hyperparameters can still be logged using comet_ml.log_metrics() and comet_ml.log_parameters()\n",
      "COMET INFO: Uploading 1 metrics, params and output messages\n",
      "COMET INFO: Waiting for completion of the file uploads (may take several seconds)\n",
      "COMET INFO: The Python SDK has 10800 seconds to finish before aborting...\n",
      "COMET INFO: All files uploaded, waiting for confirmation they have been all received\n"
     ]
    }
   ],
   "source": [
    "experiment.end()"
   ]
  },
  {
   "cell_type": "markdown",
   "id": "38267131",
   "metadata": {},
   "source": [
    "### 5.3 Random Forests\n",
    "\n",
    "- <a href=#four>5.3.1 Model and predictions </a>\n",
    "- <a href=#four>5.3.2 Kaggle submission</a>\n",
    "- <a href=#four>5.3.3 Logging results on comet</a>"
   ]
  },
  {
   "cell_type": "markdown",
   "id": "b86b4077",
   "metadata": {},
   "source": [
    "###### 5.3.1 Model and predictions"
   ]
  },
  {
   "cell_type": "code",
   "execution_count": 58,
   "id": "5131c81b",
   "metadata": {},
   "outputs": [
    {
     "name": "stdout",
     "output_type": "stream",
     "text": [
      "              precision    recall  f1-score   support\n",
      "\n",
      "           0       0.57      0.40      0.47       126\n",
      "           1       0.44      0.52      0.47       224\n",
      "           2       0.78      0.78      0.78       895\n",
      "           3       0.72      0.73      0.72       337\n",
      "\n",
      "    accuracy                           0.70      1582\n",
      "   macro avg       0.63      0.61      0.61      1582\n",
      "weighted avg       0.70      0.70      0.70      1582\n",
      "\n"
     ]
    }
   ],
   "source": [
    "from sklearn.ensemble import RandomForestClassifier\n",
    "\n",
    "# create model object\n",
    "model_rf = RandomForestClassifier(n_estimators=500, class_weight='balanced')\n",
    "\n",
    "# Fit the model \n",
    "model_rf.fit(X_train,y_train)\n",
    "\n",
    "# Train the model\n",
    "pred_forest = model_rf.predict(X_test)\n",
    "\n",
    "from sklearn.metrics import classification_report\n",
    "\n",
    "# Classification report\n",
    "from sklearn.metrics import classification_report\n",
    "print(classification_report(y_test, pred_forest))"
   ]
  },
  {
   "cell_type": "markdown",
   "id": "5113c727",
   "metadata": {},
   "source": [
    "###### 5.3.2 Kaggle submission"
   ]
  },
  {
   "cell_type": "code",
   "execution_count": 61,
   "id": "ef5481c8",
   "metadata": {},
   "outputs": [],
   "source": [
    "preds_rf=model_rf.predict(x_feat)"
   ]
  },
  {
   "cell_type": "code",
   "execution_count": 62,
   "id": "fc15d8f2",
   "metadata": {},
   "outputs": [
    {
     "data": {
      "text/html": [
       "<div>\n",
       "<style scoped>\n",
       "    .dataframe tbody tr th:only-of-type {\n",
       "        vertical-align: middle;\n",
       "    }\n",
       "\n",
       "    .dataframe tbody tr th {\n",
       "        vertical-align: top;\n",
       "    }\n",
       "\n",
       "    .dataframe thead th {\n",
       "        text-align: right;\n",
       "    }\n",
       "</style>\n",
       "<table border=\"1\" class=\"dataframe\">\n",
       "  <thead>\n",
       "    <tr style=\"text-align: right;\">\n",
       "      <th></th>\n",
       "      <th>tweetid</th>\n",
       "      <th>sentiment</th>\n",
       "    </tr>\n",
       "  </thead>\n",
       "  <tbody>\n",
       "    <tr>\n",
       "      <th>0</th>\n",
       "      <td>169760</td>\n",
       "      <td>2</td>\n",
       "    </tr>\n",
       "    <tr>\n",
       "      <th>1</th>\n",
       "      <td>35326</td>\n",
       "      <td>1</td>\n",
       "    </tr>\n",
       "  </tbody>\n",
       "</table>\n",
       "</div>"
      ],
      "text/plain": [
       "   tweetid sentiment\n",
       "0   169760         2\n",
       "1    35326         1"
      ]
     },
     "execution_count": 62,
     "metadata": {},
     "output_type": "execute_result"
    }
   ],
   "source": [
    "daf=pd.DataFrame(preds_rf,columns=['index'])\n",
    "\n",
    "daf['sentiment'] = ['-1' if x==0 else '0' if x==1 else '1' if x==2 else \"2\" for x in daf['index']]\n",
    "\n",
    "daf1=daf.drop([\"index\"], axis=1)\n",
    "\n",
    "output=pd.DataFrame({'tweetid':df_test['tweetid']})\n",
    "submission=output.join(daf1)\n",
    "submission.to_csv('submission_rf.csv',index=False)\n",
    "\n",
    "submission.head(2)"
   ]
  },
  {
   "cell_type": "markdown",
   "id": "6d4f6de4",
   "metadata": {},
   "source": [
    "###### 5.3.3 Logging results on comet"
   ]
  },
  {
   "cell_type": "code",
   "execution_count": 63,
   "id": "165fe4e6",
   "metadata": {},
   "outputs": [
    {
     "name": "stderr",
     "output_type": "stream",
     "text": [
      "COMET WARNING: Comet has disabled auto-logging functionality as it has been imported after the following ML modules: xgboost, sklearn. Metrics and hyperparameters can still be logged using comet_ml.log_metrics() and comet_ml.log_parameters()\n",
      "COMET WARNING: As you are running in a Jupyter environment, you will need to call `experiment.end()` when finished to ensure all metrics and code are logged before exiting.\n",
      "COMET INFO: Experiment is live on comet.ml https://www.comet.ml/sixolilej/team-14-classification-sprint/058988b5c390481dadc0da5492aea9cb\n",
      "\n"
     ]
    }
   ],
   "source": [
    "# import comet_ml at the top of your file\n",
    "from comet_ml import Experiment\n",
    "\n",
    "# Create an experiment with your api key\n",
    "experiment = Experiment(\n",
    "    api_key=\"j6t6QCKPHzxLlzGL6upDixMVs\",\n",
    "    project_name=\"team-14-classification-sprint\",\n",
    "    workspace=\"sixolilej\",\n",
    ")"
   ]
  },
  {
   "cell_type": "code",
   "execution_count": 66,
   "id": "9e766739",
   "metadata": {},
   "outputs": [
    {
     "name": "stderr",
     "output_type": "stream",
     "text": [
      "COMET WARNING: Converting metric value ''balanced'' into a string using str(), resulting string might be invalid\n",
      "COMET WARNING: Converting metric value ''RandomForestClassifier'' into a string using str(), resulting string might be invalid\n"
     ]
    }
   ],
   "source": [
    "# rf parameters\n",
    "params_rf = {\"random_state=\": 42,\n",
    "      \"model_type\": \"RandomForestClassifier\",\n",
    "      \"n_estimators:\": 500,\n",
    "       \"class_weight:\": \"balanced\"\n",
    "         }\n",
    "\n",
    "#f1 metric\n",
    "from sklearn.metrics import f1_score\n",
    "f1_rf=round(f1_score(y_test, pred_forest, average='weighted'),2)\n",
    "\n",
    "metrics_rf={\"f1\": f1_rf}\n",
    "\n",
    "experiment.log_metrics(params_rf)\n",
    "experiment.log_metrics(metrics_rf)"
   ]
  },
  {
   "cell_type": "code",
   "execution_count": 67,
   "id": "c9600eb9",
   "metadata": {
    "scrolled": true
   },
   "outputs": [
    {
     "name": "stderr",
     "output_type": "stream",
     "text": [
      "COMET INFO: ---------------------------\n",
      "COMET INFO: Comet.ml Experiment Summary\n",
      "COMET INFO: ---------------------------\n",
      "COMET INFO:   Data:\n",
      "COMET INFO:     display_summary_level : 1\n",
      "COMET INFO:     url                   : https://www.comet.ml/sixolilej/team-14-classification-sprint/058988b5c390481dadc0da5492aea9cb\n",
      "COMET INFO:   Metrics:\n",
      "COMET INFO:     class_weight: : balanced\n",
      "COMET INFO:     f1            : 0.7\n",
      "COMET INFO:     model_type    : RandomForestClassifier\n",
      "COMET INFO:     n_estimators: : 500\n",
      "COMET INFO:     random_state= : 42\n",
      "COMET INFO:   Uploads:\n",
      "COMET INFO:     conda-environment-definition : 1\n",
      "COMET INFO:     conda-info                   : 1\n",
      "COMET INFO:     conda-specification          : 1\n",
      "COMET INFO:     environment details          : 1\n",
      "COMET INFO:     filename                     : 1\n",
      "COMET INFO:     git metadata                 : 1\n",
      "COMET INFO:     git-patch (uncompressed)     : 1 (8.52 MB)\n",
      "COMET INFO:     installed packages           : 1\n",
      "COMET INFO:     notebook                     : 1\n",
      "COMET INFO:     source_code                  : 1\n",
      "COMET INFO: ---------------------------\n",
      "COMET WARNING: Comet has disabled auto-logging functionality as it has been imported after the following ML modules: xgboost, sklearn. Metrics and hyperparameters can still be logged using comet_ml.log_metrics() and comet_ml.log_parameters()\n",
      "COMET INFO: Uploading metrics, params, and assets to Comet before program termination (may take several seconds)\n",
      "COMET INFO: The Python SDK has 3600 seconds to finish before aborting...\n",
      "COMET INFO: Waiting for completion of the file uploads (may take several seconds)\n",
      "COMET INFO: The Python SDK has 10800 seconds to finish before aborting...\n",
      "COMET INFO: All files uploaded, waiting for confirmation they have been all received\n"
     ]
    }
   ],
   "source": [
    "experiment.end()"
   ]
  },
  {
   "cell_type": "markdown",
   "id": "7acac5b7",
   "metadata": {},
   "source": [
    "### 5.4 Naive Bayes\n",
    "\n",
    "- <a href=#four>5.4.1 Model and predictions </a>\n",
    "- <a href=#four>5.4.2 Hyperparameter tuning</a>\n",
    "- <a href=#four>5.4.3 Logging results on comet</a>\n"
   ]
  },
  {
   "cell_type": "markdown",
   "id": "8dc43e57",
   "metadata": {},
   "source": [
    "###### 5.4.1 Model and predictions"
   ]
  },
  {
   "cell_type": "code",
   "execution_count": 69,
   "id": "5db6d614",
   "metadata": {},
   "outputs": [
    {
     "name": "stdout",
     "output_type": "stream",
     "text": [
      "              precision    recall  f1-score   support\n",
      "\n",
      "           0       0.33      0.57      0.42       126\n",
      "           1       0.41      0.50      0.45       224\n",
      "           2       0.82      0.62      0.71       895\n",
      "           3       0.62      0.77      0.69       337\n",
      "\n",
      "    accuracy                           0.63      1582\n",
      "   macro avg       0.55      0.62      0.57      1582\n",
      "weighted avg       0.68      0.63      0.64      1582\n",
      "\n"
     ]
    }
   ],
   "source": [
    "#import the model\n",
    "from sklearn.naive_bayes import MultinomialNB\n",
    "\n",
    "# Define the model \n",
    "ml_nb = MultinomialNB()\n",
    "# Fit the model \n",
    "ml_nb.fit(X_train, y_train)\n",
    "\n",
    "#Generate predictions\n",
    "pred_ml_nb = ml_nb.predict(X_test)\n",
    "\n",
    "# Classification report\n",
    "from sklearn.metrics import classification_report\n",
    "print(classification_report(y_test, pred_ml_nb))\n",
    "\n",
    "import warnings\n",
    "warnings.filterwarnings('ignore')"
   ]
  },
  {
   "cell_type": "markdown",
   "id": "4150f538",
   "metadata": {},
   "source": [
    "#### 5.4.2 Hyperparameter tuning"
   ]
  },
  {
   "cell_type": "code",
   "execution_count": 74,
   "id": "17464ca0",
   "metadata": {
    "scrolled": true
   },
   "outputs": [
    {
     "name": "stdout",
     "output_type": "stream",
     "text": [
      "Fitting 5 folds for each of 7 candidates, totalling 35 fits\n"
     ]
    },
    {
     "data": {
      "text/plain": [
       "{'alpha': 0}"
      ]
     },
     "execution_count": 74,
     "metadata": {},
     "output_type": "execute_result"
    }
   ],
   "source": [
    "from sklearn.model_selection import GridSearchCV\n",
    "para_nb = {  'alpha': (1, 0.1, 0.01, 0.001, 0.0001,0.00001,0)  }  \n",
    "grid_search= GridSearchCV(ml_nb, para_nb,verbose=1, \n",
    "                 scoring='f1_weighted')\n",
    "grid_search.fit(X_train,y_train)\n",
    "\n",
    "grid_search.best_params_"
   ]
  },
  {
   "cell_type": "markdown",
   "id": "31d5207e",
   "metadata": {},
   "source": [
    "_*Model*_"
   ]
  },
  {
   "cell_type": "code",
   "execution_count": 77,
   "id": "e3990540",
   "metadata": {
    "scrolled": true
   },
   "outputs": [
    {
     "name": "stdout",
     "output_type": "stream",
     "text": [
      "              precision    recall  f1-score   support\n",
      "\n",
      "           0       0.35      0.43      0.38       126\n",
      "           1       0.39      0.42      0.41       224\n",
      "           2       0.77      0.68      0.72       895\n",
      "           3       0.61      0.70      0.65       337\n",
      "\n",
      "    accuracy                           0.63      1582\n",
      "   macro avg       0.53      0.56      0.54      1582\n",
      "weighted avg       0.65      0.63      0.63      1582\n",
      "\n"
     ]
    }
   ],
   "source": [
    "# Define the model \n",
    "naive_bayes_better = MultinomialNB(alpha=0)\n",
    "# Fit the model \n",
    "naive_bayes_better.fit(X_train, y_train)\n",
    "\n",
    "# Generate predictions\n",
    "y_pred_nb_better = naive_bayes_better.predict(X_test)\n",
    "\n",
    "# Classification report\n",
    "from sklearn.metrics import classification_report\n",
    "print(classification_report(y_test, y_pred_nb_better))\n",
    "\n",
    "import warnings\n",
    "warnings.filterwarnings('ignore')"
   ]
  },
  {
   "cell_type": "markdown",
   "id": "e6e1f34d",
   "metadata": {},
   "source": [
    "###### 5.4.3 Logging results on comet"
   ]
  },
  {
   "cell_type": "code",
   "execution_count": 78,
   "id": "7ec4c451",
   "metadata": {},
   "outputs": [
    {
     "name": "stderr",
     "output_type": "stream",
     "text": [
      "COMET WARNING: Comet has disabled auto-logging functionality as it has been imported after the following ML modules: xgboost, sklearn. Metrics and hyperparameters can still be logged using comet_ml.log_metrics() and comet_ml.log_parameters()\n",
      "COMET WARNING: As you are running in a Jupyter environment, you will need to call `experiment.end()` when finished to ensure all metrics and code are logged before exiting.\n",
      "COMET INFO: Experiment is live on comet.ml https://www.comet.ml/sixolilej/team-14-classification-sprint/d5561e8327d648f4b6212123dbcd0ea4\n",
      "\n"
     ]
    }
   ],
   "source": [
    "# import comet_ml at the top of your file\n",
    "from comet_ml import Experiment\n",
    "\n",
    "# Create an experiment with your api key\n",
    "experiment = Experiment(\n",
    "    api_key=\"j6t6QCKPHzxLlzGL6upDixMVs\",\n",
    "    project_name=\"team-14-classification-sprint\",\n",
    "    workspace=\"sixolilej\",\n",
    ")"
   ]
  },
  {
   "cell_type": "code",
   "execution_count": 80,
   "id": "7cc38a63",
   "metadata": {},
   "outputs": [
    {
     "name": "stderr",
     "output_type": "stream",
     "text": [
      "COMET WARNING: Converting metric value ''MultinomialNB'' into a string using str(), resulting string might be invalid\n"
     ]
    }
   ],
   "source": [
    "# dt parameters\n",
    "params_nb = {\n",
    "    \"random_state=\": 42,\n",
    "    \"model_type\": \"MultinomialNB\",\n",
    "    'alpha': 0\n",
    "         }\n",
    "\n",
    "#f1 metric\n",
    "from sklearn.metrics import f1_score\n",
    "f1_nb=round(f1_score(y_test, y_pred_nb_better, average='weighted'),2)\n",
    "\n",
    "metrics_nb={\"f1\": f1_nb}\n",
    "\n",
    "experiment.log_metrics(params_nb)\n",
    "experiment.log_metrics(metrics_nb)"
   ]
  },
  {
   "cell_type": "code",
   "execution_count": 81,
   "id": "11ada01d",
   "metadata": {},
   "outputs": [
    {
     "name": "stderr",
     "output_type": "stream",
     "text": [
      "COMET INFO: ---------------------------\n",
      "COMET INFO: Comet.ml Experiment Summary\n",
      "COMET INFO: ---------------------------\n",
      "COMET INFO:   Data:\n",
      "COMET INFO:     display_summary_level : 1\n",
      "COMET INFO:     url                   : https://www.comet.ml/sixolilej/team-14-classification-sprint/d5561e8327d648f4b6212123dbcd0ea4\n",
      "COMET INFO:   Metrics:\n",
      "COMET INFO:     alpha         : 0\n",
      "COMET INFO:     f1            : 0.63\n",
      "COMET INFO:     model_type    : MultinomialNB\n",
      "COMET INFO:     random_state= : 42\n",
      "COMET INFO:   Uploads:\n",
      "COMET INFO:     conda-environment-definition : 1\n",
      "COMET INFO:     conda-info                   : 1\n",
      "COMET INFO:     conda-specification          : 1\n",
      "COMET INFO:     environment details          : 1\n",
      "COMET INFO:     filename                     : 1\n",
      "COMET INFO:     git metadata                 : 1\n",
      "COMET INFO:     git-patch (uncompressed)     : 1 (8.53 MB)\n",
      "COMET INFO:     installed packages           : 1\n",
      "COMET INFO:     notebook                     : 1\n",
      "COMET INFO:     source_code                  : 1\n",
      "COMET INFO: ---------------------------\n",
      "COMET WARNING: Comet has disabled auto-logging functionality as it has been imported after the following ML modules: xgboost, sklearn. Metrics and hyperparameters can still be logged using comet_ml.log_metrics() and comet_ml.log_parameters()\n",
      "COMET INFO: Uploading 1 metrics, params and output messages\n",
      "COMET INFO: Waiting for completion of the file uploads (may take several seconds)\n",
      "COMET INFO: The Python SDK has 10800 seconds to finish before aborting...\n",
      "COMET INFO: Still uploading 3 file(s), remaining 507.32 KB/3.13 MB\n"
     ]
    }
   ],
   "source": [
    "experiment.end()"
   ]
  },
  {
   "cell_type": "markdown",
   "id": "e446cb33",
   "metadata": {},
   "source": [
    "### 5.5 k nearest neighbuors\n",
    "\n",
    "- <a href=#four>5.5.1 Model and predictions </a>\n",
    "- <a href=#four>5.5.2 Hyperparameter tuning</a>\n",
    "- <a href=#four>5.5.3 Logging results on comet</a>"
   ]
  },
  {
   "cell_type": "markdown",
   "id": "4e82feec",
   "metadata": {},
   "source": [
    "###### 5.5.1 Model and predictions"
   ]
  },
  {
   "cell_type": "code",
   "execution_count": 59,
   "id": "858a5b2b",
   "metadata": {},
   "outputs": [
    {
     "name": "stdout",
     "output_type": "stream",
     "text": [
      "              precision    recall  f1-score   support\n",
      "\n",
      "           0       0.24      0.61      0.35       126\n",
      "           1       0.28      0.73      0.40       224\n",
      "           2       0.91      0.27      0.42       895\n",
      "           3       0.58      0.72      0.64       337\n",
      "\n",
      "    accuracy                           0.46      1582\n",
      "   macro avg       0.50      0.58      0.45      1582\n",
      "weighted avg       0.70      0.46      0.46      1582\n",
      "\n"
     ]
    }
   ],
   "source": [
    "from sklearn.neighbors import KNeighborsClassifier\n",
    "\n",
    "n_neighbors = 10 \n",
    "\n",
    "# Define the model\n",
    "knn = KNeighborsClassifier(n_neighbors,  weights='distance')\n",
    "# Fit the model \n",
    "knn.fit(X_train, y_train)\n",
    "\n",
    "# Generate predictions\n",
    "y_pred_knn = knn.predict(X_test)\n",
    "\n",
    "y_pred_knn=pd.DataFrame(y_pred_knn)\n",
    "\n",
    "# Classification report\n",
    "print(classification_report(y_test, y_pred_knn))\n",
    "\n",
    "import warnings\n",
    "warnings.filterwarnings('ignore')"
   ]
  },
  {
   "cell_type": "markdown",
   "id": "d3c565c3",
   "metadata": {},
   "source": [
    "###### 5.5.2 Hyperparameter tuning"
   ]
  },
  {
   "cell_type": "code",
   "execution_count": null,
   "id": "29db6823",
   "metadata": {},
   "outputs": [],
   "source": [
    "ks = [ 1, 2, 3, 4, 5, 6, 7, 8, 9, 10,20]\n",
    "\n",
    "param_grid = {'n_neighbors': ks}\n",
    "\n",
    "grid_knn = GridSearchCV(KNeighborsClassifier(), param_grid, scoring='f1')\n",
    "\n",
    "grid_knn.fit(X, y)\n",
    "grid_knn.best_params_"
   ]
  },
  {
   "cell_type": "markdown",
   "id": "93de5ec6",
   "metadata": {},
   "source": [
    "_*Model*_"
   ]
  },
  {
   "cell_type": "code",
   "execution_count": null,
   "id": "cbbfde6c",
   "metadata": {},
   "outputs": [],
   "source": [
    "#optimum no. of neighbours\n",
    "n_neighbors = 1 \n",
    "\n",
    "#model instance\n",
    "knn_improved = KNeighborsClassifier(n_neighbors,  weights='distance')\n",
    "# Fit the model \n",
    "knn_improved.fit(X_train, y_train)\n",
    "\n",
    "# Generate predictions\n",
    "y_pred_knn_improved = knn_improved.predict(X_test)\n",
    "\n",
    "y_pred_knn_improved=pd.DataFrame(y_pred_knn_improved)\n",
    "\n",
    "# Classification report\n",
    "print(classification_report(y_test, y_pred_knn_improved))\n",
    "\n",
    "import warnings\n",
    "warnings.filterwarnings('ignore')"
   ]
  },
  {
   "cell_type": "markdown",
   "id": "517850d0",
   "metadata": {},
   "source": [
    "###### 5.5.3 Logging results on comet\n"
   ]
  },
  {
   "cell_type": "code",
   "execution_count": 60,
   "id": "e968f04e",
   "metadata": {},
   "outputs": [
    {
     "name": "stderr",
     "output_type": "stream",
     "text": [
      "COMET WARNING: Comet has disabled auto-logging functionality as it has been imported after the following ML modules: sklearn. Metrics and hyperparameters can still be logged using comet_ml.log_metrics() and comet_ml.log_parameters()\n",
      "COMET WARNING: As you are running in a Jupyter environment, you will need to call `experiment.end()` when finished to ensure all metrics and code are logged before exiting.\n",
      "COMET INFO: Experiment is live on comet.ml https://www.comet.ml/sixolilej/team-14-classification-sprint/280bdfb436c74149aafe5bdba2149d83\n",
      "\n"
     ]
    }
   ],
   "source": [
    "# import comet_ml at the top of your file\n",
    "from comet_ml import Experiment\n",
    "\n",
    "# Create an experiment with your api key\n",
    "experiment = Experiment(\n",
    "    api_key=\"j6t6QCKPHzxLlzGL6upDixMVs\",\n",
    "    project_name=\"team-14-classification-sprint\",\n",
    "    workspace=\"sixolilej\",\n",
    ")"
   ]
  },
  {
   "cell_type": "code",
   "execution_count": null,
   "id": "0f265294",
   "metadata": {},
   "outputs": [],
   "source": [
    "# dt parameters\n",
    "params_knn = {\n",
    "    \"random_state=\": 42,\n",
    "    \"model_type\": \"DecisionTreeClassifier\",\n",
    "    'n_neighbors': 1\n",
    "         }\n",
    "\n",
    "#f1 metric\n",
    "from sklearn.metrics import f1_score\n",
    "f1_knn=round(f1_score(y_test, y_pred_knn_improved, average='weighted'),2)\n",
    "\n",
    "metrics_dt={\"f1\": f1_knn}\n",
    "\n",
    "experiment.log_metrics(params_knn)\n",
    "experiment.log_metrics(metrics_knn)"
   ]
  },
  {
   "cell_type": "code",
   "execution_count": 61,
   "id": "c537fb02",
   "metadata": {},
   "outputs": [
    {
     "name": "stderr",
     "output_type": "stream",
     "text": [
      "COMET INFO: ---------------------------\n",
      "COMET INFO: Comet.ml Experiment Summary\n",
      "COMET INFO: ---------------------------\n",
      "COMET INFO:   Data:\n",
      "COMET INFO:     display_summary_level : 1\n",
      "COMET INFO:     url                   : https://www.comet.ml/sixolilej/team-14-classification-sprint/280bdfb436c74149aafe5bdba2149d83\n",
      "COMET INFO:   Uploads:\n",
      "COMET INFO:     conda-environment-definition : 1\n",
      "COMET INFO:     conda-info                   : 1\n",
      "COMET INFO:     conda-specification          : 1\n",
      "COMET INFO:     environment details          : 1\n",
      "COMET INFO:     filename                     : 1\n",
      "COMET INFO:     git metadata                 : 1\n",
      "COMET INFO:     git-patch (uncompressed)     : 1 (8.71 MB)\n",
      "COMET INFO:     installed packages           : 1\n",
      "COMET INFO:     notebook                     : 1\n",
      "COMET INFO:     source_code                  : 1\n",
      "COMET INFO: ---------------------------\n",
      "COMET WARNING: Comet has disabled auto-logging functionality as it has been imported after the following ML modules: sklearn. Metrics and hyperparameters can still be logged using comet_ml.log_metrics() and comet_ml.log_parameters()\n",
      "COMET INFO: Uploading 1 metrics, params and output messages\n",
      "COMET INFO: Waiting for completion of the file uploads (may take several seconds)\n",
      "COMET INFO: The Python SDK has 10800 seconds to finish before aborting...\n",
      "COMET INFO: Still uploading 2 file(s), remaining 51.57 KB/3.12 MB\n"
     ]
    }
   ],
   "source": [
    "experiment.end()"
   ]
  },
  {
   "cell_type": "markdown",
   "id": "301b298f",
   "metadata": {},
   "source": [
    "## 5.6 Support Vector Machines"
   ]
  },
  {
   "cell_type": "markdown",
   "id": "8ca1e22b",
   "metadata": {},
   "source": [
    "- <a href=#four>5.6.1 Model and predictions </a>\n",
    "- <a href=#four>5.6.2 Kaggle submission </a>\n",
    "- <a href=#four>5.6.3 Hyperparameter tuning</a>\n",
    "- <a href=#four>5.6.4 Logging results on comet</a>"
   ]
  },
  {
   "cell_type": "markdown",
   "id": "45f93723",
   "metadata": {},
   "source": [
    "###### 5.6.1 Model and predictions"
   ]
  },
  {
   "cell_type": "code",
   "execution_count": 82,
   "id": "83dd7c5f",
   "metadata": {},
   "outputs": [
    {
     "name": "stdout",
     "output_type": "stream",
     "text": [
      "              precision    recall  f1-score   support\n",
      "\n",
      "           0       0.37      0.51      0.43       126\n",
      "           1       0.40      0.44      0.42       224\n",
      "           2       0.80      0.68      0.73       895\n",
      "           3       0.65      0.79      0.71       337\n",
      "\n",
      "    accuracy                           0.65      1582\n",
      "   macro avg       0.55      0.60      0.57      1582\n",
      "weighted avg       0.68      0.65      0.66      1582\n",
      "\n"
     ]
    }
   ],
   "source": [
    "from sklearn.svm import LinearSVC\n",
    "\n",
    "# Instantiate support vector classification model\n",
    "svc = LinearSVC(multi_class='ovr')\n",
    "\n",
    "# train model\n",
    "svc.fit(X_train,y_train)\n",
    "\n",
    "#Generate predictions\n",
    "y_pred_svc= svc.predict(X_test)\n",
    "\n",
    "# Classification report\n",
    "from sklearn.metrics import classification_report\n",
    "print(classification_report(y_test, y_pred_svc))\n",
    "\n",
    "import warnings\n",
    "warnings.filterwarnings('ignore')"
   ]
  },
  {
   "cell_type": "markdown",
   "id": "a407224f",
   "metadata": {},
   "source": [
    "###### 5.6.2 Kaggle submission"
   ]
  },
  {
   "cell_type": "code",
   "execution_count": 83,
   "id": "206c18f6",
   "metadata": {},
   "outputs": [],
   "source": [
    "preds_svc=svc.predict(x_feat)"
   ]
  },
  {
   "cell_type": "code",
   "execution_count": 84,
   "id": "a4675f1c",
   "metadata": {},
   "outputs": [
    {
     "data": {
      "text/html": [
       "<div>\n",
       "<style scoped>\n",
       "    .dataframe tbody tr th:only-of-type {\n",
       "        vertical-align: middle;\n",
       "    }\n",
       "\n",
       "    .dataframe tbody tr th {\n",
       "        vertical-align: top;\n",
       "    }\n",
       "\n",
       "    .dataframe thead th {\n",
       "        text-align: right;\n",
       "    }\n",
       "</style>\n",
       "<table border=\"1\" class=\"dataframe\">\n",
       "  <thead>\n",
       "    <tr style=\"text-align: right;\">\n",
       "      <th></th>\n",
       "      <th>sentiment</th>\n",
       "    </tr>\n",
       "  </thead>\n",
       "  <tbody>\n",
       "    <tr>\n",
       "      <th>0</th>\n",
       "      <td>2</td>\n",
       "    </tr>\n",
       "    <tr>\n",
       "      <th>1</th>\n",
       "      <td>0</td>\n",
       "    </tr>\n",
       "  </tbody>\n",
       "</table>\n",
       "</div>"
      ],
      "text/plain": [
       "  sentiment\n",
       "0         2\n",
       "1         0"
      ]
     },
     "execution_count": 84,
     "metadata": {},
     "output_type": "execute_result"
    }
   ],
   "source": [
    "daf=pd.DataFrame(preds_svc,columns=['index'])\n",
    "\n",
    "daf['sentiment'] = ['-1' if x==0 else '0' if x==1 else '1' if x==2 else \"2\" for x in daf['index']]\n",
    "\n",
    "daf1=daf.drop([\"index\"], axis=1)\n",
    "\n",
    "daf1.head(2)"
   ]
  },
  {
   "cell_type": "code",
   "execution_count": 86,
   "id": "7e37acf6",
   "metadata": {
    "scrolled": false
   },
   "outputs": [
    {
     "data": {
      "text/html": [
       "<div>\n",
       "<style scoped>\n",
       "    .dataframe tbody tr th:only-of-type {\n",
       "        vertical-align: middle;\n",
       "    }\n",
       "\n",
       "    .dataframe tbody tr th {\n",
       "        vertical-align: top;\n",
       "    }\n",
       "\n",
       "    .dataframe thead th {\n",
       "        text-align: right;\n",
       "    }\n",
       "</style>\n",
       "<table border=\"1\" class=\"dataframe\">\n",
       "  <thead>\n",
       "    <tr style=\"text-align: right;\">\n",
       "      <th></th>\n",
       "      <th>tweetid</th>\n",
       "      <th>sentiment</th>\n",
       "    </tr>\n",
       "  </thead>\n",
       "  <tbody>\n",
       "    <tr>\n",
       "      <th>0</th>\n",
       "      <td>169760</td>\n",
       "      <td>2</td>\n",
       "    </tr>\n",
       "    <tr>\n",
       "      <th>1</th>\n",
       "      <td>35326</td>\n",
       "      <td>0</td>\n",
       "    </tr>\n",
       "  </tbody>\n",
       "</table>\n",
       "</div>"
      ],
      "text/plain": [
       "   tweetid sentiment\n",
       "0   169760         2\n",
       "1    35326         0"
      ]
     },
     "execution_count": 86,
     "metadata": {},
     "output_type": "execute_result"
    }
   ],
   "source": [
    "output=pd.DataFrame({'tweetid':df_test['tweetid']})\n",
    "submission=output.join(daf1)\n",
    "#submission.to_csv('submission_svc.csv',index=False)\n",
    "\n",
    "submission.head(2)"
   ]
  },
  {
   "cell_type": "markdown",
   "id": "017c27cf",
   "metadata": {},
   "source": [
    "###### 5.5.3 Hyperparameter tuning"
   ]
  },
  {
   "cell_type": "code",
   "execution_count": 89,
   "id": "b228c9d2",
   "metadata": {
    "scrolled": true
   },
   "outputs": [
    {
     "name": "stdout",
     "output_type": "stream",
     "text": [
      "Fitting 2 folds for each of 20 candidates, totalling 40 fits\n",
      "[CV] END ......................C=0.1, loss=hinge, penalty=l1; total time=   2.0s\n",
      "[CV] END ......................C=0.1, loss=hinge, penalty=l1; total time=   2.1s\n",
      "[CV] END ......................C=0.1, loss=hinge, penalty=l2; total time=   3.4s\n",
      "[CV] END ......................C=0.1, loss=hinge, penalty=l2; total time=   3.4s\n",
      "[CV] END ..............C=0.1, loss=squared_hinge, penalty=l1; total time=   1.9s\n",
      "[CV] END ..............C=0.1, loss=squared_hinge, penalty=l1; total time=   1.9s\n",
      "[CV] END ..............C=0.1, loss=squared_hinge, penalty=l2; total time=   2.8s\n",
      "[CV] END ..............C=0.1, loss=squared_hinge, penalty=l2; total time=   2.9s\n",
      "[CV] END ........................C=1, loss=hinge, penalty=l1; total time=   1.9s\n",
      "[CV] END ........................C=1, loss=hinge, penalty=l1; total time=   1.8s\n",
      "[CV] END ........................C=1, loss=hinge, penalty=l2; total time=   3.7s\n",
      "[CV] END ........................C=1, loss=hinge, penalty=l2; total time=   4.0s\n",
      "[CV] END ................C=1, loss=squared_hinge, penalty=l1; total time=   1.7s\n",
      "[CV] END ................C=1, loss=squared_hinge, penalty=l1; total time=   1.8s\n",
      "[CV] END ................C=1, loss=squared_hinge, penalty=l2; total time=   3.3s\n",
      "[CV] END ................C=1, loss=squared_hinge, penalty=l2; total time=   3.3s\n",
      "[CV] END .......................C=10, loss=hinge, penalty=l1; total time=   1.7s\n",
      "[CV] END .......................C=10, loss=hinge, penalty=l1; total time=   2.0s\n",
      "[CV] END .......................C=10, loss=hinge, penalty=l2; total time=   4.2s\n",
      "[CV] END .......................C=10, loss=hinge, penalty=l2; total time=   4.3s\n",
      "[CV] END ...............C=10, loss=squared_hinge, penalty=l1; total time=   1.8s\n",
      "[CV] END ...............C=10, loss=squared_hinge, penalty=l1; total time=   1.7s\n",
      "[CV] END ...............C=10, loss=squared_hinge, penalty=l2; total time=   5.2s\n",
      "[CV] END ...............C=10, loss=squared_hinge, penalty=l2; total time=   5.8s\n",
      "[CV] END ........................C=5, loss=hinge, penalty=l1; total time=   1.8s\n",
      "[CV] END ........................C=5, loss=hinge, penalty=l1; total time=   1.9s\n",
      "[CV] END ........................C=5, loss=hinge, penalty=l2; total time=   4.2s\n",
      "[CV] END ........................C=5, loss=hinge, penalty=l2; total time=   4.3s\n",
      "[CV] END ................C=5, loss=squared_hinge, penalty=l1; total time=   2.0s\n",
      "[CV] END ................C=5, loss=squared_hinge, penalty=l1; total time=   1.8s\n",
      "[CV] END ................C=5, loss=squared_hinge, penalty=l2; total time=   4.6s\n",
      "[CV] END ................C=5, loss=squared_hinge, penalty=l2; total time=   5.2s\n",
      "[CV] END ......................C=100, loss=hinge, penalty=l1; total time=   1.9s\n",
      "[CV] END ......................C=100, loss=hinge, penalty=l1; total time=   1.9s\n",
      "[CV] END ......................C=100, loss=hinge, penalty=l2; total time=   5.0s\n",
      "[CV] END ......................C=100, loss=hinge, penalty=l2; total time=   5.3s\n",
      "[CV] END ..............C=100, loss=squared_hinge, penalty=l1; total time=   2.0s\n",
      "[CV] END ..............C=100, loss=squared_hinge, penalty=l1; total time=   1.9s\n",
      "[CV] END ..............C=100, loss=squared_hinge, penalty=l2; total time=   5.4s\n",
      "[CV] END ..............C=100, loss=squared_hinge, penalty=l2; total time=   6.0s\n"
     ]
    },
    {
     "data": {
      "text/plain": [
       "{'C': 10, 'loss': 'squared_hinge', 'penalty': 'l2'}"
      ]
     },
     "execution_count": 89,
     "metadata": {},
     "output_type": "execute_result"
    }
   ],
   "source": [
    "#grid search\n",
    "from sklearn.svm import SVC\n",
    "\n",
    "from sklearn.model_selection import GridSearchCV\n",
    "param_grid = {'C': [0.1,1, 10, 5, 100], 'penalty':['l1', 'l2'], \"loss\":['hinge','squared_hinge']}\n",
    "grid_svc= GridSearchCV(svc,param_grid,refit=True,verbose=2, cv=2)\n",
    "grid_svc.fit(X_train,y_train)\n",
    "grid_svc.best_params_"
   ]
  },
  {
   "cell_type": "markdown",
   "id": "cf86bb33",
   "metadata": {},
   "source": [
    "Model"
   ]
  },
  {
   "cell_type": "code",
   "execution_count": 90,
   "id": "89bc3648",
   "metadata": {},
   "outputs": [
    {
     "name": "stdout",
     "output_type": "stream",
     "text": [
      "              precision    recall  f1-score   support\n",
      "\n",
      "           0       0.34      0.47      0.39       126\n",
      "           1       0.40      0.45      0.42       224\n",
      "           2       0.79      0.68      0.73       895\n",
      "           3       0.63      0.73      0.68       337\n",
      "\n",
      "    accuracy                           0.64      1582\n",
      "   macro avg       0.54      0.58      0.56      1582\n",
      "weighted avg       0.67      0.64      0.65      1582\n",
      "\n"
     ]
    }
   ],
   "source": [
    "from sklearn.svm import LinearSVC\n",
    "\n",
    "# Instantiate support vector classification model\n",
    "svc_tuned= LinearSVC(multi_class='ovr',C=10, loss='squared_hinge', penalty='l2')\n",
    "\n",
    "# train model\n",
    "svc_tuned.fit(X_train,y_train)\n",
    "\n",
    "#Generate predictions\n",
    "y_pred_svc_tuned= svc_tuned.predict(X_test)\n",
    "\n",
    "# Classification report\n",
    "from sklearn.metrics import classification_report\n",
    "print(classification_report(y_test, y_pred_svc_tuned))\n",
    "\n",
    "import warnings\n",
    "warnings.filterwarnings('ignore')"
   ]
  },
  {
   "cell_type": "markdown",
   "id": "0e3422ae",
   "metadata": {},
   "source": [
    "###### 5.6.4 Logging results on comet"
   ]
  },
  {
   "cell_type": "code",
   "execution_count": 91,
   "id": "7aa046ac",
   "metadata": {},
   "outputs": [
    {
     "name": "stderr",
     "output_type": "stream",
     "text": [
      "COMET WARNING: Comet has disabled auto-logging functionality as it has been imported after the following ML modules: xgboost, sklearn. Metrics and hyperparameters can still be logged using comet_ml.log_metrics() and comet_ml.log_parameters()\n",
      "COMET WARNING: As you are running in a Jupyter environment, you will need to call `experiment.end()` when finished to ensure all metrics and code are logged before exiting.\n",
      "COMET INFO: Experiment is live on comet.ml https://www.comet.ml/sixolilej/team-14-classification-sprint/c2779a0b7feb4b6abf284a266c2943d8\n",
      "\n"
     ]
    }
   ],
   "source": [
    "# import comet_ml at the top of your file\n",
    "from comet_ml import Experiment\n",
    "\n",
    "# Create an experiment with your api key\n",
    "experiment = Experiment(\n",
    "    api_key=\"j6t6QCKPHzxLlzGL6upDixMVs\",\n",
    "    project_name=\"team-14-classification-sprint\",\n",
    "    workspace=\"sixolilej\",\n",
    ")"
   ]
  },
  {
   "cell_type": "code",
   "execution_count": 92,
   "id": "e82258b4",
   "metadata": {},
   "outputs": [
    {
     "name": "stderr",
     "output_type": "stream",
     "text": [
      "COMET WARNING: Converting metric value ''squared_hinge'' into a string using str(), resulting string might be invalid\n",
      "COMET WARNING: Converting metric value ''LogisticRegression'' into a string using str(), resulting string might be invalid\n",
      "COMET WARNING: Converting metric value ''l2'' into a string using str(), resulting string might be invalid\n",
      "COMET WARNING: Converting metric value ''standard scale'' into a string using str(), resulting string might be invalid\n"
     ]
    }
   ],
   "source": [
    "# lr parameters\n",
    "params_svc = {\"random_state=\": 42,\n",
    "      \"model_type\": \"LogisticRegression\",\n",
    "      \"scaler:\": \"standard scale\",\n",
    "      'C': 10, \n",
    "      'loss': 'squared_hinge', \n",
    "      'penalty': 'l2'\n",
    "         }\n",
    "\n",
    "#f1 metric\n",
    "from sklearn.metrics import f1_score\n",
    "f1_svc=round(f1_score(y_test, y_pred_svc_tuned, average='weighted'),2)\n",
    "\n",
    "metrics_svc={\"f1\": f1_svc}\n",
    "\n",
    "experiment.log_metrics(params_svc)\n",
    "experiment.log_metrics(metrics_svc)"
   ]
  },
  {
   "cell_type": "code",
   "execution_count": 93,
   "id": "d5cde895",
   "metadata": {
    "scrolled": true
   },
   "outputs": [
    {
     "name": "stderr",
     "output_type": "stream",
     "text": [
      "COMET INFO: ---------------------------\n",
      "COMET INFO: Comet.ml Experiment Summary\n",
      "COMET INFO: ---------------------------\n",
      "COMET INFO:   Data:\n",
      "COMET INFO:     display_summary_level : 1\n",
      "COMET INFO:     url                   : https://www.comet.ml/sixolilej/team-14-classification-sprint/c2779a0b7feb4b6abf284a266c2943d8\n",
      "COMET INFO:   Metrics:\n",
      "COMET INFO:     C             : 10\n",
      "COMET INFO:     f1            : 0.65\n",
      "COMET INFO:     loss          : squared_hinge\n",
      "COMET INFO:     model_type    : LogisticRegression\n",
      "COMET INFO:     penalty       : l2\n",
      "COMET INFO:     random_state= : 42\n",
      "COMET INFO:     scaler:       : standard scale\n",
      "COMET INFO:   Uploads:\n",
      "COMET INFO:     conda-environment-definition : 1\n",
      "COMET INFO:     conda-info                   : 1\n",
      "COMET INFO:     conda-specification          : 1\n",
      "COMET INFO:     environment details          : 1\n",
      "COMET INFO:     filename                     : 1\n",
      "COMET INFO:     git metadata                 : 1\n",
      "COMET INFO:     git-patch (uncompressed)     : 1 (8.56 MB)\n",
      "COMET INFO:     installed packages           : 1\n",
      "COMET INFO:     notebook                     : 1\n",
      "COMET INFO:     source_code                  : 1\n",
      "COMET INFO: ---------------------------\n",
      "COMET WARNING: Comet has disabled auto-logging functionality as it has been imported after the following ML modules: xgboost, sklearn. Metrics and hyperparameters can still be logged using comet_ml.log_metrics() and comet_ml.log_parameters()\n",
      "COMET INFO: Uploading 1 metrics, params and output messages\n",
      "COMET INFO: Waiting for completion of the file uploads (may take several seconds)\n",
      "COMET INFO: The Python SDK has 10800 seconds to finish before aborting...\n",
      "COMET INFO: Still uploading 5 file(s), remaining 1.37 MB/3.14 MB\n"
     ]
    }
   ],
   "source": [
    "experiment.end()"
   ]
  },
  {
   "cell_type": "markdown",
   "id": "d345646a",
   "metadata": {},
   "source": [
    "## 5.7 Neural Networks \n",
    "\n",
    "- <a href=#four>5.7.1 Import libraries </a>\n",
    "- <a href=#four>5.7.2 Model building </a>\n",
    "- <a href=#four>5.7.3 Hyperparameter tuning</a>\n",
    "- <a href=#four>5.7.4 Kaggle submission</a>\n",
    "- <a href=#four>5.7.5 Logging results on comet</a>"
   ]
  },
  {
   "cell_type": "code",
   "execution_count": 38,
   "id": "eaf8e543",
   "metadata": {},
   "outputs": [
    {
     "name": "stderr",
     "output_type": "stream",
     "text": [
      "COMET WARNING: Comet has disabled auto-logging functionality as it has been imported after the following ML modules: sklearn. Metrics and hyperparameters can still be logged using comet_ml.log_metrics() and comet_ml.log_parameters()\n",
      "COMET WARNING: As you are running in a Jupyter environment, you will need to call `experiment.end()` when finished to ensure all metrics and code are logged before exiting.\n",
      "COMET INFO: Experiment is live on comet.ml https://www.comet.ml/sixolilej/team-14-classification-sprint/4420d3b9d69e4f86969f0b77435105c3\n",
      "\n"
     ]
    }
   ],
   "source": [
    "# import comet_ml at the top of your file\n",
    "from comet_ml import Experiment\n",
    "\n",
    "# Create an experiment with your api key\n",
    "experiment = Experiment(\n",
    "    api_key=\"j6t6QCKPHzxLlzGL6upDixMVs\",\n",
    "    project_name=\"team-14-classification-sprint\",\n",
    "    workspace=\"sixolilej\",\n",
    ")"
   ]
  },
  {
   "cell_type": "markdown",
   "id": "e04b2bed",
   "metadata": {},
   "source": [
    "###### 5.7.1 Import libraries "
   ]
  },
  {
   "cell_type": "code",
   "execution_count": 40,
   "id": "ec24bf51",
   "metadata": {},
   "outputs": [],
   "source": [
    " #import important packages\n",
    "import tensorflow as tf\n",
    "from tensorflow.keras.layers import Dense\n",
    "from tensorflow.keras.models import Sequential\n",
    "from tensorflow.keras.utils import to_categorical\n",
    "import tensorflow as tfd\n",
    "from keras.wrappers.scikit_learn import KerasClassifier\n",
    "from sklearn.model_selection import GridSearchCV\n",
    "from tensorflow.keras.optimizers import Adam, SGD, RMSprop, Adadelta, Adagrad, Adamax, Nadam, Ftrl"
   ]
  },
  {
   "cell_type": "markdown",
   "id": "5df41e7a",
   "metadata": {},
   "source": [
    "###### 5.8.2 Model building and metrics"
   ]
  },
  {
   "cell_type": "code",
   "execution_count": 43,
   "id": "25b5c272",
   "metadata": {},
   "outputs": [
    {
     "data": {
      "text/plain": [
       "(30540, 4298)"
      ]
     },
     "execution_count": 43,
     "metadata": {},
     "output_type": "execute_result"
    }
   ],
   "source": [
    "X_train.shape"
   ]
  },
  {
   "cell_type": "code",
   "execution_count": 44,
   "id": "7e72062f",
   "metadata": {},
   "outputs": [],
   "source": [
    "# create model instance\n",
    "model_nn = Sequential([\n",
    "  Dense(4298, activation='relu',input_shape=(4298,)),\n",
    "  Dense(3000, activation='relu'),\n",
    "  Dense(1500, activation='relu'),\n",
    "  Dense(500, activation='relu'),\n",
    "  Dense(4, activation='softmax'),\n",
    "])\n",
    "\n",
    "model_nn.compile(loss='sparse_categorical_crossentropy', optimizer='adam', \n",
    "                 metrics=['sparse_categorical_accuracy'])"
   ]
  },
  {
   "cell_type": "code",
   "execution_count": 45,
   "id": "e1d98dc2",
   "metadata": {},
   "outputs": [
    {
     "ename": "MemoryError",
     "evalue": "Unable to allocate 801. MiB for an array with shape (24432, 4298) and data type float64",
     "output_type": "error",
     "traceback": [
      "\u001b[1;31m---------------------------------------------------------------------------\u001b[0m",
      "\u001b[1;31mMemoryError\u001b[0m                               Traceback (most recent call last)",
      "\u001b[1;32m<ipython-input-45-6c03e0bf7f7c>\u001b[0m in \u001b[0;36m<module>\u001b[1;34m\u001b[0m\n\u001b[0;32m      1\u001b[0m \u001b[1;31m# train model\u001b[0m\u001b[1;33m\u001b[0m\u001b[1;33m\u001b[0m\u001b[1;33m\u001b[0m\u001b[0m\n\u001b[1;32m----> 2\u001b[1;33m \u001b[0mhistory\u001b[0m \u001b[1;33m=\u001b[0m \u001b[0mmodel_nn\u001b[0m\u001b[1;33m.\u001b[0m\u001b[0mfit\u001b[0m\u001b[1;33m(\u001b[0m\u001b[0mX_train\u001b[0m\u001b[1;33m,\u001b[0m \u001b[0my_train\u001b[0m\u001b[1;33m,\u001b[0m \u001b[0mbatch_size\u001b[0m\u001b[1;33m=\u001b[0m\u001b[1;36m1000\u001b[0m\u001b[1;33m,\u001b[0m \u001b[0mepochs\u001b[0m\u001b[1;33m=\u001b[0m\u001b[1;36m20\u001b[0m\u001b[1;33m,\u001b[0m \u001b[0mverbose\u001b[0m\u001b[1;33m=\u001b[0m\u001b[1;32mTrue\u001b[0m\u001b[1;33m,\u001b[0m \u001b[0mvalidation_split\u001b[0m\u001b[1;33m=\u001b[0m\u001b[1;36m0.20\u001b[0m\u001b[1;33m)\u001b[0m\u001b[1;33m\u001b[0m\u001b[1;33m\u001b[0m\u001b[0m\n\u001b[0m",
      "\u001b[1;32m~\\anaconda3\\lib\\site-packages\\keras\\utils\\traceback_utils.py\u001b[0m in \u001b[0;36merror_handler\u001b[1;34m(*args, **kwargs)\u001b[0m\n\u001b[0;32m     65\u001b[0m     \u001b[1;32mexcept\u001b[0m \u001b[0mException\u001b[0m \u001b[1;32mas\u001b[0m \u001b[0me\u001b[0m\u001b[1;33m:\u001b[0m  \u001b[1;31m# pylint: disable=broad-except\u001b[0m\u001b[1;33m\u001b[0m\u001b[1;33m\u001b[0m\u001b[0m\n\u001b[0;32m     66\u001b[0m       \u001b[0mfiltered_tb\u001b[0m \u001b[1;33m=\u001b[0m \u001b[0m_process_traceback_frames\u001b[0m\u001b[1;33m(\u001b[0m\u001b[0me\u001b[0m\u001b[1;33m.\u001b[0m\u001b[0m__traceback__\u001b[0m\u001b[1;33m)\u001b[0m\u001b[1;33m\u001b[0m\u001b[1;33m\u001b[0m\u001b[0m\n\u001b[1;32m---> 67\u001b[1;33m       \u001b[1;32mraise\u001b[0m \u001b[0me\u001b[0m\u001b[1;33m.\u001b[0m\u001b[0mwith_traceback\u001b[0m\u001b[1;33m(\u001b[0m\u001b[0mfiltered_tb\u001b[0m\u001b[1;33m)\u001b[0m \u001b[1;32mfrom\u001b[0m \u001b[1;32mNone\u001b[0m\u001b[1;33m\u001b[0m\u001b[1;33m\u001b[0m\u001b[0m\n\u001b[0m\u001b[0;32m     68\u001b[0m     \u001b[1;32mfinally\u001b[0m\u001b[1;33m:\u001b[0m\u001b[1;33m\u001b[0m\u001b[1;33m\u001b[0m\u001b[0m\n\u001b[0;32m     69\u001b[0m       \u001b[1;32mdel\u001b[0m \u001b[0mfiltered_tb\u001b[0m\u001b[1;33m\u001b[0m\u001b[1;33m\u001b[0m\u001b[0m\n",
      "\u001b[1;32m~\\anaconda3\\lib\\site-packages\\tensorflow\\python\\framework\\constant_op.py\u001b[0m in \u001b[0;36mconvert_to_eager_tensor\u001b[1;34m(value, ctx, dtype)\u001b[0m\n\u001b[0;32m    100\u001b[0m       \u001b[0mdtype\u001b[0m \u001b[1;33m=\u001b[0m \u001b[0mdtypes\u001b[0m\u001b[1;33m.\u001b[0m\u001b[0mas_dtype\u001b[0m\u001b[1;33m(\u001b[0m\u001b[0mdtype\u001b[0m\u001b[1;33m)\u001b[0m\u001b[1;33m.\u001b[0m\u001b[0mas_datatype_enum\u001b[0m\u001b[1;33m\u001b[0m\u001b[1;33m\u001b[0m\u001b[0m\n\u001b[0;32m    101\u001b[0m   \u001b[0mctx\u001b[0m\u001b[1;33m.\u001b[0m\u001b[0mensure_initialized\u001b[0m\u001b[1;33m(\u001b[0m\u001b[1;33m)\u001b[0m\u001b[1;33m\u001b[0m\u001b[1;33m\u001b[0m\u001b[0m\n\u001b[1;32m--> 102\u001b[1;33m   \u001b[1;32mreturn\u001b[0m \u001b[0mops\u001b[0m\u001b[1;33m.\u001b[0m\u001b[0mEagerTensor\u001b[0m\u001b[1;33m(\u001b[0m\u001b[0mvalue\u001b[0m\u001b[1;33m,\u001b[0m \u001b[0mctx\u001b[0m\u001b[1;33m.\u001b[0m\u001b[0mdevice_name\u001b[0m\u001b[1;33m,\u001b[0m \u001b[0mdtype\u001b[0m\u001b[1;33m)\u001b[0m\u001b[1;33m\u001b[0m\u001b[1;33m\u001b[0m\u001b[0m\n\u001b[0m\u001b[0;32m    103\u001b[0m \u001b[1;33m\u001b[0m\u001b[0m\n\u001b[0;32m    104\u001b[0m \u001b[1;33m\u001b[0m\u001b[0m\n",
      "\u001b[1;31mMemoryError\u001b[0m: Unable to allocate 801. MiB for an array with shape (24432, 4298) and data type float64"
     ]
    }
   ],
   "source": [
    "# train model\n",
    "history = model_nn.fit(X_train, y_train, batch_size=1000, epochs=20, verbose=True, validation_split=0.20)"
   ]
  },
  {
   "cell_type": "code",
   "execution_count": 52,
   "id": "5ff679a2",
   "metadata": {},
   "outputs": [
    {
     "data": {
      "text/plain": [
       "0.7155499458312988"
      ]
     },
     "execution_count": 52,
     "metadata": {},
     "output_type": "execute_result"
    }
   ],
   "source": [
    "# Evaluating the model\n",
    "loss, accuracy  = model_nn.evaluate(X_test, y_test, verbose=False)\n",
    "\n",
    "accuracy"
   ]
  },
  {
   "cell_type": "code",
   "execution_count": 53,
   "id": "7fe241fa",
   "metadata": {},
   "outputs": [
    {
     "data": {
      "text/plain": [
       "2.308239221572876"
      ]
     },
     "execution_count": 53,
     "metadata": {},
     "output_type": "execute_result"
    }
   ],
   "source": [
    "loss"
   ]
  },
  {
   "cell_type": "markdown",
   "id": "d18bf821",
   "metadata": {},
   "source": [
    "###### 5.8.3 Hyperparameter tuning"
   ]
  },
  {
   "cell_type": "code",
   "execution_count": 42,
   "id": "f6a8c6c9",
   "metadata": {},
   "outputs": [
    {
     "name": "stderr",
     "output_type": "stream",
     "text": [
      "<ipython-input-42-054a20d19e31>:2: DeprecationWarning: KerasClassifier is deprecated, use Sci-Keras (https://github.com/adriangb/scikeras) instead. See https://www.adriangb.com/scikeras/stable/migration.html for help migrating.\n",
      "  model=KerasClassifier(build_fn=build_clf)\n"
     ]
    }
   ],
   "source": [
    "#model instance\n",
    "model=KerasClassifier(build_fn=build_clf)"
   ]
  },
  {
   "cell_type": "markdown",
   "id": "9097a420",
   "metadata": {},
   "source": [
    "###### 5.8.4 Kaggle submission"
   ]
  },
  {
   "cell_type": "code",
   "execution_count": 63,
   "id": "7f52dc36",
   "metadata": {},
   "outputs": [
    {
     "data": {
      "text/plain": [
       "(10546,)"
      ]
     },
     "execution_count": 63,
     "metadata": {},
     "output_type": "execute_result"
    }
   ],
   "source": [
    "#Generate predictions\n",
    "preds_nn=model_nn.predict(x_feat)\n",
    "\n",
    "#preds_nn=np.argmax(preds_nn, axis=1)\n",
    "\n",
    "preds_nn.shape"
   ]
  },
  {
   "cell_type": "code",
   "execution_count": 64,
   "id": "a0bc903e",
   "metadata": {},
   "outputs": [
    {
     "data": {
      "text/html": [
       "<div>\n",
       "<style scoped>\n",
       "    .dataframe tbody tr th:only-of-type {\n",
       "        vertical-align: middle;\n",
       "    }\n",
       "\n",
       "    .dataframe tbody tr th {\n",
       "        vertical-align: top;\n",
       "    }\n",
       "\n",
       "    .dataframe thead th {\n",
       "        text-align: right;\n",
       "    }\n",
       "</style>\n",
       "<table border=\"1\" class=\"dataframe\">\n",
       "  <thead>\n",
       "    <tr style=\"text-align: right;\">\n",
       "      <th></th>\n",
       "      <th>tweetid</th>\n",
       "      <th>sentiment</th>\n",
       "    </tr>\n",
       "  </thead>\n",
       "  <tbody>\n",
       "    <tr>\n",
       "      <th>0</th>\n",
       "      <td>169760</td>\n",
       "      <td>2</td>\n",
       "    </tr>\n",
       "    <tr>\n",
       "      <th>1</th>\n",
       "      <td>35326</td>\n",
       "      <td>1</td>\n",
       "    </tr>\n",
       "  </tbody>\n",
       "</table>\n",
       "</div>"
      ],
      "text/plain": [
       "   tweetid sentiment\n",
       "0   169760         2\n",
       "1    35326         1"
      ]
     },
     "execution_count": 64,
     "metadata": {},
     "output_type": "execute_result"
    }
   ],
   "source": [
    "daf=pd.DataFrame(preds_nn,columns=['index'])\n",
    "\n",
    "daf['sentiment'] = ['-1' if x==0 else '0' if x==1 else '1' if x==2 else \"2\" for x in daf['index']]\n",
    "\n",
    "daf1=daf.drop([\"index\"], axis=1)\n",
    "\n",
    "output=pd.DataFrame({'tweetid':df_test['tweetid']})\n",
    "submission=output.join(daf1)\n",
    "submission.to_csv('submission_nn.csv',index=False)\n",
    "\n",
    "submission.head(2)"
   ]
  },
  {
   "cell_type": "code",
   "execution_count": 65,
   "id": "46c33ec8",
   "metadata": {},
   "outputs": [
    {
     "name": "stderr",
     "output_type": "stream",
     "text": [
      "COMET INFO: ---------------------------\n",
      "COMET INFO: Comet.ml Experiment Summary\n",
      "COMET INFO: ---------------------------\n",
      "COMET INFO:   Data:\n",
      "COMET INFO:     display_summary_level : 1\n",
      "COMET INFO:     url                   : https://www.comet.ml/sixolilej/team-14-classification-sprint/4420d3b9d69e4f86969f0b77435105c3\n",
      "COMET INFO:   Metrics [count] (min, max):\n",
      "COMET INFO:     batch_loss [789]                                : (0.00840353686362505, 1.516900897026062)\n",
      "COMET INFO:     batch_sparse_categorical_accuracy [789]         : (0.03125, 0.9980000257492065)\n",
      "COMET INFO:     epoch_duration [45]                             : (2.1089999999999236, 94.46900000000005)\n",
      "COMET INFO:     loss [45]                                       : (0.02106603980064392, 1.3596925735473633)\n",
      "COMET INFO:     sparse_categorical_accuracy [45]                : (0.3206041157245636, 0.9920186400413513)\n",
      "COMET INFO:     val_loss [32]                                   : (0.10560645908117294, 1.6952276229858398)\n",
      "COMET INFO:     val_sparse_categorical_accuracy [32]            : (0.0, 0.9708579182624817)\n",
      "COMET INFO:     validate_batch_loss [65]                        : (0.015776460990309715, 1.6876107454299927)\n",
      "COMET INFO:     validate_batch_sparse_categorical_accuracy [65] : (0.0, 1.0)\n",
      "COMET INFO:   Others:\n",
      "COMET INFO:     trainable_params : 36628106\n",
      "COMET INFO:   Parameters:\n",
      "COMET INFO:     Adam_amsgrad       : False\n",
      "COMET INFO:     Adam_beta_1        : 0.9\n",
      "COMET INFO:     Adam_beta_2        : 0.999\n",
      "COMET INFO:     Adam_decay         : 0.0\n",
      "COMET INFO:     Adam_epsilon       : 1e-07\n",
      "COMET INFO:     Adam_learning_rate : 0.001\n",
      "COMET INFO:     Adam_name          : Adam\n",
      "COMET INFO:     Optimizer          : Adam\n",
      "COMET INFO:     epochs             : 1\n",
      "COMET INFO:     steps              : 478\n",
      "COMET INFO:   Uploads:\n",
      "COMET INFO:     conda-environment-definition : 1\n",
      "COMET INFO:     conda-info                   : 1\n",
      "COMET INFO:     conda-specification          : 1\n",
      "COMET INFO:     environment details          : 1\n",
      "COMET INFO:     filename                     : 1\n",
      "COMET INFO:     git metadata                 : 1\n",
      "COMET INFO:     git-patch (uncompressed)     : 1 (10.16 MB)\n",
      "COMET INFO:     installed packages           : 1\n",
      "COMET INFO:     model graph                  : 1\n",
      "COMET INFO:     notebook                     : 1\n",
      "COMET INFO:     source_code                  : 1\n",
      "COMET INFO: ---------------------------\n",
      "COMET WARNING: Comet has disabled auto-logging functionality as it has been imported after the following ML modules: sklearn. Metrics and hyperparameters can still be logged using comet_ml.log_metrics() and comet_ml.log_parameters()\n",
      "COMET INFO: Uploading metrics, params, and assets to Comet before program termination (may take several seconds)\n",
      "COMET INFO: The Python SDK has 3600 seconds to finish before aborting...\n",
      "COMET INFO: Waiting for completion of the file uploads (may take several seconds)\n",
      "COMET INFO: The Python SDK has 10800 seconds to finish before aborting...\n",
      "COMET INFO: All files uploaded, waiting for confirmation they have been all received\n"
     ]
    }
   ],
   "source": [
    "experiment.end()"
   ]
  },
  {
   "cell_type": "markdown",
   "id": "c909bc7c",
   "metadata": {},
   "source": [
    "## 6. Model Performance\n"
   ]
  },
  {
   "cell_type": "markdown",
   "id": "3f112dc6",
   "metadata": {},
   "source": [
    "Of the fitted 8 models to the data provided.Performance has been evaluated using the Weighted F1-score.  A F1-score  is a mean of a classes performance, based on two factors i.e. precision and recall.\n",
    "\n",
    "Precision is the quality of a *positive predictions* made by the model. It refers to the number of true positives divided by the total number of positive predictions.\n",
    "\n",
    "Recall is the measure of our model *correctly identifying true positives*. Recall is calculated as the number of true positives divided by the total number of true positives and false negatives."
   ]
  },
  {
   "cell_type": "markdown",
   "id": "cdd9c69b",
   "metadata": {},
   "source": [
    "| Model | Weighted F1-score | Weighted F1-score on unseen test data |\n",
    "|:--- |:--- |:--- |\n",
    "|1. Logistic Regression | |\n",
    " |2. Decision Tree  | |\n",
    " |3. Random Forests| |\n",
    " |4. Naive Bayes | |\n",
    " |5. k nearest neighbuors | |\n",
    " |6. Support Vector Machines| |\n",
    " |7. xgboost | |\n",
    " |8. Neural Networks | |\n"
   ]
  },
  {
   "cell_type": "markdown",
   "id": "a8d8d985",
   "metadata": {},
   "source": [
    "The model that has the best performance accuracy is the Neural Network model. It perfromed the best"
   ]
  },
  {
   "cell_type": "markdown",
   "id": "1e7a2ef3",
   "metadata": {},
   "source": [
    "## 7. Model Explanations\n",
    "\n",
    "This is a discussion how the best performing model works in a simple way so that both technical and non-technical stakeholders can grasp the intuition behind the model's inner workings."
   ]
  },
  {
   "attachments": {
    "image.png": {
     "image/png": "[encoded data removed]"
    }
   },
   "cell_type": "markdown",
   "id": "d6a9b5e1",
   "metadata": {},
   "source": [
    "A neural network tries to simulate the human brain. It has many layers of \"neurons\" just like the neurons in our brain.The first layer of neurons will receive inputs like images, video, sound, text, etc. In our dataset the neurons are a vector of words from the tweets that are most significant in prediciting a class.\n",
    "\n",
    "\n",
    "![image.png](attachment:image.png)\n",
    "\n",
    "\n",
    "The input layer receives various forms of information, this is the data that the network tries to classify. From the input unit, the data goes through one or more hidden units. The output layer is responsible for producing the final result.\n",
    "\n",
    "\n",
    "\n",
    "The neural network uses a series of algorithms that try to recognize underlying relationships within the neurons and the classes so as to make a class prediction. When we as humans touch something hot, the neurons in our body transmit signal to the brain. The brain then produces impulses to withdraw from the hot area. We are trained based on the past experiences to start taking better decisions.Using the same analogy, when we send an input to a neural network then based on the learning(previous experiences) it produces an output."
   ]
  }
 ],
 "metadata": {
  "kernelspec": {
   "display_name": "Python 3",
   "language": "python",
   "name": "python3"
  },
  "language_info": {
   "codemirror_mode": {
    "name": "ipython",
    "version": 3
   },
   "file_extension": ".py",
   "mimetype": "text/x-python",
   "name": "python",
   "nbconvert_exporter": "python",
   "pygments_lexer": "ipython3",
   "version": "3.8.8"
  }
 },
 "nbformat": 4,
 "nbformat_minor": 5
}
