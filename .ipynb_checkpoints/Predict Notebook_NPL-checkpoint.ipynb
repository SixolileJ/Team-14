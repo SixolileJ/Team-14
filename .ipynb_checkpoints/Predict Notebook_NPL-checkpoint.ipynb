{
 "cells": [
  {
   "cell_type": "code",
   "execution_count": 1,
   "id": "e212528a",
   "metadata": {},
   "outputs": [],
   "source": [
    "# Libraries for data loading, data manipulation and data visulisation\n",
    "\n",
    "import numpy as np\n",
    "import pandas as pd\n",
    "import matplotlib.pyplot as plt\n",
    "import seaborn as sns\n",
    "%matplotlib inline\n",
    "\n",
    "import warnings\n",
    "warnings.filterwarnings('ignore')"
   ]
  },
  {
   "cell_type": "code",
   "execution_count": 2,
   "id": "e5ee4cf2",
   "metadata": {
    "scrolled": true
   },
   "outputs": [
    {
     "data": {
      "text/html": [
       "<div>\n",
       "<style scoped>\n",
       "    .dataframe tbody tr th:only-of-type {\n",
       "        vertical-align: middle;\n",
       "    }\n",
       "\n",
       "    .dataframe tbody tr th {\n",
       "        vertical-align: top;\n",
       "    }\n",
       "\n",
       "    .dataframe thead th {\n",
       "        text-align: right;\n",
       "    }\n",
       "</style>\n",
       "<table border=\"1\" class=\"dataframe\">\n",
       "  <thead>\n",
       "    <tr style=\"text-align: right;\">\n",
       "      <th></th>\n",
       "      <th>sentiment</th>\n",
       "      <th>message</th>\n",
       "      <th>tweetid</th>\n",
       "    </tr>\n",
       "  </thead>\n",
       "  <tbody>\n",
       "    <tr>\n",
       "      <th>0</th>\n",
       "      <td>1</td>\n",
       "      <td>PolySciMajor EPA chief doesn't think carbon dioxide is main cause of global warming and.. wait, what!? https://t.co/yeLvcEFXkC via @mashable</td>\n",
       "      <td>625221</td>\n",
       "    </tr>\n",
       "    <tr>\n",
       "      <th>1</th>\n",
       "      <td>1</td>\n",
       "      <td>It's not like we lack evidence of anthropogenic global warming</td>\n",
       "      <td>126103</td>\n",
       "    </tr>\n",
       "    <tr>\n",
       "      <th>2</th>\n",
       "      <td>2</td>\n",
       "      <td>RT @RawStory: Researchers say we have three years to act on climate change before it’s too late https://t.co/WdT0KdUr2f https://t.co/Z0ANPT…</td>\n",
       "      <td>698562</td>\n",
       "    </tr>\n",
       "    <tr>\n",
       "      <th>3</th>\n",
       "      <td>1</td>\n",
       "      <td>#TodayinMaker# WIRED : 2016 was a pivotal year in the war on climate change https://t.co/44wOTxTLcD</td>\n",
       "      <td>573736</td>\n",
       "    </tr>\n",
       "    <tr>\n",
       "      <th>4</th>\n",
       "      <td>1</td>\n",
       "      <td>RT @SoyNovioDeTodas: It's 2016, and a racist, sexist, climate change denying bigot is leading in the polls. #ElectionNight</td>\n",
       "      <td>466954</td>\n",
       "    </tr>\n",
       "  </tbody>\n",
       "</table>\n",
       "</div>"
      ],
      "text/plain": [
       "   sentiment  \\\n",
       "0          1   \n",
       "1          1   \n",
       "2          2   \n",
       "3          1   \n",
       "4          1   \n",
       "\n",
       "                                                                                                                                        message  \\\n",
       "0  PolySciMajor EPA chief doesn't think carbon dioxide is main cause of global warming and.. wait, what!? https://t.co/yeLvcEFXkC via @mashable   \n",
       "1                                                                                It's not like we lack evidence of anthropogenic global warming   \n",
       "2  RT @RawStory: Researchers say we have three years to act on climate change before it’s too late https://t.co/WdT0KdUr2f https://t.co/Z0ANPT…   \n",
       "3                                           #TodayinMaker# WIRED : 2016 was a pivotal year in the war on climate change https://t.co/44wOTxTLcD   \n",
       "4                    RT @SoyNovioDeTodas: It's 2016, and a racist, sexist, climate change denying bigot is leading in the polls. #ElectionNight   \n",
       "\n",
       "   tweetid  \n",
       "0   625221  \n",
       "1   126103  \n",
       "2   698562  \n",
       "3   573736  \n",
       "4   466954  "
      ]
     },
     "execution_count": 2,
     "metadata": {},
     "output_type": "execute_result"
    }
   ],
   "source": [
    "pd.set_option('display.max_colwidth', None)\n",
    "df = pd.read_csv('train.csv')\n",
    "df.head()"
   ]
  },
  {
   "cell_type": "code",
   "execution_count": 3,
   "id": "b5a51f4a",
   "metadata": {
    "scrolled": false
   },
   "outputs": [
    {
     "data": {
      "text/plain": [
       "(15819, 3)"
      ]
     },
     "execution_count": 3,
     "metadata": {},
     "output_type": "execute_result"
    }
   ],
   "source": [
    "df.shape"
   ]
  },
  {
   "cell_type": "code",
   "execution_count": 4,
   "id": "cba1989f",
   "metadata": {
    "scrolled": true
   },
   "outputs": [
    {
     "name": "stderr",
     "output_type": "stream",
     "text": [
      "[nltk_data] Downloading package punkt to\n",
      "[nltk_data]     C:\\Users\\u1121\\AppData\\Roaming\\nltk_data...\n",
      "[nltk_data]   Package punkt is already up-to-date!\n",
      "[nltk_data] Downloading package stopwords to\n",
      "[nltk_data]     C:\\Users\\u1121\\AppData\\Roaming\\nltk_data...\n",
      "[nltk_data]   Package stopwords is already up-to-date!\n"
     ]
    }
   ],
   "source": [
    "import nltk\n",
    "nltk.download(['punkt','stopwords'])\n",
    "from nltk.corpus import stopwords"
   ]
  },
  {
   "cell_type": "code",
   "execution_count": 5,
   "id": "0f7bcb59",
   "metadata": {
    "scrolled": false
   },
   "outputs": [
    {
     "data": {
      "image/png": "[encoded data removed]",
      "text/plain": [
       "<Figure size 432x288 with 1 Axes>"
      ]
     },
     "metadata": {
      "needs_background": "light"
     },
     "output_type": "display_data"
    }
   ],
   "source": [
    "df['sentiment'].value_counts().plot(kind = 'bar')\n",
    "plt.show()"
   ]
  },
  {
   "cell_type": "markdown",
   "id": "b09f990c",
   "metadata": {},
   "source": [
    "#### Text Cleaning"
   ]
  },
  {
   "cell_type": "code",
   "execution_count": 6,
   "id": "cf386f74",
   "metadata": {
    "scrolled": true
   },
   "outputs": [
    {
     "data": {
      "text/html": [
       "<div>\n",
       "<style scoped>\n",
       "    .dataframe tbody tr th:only-of-type {\n",
       "        vertical-align: middle;\n",
       "    }\n",
       "\n",
       "    .dataframe tbody tr th {\n",
       "        vertical-align: top;\n",
       "    }\n",
       "\n",
       "    .dataframe thead th {\n",
       "        text-align: right;\n",
       "    }\n",
       "</style>\n",
       "<table border=\"1\" class=\"dataframe\">\n",
       "  <thead>\n",
       "    <tr style=\"text-align: right;\">\n",
       "      <th></th>\n",
       "      <th>sentiment</th>\n",
       "      <th>message</th>\n",
       "      <th>tweetid</th>\n",
       "    </tr>\n",
       "  </thead>\n",
       "  <tbody>\n",
       "    <tr>\n",
       "      <th>0</th>\n",
       "      <td>1</td>\n",
       "      <td>PolySciMajor EPA chief doesn't think carbon dioxide is main cause of global warming and.. wait, what!? url-web via @mashable</td>\n",
       "      <td>625221</td>\n",
       "    </tr>\n",
       "    <tr>\n",
       "      <th>1</th>\n",
       "      <td>1</td>\n",
       "      <td>It's not like we lack evidence of anthropogenic global warming</td>\n",
       "      <td>126103</td>\n",
       "    </tr>\n",
       "    <tr>\n",
       "      <th>2</th>\n",
       "      <td>2</td>\n",
       "      <td>RT @RawStory: Researchers say we have three years to act on climate change before it’s too late url-web url-web…</td>\n",
       "      <td>698562</td>\n",
       "    </tr>\n",
       "    <tr>\n",
       "      <th>3</th>\n",
       "      <td>1</td>\n",
       "      <td>#TodayinMaker# WIRED : 2016 was a pivotal year in the war on climate change url-web</td>\n",
       "      <td>573736</td>\n",
       "    </tr>\n",
       "    <tr>\n",
       "      <th>4</th>\n",
       "      <td>1</td>\n",
       "      <td>RT @SoyNovioDeTodas: It's 2016, and a racist, sexist, climate change denying bigot is leading in the polls. #ElectionNight</td>\n",
       "      <td>466954</td>\n",
       "    </tr>\n",
       "  </tbody>\n",
       "</table>\n",
       "</div>"
      ],
      "text/plain": [
       "   sentiment  \\\n",
       "0          1   \n",
       "1          1   \n",
       "2          2   \n",
       "3          1   \n",
       "4          1   \n",
       "\n",
       "                                                                                                                        message  \\\n",
       "0  PolySciMajor EPA chief doesn't think carbon dioxide is main cause of global warming and.. wait, what!? url-web via @mashable   \n",
       "1                                                                It's not like we lack evidence of anthropogenic global warming   \n",
       "2              RT @RawStory: Researchers say we have three years to act on climate change before it’s too late url-web url-web…   \n",
       "3                                           #TodayinMaker# WIRED : 2016 was a pivotal year in the war on climate change url-web   \n",
       "4    RT @SoyNovioDeTodas: It's 2016, and a racist, sexist, climate change denying bigot is leading in the polls. #ElectionNight   \n",
       "\n",
       "   tweetid  \n",
       "0   625221  \n",
       "1   126103  \n",
       "2   698562  \n",
       "3   573736  \n",
       "4   466954  "
      ]
     },
     "execution_count": 6,
     "metadata": {},
     "output_type": "execute_result"
    }
   ],
   "source": [
    "#remove urls\n",
    "pattern_url = r'http[s]?://(?:[A-Za-z]|[0-9]|[$-_@.&+]|[!*\\(\\),]|(?:%[0-9A-Fa-f][0-9A-Fa-f]))+'\n",
    "subs_url = r'url-web'\n",
    "df['message'] = df['message'].replace(to_replace = pattern_url, value = subs_url, regex = True)\n",
    "\n",
    "df.head()"
   ]
  },
  {
   "cell_type": "code",
   "execution_count": 7,
   "id": "ca0ffc0e",
   "metadata": {},
   "outputs": [
    {
     "data": {
      "text/html": [
       "<div>\n",
       "<style scoped>\n",
       "    .dataframe tbody tr th:only-of-type {\n",
       "        vertical-align: middle;\n",
       "    }\n",
       "\n",
       "    .dataframe tbody tr th {\n",
       "        vertical-align: top;\n",
       "    }\n",
       "\n",
       "    .dataframe thead th {\n",
       "        text-align: right;\n",
       "    }\n",
       "</style>\n",
       "<table border=\"1\" class=\"dataframe\">\n",
       "  <thead>\n",
       "    <tr style=\"text-align: right;\">\n",
       "      <th></th>\n",
       "      <th>sentiment</th>\n",
       "      <th>message</th>\n",
       "      <th>tweetid</th>\n",
       "    </tr>\n",
       "  </thead>\n",
       "  <tbody>\n",
       "    <tr>\n",
       "      <th>0</th>\n",
       "      <td>1</td>\n",
       "      <td>polyscimajor epa chief doesn't think carbon dioxide is main cause of global warming and.. wait, what!? url-web via @mashable</td>\n",
       "      <td>625221</td>\n",
       "    </tr>\n",
       "    <tr>\n",
       "      <th>1</th>\n",
       "      <td>1</td>\n",
       "      <td>it's not like we lack evidence of anthropogenic global warming</td>\n",
       "      <td>126103</td>\n",
       "    </tr>\n",
       "    <tr>\n",
       "      <th>2</th>\n",
       "      <td>2</td>\n",
       "      <td>rt @rawstory: researchers say we have three years to act on climate change before it’s too late url-web url-web…</td>\n",
       "      <td>698562</td>\n",
       "    </tr>\n",
       "    <tr>\n",
       "      <th>3</th>\n",
       "      <td>1</td>\n",
       "      <td>#todayinmaker# wired : 2016 was a pivotal year in the war on climate change url-web</td>\n",
       "      <td>573736</td>\n",
       "    </tr>\n",
       "    <tr>\n",
       "      <th>4</th>\n",
       "      <td>1</td>\n",
       "      <td>rt @soynoviodetodas: it's 2016, and a racist, sexist, climate change denying bigot is leading in the polls. #electionnight</td>\n",
       "      <td>466954</td>\n",
       "    </tr>\n",
       "  </tbody>\n",
       "</table>\n",
       "</div>"
      ],
      "text/plain": [
       "   sentiment  \\\n",
       "0          1   \n",
       "1          1   \n",
       "2          2   \n",
       "3          1   \n",
       "4          1   \n",
       "\n",
       "                                                                                                                        message  \\\n",
       "0  polyscimajor epa chief doesn't think carbon dioxide is main cause of global warming and.. wait, what!? url-web via @mashable   \n",
       "1                                                                it's not like we lack evidence of anthropogenic global warming   \n",
       "2              rt @rawstory: researchers say we have three years to act on climate change before it’s too late url-web url-web…   \n",
       "3                                           #todayinmaker# wired : 2016 was a pivotal year in the war on climate change url-web   \n",
       "4    rt @soynoviodetodas: it's 2016, and a racist, sexist, climate change denying bigot is leading in the polls. #electionnight   \n",
       "\n",
       "   tweetid  \n",
       "0   625221  \n",
       "1   126103  \n",
       "2   698562  \n",
       "3   573736  \n",
       "4   466954  "
      ]
     },
     "execution_count": 7,
     "metadata": {},
     "output_type": "execute_result"
    }
   ],
   "source": [
    "# Lower case\n",
    "\n",
    "df['message'] = df['message'].str.lower()\n",
    "df.head()"
   ]
  },
  {
   "cell_type": "code",
   "execution_count": 8,
   "id": "c93df2a1",
   "metadata": {},
   "outputs": [
    {
     "data": {
      "text/html": [
       "<div>\n",
       "<style scoped>\n",
       "    .dataframe tbody tr th:only-of-type {\n",
       "        vertical-align: middle;\n",
       "    }\n",
       "\n",
       "    .dataframe tbody tr th {\n",
       "        vertical-align: top;\n",
       "    }\n",
       "\n",
       "    .dataframe thead th {\n",
       "        text-align: right;\n",
       "    }\n",
       "</style>\n",
       "<table border=\"1\" class=\"dataframe\">\n",
       "  <thead>\n",
       "    <tr style=\"text-align: right;\">\n",
       "      <th></th>\n",
       "      <th>sentiment</th>\n",
       "      <th>message</th>\n",
       "      <th>tweetid</th>\n",
       "    </tr>\n",
       "  </thead>\n",
       "  <tbody>\n",
       "    <tr>\n",
       "      <th>0</th>\n",
       "      <td>1</td>\n",
       "      <td>polyscimajor epa chief doesnt think carbon dioxide is main cause of global warming and wait what urlweb via mashable</td>\n",
       "      <td>625221</td>\n",
       "    </tr>\n",
       "    <tr>\n",
       "      <th>1</th>\n",
       "      <td>1</td>\n",
       "      <td>its not like we lack evidence of anthropogenic global warming</td>\n",
       "      <td>126103</td>\n",
       "    </tr>\n",
       "    <tr>\n",
       "      <th>2</th>\n",
       "      <td>2</td>\n",
       "      <td>rt rawstory researchers say we have three years to act on climate change before it’s too late urlweb urlweb…</td>\n",
       "      <td>698562</td>\n",
       "    </tr>\n",
       "    <tr>\n",
       "      <th>3</th>\n",
       "      <td>1</td>\n",
       "      <td>todayinmaker wired  2016 was a pivotal year in the war on climate change urlweb</td>\n",
       "      <td>573736</td>\n",
       "    </tr>\n",
       "    <tr>\n",
       "      <th>4</th>\n",
       "      <td>1</td>\n",
       "      <td>rt soynoviodetodas its 2016 and a racist sexist climate change denying bigot is leading in the polls electionnight</td>\n",
       "      <td>466954</td>\n",
       "    </tr>\n",
       "  </tbody>\n",
       "</table>\n",
       "</div>"
      ],
      "text/plain": [
       "   sentiment  \\\n",
       "0          1   \n",
       "1          1   \n",
       "2          2   \n",
       "3          1   \n",
       "4          1   \n",
       "\n",
       "                                                                                                                message  \\\n",
       "0  polyscimajor epa chief doesnt think carbon dioxide is main cause of global warming and wait what urlweb via mashable   \n",
       "1                                                         its not like we lack evidence of anthropogenic global warming   \n",
       "2          rt rawstory researchers say we have three years to act on climate change before it’s too late urlweb urlweb…   \n",
       "3                                       todayinmaker wired  2016 was a pivotal year in the war on climate change urlweb   \n",
       "4    rt soynoviodetodas its 2016 and a racist sexist climate change denying bigot is leading in the polls electionnight   \n",
       "\n",
       "   tweetid  \n",
       "0   625221  \n",
       "1   126103  \n",
       "2   698562  \n",
       "3   573736  \n",
       "4   466954  "
      ]
     },
     "execution_count": 8,
     "metadata": {},
     "output_type": "execute_result"
    }
   ],
   "source": [
    "#remove punctuation\n",
    "import string\n",
    "def remove_punctuation(message):\n",
    "    return ''.join([l for l in message if l not in string.punctuation])\n",
    "\n",
    "df['message'] = df['message'].apply(remove_punctuation)\n",
    "df.head()"
   ]
  },
  {
   "cell_type": "code",
   "execution_count": 9,
   "id": "1e07bd43",
   "metadata": {
    "scrolled": true
   },
   "outputs": [
    {
     "data": {
      "text/html": [
       "<div>\n",
       "<style scoped>\n",
       "    .dataframe tbody tr th:only-of-type {\n",
       "        vertical-align: middle;\n",
       "    }\n",
       "\n",
       "    .dataframe tbody tr th {\n",
       "        vertical-align: top;\n",
       "    }\n",
       "\n",
       "    .dataframe thead th {\n",
       "        text-align: right;\n",
       "    }\n",
       "</style>\n",
       "<table border=\"1\" class=\"dataframe\">\n",
       "  <thead>\n",
       "    <tr style=\"text-align: right;\">\n",
       "      <th></th>\n",
       "      <th>sentiment</th>\n",
       "      <th>message</th>\n",
       "      <th>tweetid</th>\n",
       "    </tr>\n",
       "  </thead>\n",
       "  <tbody>\n",
       "    <tr>\n",
       "      <th>0</th>\n",
       "      <td>1</td>\n",
       "      <td>polyscimajor epa chief doesnt think carbon dioxide main cause global warming wait urlweb via mashable</td>\n",
       "      <td>625221</td>\n",
       "    </tr>\n",
       "    <tr>\n",
       "      <th>1</th>\n",
       "      <td>1</td>\n",
       "      <td>like lack evidence anthropogenic global warming</td>\n",
       "      <td>126103</td>\n",
       "    </tr>\n",
       "    <tr>\n",
       "      <th>2</th>\n",
       "      <td>2</td>\n",
       "      <td>rt rawstory researchers say three years act climate change it’s late urlweb urlweb…</td>\n",
       "      <td>698562</td>\n",
       "    </tr>\n",
       "    <tr>\n",
       "      <th>3</th>\n",
       "      <td>1</td>\n",
       "      <td>todayinmaker wired 2016 pivotal year war climate change urlweb</td>\n",
       "      <td>573736</td>\n",
       "    </tr>\n",
       "    <tr>\n",
       "      <th>4</th>\n",
       "      <td>1</td>\n",
       "      <td>rt soynoviodetodas 2016 racist sexist climate change denying bigot leading polls electionnight</td>\n",
       "      <td>466954</td>\n",
       "    </tr>\n",
       "  </tbody>\n",
       "</table>\n",
       "</div>"
      ],
      "text/plain": [
       "   sentiment  \\\n",
       "0          1   \n",
       "1          1   \n",
       "2          2   \n",
       "3          1   \n",
       "4          1   \n",
       "\n",
       "                                                                                                 message  \\\n",
       "0  polyscimajor epa chief doesnt think carbon dioxide main cause global warming wait urlweb via mashable   \n",
       "1                                                        like lack evidence anthropogenic global warming   \n",
       "2                    rt rawstory researchers say three years act climate change it’s late urlweb urlweb…   \n",
       "3                                         todayinmaker wired 2016 pivotal year war climate change urlweb   \n",
       "4         rt soynoviodetodas 2016 racist sexist climate change denying bigot leading polls electionnight   \n",
       "\n",
       "   tweetid  \n",
       "0   625221  \n",
       "1   126103  \n",
       "2   698562  \n",
       "3   573736  \n",
       "4   466954  "
      ]
     },
     "execution_count": 9,
     "metadata": {},
     "output_type": "execute_result"
    }
   ],
   "source": [
    "#remove stop words\n",
    "from nltk.corpus import stopwords\n",
    "stop = stopwords.words('english')\n",
    "\n",
    "df['message']= df['message'].apply(lambda x: ' '.join([word for word in x.split() if word not in (stop)]))\n",
    "\n",
    "df.head()"
   ]
  },
  {
   "cell_type": "code",
   "execution_count": 10,
   "id": "30e8b669",
   "metadata": {},
   "outputs": [
    {
     "data": {
      "text/html": [
       "<div>\n",
       "<style scoped>\n",
       "    .dataframe tbody tr th:only-of-type {\n",
       "        vertical-align: middle;\n",
       "    }\n",
       "\n",
       "    .dataframe tbody tr th {\n",
       "        vertical-align: top;\n",
       "    }\n",
       "\n",
       "    .dataframe thead th {\n",
       "        text-align: right;\n",
       "    }\n",
       "</style>\n",
       "<table border=\"1\" class=\"dataframe\">\n",
       "  <thead>\n",
       "    <tr style=\"text-align: right;\">\n",
       "      <th></th>\n",
       "      <th>sentiment</th>\n",
       "      <th>message</th>\n",
       "      <th>tweetid</th>\n",
       "    </tr>\n",
       "  </thead>\n",
       "  <tbody>\n",
       "    <tr>\n",
       "      <th>0</th>\n",
       "      <td>1</td>\n",
       "      <td>polyscimajor epa chief doesnt think carbon dioxide main cause global warming wait urlweb via mashable</td>\n",
       "      <td>625221</td>\n",
       "    </tr>\n",
       "    <tr>\n",
       "      <th>1</th>\n",
       "      <td>1</td>\n",
       "      <td>like lack evidence anthropogenic global warming</td>\n",
       "      <td>126103</td>\n",
       "    </tr>\n",
       "    <tr>\n",
       "      <th>2</th>\n",
       "      <td>2</td>\n",
       "      <td>rt rawstory researcher say three year act climate change it’s late urlweb urlweb…</td>\n",
       "      <td>698562</td>\n",
       "    </tr>\n",
       "    <tr>\n",
       "      <th>3</th>\n",
       "      <td>1</td>\n",
       "      <td>todayinmaker wired 2016 pivotal year war climate change urlweb</td>\n",
       "      <td>573736</td>\n",
       "    </tr>\n",
       "    <tr>\n",
       "      <th>4</th>\n",
       "      <td>1</td>\n",
       "      <td>rt soynoviodetodas 2016 racist sexist climate change denying bigot leading poll electionnight</td>\n",
       "      <td>466954</td>\n",
       "    </tr>\n",
       "  </tbody>\n",
       "</table>\n",
       "</div>"
      ],
      "text/plain": [
       "   sentiment  \\\n",
       "0          1   \n",
       "1          1   \n",
       "2          2   \n",
       "3          1   \n",
       "4          1   \n",
       "\n",
       "                                                                                                 message  \\\n",
       "0  polyscimajor epa chief doesnt think carbon dioxide main cause global warming wait urlweb via mashable   \n",
       "1                                                        like lack evidence anthropogenic global warming   \n",
       "2                      rt rawstory researcher say three year act climate change it’s late urlweb urlweb…   \n",
       "3                                         todayinmaker wired 2016 pivotal year war climate change urlweb   \n",
       "4          rt soynoviodetodas 2016 racist sexist climate change denying bigot leading poll electionnight   \n",
       "\n",
       "   tweetid  \n",
       "0   625221  \n",
       "1   126103  \n",
       "2   698562  \n",
       "3   573736  \n",
       "4   466954  "
      ]
     },
     "execution_count": 10,
     "metadata": {},
     "output_type": "execute_result"
    }
   ],
   "source": [
    "from nltk.stem import WordNetLemmatizer\n",
    "\n",
    "lemmatizer = WordNetLemmatizer()\n",
    "\n",
    "def lemma(words, lemmatizer):\n",
    "    return ' '.join(([lemmatizer.lemmatize(word) for word in words.split()]))\n",
    "\n",
    "df['message'] = df['message'].apply(lemma, args=(lemmatizer, ))\n",
    "\n",
    "df.head()"
   ]
  },
  {
   "cell_type": "code",
   "execution_count": 11,
   "id": "7ce020a5",
   "metadata": {},
   "outputs": [],
   "source": [
    "useless=\"rt\"\n",
    "df['message']= df['message'].apply(lambda x: ' '.join([word for word in x.split() if word not in (useless)]))"
   ]
  },
  {
   "cell_type": "code",
   "execution_count": 12,
   "id": "75abfa0c",
   "metadata": {
    "scrolled": false
   },
   "outputs": [
    {
     "data": {
      "text/html": [
       "<div>\n",
       "<style scoped>\n",
       "    .dataframe tbody tr th:only-of-type {\n",
       "        vertical-align: middle;\n",
       "    }\n",
       "\n",
       "    .dataframe tbody tr th {\n",
       "        vertical-align: top;\n",
       "    }\n",
       "\n",
       "    .dataframe thead th {\n",
       "        text-align: right;\n",
       "    }\n",
       "</style>\n",
       "<table border=\"1\" class=\"dataframe\">\n",
       "  <thead>\n",
       "    <tr style=\"text-align: right;\">\n",
       "      <th></th>\n",
       "      <th>sentiment</th>\n",
       "      <th>message</th>\n",
       "      <th>tweetid</th>\n",
       "    </tr>\n",
       "  </thead>\n",
       "  <tbody>\n",
       "    <tr>\n",
       "      <th>0</th>\n",
       "      <td>1</td>\n",
       "      <td>polyscimajor epa chief doesnt think carbon dioxide main cause global warming wait urlweb via mashable</td>\n",
       "      <td>625221</td>\n",
       "    </tr>\n",
       "    <tr>\n",
       "      <th>1</th>\n",
       "      <td>1</td>\n",
       "      <td>like lack evidence anthropogenic global warming</td>\n",
       "      <td>126103</td>\n",
       "    </tr>\n",
       "    <tr>\n",
       "      <th>2</th>\n",
       "      <td>2</td>\n",
       "      <td>rawstory researcher say three year act climate change it’s late urlweb urlweb…</td>\n",
       "      <td>698562</td>\n",
       "    </tr>\n",
       "    <tr>\n",
       "      <th>3</th>\n",
       "      <td>1</td>\n",
       "      <td>todayinmaker wired 2016 pivotal year war climate change urlweb</td>\n",
       "      <td>573736</td>\n",
       "    </tr>\n",
       "    <tr>\n",
       "      <th>4</th>\n",
       "      <td>1</td>\n",
       "      <td>soynoviodetodas 2016 racist sexist climate change denying bigot leading poll electionnight</td>\n",
       "      <td>466954</td>\n",
       "    </tr>\n",
       "  </tbody>\n",
       "</table>\n",
       "</div>"
      ],
      "text/plain": [
       "   sentiment  \\\n",
       "0          1   \n",
       "1          1   \n",
       "2          2   \n",
       "3          1   \n",
       "4          1   \n",
       "\n",
       "                                                                                                 message  \\\n",
       "0  polyscimajor epa chief doesnt think carbon dioxide main cause global warming wait urlweb via mashable   \n",
       "1                                                        like lack evidence anthropogenic global warming   \n",
       "2                         rawstory researcher say three year act climate change it’s late urlweb urlweb…   \n",
       "3                                         todayinmaker wired 2016 pivotal year war climate change urlweb   \n",
       "4             soynoviodetodas 2016 racist sexist climate change denying bigot leading poll electionnight   \n",
       "\n",
       "   tweetid  \n",
       "0   625221  \n",
       "1   126103  \n",
       "2   698562  \n",
       "3   573736  \n",
       "4   466954  "
      ]
     },
     "execution_count": 12,
     "metadata": {},
     "output_type": "execute_result"
    }
   ],
   "source": [
    "df.head()"
   ]
  },
  {
   "cell_type": "code",
   "execution_count": 13,
   "id": "8d5ca0e0",
   "metadata": {},
   "outputs": [],
   "source": [
    "#pip install autocorrect"
   ]
  },
  {
   "cell_type": "code",
   "execution_count": 14,
   "id": "0eedcf4d",
   "metadata": {},
   "outputs": [
    {
     "data": {
      "text/html": [
       "<div>\n",
       "<style scoped>\n",
       "    .dataframe tbody tr th:only-of-type {\n",
       "        vertical-align: middle;\n",
       "    }\n",
       "\n",
       "    .dataframe tbody tr th {\n",
       "        vertical-align: top;\n",
       "    }\n",
       "\n",
       "    .dataframe thead th {\n",
       "        text-align: right;\n",
       "    }\n",
       "</style>\n",
       "<table border=\"1\" class=\"dataframe\">\n",
       "  <thead>\n",
       "    <tr style=\"text-align: right;\">\n",
       "      <th></th>\n",
       "      <th>sentiment</th>\n",
       "      <th>message</th>\n",
       "      <th>tweetid</th>\n",
       "    </tr>\n",
       "  </thead>\n",
       "  <tbody>\n",
       "    <tr>\n",
       "      <th>0</th>\n",
       "      <td>1</td>\n",
       "      <td>polyscimajor epa chief doesnt think carbon dioxide main cause global warming wait urlweb via mashable</td>\n",
       "      <td>625221</td>\n",
       "    </tr>\n",
       "    <tr>\n",
       "      <th>1</th>\n",
       "      <td>1</td>\n",
       "      <td>like lack evidence anthropogenic global warming</td>\n",
       "      <td>126103</td>\n",
       "    </tr>\n",
       "    <tr>\n",
       "      <th>2</th>\n",
       "      <td>2</td>\n",
       "      <td>rawstory researcher say three year act climate change it’s late urlweb urlweb…</td>\n",
       "      <td>698562</td>\n",
       "    </tr>\n",
       "    <tr>\n",
       "      <th>3</th>\n",
       "      <td>1</td>\n",
       "      <td>todayinmaker wired 2016 pivotal year war climate change urlweb</td>\n",
       "      <td>573736</td>\n",
       "    </tr>\n",
       "    <tr>\n",
       "      <th>4</th>\n",
       "      <td>1</td>\n",
       "      <td>soynoviodetodas 2016 racist sexist climate change denying bigot leading poll electionnight</td>\n",
       "      <td>466954</td>\n",
       "    </tr>\n",
       "  </tbody>\n",
       "</table>\n",
       "</div>"
      ],
      "text/plain": [
       "   sentiment  \\\n",
       "0          1   \n",
       "1          1   \n",
       "2          2   \n",
       "3          1   \n",
       "4          1   \n",
       "\n",
       "                                                                                                 message  \\\n",
       "0  polyscimajor epa chief doesnt think carbon dioxide main cause global warming wait urlweb via mashable   \n",
       "1                                                        like lack evidence anthropogenic global warming   \n",
       "2                         rawstory researcher say three year act climate change it’s late urlweb urlweb…   \n",
       "3                                         todayinmaker wired 2016 pivotal year war climate change urlweb   \n",
       "4             soynoviodetodas 2016 racist sexist climate change denying bigot leading poll electionnight   \n",
       "\n",
       "   tweetid  \n",
       "0   625221  \n",
       "1   126103  \n",
       "2   698562  \n",
       "3   573736  \n",
       "4   466954  "
      ]
     },
     "execution_count": 14,
     "metadata": {},
     "output_type": "execute_result"
    }
   ],
   "source": [
    "#spelling\n",
    "from autocorrect import Speller\n",
    "\n",
    "spell = Speller(lang='en')\n",
    "\n",
    "def spelling(words):\n",
    "    return ' '.join(([spell(word) for word in words.split()]))\n",
    "\n",
    "df['message'] = df['message'].apply(lemma, args=(lemmatizer, ))\n",
    "\n",
    "df.head()"
   ]
  },
  {
   "cell_type": "markdown",
   "id": "df37829c",
   "metadata": {},
   "source": [
    "### Feature engineering"
   ]
  },
  {
   "cell_type": "markdown",
   "id": "3753b012",
   "metadata": {},
   "source": [
    "##### Feature Extraction using CountVectorizer"
   ]
  },
  {
   "cell_type": "code",
   "execution_count": 15,
   "id": "2e535cd6",
   "metadata": {},
   "outputs": [],
   "source": [
    "#import CountVectorizer\n",
    "from sklearn.feature_extraction.text import CountVectorizer"
   ]
  },
  {
   "cell_type": "code",
   "execution_count": 16,
   "id": "a321c5b4",
   "metadata": {},
   "outputs": [],
   "source": [
    "# create vectorizer instance\n",
    "vect = CountVectorizer()\n",
    "\n",
    "#fit vectorizer\n",
    "vect_fit=vect.fit(df['message'])"
   ]
  },
  {
   "cell_type": "code",
   "execution_count": 17,
   "id": "591cfaf1",
   "metadata": {},
   "outputs": [
    {
     "name": "stdout",
     "output_type": "stream",
     "text": [
      "23352\n"
     ]
    }
   ],
   "source": [
    "# NUM of predictors\n",
    "print(len(vect.vocabulary_))"
   ]
  },
  {
   "cell_type": "code",
   "execution_count": 18,
   "id": "a1774490",
   "metadata": {},
   "outputs": [
    {
     "data": {
      "text/plain": [
       "(15819, 23352)"
      ]
     },
     "execution_count": 18,
     "metadata": {},
     "output_type": "execute_result"
    }
   ],
   "source": [
    "#transform features to numbers so modelling\n",
    "vect_transform=vect.transform(df['message'])\n",
    "\n",
    "# Get shape of our predictive variables\n",
    "vect_transform.shape"
   ]
  },
  {
   "cell_type": "code",
   "execution_count": 19,
   "id": "55cf584f",
   "metadata": {},
   "outputs": [
    {
     "data": {
      "text/plain": [
       "184173"
      ]
     },
     "execution_count": 19,
     "metadata": {},
     "output_type": "execute_result"
    }
   ],
   "source": [
    "#total number of words in corpus\n",
    "total_corpus=sum(vect_transform.toarray().sum(axis=0))\n",
    "total_corpus"
   ]
  },
  {
   "cell_type": "markdown",
   "id": "b9e6ff2a",
   "metadata": {},
   "source": [
    "We can see that there are a lot more features(24 819) than rows (15 819) a lot of which correspond to words which only appear once. Not all of them are very useful, we must therefore tune vectorizer."
   ]
  },
  {
   "cell_type": "code",
   "execution_count": 20,
   "id": "7d837506",
   "metadata": {
    "scrolled": true
   },
   "outputs": [
    {
     "data": {
      "text/plain": [
       "CountVectorizer(max_features=14000, stop_words='english')"
      ]
     },
     "execution_count": 20,
     "metadata": {},
     "output_type": "execute_result"
    }
   ],
   "source": [
    "betterVect = CountVectorizer(stop_words='english',max_features=14000) \n",
    "\n",
    "betterVect.fit(df['message'])"
   ]
  },
  {
   "cell_type": "code",
   "execution_count": 21,
   "id": "0ab5e15d",
   "metadata": {},
   "outputs": [
    {
     "name": "stdout",
     "output_type": "stream",
     "text": [
      "14000\n"
     ]
    }
   ],
   "source": [
    "print(len(betterVect.vocabulary_))"
   ]
  },
  {
   "cell_type": "code",
   "execution_count": 22,
   "id": "de3f76c8",
   "metadata": {},
   "outputs": [
    {
     "data": {
      "text/plain": [
       "(15819, 14000)"
      ]
     },
     "execution_count": 22,
     "metadata": {},
     "output_type": "execute_result"
    }
   ],
   "source": [
    "betterVect_transform=betterVect.transform(df['message'])\n",
    "\n",
    "# Get shape of our predictive variables\n",
    "betterVect_transform.shape"
   ]
  },
  {
   "cell_type": "code",
   "execution_count": 23,
   "id": "b208cbaa",
   "metadata": {
    "scrolled": true
   },
   "outputs": [
    {
     "data": {
      "text/plain": [
       "164523"
      ]
     },
     "execution_count": 23,
     "metadata": {},
     "output_type": "execute_result"
    }
   ],
   "source": [
    "#get total words in better corpus\n",
    "total_better_corpus=sum(betterVect_transform.toarray().sum(axis=0))\n",
    "total_better_corpus"
   ]
  },
  {
   "cell_type": "code",
   "execution_count": 24,
   "id": "cc95fda6",
   "metadata": {},
   "outputs": [
    {
     "data": {
      "text/plain": [
       "89"
      ]
     },
     "execution_count": 24,
     "metadata": {},
     "output_type": "execute_result"
    }
   ],
   "source": [
    "#percentage of words used \n",
    "feature_percentage=round((total_better_corpus/total_corpus)*100)\n",
    "feature_percentage"
   ]
  },
  {
   "cell_type": "code",
   "execution_count": 25,
   "id": "67fea4f1",
   "metadata": {},
   "outputs": [],
   "source": [
    "#scaling X\n",
    "\n",
    "# Import the scaler module\n",
    "from sklearn import preprocessing\n",
    "scaler = preprocessing.MinMaxScaler()\n",
    "\n",
    "X_scaled=betterVect_transform.toarray()\n",
    "\n",
    "# Scale data\n",
    "X_scaled = scaler.fit_transform(X_scaled)"
   ]
  },
  {
   "cell_type": "markdown",
   "id": "b0a4573f",
   "metadata": {},
   "source": [
    "### PREPARING TEST DATASET"
   ]
  },
  {
   "cell_type": "code",
   "execution_count": 26,
   "id": "6700aa9e",
   "metadata": {},
   "outputs": [
    {
     "data": {
      "text/html": [
       "<div>\n",
       "<style scoped>\n",
       "    .dataframe tbody tr th:only-of-type {\n",
       "        vertical-align: middle;\n",
       "    }\n",
       "\n",
       "    .dataframe tbody tr th {\n",
       "        vertical-align: top;\n",
       "    }\n",
       "\n",
       "    .dataframe thead th {\n",
       "        text-align: right;\n",
       "    }\n",
       "</style>\n",
       "<table border=\"1\" class=\"dataframe\">\n",
       "  <thead>\n",
       "    <tr style=\"text-align: right;\">\n",
       "      <th></th>\n",
       "      <th>message</th>\n",
       "      <th>tweetid</th>\n",
       "    </tr>\n",
       "  </thead>\n",
       "  <tbody>\n",
       "    <tr>\n",
       "      <th>0</th>\n",
       "      <td>Europe will now be looking to China to make sure that it is not alone in fighting climate change… https://t.co/O7T8rCgwDq</td>\n",
       "      <td>169760</td>\n",
       "    </tr>\n",
       "    <tr>\n",
       "      <th>1</th>\n",
       "      <td>Combine this with the polling of staffers re climate change and womens' rights and you have a fascist state. https://t.co/ifrm7eexpj</td>\n",
       "      <td>35326</td>\n",
       "    </tr>\n",
       "  </tbody>\n",
       "</table>\n",
       "</div>"
      ],
      "text/plain": [
       "                                                                                                                                message  \\\n",
       "0             Europe will now be looking to China to make sure that it is not alone in fighting climate change… https://t.co/O7T8rCgwDq   \n",
       "1  Combine this with the polling of staffers re climate change and womens' rights and you have a fascist state. https://t.co/ifrm7eexpj   \n",
       "\n",
       "   tweetid  \n",
       "0   169760  \n",
       "1    35326  "
      ]
     },
     "execution_count": 26,
     "metadata": {},
     "output_type": "execute_result"
    }
   ],
   "source": [
    "df_test = pd.read_csv('test_with_no_labels.csv')\n",
    "df_test.head(2)"
   ]
  },
  {
   "cell_type": "code",
   "execution_count": 27,
   "id": "f5690a1f",
   "metadata": {
    "scrolled": true
   },
   "outputs": [
    {
     "data": {
      "text/html": [
       "<div>\n",
       "<style scoped>\n",
       "    .dataframe tbody tr th:only-of-type {\n",
       "        vertical-align: middle;\n",
       "    }\n",
       "\n",
       "    .dataframe tbody tr th {\n",
       "        vertical-align: top;\n",
       "    }\n",
       "\n",
       "    .dataframe thead th {\n",
       "        text-align: right;\n",
       "    }\n",
       "</style>\n",
       "<table border=\"1\" class=\"dataframe\">\n",
       "  <thead>\n",
       "    <tr style=\"text-align: right;\">\n",
       "      <th></th>\n",
       "      <th>message</th>\n",
       "      <th>tweetid</th>\n",
       "    </tr>\n",
       "  </thead>\n",
       "  <tbody>\n",
       "    <tr>\n",
       "      <th>0</th>\n",
       "      <td>europe looking china make sure alone fighting climate change… urlweb</td>\n",
       "      <td>169760</td>\n",
       "    </tr>\n",
       "    <tr>\n",
       "      <th>1</th>\n",
       "      <td>combine polling staffer climate change woman right fascist state urlweb</td>\n",
       "      <td>35326</td>\n",
       "    </tr>\n",
       "    <tr>\n",
       "      <th>2</th>\n",
       "      <td>scary unimpeachable evidence climate change already urlweb itstimetochange climatechange zeroco2</td>\n",
       "      <td>224985</td>\n",
       "    </tr>\n",
       "    <tr>\n",
       "      <th>3</th>\n",
       "      <td>karoli morgfair osborneink dailykos putin got jill trump doesnt believe climate change think hoax</td>\n",
       "      <td>476263</td>\n",
       "    </tr>\n",
       "    <tr>\n",
       "      <th>4</th>\n",
       "      <td>fakewillmoore female orgasm cause global warming sarcastic republican</td>\n",
       "      <td>872928</td>\n",
       "    </tr>\n",
       "  </tbody>\n",
       "</table>\n",
       "</div>"
      ],
      "text/plain": [
       "                                                                                             message  \\\n",
       "0                               europe looking china make sure alone fighting climate change… urlweb   \n",
       "1                            combine polling staffer climate change woman right fascist state urlweb   \n",
       "2   scary unimpeachable evidence climate change already urlweb itstimetochange climatechange zeroco2   \n",
       "3  karoli morgfair osborneink dailykos putin got jill trump doesnt believe climate change think hoax   \n",
       "4                              fakewillmoore female orgasm cause global warming sarcastic republican   \n",
       "\n",
       "   tweetid  \n",
       "0   169760  \n",
       "1    35326  \n",
       "2   224985  \n",
       "3   476263  \n",
       "4   872928  "
      ]
     },
     "execution_count": 27,
     "metadata": {},
     "output_type": "execute_result"
    }
   ],
   "source": [
    "#remove urls\n",
    "pattern_url = r'http[s]?://(?:[A-Za-z]|[0-9]|[$-_@.&+]|[!*\\(\\),]|(?:%[0-9A-Fa-f][0-9A-Fa-f]))+'\n",
    "subs_url = r'url-web'\n",
    "df_test['message'] = df_test['message'].replace(to_replace = pattern_url, value = subs_url, regex = True)\n",
    "\n",
    "df_test['message'] = df_test['message'].str.lower()\n",
    "\n",
    "#remove punctuation\n",
    "import string\n",
    "def remove_punctuation(message):\n",
    "    return ''.join([l for l in message if l not in string.punctuation])\n",
    "\n",
    "df_test['message'] = df_test['message'].apply(remove_punctuation)\n",
    "\n",
    "#remove stop words\n",
    "from nltk.corpus import stopwords\n",
    "stop = stopwords.words('english')\n",
    "\n",
    "df_test['message']= df_test['message'].apply(lambda x: ' '.join([word for word in x.split() if word not in (stop)]))\n",
    "\n",
    "\n",
    "#Lemmatize\n",
    "from nltk.stem import WordNetLemmatizer\n",
    "\n",
    "lemmatizer = WordNetLemmatizer()\n",
    "\n",
    "def lemma(words, lemmatizer):\n",
    "    return ' '.join(([lemmatizer.lemmatize(word) for word in words.split()]))\n",
    "\n",
    "df_test['message'] = df_test['message'].apply(lemma, args=(lemmatizer, ))\n",
    "\n",
    "useless=\"rt\"\n",
    "df_test['message']= df_test['message'].apply(lambda x: ' '.join([word for word in x.split() if word not in (useless)]))\n",
    "\n",
    "from autocorrect import Speller\n",
    "\n",
    "spell = Speller(lang='en')\n",
    "\n",
    "def spelling(words):\n",
    "    return ' '.join(([spell(word) for word in words.split()]))\n",
    "\n",
    "df_test['message'] = df_test['message'].apply(lemma, args=(lemmatizer, ))\n",
    "\n",
    "df_test.head()"
   ]
  },
  {
   "cell_type": "code",
   "execution_count": 28,
   "id": "fb0e7876",
   "metadata": {},
   "outputs": [],
   "source": [
    "betterVect_test = CountVectorizer(stop_words='english',max_features=10000)\n",
    "\n",
    "vect_fit_test=betterVect_test.fit(df_test['message'])\n",
    "\n",
    "betterVect_transform_test=betterVect_test.transform(df_test['message'])\n",
    "\n",
    "feat_test=betterVect_transform_test.toarray()"
   ]
  },
  {
   "cell_type": "markdown",
   "id": "3dc7f4df",
   "metadata": {},
   "source": [
    "### Logistic Model"
   ]
  },
  {
   "cell_type": "code",
   "execution_count": 29,
   "id": "0d2f0e4e",
   "metadata": {},
   "outputs": [],
   "source": [
    "X=betterVect_transform.toarray()\n",
    "y=df['sentiment']"
   ]
  },
  {
   "cell_type": "code",
   "execution_count": 30,
   "id": "a576b30f",
   "metadata": {},
   "outputs": [],
   "source": [
    "# import train/test split module\n",
    "from sklearn.model_selection import train_test_split\n",
    "\n",
    "# split into train and test\n",
    "X_train, X_test, y_train, y_test = train_test_split(X, y, test_size=0.2, random_state=50)"
   ]
  },
  {
   "cell_type": "code",
   "execution_count": 31,
   "id": "d902a7a3",
   "metadata": {},
   "outputs": [
    {
     "data": {
      "text/plain": [
       "LogisticRegression(multi_class='ovr')"
      ]
     },
     "execution_count": 31,
     "metadata": {},
     "output_type": "execute_result"
    }
   ],
   "source": [
    "# import logistic regression module\n",
    "from sklearn.linear_model import LogisticRegression\n",
    "\n",
    "# create model object\n",
    "lr = LogisticRegression(multi_class='ovr')\n",
    "\n",
    "# train model\n",
    "lr.fit(X_train, y_train)"
   ]
  },
  {
   "cell_type": "markdown",
   "id": "0183599a",
   "metadata": {},
   "source": [
    "### Checking outcomes on the testing set"
   ]
  },
  {
   "cell_type": "code",
   "execution_count": 32,
   "id": "501597b8",
   "metadata": {},
   "outputs": [],
   "source": [
    "#Generate predictions\n",
    "y_pred = lr.predict(X_test)\n",
    "\n",
    "y_pred=pd.DataFrame(y_pred)"
   ]
  },
  {
   "cell_type": "code",
   "execution_count": 33,
   "id": "f2b11eff",
   "metadata": {
    "scrolled": true
   },
   "outputs": [
    {
     "name": "stdout",
     "output_type": "stream",
     "text": [
      "              precision    recall  f1-score   support\n",
      "\n",
      "          -1       0.78      0.39      0.52       254\n",
      "           0       0.61      0.44      0.51       457\n",
      "           1       0.77      0.87      0.82      1736\n",
      "           2       0.74      0.77      0.75       717\n",
      "\n",
      "    accuracy                           0.75      3164\n",
      "   macro avg       0.72      0.62      0.65      3164\n",
      "weighted avg       0.74      0.75      0.74      3164\n",
      "\n"
     ]
    }
   ],
   "source": [
    "# Classification report\n",
    "from sklearn.metrics import classification_report\n",
    "print(classification_report(y_test, y_pred))\n",
    "\n",
    "import warnings\n",
    "warnings.filterwarnings('ignore')"
   ]
  },
  {
   "cell_type": "markdown",
   "id": "1bb52be7",
   "metadata": {},
   "source": [
    "Resampling"
   ]
  },
  {
   "cell_type": "code",
   "execution_count": 34,
   "id": "85275524",
   "metadata": {},
   "outputs": [
    {
     "name": "stdout",
     "output_type": "stream",
     "text": [
      "Class=1, n=6775 (42.828%)\n",
      "Class=2, n=2934 (18.547%)\n",
      "Class=0, n=1928 (12.188%)\n",
      "Class=-1, n=1018 (6.435%)\n"
     ]
    },
    {
     "data": {
      "image/png": "[encoded data removed]",
      "text/plain": [
       "<Figure size 432x288 with 1 Axes>"
      ]
     },
     "metadata": {
      "needs_background": "light"
     },
     "output_type": "display_data"
    }
   ],
   "source": [
    "from collections import Counter\n",
    "from sklearn.preprocessing import LabelEncoder\n",
    "\n",
    "# split into input and output elements\n",
    "X=betterVect_transform.toarray()\n",
    "y=df['sentiment']\n",
    "# label encode the target variable\n",
    "\n",
    "X_train, X_test, y_train, y_test = train_test_split(X, y, test_size=0.2, random_state=42)\n",
    "\n",
    "\n",
    "# summarize distribution\n",
    "counter = Counter(y_train)\n",
    "for k,v in counter.items():\n",
    "    per = v / len(y) * 100\n",
    "    print('Class=%d, n=%d (%.3f%%)' % (k, v, per))\n",
    "# plot the distribution\n",
    "plt.bar(counter.keys(), counter.values())\n",
    "plt.show()"
   ]
  },
  {
   "cell_type": "code",
   "execution_count": 35,
   "id": "ebfe1a18",
   "metadata": {
    "scrolled": true
   },
   "outputs": [
    {
     "name": "stdout",
     "output_type": "stream",
     "text": [
      "Class=1, n=6775 (42.828%)\n",
      "Class=2, n=6775 (42.828%)\n",
      "Class=0, n=6775 (42.828%)\n",
      "Class=-1, n=6775 (42.828%)\n"
     ]
    },
    {
     "data": {
      "image/png": "[encoded data removed]",
      "text/plain": [
       "<Figure size 432x288 with 1 Axes>"
      ]
     },
     "metadata": {
      "needs_background": "light"
     },
     "output_type": "display_data"
    }
   ],
   "source": [
    "from imblearn.over_sampling import SMOTE\n",
    "from collections import Counter\n",
    "\n",
    "\n",
    "# transform the dataset\n",
    "oversample = SMOTE()\n",
    "\n",
    "X_resample, y_resample = oversample.fit_resample(X_train, y_train)\n",
    "# summarize distribution\n",
    "counter = Counter(y_resample)\n",
    "for k,v in counter.items():\n",
    "    per = v / len(y) * 100\n",
    "    print('Class=%d, n=%d (%.3f%%)' % (k, v, per))\n",
    "# plot the distribution\n",
    "plt.bar(counter.keys(), counter.values())\n",
    "plt.show()"
   ]
  },
  {
   "cell_type": "code",
   "execution_count": 36,
   "id": "c7d8cd77",
   "metadata": {
    "scrolled": true
   },
   "outputs": [
    {
     "name": "stdout",
     "output_type": "stream",
     "text": [
      "              precision    recall  f1-score   support\n",
      "\n",
      "          -1       0.94      0.76      0.84       278\n",
      "           0       0.89      0.73      0.80       425\n",
      "           1       0.89      0.95      0.92      1755\n",
      "           2       0.90      0.91      0.90       706\n",
      "\n",
      "    accuracy                           0.90      3164\n",
      "   macro avg       0.91      0.84      0.87      3164\n",
      "weighted avg       0.90      0.90      0.89      3164\n",
      "\n"
     ]
    }
   ],
   "source": [
    "# create model object\n",
    "lr_resample = LogisticRegression(multi_class='ovr')\n",
    "\n",
    "# train model\n",
    "lr_resample.fit(X_resample, y_resample)\n",
    "\n",
    "#Generate predictions\n",
    "y_pred_resample = lr.predict(X_test)\n",
    "\n",
    "y_pred_resample=pd.DataFrame(y_pred_resample)\n",
    "\n",
    "# Classification report\n",
    "from sklearn.metrics import classification_report\n",
    "print(classification_report(y_test, y_pred_resample))\n",
    "\n",
    "import warnings\n",
    "warnings.filterwarnings('ignore')"
   ]
  },
  {
   "cell_type": "code",
   "execution_count": 37,
   "id": "d1359445",
   "metadata": {},
   "outputs": [
    {
     "data": {
      "image/png": "[encoded data removed]",
      "text/plain": [
       "<Figure size 432x288 with 1 Axes>"
      ]
     },
     "metadata": {
      "needs_background": "light"
     },
     "output_type": "display_data"
    }
   ],
   "source": [
    "#distribution of the predictions\n",
    "y_pred_resample.value_counts().plot(kind = 'bar')\n",
    "plt.show()"
   ]
  },
  {
   "cell_type": "markdown",
   "id": "20c073c2",
   "metadata": {},
   "source": [
    "*Predictions on Test* "
   ]
  },
  {
   "cell_type": "code",
   "execution_count": 37,
   "id": "e7fa9f7a",
   "metadata": {},
   "outputs": [],
   "source": [
    "preds_resample=lr_resample.predict(feat_test)"
   ]
  },
  {
   "cell_type": "code",
   "execution_count": 39,
   "id": "cd412572",
   "metadata": {},
   "outputs": [
    {
     "data": {
      "text/plain": [
       "10546"
      ]
     },
     "execution_count": 39,
     "metadata": {},
     "output_type": "execute_result"
    }
   ],
   "source": [
    "len(preds_resample)"
   ]
  },
  {
   "cell_type": "code",
   "execution_count": 40,
   "id": "b3a7f0d2",
   "metadata": {},
   "outputs": [
    {
     "data": {
      "text/html": [
       "<div>\n",
       "<style scoped>\n",
       "    .dataframe tbody tr th:only-of-type {\n",
       "        vertical-align: middle;\n",
       "    }\n",
       "\n",
       "    .dataframe tbody tr th {\n",
       "        vertical-align: top;\n",
       "    }\n",
       "\n",
       "    .dataframe thead th {\n",
       "        text-align: right;\n",
       "    }\n",
       "</style>\n",
       "<table border=\"1\" class=\"dataframe\">\n",
       "  <thead>\n",
       "    <tr style=\"text-align: right;\">\n",
       "      <th></th>\n",
       "      <th>sentiment</th>\n",
       "    </tr>\n",
       "  </thead>\n",
       "  <tbody>\n",
       "    <tr>\n",
       "      <th>0</th>\n",
       "      <td>-1</td>\n",
       "    </tr>\n",
       "    <tr>\n",
       "      <th>1</th>\n",
       "      <td>-1</td>\n",
       "    </tr>\n",
       "  </tbody>\n",
       "</table>\n",
       "</div>"
      ],
      "text/plain": [
       "   sentiment\n",
       "0         -1\n",
       "1         -1"
      ]
     },
     "execution_count": 40,
     "metadata": {},
     "output_type": "execute_result"
    }
   ],
   "source": [
    "daf=pd.DataFrame(preds_resample,columns=['sentiment'])\n",
    "daf.head(2)"
   ]
  },
  {
   "cell_type": "code",
   "execution_count": 41,
   "id": "55b84fd0",
   "metadata": {
    "scrolled": false
   },
   "outputs": [
    {
     "data": {
      "text/html": [
       "<div>\n",
       "<style scoped>\n",
       "    .dataframe tbody tr th:only-of-type {\n",
       "        vertical-align: middle;\n",
       "    }\n",
       "\n",
       "    .dataframe tbody tr th {\n",
       "        vertical-align: top;\n",
       "    }\n",
       "\n",
       "    .dataframe thead th {\n",
       "        text-align: right;\n",
       "    }\n",
       "</style>\n",
       "<table border=\"1\" class=\"dataframe\">\n",
       "  <thead>\n",
       "    <tr style=\"text-align: right;\">\n",
       "      <th></th>\n",
       "      <th>tweetid</th>\n",
       "      <th>sentiment</th>\n",
       "    </tr>\n",
       "  </thead>\n",
       "  <tbody>\n",
       "    <tr>\n",
       "      <th>0</th>\n",
       "      <td>169760</td>\n",
       "      <td>-1</td>\n",
       "    </tr>\n",
       "    <tr>\n",
       "      <th>1</th>\n",
       "      <td>35326</td>\n",
       "      <td>-1</td>\n",
       "    </tr>\n",
       "    <tr>\n",
       "      <th>2</th>\n",
       "      <td>224985</td>\n",
       "      <td>-1</td>\n",
       "    </tr>\n",
       "    <tr>\n",
       "      <th>3</th>\n",
       "      <td>476263</td>\n",
       "      <td>0</td>\n",
       "    </tr>\n",
       "    <tr>\n",
       "      <th>4</th>\n",
       "      <td>872928</td>\n",
       "      <td>0</td>\n",
       "    </tr>\n",
       "    <tr>\n",
       "      <th>...</th>\n",
       "      <td>...</td>\n",
       "      <td>...</td>\n",
       "    </tr>\n",
       "    <tr>\n",
       "      <th>10541</th>\n",
       "      <td>895714</td>\n",
       "      <td>-1</td>\n",
       "    </tr>\n",
       "    <tr>\n",
       "      <th>10542</th>\n",
       "      <td>875167</td>\n",
       "      <td>1</td>\n",
       "    </tr>\n",
       "    <tr>\n",
       "      <th>10543</th>\n",
       "      <td>78329</td>\n",
       "      <td>-1</td>\n",
       "    </tr>\n",
       "    <tr>\n",
       "      <th>10544</th>\n",
       "      <td>867455</td>\n",
       "      <td>-1</td>\n",
       "    </tr>\n",
       "    <tr>\n",
       "      <th>10545</th>\n",
       "      <td>470892</td>\n",
       "      <td>-1</td>\n",
       "    </tr>\n",
       "  </tbody>\n",
       "</table>\n",
       "<p>10546 rows × 2 columns</p>\n",
       "</div>"
      ],
      "text/plain": [
       "       tweetid  sentiment\n",
       "0       169760         -1\n",
       "1        35326         -1\n",
       "2       224985         -1\n",
       "3       476263          0\n",
       "4       872928          0\n",
       "...        ...        ...\n",
       "10541   895714         -1\n",
       "10542   875167          1\n",
       "10543    78329         -1\n",
       "10544   867455         -1\n",
       "10545   470892         -1\n",
       "\n",
       "[10546 rows x 2 columns]"
      ]
     },
     "execution_count": 41,
     "metadata": {},
     "output_type": "execute_result"
    }
   ],
   "source": [
    "output=pd.DataFrame({'tweetid':df_test['tweetid']})\n",
    "submission=output.join(daf)\n",
    "#submission.to_csv('submission2.csv',index=False)\n",
    "\n",
    "submission"
   ]
  },
  {
   "cell_type": "code",
   "execution_count": 43,
   "id": "f2430aae",
   "metadata": {
    "scrolled": false
   },
   "outputs": [
    {
     "data": {
      "image/png": "[encoded data removed]",
      "text/plain": [
       "<Figure size 432x288 with 1 Axes>"
      ]
     },
     "metadata": {
      "needs_background": "light"
     },
     "output_type": "display_data"
    }
   ],
   "source": [
    "#distribution of the predictions\n",
    "submission['sentiment'].value_counts().plot(kind = 'bar')\n",
    "plt.show()"
   ]
  },
  {
   "cell_type": "code",
   "execution_count": null,
   "id": "9b64f02d",
   "metadata": {},
   "outputs": [],
   "source": []
  },
  {
   "cell_type": "markdown",
   "id": "70561a3d",
   "metadata": {},
   "source": [
    "#### Graphical Multivariate EDA"
   ]
  },
  {
   "cell_type": "markdown",
   "id": "9fcee30b",
   "metadata": {},
   "source": [
    "First we will create a word could image of the frequently twitted word in each of the different classes which are as follows:\n",
    "\n",
    "* 2 News: the tweet links to factual news about climate change\n",
    "* 1 Pro: the tweet supports the belief of man-made climate change\n",
    "* 0 Neutral: the tweet neither supports nor refutes the belief of man-made climate change\n",
    "* -1 Anti: the tweet does not believe in man-made climate change"
   ]
  },
  {
   "cell_type": "code",
   "execution_count": 38,
   "id": "dddae1dd",
   "metadata": {},
   "outputs": [
    {
     "data": {
      "text/html": [
       "<div>\n",
       "<style scoped>\n",
       "    .dataframe tbody tr th:only-of-type {\n",
       "        vertical-align: middle;\n",
       "    }\n",
       "\n",
       "    .dataframe tbody tr th {\n",
       "        vertical-align: top;\n",
       "    }\n",
       "\n",
       "    .dataframe thead th {\n",
       "        text-align: right;\n",
       "    }\n",
       "</style>\n",
       "<table border=\"1\" class=\"dataframe\">\n",
       "  <thead>\n",
       "    <tr style=\"text-align: right;\">\n",
       "      <th></th>\n",
       "      <th>sentiment</th>\n",
       "      <th>message</th>\n",
       "      <th>tweetid</th>\n",
       "    </tr>\n",
       "  </thead>\n",
       "  <tbody>\n",
       "    <tr>\n",
       "      <th>0</th>\n",
       "      <td>1</td>\n",
       "      <td>polyscimajor epa chief doesnt think carbon dioxide main cause global warming wait urlweb via mashable</td>\n",
       "      <td>625221</td>\n",
       "    </tr>\n",
       "    <tr>\n",
       "      <th>1</th>\n",
       "      <td>1</td>\n",
       "      <td>like lack evidence anthropogenic global warming</td>\n",
       "      <td>126103</td>\n",
       "    </tr>\n",
       "    <tr>\n",
       "      <th>2</th>\n",
       "      <td>2</td>\n",
       "      <td>rawstory researcher say three year act climate change it’s late urlweb urlweb…</td>\n",
       "      <td>698562</td>\n",
       "    </tr>\n",
       "    <tr>\n",
       "      <th>3</th>\n",
       "      <td>1</td>\n",
       "      <td>todayinmaker wired 2016 pivotal year war climate change urlweb</td>\n",
       "      <td>573736</td>\n",
       "    </tr>\n",
       "    <tr>\n",
       "      <th>4</th>\n",
       "      <td>1</td>\n",
       "      <td>soynoviodetodas 2016 racist sexist climate change denying bigot leading poll electionnight</td>\n",
       "      <td>466954</td>\n",
       "    </tr>\n",
       "  </tbody>\n",
       "</table>\n",
       "</div>"
      ],
      "text/plain": [
       "   sentiment  \\\n",
       "0          1   \n",
       "1          1   \n",
       "2          2   \n",
       "3          1   \n",
       "4          1   \n",
       "\n",
       "                                                                                                 message  \\\n",
       "0  polyscimajor epa chief doesnt think carbon dioxide main cause global warming wait urlweb via mashable   \n",
       "1                                                        like lack evidence anthropogenic global warming   \n",
       "2                         rawstory researcher say three year act climate change it’s late urlweb urlweb…   \n",
       "3                                         todayinmaker wired 2016 pivotal year war climate change urlweb   \n",
       "4             soynoviodetodas 2016 racist sexist climate change denying bigot leading poll electionnight   \n",
       "\n",
       "   tweetid  \n",
       "0   625221  \n",
       "1   126103  \n",
       "2   698562  \n",
       "3   573736  \n",
       "4   466954  "
      ]
     },
     "execution_count": 38,
     "metadata": {},
     "output_type": "execute_result"
    }
   ],
   "source": [
    "df_gm = df.copy()\n",
    "df_gm.head()"
   ]
  },
  {
   "cell_type": "code",
   "execution_count": 39,
   "id": "6a37abd8",
   "metadata": {},
   "outputs": [],
   "source": [
    "#create different dataframes for each of the classes\n",
    "df_news= df_gm.drop(df[df.sentiment <= 1].index)\n",
    "\n",
    "df_pro= df_gm.drop(df[df.sentiment<=0].index)\n",
    "df_pro= df_gm.drop(df[df.sentiment>=2].index)\n",
    "\n",
    "df_neutral= df_gm.drop(df[df.sentiment<=(-1)].index)\n",
    "df_neutral= df_gm.drop(df[df.sentiment>=1].index)\n",
    "\n",
    "df_anti= df_gm.drop(df[df.sentiment>=0].index)"
   ]
  },
  {
   "cell_type": "code",
   "execution_count": 40,
   "id": "b06e5f0f",
   "metadata": {
    "scrolled": false
   },
   "outputs": [],
   "source": [
    "import matplotlib.pyplot as plt\n",
    "# Importing wordcloud for plotting word clouds and textwrap for wrapping longer text\n",
    "from wordcloud import WordCloud\n",
    "from textwrap import wrap"
   ]
  },
  {
   "cell_type": "code",
   "execution_count": 41,
   "id": "a7df6d48",
   "metadata": {},
   "outputs": [
    {
     "data": {
      "text/plain": [
       "Text(0.5, 1.0, 'Anti Tweets')"
      ]
     },
     "execution_count": 41,
     "metadata": {},
     "output_type": "execute_result"
    },
    {
     "data": {
      "image/png": "[encoded data removed]",
      "text/plain": [
       "<Figure size 288x576 with 1 Axes>"
      ]
     },
     "metadata": {
      "needs_background": "light"
     },
     "output_type": "display_data"
    },
    {
     "data": {
      "image/png": "[encoded data removed]",
      "text/plain": [
       "<Figure size 288x576 with 1 Axes>"
      ]
     },
     "metadata": {
      "needs_background": "light"
     },
     "output_type": "display_data"
    },
    {
     "data": {
      "image/png": "[encoded data removed]",
      "text/plain": [
       "<Figure size 288x576 with 1 Axes>"
      ]
     },
     "metadata": {
      "needs_background": "light"
     },
     "output_type": "display_data"
    },
    {
     "data": {
      "image/png": "[encoded data removed]",
      "text/plain": [
       "<Figure size 288x576 with 1 Axes>"
      ]
     },
     "metadata": {
      "needs_background": "light"
     },
     "output_type": "display_data"
    }
   ],
   "source": [
    "#create instance of WordCloud\n",
    "wc=WordCloud(width=400, height=330, max_words=150,colormap=\"Dark2\")\n",
    "\n",
    "#Create string of 100 words\n",
    "wcVect = CountVectorizer(stop_words='english',max_features=100) \n",
    "wcVect.fit(df_news['message'])\n",
    "text1=list(wcVect.vocabulary_)\n",
    "text2=string = ' '.join(text1)\n",
    "\n",
    "text2\n",
    "#createWordCloud\n",
    "a=wc.generate(string)\n",
    "\n",
    "plt.figure(figsize = (4, 8), facecolor = None)\n",
    "plt.imshow(a)\n",
    "plt.axis(\"off\")\n",
    "plt.tight_layout(pad = 0);\n",
    "\n",
    "plt.title(\"News Tweets\")\n",
    "##########################################################\n",
    "#create instance of WordCloud\n",
    "wc=WordCloud(width=400, height=330, max_words=150,colormap=\"Dark2\")\n",
    "\n",
    "#Create string of 100 words\n",
    "wcVect = CountVectorizer(stop_words='english',max_features=100) \n",
    "wcVect.fit(df_pro['message'])\n",
    "text1=list(wcVect.vocabulary_)\n",
    "text2=string = ' '.join(text1)\n",
    "\n",
    "text2\n",
    "\n",
    "#createWordCloud\n",
    "b=wc.generate(string)\n",
    "\n",
    "\n",
    "plt.figure(figsize = (4, 8), facecolor = None)\n",
    "plt.imshow(b)\n",
    "plt.axis(\"off\")\n",
    "plt.tight_layout(pad = 0)\n",
    "\n",
    "plt.title(\"Pro Tweets\")\n",
    "##################################################################\n",
    "#create instance of WordCloud\n",
    "wc=WordCloud(width=400, height=330, max_words=150,colormap=\"Dark2\")\n",
    "\n",
    "#Create string of 100 words\n",
    "wcVect = CountVectorizer(stop_words='english',max_features=100) \n",
    "wcVect.fit(df_neutral['message'])\n",
    "text1=list(wcVect.vocabulary_)\n",
    "text2=string = ' '.join(text1)\n",
    "\n",
    "text2\n",
    "\n",
    "#createWordCloud\n",
    "c=wc.generate(string)\n",
    "\n",
    "\n",
    "plt.figure(figsize = (4, 8), facecolor = None)\n",
    "plt.imshow(c)\n",
    "plt.axis(\"off\")\n",
    "plt.tight_layout(pad = 0);\n",
    "\n",
    "plt.title(\"Neutral Tweets\")\n",
    "\n",
    "#########################################################\n",
    "#create instance of WordCloud\n",
    "wc=WordCloud(width=400, height=330, max_words=150,colormap=\"Dark2\")\n",
    "\n",
    "#Create string of 100 words\n",
    "wcVect = CountVectorizer(stop_words='english',max_features=100) \n",
    "wcVect.fit(df_anti['message'])\n",
    "text1=list(wcVect.vocabulary_)\n",
    "text2=string = ' '.join(text1)\n",
    "\n",
    "text2\n",
    "\n",
    "#createWordCloud\n",
    "d=wc.generate(string)\n",
    "\n",
    "\n",
    "plt.figure(figsize = (4, 8), facecolor = None)\n",
    "plt.imshow(d)\n",
    "plt.axis(\"off\")\n",
    "plt.tight_layout(pad = 0);\n",
    "\n",
    "plt.title(\"Anti Tweets\")\n"
   ]
  },
  {
   "cell_type": "markdown",
   "id": "86cb17cd",
   "metadata": {},
   "source": [
    "#### heatmap"
   ]
  },
  {
   "cell_type": "code",
   "execution_count": 42,
   "id": "0d8af967",
   "metadata": {},
   "outputs": [],
   "source": [
    "df_hm = df.copy()"
   ]
  },
  {
   "cell_type": "code",
   "execution_count": 43,
   "id": "6c54a8b2",
   "metadata": {},
   "outputs": [
    {
     "data": {
      "text/plain": [
       "CountVectorizer(max_features=10, stop_words='english')"
      ]
     },
     "execution_count": 43,
     "metadata": {},
     "output_type": "execute_result"
    }
   ],
   "source": [
    "#Create string of 100 words\n",
    "hmVect = CountVectorizer(stop_words='english',max_features=10) \n",
    "hmVect.fit(df_hm['message'])"
   ]
  },
  {
   "cell_type": "code",
   "execution_count": 44,
   "id": "5a06936e",
   "metadata": {},
   "outputs": [
    {
     "data": {
      "text/plain": [
       "{'doesnt': 4,\n",
       " 'global': 5,\n",
       " 'warming': 9,\n",
       " 'urlweb': 8,\n",
       " 'say': 6,\n",
       " 'climate': 3,\n",
       " 'change': 2,\n",
       " 'believe': 1,\n",
       " 'trump': 7,\n",
       " 'amp': 0}"
      ]
     },
     "execution_count": 44,
     "metadata": {},
     "output_type": "execute_result"
    }
   ],
   "source": [
    "hmVect.vocabulary_"
   ]
  },
  {
   "cell_type": "code",
   "execution_count": 45,
   "id": "2549a0b6",
   "metadata": {},
   "outputs": [
    {
     "data": {
      "text/plain": [
       "array([[0, 0, 0, ..., 0, 1, 1],\n",
       "       [0, 0, 0, ..., 0, 0, 1],\n",
       "       [0, 0, 1, ..., 0, 2, 0],\n",
       "       ...,\n",
       "       [0, 1, 1, ..., 1, 1, 0],\n",
       "       [0, 0, 1, ..., 0, 0, 0],\n",
       "       [0, 0, 1, ..., 0, 1, 0]], dtype=int64)"
      ]
     },
     "execution_count": 45,
     "metadata": {},
     "output_type": "execute_result"
    }
   ],
   "source": [
    "hmVect_transform=hmVect.transform(df_hm['message'])\n",
    "hmVect_array=hmVect_transform.toarray()\n",
    "hmVect_array"
   ]
  },
  {
   "cell_type": "code",
   "execution_count": 46,
   "id": "6f8b439e",
   "metadata": {
    "scrolled": true
   },
   "outputs": [
    {
     "data": {
      "text/html": [
       "<div>\n",
       "<style scoped>\n",
       "    .dataframe tbody tr th:only-of-type {\n",
       "        vertical-align: middle;\n",
       "    }\n",
       "\n",
       "    .dataframe tbody tr th {\n",
       "        vertical-align: top;\n",
       "    }\n",
       "\n",
       "    .dataframe thead th {\n",
       "        text-align: right;\n",
       "    }\n",
       "</style>\n",
       "<table border=\"1\" class=\"dataframe\">\n",
       "  <thead>\n",
       "    <tr style=\"text-align: right;\">\n",
       "      <th></th>\n",
       "      <th>amp</th>\n",
       "      <th>believe</th>\n",
       "      <th>change</th>\n",
       "      <th>climate</th>\n",
       "      <th>doesnt</th>\n",
       "      <th>global</th>\n",
       "      <th>rt</th>\n",
       "      <th>trump</th>\n",
       "      <th>urlweb</th>\n",
       "      <th>warming</th>\n",
       "    </tr>\n",
       "  </thead>\n",
       "  <tbody>\n",
       "    <tr>\n",
       "      <th>0</th>\n",
       "      <td>0</td>\n",
       "      <td>0</td>\n",
       "      <td>0</td>\n",
       "      <td>0</td>\n",
       "      <td>1</td>\n",
       "      <td>1</td>\n",
       "      <td>0</td>\n",
       "      <td>0</td>\n",
       "      <td>1</td>\n",
       "      <td>1</td>\n",
       "    </tr>\n",
       "    <tr>\n",
       "      <th>1</th>\n",
       "      <td>0</td>\n",
       "      <td>0</td>\n",
       "      <td>0</td>\n",
       "      <td>0</td>\n",
       "      <td>0</td>\n",
       "      <td>1</td>\n",
       "      <td>0</td>\n",
       "      <td>0</td>\n",
       "      <td>0</td>\n",
       "      <td>1</td>\n",
       "    </tr>\n",
       "    <tr>\n",
       "      <th>2</th>\n",
       "      <td>0</td>\n",
       "      <td>0</td>\n",
       "      <td>1</td>\n",
       "      <td>1</td>\n",
       "      <td>0</td>\n",
       "      <td>0</td>\n",
       "      <td>1</td>\n",
       "      <td>0</td>\n",
       "      <td>2</td>\n",
       "      <td>0</td>\n",
       "    </tr>\n",
       "    <tr>\n",
       "      <th>3</th>\n",
       "      <td>0</td>\n",
       "      <td>0</td>\n",
       "      <td>1</td>\n",
       "      <td>1</td>\n",
       "      <td>0</td>\n",
       "      <td>0</td>\n",
       "      <td>0</td>\n",
       "      <td>0</td>\n",
       "      <td>1</td>\n",
       "      <td>0</td>\n",
       "    </tr>\n",
       "    <tr>\n",
       "      <th>4</th>\n",
       "      <td>0</td>\n",
       "      <td>0</td>\n",
       "      <td>1</td>\n",
       "      <td>1</td>\n",
       "      <td>0</td>\n",
       "      <td>0</td>\n",
       "      <td>0</td>\n",
       "      <td>0</td>\n",
       "      <td>0</td>\n",
       "      <td>0</td>\n",
       "    </tr>\n",
       "    <tr>\n",
       "      <th>...</th>\n",
       "      <td>...</td>\n",
       "      <td>...</td>\n",
       "      <td>...</td>\n",
       "      <td>...</td>\n",
       "      <td>...</td>\n",
       "      <td>...</td>\n",
       "      <td>...</td>\n",
       "      <td>...</td>\n",
       "      <td>...</td>\n",
       "      <td>...</td>\n",
       "    </tr>\n",
       "    <tr>\n",
       "      <th>15814</th>\n",
       "      <td>0</td>\n",
       "      <td>0</td>\n",
       "      <td>0</td>\n",
       "      <td>0</td>\n",
       "      <td>0</td>\n",
       "      <td>1</td>\n",
       "      <td>0</td>\n",
       "      <td>0</td>\n",
       "      <td>0</td>\n",
       "      <td>1</td>\n",
       "    </tr>\n",
       "    <tr>\n",
       "      <th>15815</th>\n",
       "      <td>0</td>\n",
       "      <td>0</td>\n",
       "      <td>1</td>\n",
       "      <td>1</td>\n",
       "      <td>0</td>\n",
       "      <td>0</td>\n",
       "      <td>0</td>\n",
       "      <td>0</td>\n",
       "      <td>1</td>\n",
       "      <td>0</td>\n",
       "    </tr>\n",
       "    <tr>\n",
       "      <th>15816</th>\n",
       "      <td>0</td>\n",
       "      <td>1</td>\n",
       "      <td>1</td>\n",
       "      <td>1</td>\n",
       "      <td>0</td>\n",
       "      <td>0</td>\n",
       "      <td>0</td>\n",
       "      <td>1</td>\n",
       "      <td>1</td>\n",
       "      <td>0</td>\n",
       "    </tr>\n",
       "    <tr>\n",
       "      <th>15817</th>\n",
       "      <td>0</td>\n",
       "      <td>0</td>\n",
       "      <td>1</td>\n",
       "      <td>2</td>\n",
       "      <td>0</td>\n",
       "      <td>0</td>\n",
       "      <td>0</td>\n",
       "      <td>0</td>\n",
       "      <td>0</td>\n",
       "      <td>0</td>\n",
       "    </tr>\n",
       "    <tr>\n",
       "      <th>15818</th>\n",
       "      <td>0</td>\n",
       "      <td>0</td>\n",
       "      <td>1</td>\n",
       "      <td>1</td>\n",
       "      <td>0</td>\n",
       "      <td>0</td>\n",
       "      <td>0</td>\n",
       "      <td>0</td>\n",
       "      <td>1</td>\n",
       "      <td>0</td>\n",
       "    </tr>\n",
       "  </tbody>\n",
       "</table>\n",
       "<p>15819 rows × 10 columns</p>\n",
       "</div>"
      ],
      "text/plain": [
       "       amp  believe  change  climate  doesnt  global  rt  trump  urlweb  \\\n",
       "0        0        0       0        0       1       1   0      0       1   \n",
       "1        0        0       0        0       0       1   0      0       0   \n",
       "2        0        0       1        1       0       0   1      0       2   \n",
       "3        0        0       1        1       0       0   0      0       1   \n",
       "4        0        0       1        1       0       0   0      0       0   \n",
       "...    ...      ...     ...      ...     ...     ...  ..    ...     ...   \n",
       "15814    0        0       0        0       0       1   0      0       0   \n",
       "15815    0        0       1        1       0       0   0      0       1   \n",
       "15816    0        1       1        1       0       0   0      1       1   \n",
       "15817    0        0       1        2       0       0   0      0       0   \n",
       "15818    0        0       1        1       0       0   0      0       1   \n",
       "\n",
       "       warming  \n",
       "0            1  \n",
       "1            1  \n",
       "2            0  \n",
       "3            0  \n",
       "4            0  \n",
       "...        ...  \n",
       "15814        1  \n",
       "15815        0  \n",
       "15816        0  \n",
       "15817        0  \n",
       "15818        0  \n",
       "\n",
       "[15819 rows x 10 columns]"
      ]
     },
     "execution_count": 46,
     "metadata": {},
     "output_type": "execute_result"
    }
   ],
   "source": [
    "df_feat= pd. DataFrame(hmVect_array, columns=['amp', 'believe', 'change','climate','doesnt','global','rt','trump','urlweb','warming'])\n",
    "df_feat"
   ]
  },
  {
   "cell_type": "code",
   "execution_count": 47,
   "id": "d729482d",
   "metadata": {},
   "outputs": [
    {
     "data": {
      "text/html": [
       "<div>\n",
       "<style scoped>\n",
       "    .dataframe tbody tr th:only-of-type {\n",
       "        vertical-align: middle;\n",
       "    }\n",
       "\n",
       "    .dataframe tbody tr th {\n",
       "        vertical-align: top;\n",
       "    }\n",
       "\n",
       "    .dataframe thead th {\n",
       "        text-align: right;\n",
       "    }\n",
       "</style>\n",
       "<table border=\"1\" class=\"dataframe\">\n",
       "  <thead>\n",
       "    <tr style=\"text-align: right;\">\n",
       "      <th></th>\n",
       "      <th>amp</th>\n",
       "      <th>believe</th>\n",
       "      <th>change</th>\n",
       "      <th>climate</th>\n",
       "      <th>doesnt</th>\n",
       "      <th>global</th>\n",
       "      <th>rt</th>\n",
       "      <th>trump</th>\n",
       "      <th>urlweb</th>\n",
       "      <th>warming</th>\n",
       "    </tr>\n",
       "  </thead>\n",
       "  <tbody>\n",
       "    <tr>\n",
       "      <th>0</th>\n",
       "      <td>0</td>\n",
       "      <td>0</td>\n",
       "      <td>0</td>\n",
       "      <td>0</td>\n",
       "      <td>1</td>\n",
       "      <td>1</td>\n",
       "      <td>0</td>\n",
       "      <td>0</td>\n",
       "      <td>1</td>\n",
       "      <td>1</td>\n",
       "    </tr>\n",
       "    <tr>\n",
       "      <th>1</th>\n",
       "      <td>0</td>\n",
       "      <td>0</td>\n",
       "      <td>0</td>\n",
       "      <td>0</td>\n",
       "      <td>0</td>\n",
       "      <td>1</td>\n",
       "      <td>0</td>\n",
       "      <td>0</td>\n",
       "      <td>0</td>\n",
       "      <td>1</td>\n",
       "    </tr>\n",
       "    <tr>\n",
       "      <th>2</th>\n",
       "      <td>0</td>\n",
       "      <td>0</td>\n",
       "      <td>1</td>\n",
       "      <td>1</td>\n",
       "      <td>0</td>\n",
       "      <td>0</td>\n",
       "      <td>1</td>\n",
       "      <td>0</td>\n",
       "      <td>2</td>\n",
       "      <td>0</td>\n",
       "    </tr>\n",
       "    <tr>\n",
       "      <th>3</th>\n",
       "      <td>0</td>\n",
       "      <td>0</td>\n",
       "      <td>1</td>\n",
       "      <td>1</td>\n",
       "      <td>0</td>\n",
       "      <td>0</td>\n",
       "      <td>0</td>\n",
       "      <td>0</td>\n",
       "      <td>1</td>\n",
       "      <td>0</td>\n",
       "    </tr>\n",
       "    <tr>\n",
       "      <th>4</th>\n",
       "      <td>0</td>\n",
       "      <td>0</td>\n",
       "      <td>1</td>\n",
       "      <td>1</td>\n",
       "      <td>0</td>\n",
       "      <td>0</td>\n",
       "      <td>0</td>\n",
       "      <td>0</td>\n",
       "      <td>0</td>\n",
       "      <td>0</td>\n",
       "    </tr>\n",
       "  </tbody>\n",
       "</table>\n",
       "</div>"
      ],
      "text/plain": [
       "   amp  believe  change  climate  doesnt  global  rt  trump  urlweb  warming\n",
       "0    0        0       0        0       1       1   0      0       1        1\n",
       "1    0        0       0        0       0       1   0      0       0        1\n",
       "2    0        0       1        1       0       0   1      0       2        0\n",
       "3    0        0       1        1       0       0   0      0       1        0\n",
       "4    0        0       1        1       0       0   0      0       0        0"
      ]
     },
     "execution_count": 47,
     "metadata": {},
     "output_type": "execute_result"
    }
   ],
   "source": [
    "df_feat.head()"
   ]
  },
  {
   "cell_type": "code",
   "execution_count": 48,
   "id": "d65a69c6",
   "metadata": {
    "scrolled": false
   },
   "outputs": [
    {
     "data": {
      "image/png": "[encoded data removed]",
      "text/plain": [
       "<Figure size 720x288 with 2 Axes>"
      ]
     },
     "metadata": {
      "needs_background": "light"
     },
     "output_type": "display_data"
    }
   ],
   "source": [
    "fig, ax = plt.subplots(figsize=(10,4)) \n",
    "heatmap = sns.heatmap(df_feat.corr(), vmin=-1, vmax=1, annot=True, ax=ax)\n",
    "heatmap.set_title('Correlation Heatmap', fontdict={'fontsize':12}, pad=12);"
   ]
  },
  {
   "cell_type": "code",
   "execution_count": 49,
   "id": "a581d023",
   "metadata": {
    "scrolled": false
   },
   "outputs": [
    {
     "data": {
      "text/html": [
       "<div>\n",
       "<style scoped>\n",
       "    .dataframe tbody tr th:only-of-type {\n",
       "        vertical-align: middle;\n",
       "    }\n",
       "\n",
       "    .dataframe tbody tr th {\n",
       "        vertical-align: top;\n",
       "    }\n",
       "\n",
       "    .dataframe thead th {\n",
       "        text-align: right;\n",
       "    }\n",
       "</style>\n",
       "<table border=\"1\" class=\"dataframe\">\n",
       "  <thead>\n",
       "    <tr style=\"text-align: right;\">\n",
       "      <th></th>\n",
       "      <th>amp</th>\n",
       "      <th>believe</th>\n",
       "      <th>change</th>\n",
       "      <th>climate</th>\n",
       "      <th>doesnt</th>\n",
       "      <th>global</th>\n",
       "      <th>rt</th>\n",
       "      <th>trump</th>\n",
       "      <th>urlweb</th>\n",
       "      <th>warming</th>\n",
       "    </tr>\n",
       "  </thead>\n",
       "  <tbody>\n",
       "    <tr>\n",
       "      <th>amp</th>\n",
       "      <td>1.000000</td>\n",
       "      <td>-0.039021</td>\n",
       "      <td>0.025480</td>\n",
       "      <td>0.024500</td>\n",
       "      <td>-0.040837</td>\n",
       "      <td>-0.023187</td>\n",
       "      <td>-0.029643</td>\n",
       "      <td>-0.017801</td>\n",
       "      <td>-0.106345</td>\n",
       "      <td>-0.028559</td>\n",
       "    </tr>\n",
       "    <tr>\n",
       "      <th>believe</th>\n",
       "      <td>-0.039021</td>\n",
       "      <td>1.000000</td>\n",
       "      <td>0.006445</td>\n",
       "      <td>0.002630</td>\n",
       "      <td>0.599995</td>\n",
       "      <td>-0.009690</td>\n",
       "      <td>0.093024</td>\n",
       "      <td>-0.065412</td>\n",
       "      <td>-0.187254</td>\n",
       "      <td>-0.007070</td>\n",
       "    </tr>\n",
       "    <tr>\n",
       "      <th>change</th>\n",
       "      <td>0.025480</td>\n",
       "      <td>0.006445</td>\n",
       "      <td>1.000000</td>\n",
       "      <td>0.882386</td>\n",
       "      <td>0.025363</td>\n",
       "      <td>-0.824378</td>\n",
       "      <td>-0.012996</td>\n",
       "      <td>0.087193</td>\n",
       "      <td>0.089046</td>\n",
       "      <td>-0.859933</td>\n",
       "    </tr>\n",
       "    <tr>\n",
       "      <th>climate</th>\n",
       "      <td>0.024500</td>\n",
       "      <td>0.002630</td>\n",
       "      <td>0.882386</td>\n",
       "      <td>1.000000</td>\n",
       "      <td>0.013553</td>\n",
       "      <td>-0.807596</td>\n",
       "      <td>-0.008374</td>\n",
       "      <td>0.083215</td>\n",
       "      <td>0.079156</td>\n",
       "      <td>-0.841356</td>\n",
       "    </tr>\n",
       "    <tr>\n",
       "      <th>doesnt</th>\n",
       "      <td>-0.040837</td>\n",
       "      <td>0.599995</td>\n",
       "      <td>0.025363</td>\n",
       "      <td>0.013553</td>\n",
       "      <td>1.000000</td>\n",
       "      <td>-0.027871</td>\n",
       "      <td>0.143663</td>\n",
       "      <td>-0.043635</td>\n",
       "      <td>-0.152219</td>\n",
       "      <td>-0.022613</td>\n",
       "    </tr>\n",
       "    <tr>\n",
       "      <th>global</th>\n",
       "      <td>-0.023187</td>\n",
       "      <td>-0.009690</td>\n",
       "      <td>-0.824378</td>\n",
       "      <td>-0.807596</td>\n",
       "      <td>-0.027871</td>\n",
       "      <td>1.000000</td>\n",
       "      <td>0.007260</td>\n",
       "      <td>-0.088991</td>\n",
       "      <td>-0.093965</td>\n",
       "      <td>0.935524</td>\n",
       "    </tr>\n",
       "    <tr>\n",
       "      <th>rt</th>\n",
       "      <td>-0.029643</td>\n",
       "      <td>0.093024</td>\n",
       "      <td>-0.012996</td>\n",
       "      <td>-0.008374</td>\n",
       "      <td>0.143663</td>\n",
       "      <td>0.007260</td>\n",
       "      <td>1.000000</td>\n",
       "      <td>0.011428</td>\n",
       "      <td>-0.014093</td>\n",
       "      <td>0.014962</td>\n",
       "    </tr>\n",
       "    <tr>\n",
       "      <th>trump</th>\n",
       "      <td>-0.017801</td>\n",
       "      <td>-0.065412</td>\n",
       "      <td>0.087193</td>\n",
       "      <td>0.083215</td>\n",
       "      <td>-0.043635</td>\n",
       "      <td>-0.088991</td>\n",
       "      <td>0.011428</td>\n",
       "      <td>1.000000</td>\n",
       "      <td>0.100713</td>\n",
       "      <td>-0.092272</td>\n",
       "    </tr>\n",
       "    <tr>\n",
       "      <th>urlweb</th>\n",
       "      <td>-0.106345</td>\n",
       "      <td>-0.187254</td>\n",
       "      <td>0.089046</td>\n",
       "      <td>0.079156</td>\n",
       "      <td>-0.152219</td>\n",
       "      <td>-0.093965</td>\n",
       "      <td>-0.014093</td>\n",
       "      <td>0.100713</td>\n",
       "      <td>1.000000</td>\n",
       "      <td>-0.095569</td>\n",
       "    </tr>\n",
       "    <tr>\n",
       "      <th>warming</th>\n",
       "      <td>-0.028559</td>\n",
       "      <td>-0.007070</td>\n",
       "      <td>-0.859933</td>\n",
       "      <td>-0.841356</td>\n",
       "      <td>-0.022613</td>\n",
       "      <td>0.935524</td>\n",
       "      <td>0.014962</td>\n",
       "      <td>-0.092272</td>\n",
       "      <td>-0.095569</td>\n",
       "      <td>1.000000</td>\n",
       "    </tr>\n",
       "  </tbody>\n",
       "</table>\n",
       "</div>"
      ],
      "text/plain": [
       "              amp   believe    change   climate    doesnt    global        rt  \\\n",
       "amp      1.000000 -0.039021  0.025480  0.024500 -0.040837 -0.023187 -0.029643   \n",
       "believe -0.039021  1.000000  0.006445  0.002630  0.599995 -0.009690  0.093024   \n",
       "change   0.025480  0.006445  1.000000  0.882386  0.025363 -0.824378 -0.012996   \n",
       "climate  0.024500  0.002630  0.882386  1.000000  0.013553 -0.807596 -0.008374   \n",
       "doesnt  -0.040837  0.599995  0.025363  0.013553  1.000000 -0.027871  0.143663   \n",
       "global  -0.023187 -0.009690 -0.824378 -0.807596 -0.027871  1.000000  0.007260   \n",
       "rt      -0.029643  0.093024 -0.012996 -0.008374  0.143663  0.007260  1.000000   \n",
       "trump   -0.017801 -0.065412  0.087193  0.083215 -0.043635 -0.088991  0.011428   \n",
       "urlweb  -0.106345 -0.187254  0.089046  0.079156 -0.152219 -0.093965 -0.014093   \n",
       "warming -0.028559 -0.007070 -0.859933 -0.841356 -0.022613  0.935524  0.014962   \n",
       "\n",
       "            trump    urlweb   warming  \n",
       "amp     -0.017801 -0.106345 -0.028559  \n",
       "believe -0.065412 -0.187254 -0.007070  \n",
       "change   0.087193  0.089046 -0.859933  \n",
       "climate  0.083215  0.079156 -0.841356  \n",
       "doesnt  -0.043635 -0.152219 -0.022613  \n",
       "global  -0.088991 -0.093965  0.935524  \n",
       "rt       0.011428 -0.014093  0.014962  \n",
       "trump    1.000000  0.100713 -0.092272  \n",
       "urlweb   0.100713  1.000000 -0.095569  \n",
       "warming -0.092272 -0.095569  1.000000  "
      ]
     },
     "execution_count": 49,
     "metadata": {},
     "output_type": "execute_result"
    }
   ],
   "source": [
    "df_feat.corr()"
   ]
  },
  {
   "cell_type": "markdown",
   "id": "6ee08c7f",
   "metadata": {},
   "source": [
    "Naive Bayes"
   ]
  },
  {
   "cell_type": "code",
   "execution_count": 50,
   "id": "82888c7c",
   "metadata": {},
   "outputs": [],
   "source": [
    "X=betterVect_transform.toarray()\n",
    "y=df['sentiment']"
   ]
  },
  {
   "cell_type": "code",
   "execution_count": 51,
   "id": "b0bb19d4",
   "metadata": {},
   "outputs": [],
   "source": [
    "from sklearn.naive_bayes import GaussianNB"
   ]
  },
  {
   "cell_type": "code",
   "execution_count": 52,
   "id": "e6e86d2b",
   "metadata": {},
   "outputs": [
    {
     "data": {
      "text/plain": [
       "GaussianNB()"
      ]
     },
     "execution_count": 52,
     "metadata": {},
     "output_type": "execute_result"
    }
   ],
   "source": [
    "# Get training and testing data \n",
    "X_train, X_test, y_train, y_test = train_test_split(X, y, test_size=0.2, random_state=42)\n",
    "# Define the model \n",
    "naive_bayes = GaussianNB()\n",
    "# Fit the model \n",
    "naive_bayes.fit(X_train, y_train)"
   ]
  },
  {
   "cell_type": "code",
   "execution_count": 53,
   "id": "c825d715",
   "metadata": {},
   "outputs": [
    {
     "ename": "NameError",
     "evalue": "name 'GridSearchCV' is not defined",
     "output_type": "error",
     "traceback": [
      "\u001b[1;31m---------------------------------------------------------------------------\u001b[0m",
      "\u001b[1;31mNameError\u001b[0m                                 Traceback (most recent call last)",
      "\u001b[1;32m<ipython-input-53-0d3d203543a1>\u001b[0m in \u001b[0;36m<module>\u001b[1;34m\u001b[0m\n\u001b[0;32m      3\u001b[0m \u001b[1;33m\u001b[0m\u001b[0m\n\u001b[0;32m      4\u001b[0m \u001b[0mparams_nb\u001b[0m \u001b[1;33m=\u001b[0m \u001b[1;33m{\u001b[0m\u001b[1;34m'var_smoothing'\u001b[0m\u001b[1;33m:\u001b[0m \u001b[0mnp\u001b[0m\u001b[1;33m.\u001b[0m\u001b[0mlogspace\u001b[0m\u001b[1;33m(\u001b[0m\u001b[1;36m0\u001b[0m\u001b[1;33m,\u001b[0m\u001b[1;33m-\u001b[0m\u001b[1;36m9\u001b[0m\u001b[1;33m,\u001b[0m \u001b[0mnum\u001b[0m\u001b[1;33m=\u001b[0m\u001b[1;36m100\u001b[0m\u001b[1;33m)\u001b[0m\u001b[1;33m}\u001b[0m\u001b[1;33m\u001b[0m\u001b[1;33m\u001b[0m\u001b[0m\n\u001b[1;32m----> 5\u001b[1;33m gs_nb = GridSearchCV(estimator=naive_bayes, \n\u001b[0m\u001b[0;32m      6\u001b[0m                  \u001b[0mparam_grid\u001b[0m\u001b[1;33m=\u001b[0m\u001b[0mparams_nb\u001b[0m\u001b[1;33m,\u001b[0m\u001b[1;33m\u001b[0m\u001b[1;33m\u001b[0m\u001b[0m\n\u001b[0;32m      7\u001b[0m                  \u001b[0mverbose\u001b[0m\u001b[1;33m=\u001b[0m\u001b[1;36m1\u001b[0m\u001b[1;33m,\u001b[0m\u001b[1;33m\u001b[0m\u001b[1;33m\u001b[0m\u001b[0m\n",
      "\u001b[1;31mNameError\u001b[0m: name 'GridSearchCV' is not defined"
     ]
    }
   ],
   "source": [
    "#from sklearn.model_selection import GridSearchCV\n",
    "\n",
    "\n",
    "params_nb = {'var_smoothing': np.logspace(0,-9, num=100)}\n",
    "gs_nb = GridSearchCV(estimator=naive_bayes, \n",
    "                 param_grid=params_nb,    \n",
    "                 verbose=1, \n",
    "                 scoring='f1') \n",
    "gs_nb.fit(X_train, y_train)\n",
    "\n",
    "gs_nb.best_params_"
   ]
  },
  {
   "cell_type": "code",
   "execution_count": 54,
   "id": "73601102",
   "metadata": {},
   "outputs": [
    {
     "data": {
      "text/plain": [
       "GaussianNB(var_smoothing=2.71828182846)"
      ]
     },
     "execution_count": 54,
     "metadata": {},
     "output_type": "execute_result"
    }
   ],
   "source": [
    "# Get training and testing data \n",
    "X_train, X_test, y_train, y_test = train_test_split(X, y, test_size=0.2, random_state=42)\n",
    "# Define the model \n",
    "naive_bayes_better = GaussianNB(var_smoothing=2.71828182846)\n",
    "# Fit the model \n",
    "naive_bayes_better.fit(X_train, y_train)"
   ]
  },
  {
   "cell_type": "markdown",
   "id": "e49d2e43",
   "metadata": {},
   "source": [
    "### Checking outcomes on the testing set"
   ]
  },
  {
   "cell_type": "code",
   "execution_count": 55,
   "id": "18f355c4",
   "metadata": {},
   "outputs": [],
   "source": [
    "# Generate predictions\n",
    "y_pred_nb = naive_bayes.predict(X_test)\n",
    "\n",
    "y_pred_nb=pd.DataFrame(y_pred_nb)"
   ]
  },
  {
   "cell_type": "code",
   "execution_count": 56,
   "id": "80076be8",
   "metadata": {
    "scrolled": false
   },
   "outputs": [
    {
     "name": "stdout",
     "output_type": "stream",
     "text": [
      "              precision    recall  f1-score   support\n",
      "\n",
      "          -1       0.26      0.51      0.34       278\n",
      "           0       0.29      0.36      0.32       425\n",
      "           1       0.76      0.56      0.65      1755\n",
      "           2       0.59      0.65      0.62       706\n",
      "\n",
      "    accuracy                           0.55      3164\n",
      "   macro avg       0.47      0.52      0.48      3164\n",
      "weighted avg       0.61      0.55      0.57      3164\n",
      "\n"
     ]
    }
   ],
   "source": [
    "# Classification report\n",
    ">>> from sklearn.metrics import classification_report\n",
    "\n",
    "print(classification_report(y_test, y_pred_nb))\n",
    "\n",
    "import warnings\n",
    "warnings.filterwarnings('ignore')"
   ]
  },
  {
   "cell_type": "markdown",
   "id": "43ad52f0",
   "metadata": {},
   "source": [
    "The accuracy is very low."
   ]
  },
  {
   "cell_type": "code",
   "execution_count": 57,
   "id": "c6605f16",
   "metadata": {},
   "outputs": [],
   "source": [
    "# Generate predictions\n",
    "y_pred_nb_better = naive_bayes_better.predict(X_test)\n",
    "\n",
    "y_pred_nb_better=pd.DataFrame(y_pred_nb_better)\n",
    "\n"
   ]
  },
  {
   "cell_type": "code",
   "execution_count": 58,
   "id": "ca0223d3",
   "metadata": {
    "scrolled": true
   },
   "outputs": [
    {
     "name": "stdout",
     "output_type": "stream",
     "text": [
      "              precision    recall  f1-score   support\n",
      "\n",
      "          -1       0.00      0.00      0.00       278\n",
      "           0       0.48      0.02      0.04       425\n",
      "           1       0.59      0.94      0.73      1755\n",
      "           2       0.69      0.35      0.47       706\n",
      "\n",
      "    accuracy                           0.60      3164\n",
      "   macro avg       0.44      0.33      0.31      3164\n",
      "weighted avg       0.55      0.60      0.51      3164\n",
      "\n"
     ]
    }
   ],
   "source": [
    "# Classification report\n",
    ">>> from sklearn.metrics import classification_report\n",
    "\n",
    "print(classification_report(y_test, y_pred_nb_better))\n",
    "\n",
    "import warnings\n",
    "warnings.filterwarnings('ignore')"
   ]
  },
  {
   "cell_type": "markdown",
   "id": "6113afc1",
   "metadata": {},
   "source": [
    "Balance dataset"
   ]
  },
  {
   "cell_type": "code",
   "execution_count": 59,
   "id": "225f264a",
   "metadata": {},
   "outputs": [
    {
     "name": "stdout",
     "output_type": "stream",
     "text": [
      "Class=1, n=6775 (42.828%)\n",
      "Class=2, n=2934 (18.547%)\n",
      "Class=0, n=1928 (12.188%)\n",
      "Class=-1, n=1018 (6.435%)\n"
     ]
    },
    {
     "data": {
      "image/png": "[encoded data removed]",
      "text/plain": [
       "<Figure size 432x288 with 1 Axes>"
      ]
     },
     "metadata": {
      "needs_background": "light"
     },
     "output_type": "display_data"
    }
   ],
   "source": [
    "#pip install imbalanced-learn\n",
    "\n",
    "from collections import Counter\n",
    "from sklearn.preprocessing import LabelEncoder\n",
    "\n",
    "# split into input and output elements\n",
    "X=betterVect_transform.toarray()\n",
    "y=df['sentiment']\n",
    "# label encode the target variable\n",
    "\n",
    "X_train, X_test, y_train, y_test = train_test_split(X, y, test_size=0.2, random_state=42)\n",
    "\n",
    "\n",
    "# summarize distribution\n",
    "counter = Counter(y_train)\n",
    "for k,v in counter.items():\n",
    "    per = v / len(y) * 100\n",
    "    print('Class=%d, n=%d (%.3f%%)' % (k, v, per))\n",
    "# plot the distribution\n",
    "plt.bar(counter.keys(), counter.values())\n",
    "plt.show()"
   ]
  },
  {
   "cell_type": "code",
   "execution_count": 60,
   "id": "a2ae2bdb",
   "metadata": {},
   "outputs": [
    {
     "name": "stdout",
     "output_type": "stream",
     "text": [
      "Class=1, n=6775 (42.828%)\n",
      "Class=2, n=6775 (42.828%)\n",
      "Class=0, n=6775 (42.828%)\n",
      "Class=-1, n=6775 (42.828%)\n"
     ]
    },
    {
     "data": {
      "image/png": "[encoded data removed]",
      "text/plain": [
       "<Figure size 432x288 with 1 Axes>"
      ]
     },
     "metadata": {
      "needs_background": "light"
     },
     "output_type": "display_data"
    }
   ],
   "source": [
    "from imblearn.over_sampling import SMOTE\n",
    "from collections import Counter\n",
    "\n",
    "\n",
    "# transform the dataset\n",
    "oversample = SMOTE()\n",
    "\n",
    "X_sample, y_sample = oversample.fit_resample(X_train, y_train)\n",
    "# summarize distribution\n",
    "counter = Counter(y_sample)\n",
    "for k,v in counter.items():\n",
    "    per = v / len(y) * 100\n",
    "    print('Class=%d, n=%d (%.3f%%)' % (k, v, per))\n",
    "# plot the distribution\n",
    "plt.bar(counter.keys(), counter.values())\n",
    "plt.show()"
   ]
  },
  {
   "cell_type": "code",
   "execution_count": 61,
   "id": "93e70592",
   "metadata": {},
   "outputs": [
    {
     "data": {
      "text/plain": [
       "GaussianNB()"
      ]
     },
     "execution_count": 61,
     "metadata": {},
     "output_type": "execute_result"
    }
   ],
   "source": [
    "# Get training and testing data \n",
    "naive_bayes_sample = GaussianNB()\n",
    "# Fit the model \n",
    "naive_bayes_sample.fit(X_sample, y_sample)"
   ]
  },
  {
   "cell_type": "code",
   "execution_count": 62,
   "id": "149726e9",
   "metadata": {},
   "outputs": [
    {
     "name": "stdout",
     "output_type": "stream",
     "text": [
      "              precision    recall  f1-score   support\n",
      "\n",
      "          -1       0.00      0.00      0.00       278\n",
      "           0       0.48      0.02      0.04       425\n",
      "           1       0.59      0.94      0.73      1755\n",
      "           2       0.69      0.35      0.47       706\n",
      "\n",
      "    accuracy                           0.60      3164\n",
      "   macro avg       0.44      0.33      0.31      3164\n",
      "weighted avg       0.55      0.60      0.51      3164\n",
      "\n"
     ]
    }
   ],
   "source": [
    "# Generate predictions\n",
    "y_pred_nb_sample = naive_bayes_better.predict(X_test)\n",
    "\n",
    "y_pred_nb_sample=pd.DataFrame(y_pred_nb_sample)\n",
    "\n",
    "# Classification report\n",
    "\n",
    "print(classification_report(y_test, y_pred_nb_sample))\n",
    "\n",
    "import warnings\n",
    "warnings.filterwarnings('ignore')"
   ]
  },
  {
   "cell_type": "markdown",
   "id": "c91b1c2a",
   "metadata": {},
   "source": [
    "#### KNN"
   ]
  },
  {
   "cell_type": "code",
   "execution_count": 81,
   "id": "8c7065a4",
   "metadata": {},
   "outputs": [
    {
     "data": {
      "text/plain": [
       "KNeighborsClassifier(n_neighbors=100)"
      ]
     },
     "execution_count": 81,
     "metadata": {},
     "output_type": "execute_result"
    }
   ],
   "source": [
    "from sklearn.neighbors import KNeighborsClassifier\n",
    "\n",
    "# Get training and testing data \n",
    "X_train, X_test, y_train, y_test = train_test_split(X, y, test_size=0.2, random_state=42)\n",
    "\n",
    "n_neighbors = 100 # <--- change this number to play around with how many nearest neighbours to look for.\n",
    "\n",
    "# Define the model\n",
    "knn = KNeighborsClassifier(n_neighbors)\n",
    "# Fit the model \n",
    "knn.fit(X_train, y_train)"
   ]
  },
  {
   "cell_type": "code",
   "execution_count": 82,
   "id": "78f51a2b",
   "metadata": {},
   "outputs": [],
   "source": [
    "# Generate predictions\n",
    "y_pred_knn = knn.predict(X_test)\n",
    "\n",
    "y_pred_knn=pd.DataFrame(y_pred_knn)"
   ]
  },
  {
   "cell_type": "code",
   "execution_count": 83,
   "id": "8e00462b",
   "metadata": {},
   "outputs": [
    {
     "name": "stdout",
     "output_type": "stream",
     "text": [
      "              precision    recall  f1-score   support\n",
      "\n",
      "          -1       0.00      0.00      0.00       278\n",
      "           0       0.19      0.89      0.31       425\n",
      "           1       0.58      0.34      0.43      1755\n",
      "           2       0.82      0.14      0.24       706\n",
      "\n",
      "    accuracy                           0.34      3164\n",
      "   macro avg       0.40      0.34      0.24      3164\n",
      "weighted avg       0.53      0.34      0.33      3164\n",
      "\n"
     ]
    }
   ],
   "source": [
    "# Classification report\n",
    "print(classification_report(y_test, y_pred_knn))\n",
    "\n",
    "import warnings\n",
    "warnings.filterwarnings('ignore')"
   ]
  },
  {
   "cell_type": "code",
   "execution_count": null,
   "id": "d7df02e4",
   "metadata": {},
   "outputs": [],
   "source": []
  },
  {
   "cell_type": "code",
   "execution_count": null,
   "id": "1856c389",
   "metadata": {},
   "outputs": [],
   "source": []
  },
  {
   "cell_type": "code",
   "execution_count": null,
   "id": "8c073ee9",
   "metadata": {},
   "outputs": [],
   "source": []
  },
  {
   "cell_type": "code",
   "execution_count": 76,
   "id": "a38870e9",
   "metadata": {},
   "outputs": [],
   "source": [
    "from sklearn.model_selection import GridSearchCV"
   ]
  },
  {
   "cell_type": "code",
   "execution_count": 77,
   "id": "c0226380",
   "metadata": {},
   "outputs": [],
   "source": [
    "ks = [1, 2, 3, 4, 5, 6, 7, 8, 9, 10, 20, 50, 100]"
   ]
  },
  {
   "cell_type": "code",
   "execution_count": 78,
   "id": "8652f520",
   "metadata": {
    "scrolled": true
   },
   "outputs": [],
   "source": [
    "param_grid = {'n_neighbors': ks}"
   ]
  },
  {
   "cell_type": "code",
   "execution_count": 79,
   "id": "fdd89248",
   "metadata": {},
   "outputs": [],
   "source": [
    "grid_knn = GridSearchCV(KNeighborsClassifier(), param_grid, scoring='f1')"
   ]
  },
  {
   "cell_type": "code",
   "execution_count": 80,
   "id": "040713a5",
   "metadata": {},
   "outputs": [
    {
     "data": {
      "text/plain": [
       "{'n_neighbors': 1}"
      ]
     },
     "execution_count": 80,
     "metadata": {},
     "output_type": "execute_result"
    }
   ],
   "source": [
    "grid_knn.fit(X, y)\n",
    "grid_knn.best_params_"
   ]
  },
  {
   "cell_type": "code",
   "execution_count": null,
   "id": "f6af9523",
   "metadata": {},
   "outputs": [],
   "source": []
  }
 ],
 "metadata": {
  "kernelspec": {
   "display_name": "Python 3",
   "language": "python",
   "name": "python3"
  },
  "language_info": {
   "codemirror_mode": {
    "name": "ipython",
    "version": 3
   },
   "file_extension": ".py",
   "mimetype": "text/x-python",
   "name": "python",
   "nbconvert_exporter": "python",
   "pygments_lexer": "ipython3",
   "version": "3.8.8"
  }
 },
 "nbformat": 4,
 "nbformat_minor": 5
}
