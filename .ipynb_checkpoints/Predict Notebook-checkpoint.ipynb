{
 "cells": [
  {
   "cell_type": "markdown",
   "id": "3b7283f3",
   "metadata": {},
   "source": [
    "# Classification Predict Student Solution\n",
    "\n",
    "© Explore Data Science Academy\n",
    "\n",
    "---\n",
    "### Honour Code\n",
    "\n",
    "I {**Team-14**}, confirm - by submitting this document - that the solutions in this notebook are a result of my own work and that I abide by the [EDSA honour code](https://drive.google.com/file/d/1QDCjGZJ8-FmJE3bZdIQNwnJyQKPhHZBn/view?usp=sharing).\n",
    "\n",
    "Non-compliance with the honour code constitutes a material breach of contract.\n",
    " \n",
    "### Climate Change Belief Analysis 2022\n",
    "\n",
    "Many companies are built around lessening one’s environmental impact or carbon footprint. They offer products and services that are environmentally friendly and sustainable, in line with their values and ideals. They would like to determine how people perceive climate change and whether or not they believe it is a real threat. This would add to their market research efforts in gauging how their product/service may be received.\n",
    "\n",
    "- 1. analyse the supplied data;\n",
    "- 2. identify potential errors in the data and clean the existing data set;\n",
    "- 3. determine if additional features can be added to enrich the data set;\n",
    "- 4. build a model that is capable of classifying whether or not a person believes in climate change;\n",
    "- 5. evaluate the accuracy of the best machine learning model;\n",
    "- 6. determine what features were most important in the model’s prediction decision, and\n",
    "- 7. explain the inner working of the model to a non-technical audience.\n"
   ]
  },
  {
   "cell_type": "markdown",
   "id": "0fa7d9e9",
   "metadata": {},
   "source": [
    "<a id=\"cont\"></a>\n",
    "\n",
    "## Table of Contents\n",
    "<a href=#one>1. Importing Packages</a>\n",
    "\n",
    "<a href=#two>2. Loading Data</a>\n",
    "\n",
    "<a href=#three>3. Exploratory Data Analysis (EDA)</a>\n",
    "\n",
    "- <a href=#two>3.1 Numerical and categorical features</a>\n",
    "\n",
    "- <a href=#four>3.2 Null Values </a>\n",
    "\n",
    "- <a href=#four>3.3 Descriptive analysis </a>\n",
    "\n",
    "- <a href=#four>3.4 The target variable </a>\n",
    "\n",
    "- <a href=#four>3.5 Feature variables </a>\n",
    "\n",
    "\n",
    "<a href=#four>4. Data Engineering</a>\n",
    "\n",
    "- <a href=#four>4.1 removing the web-urls</a>\n",
    "\n",
    "- <a href=#four>4.2 Lowercase conversion </a>\n",
    "\n",
    "- <a href=#four>4.3 Removing punctuation and special characters </a>\n",
    "\n",
    "- <a href=#four>4.4 Lemmatization </a>\n",
    "\n",
    "- <a href=#four>4.5 Removing Stop words </a>\n",
    "\n",
    "- <a href=#four>4.6 Feature Extraction using CountVectorizer </a>\n",
    "\n",
    "- <a href=#four>4.7 Preparing the test dataset </a>\n",
    "\n",
    "\n",
    "<a href=#five>5. Modeling</a>\n",
    "\n",
    "\n",
    "- <a href=#four>5.1 Logistic regression classification </a>\n",
    "\n",
    "- <a href=#four>5.2 Decision Tree </a>\n",
    "\n",
    "- <a href=#four>5.3 Random Forests</a>\n",
    "\n",
    "- <a href=#four>5.4 Naive Bayes</a>\n",
    "\n",
    "- <a href=#four>5.5 k nearest neighbuors </a>\n",
    "\n",
    "- <a href=#four> </a>\n",
    "\n",
    "- <a href=#four> </a>\n",
    "\n",
    "\n",
    "<a href=#six>6. Model Performance</a>\n",
    "\n",
    "<a href=#seven>7. Model Explanations</a>"
   ]
  },
  {
   "cell_type": "markdown",
   "id": "5537c227",
   "metadata": {},
   "source": [
    "## Comet"
   ]
  },
  {
   "cell_type": "code",
   "execution_count": 1,
   "id": "6a311a85",
   "metadata": {},
   "outputs": [
    {
     "name": "stderr",
     "output_type": "stream",
     "text": [
      "COMET WARNING: As you are running in a Jupyter environment, you will need to call `experiment.end()` when finished to ensure all metrics and code are logged before exiting.\n",
      "COMET INFO: Experiment is live on comet.ml https://www.comet.ml/sixolilej/team-14-classification-sprint/a243b5bd1dd8402ca87456f0b3ef1e1e\n",
      "\n"
     ]
    }
   ],
   "source": [
    "# import comet_ml at the top of your file\n",
    "from comet_ml import Experiment\n",
    "\n",
    "# Create an experiment with your api key\n",
    "experiment = Experiment(\n",
    "    api_key=\"j6t6QCKPHzxLlzGL6upDixMVs\",\n",
    "    project_name=\"team-14-classification-sprint\",\n",
    "    workspace=\"sixolilej\",\n",
    ")"
   ]
  },
  {
   "cell_type": "markdown",
   "id": "e2b80f08",
   "metadata": {},
   "source": [
    "<a id=\"one\"></a>\n",
    "## 1. Importing Packages\n",
    "<a href=#cont>Back to Table of Contents</a>\n",
    "\n",
    "In this section the necessary libraries that will be used throughout the anaylisis are imported.\n",
    "\n",
    "---"
   ]
  },
  {
   "cell_type": "code",
   "execution_count": 2,
   "id": "2ef81f58",
   "metadata": {},
   "outputs": [],
   "source": [
    "# Libraries for data loading, data manipulation and data visulisation\n",
    "\n",
    "import numpy as np\n",
    "import pandas as pd\n",
    "import matplotlib.pyplot as plt\n",
    "%matplotlib inline\n",
    "import seaborn as sns\n",
    "import re\n",
    "import string\n",
    "import neattext.functions as nt\n",
    "import neattext.functions as nt\n",
    "\n",
    "import nltk\n",
    "from nltk.corpus import stopwords\n",
    "from nltk import SnowballStemmer, PorterStemmer, LancasterStemmer\n",
    "from nltk.stem import WordNetLemmatizer\n",
    "from nltk.corpus import stopwords\n",
    "from nltk.util import ngrams\n",
    "\n",
    "# Libraries for data preparation and model building\n",
    "from sklearn.feature_extraction.text import CountVectorizer\n",
    "\n",
    "\n",
    "# set plot style\n",
    "sns.set()\n",
    "\n",
    "\n",
    "#import *\n",
    "\n",
    "# Setting global constants to ensure notebook results are reproducible\n",
    "#PARAMETER_CONSTANT = ###"
   ]
  },
  {
   "cell_type": "markdown",
   "id": "715cc340",
   "metadata": {},
   "source": [
    "<a id=\"two\"></a>\n",
    "## 2. Loading the Data\n",
    "<a class=\"anchor\" id=\"1.1\"></a>\n",
    "<a href=#cont>Back to Table of Contents</a>\n",
    "\n",
    "\n",
    "In this section the data is loaded from the `df_train` file.\n",
    "\n",
    "---"
   ]
  },
  {
   "cell_type": "code",
   "execution_count": 3,
   "id": "7557d744",
   "metadata": {},
   "outputs": [],
   "source": [
    "pd.set_option('display.max_colwidth', None)\n",
    "df_train = pd.read_csv('train.csv') # load the data\n",
    "#df_test = pd.read_csv('test.csv') # load the data"
   ]
  },
  {
   "cell_type": "code",
   "execution_count": 4,
   "id": "c4d7a75b",
   "metadata": {},
   "outputs": [
    {
     "data": {
      "text/html": [
       "<div>\n",
       "<style scoped>\n",
       "    .dataframe tbody tr th:only-of-type {\n",
       "        vertical-align: middle;\n",
       "    }\n",
       "\n",
       "    .dataframe tbody tr th {\n",
       "        vertical-align: top;\n",
       "    }\n",
       "\n",
       "    .dataframe thead th {\n",
       "        text-align: right;\n",
       "    }\n",
       "</style>\n",
       "<table border=\"1\" class=\"dataframe\">\n",
       "  <thead>\n",
       "    <tr style=\"text-align: right;\">\n",
       "      <th></th>\n",
       "      <th>sentiment</th>\n",
       "      <th>message</th>\n",
       "      <th>tweetid</th>\n",
       "    </tr>\n",
       "  </thead>\n",
       "  <tbody>\n",
       "    <tr>\n",
       "      <th>0</th>\n",
       "      <td>1</td>\n",
       "      <td>PolySciMajor EPA chief doesn't think carbon dioxide is main cause of global warming and.. wait, what!? https://t.co/yeLvcEFXkC via @mashable</td>\n",
       "      <td>625221</td>\n",
       "    </tr>\n",
       "    <tr>\n",
       "      <th>1</th>\n",
       "      <td>1</td>\n",
       "      <td>It's not like we lack evidence of anthropogenic global warming</td>\n",
       "      <td>126103</td>\n",
       "    </tr>\n",
       "    <tr>\n",
       "      <th>2</th>\n",
       "      <td>2</td>\n",
       "      <td>RT @RawStory: Researchers say we have three years to act on climate change before it’s too late https://t.co/WdT0KdUr2f https://t.co/Z0ANPT…</td>\n",
       "      <td>698562</td>\n",
       "    </tr>\n",
       "    <tr>\n",
       "      <th>3</th>\n",
       "      <td>1</td>\n",
       "      <td>#TodayinMaker# WIRED : 2016 was a pivotal year in the war on climate change https://t.co/44wOTxTLcD</td>\n",
       "      <td>573736</td>\n",
       "    </tr>\n",
       "    <tr>\n",
       "      <th>4</th>\n",
       "      <td>1</td>\n",
       "      <td>RT @SoyNovioDeTodas: It's 2016, and a racist, sexist, climate change denying bigot is leading in the polls. #ElectionNight</td>\n",
       "      <td>466954</td>\n",
       "    </tr>\n",
       "  </tbody>\n",
       "</table>\n",
       "</div>"
      ],
      "text/plain": [
       "   sentiment  \\\n",
       "0          1   \n",
       "1          1   \n",
       "2          2   \n",
       "3          1   \n",
       "4          1   \n",
       "\n",
       "                                                                                                                                        message  \\\n",
       "0  PolySciMajor EPA chief doesn't think carbon dioxide is main cause of global warming and.. wait, what!? https://t.co/yeLvcEFXkC via @mashable   \n",
       "1                                                                                It's not like we lack evidence of anthropogenic global warming   \n",
       "2  RT @RawStory: Researchers say we have three years to act on climate change before it’s too late https://t.co/WdT0KdUr2f https://t.co/Z0ANPT…   \n",
       "3                                           #TodayinMaker# WIRED : 2016 was a pivotal year in the war on climate change https://t.co/44wOTxTLcD   \n",
       "4                    RT @SoyNovioDeTodas: It's 2016, and a racist, sexist, climate change denying bigot is leading in the polls. #ElectionNight   \n",
       "\n",
       "   tweetid  \n",
       "0   625221  \n",
       "1   126103  \n",
       "2   698562  \n",
       "3   573736  \n",
       "4   466954  "
      ]
     },
     "execution_count": 4,
     "metadata": {},
     "output_type": "execute_result"
    }
   ],
   "source": [
    "# View dataset\n",
    "df_train.head()"
   ]
  },
  {
   "cell_type": "markdown",
   "id": "806a5cb2",
   "metadata": {},
   "source": [
    "<a id=\"three\"></a>\n",
    "## 3. Exploratory Data Analysis (EDA)\n",
    "<a class=\"anchor\" id=\"1.1\"></a>\n",
    "<a href=#cont>Back to Table of Contents</a>\n",
    "\n",
    "\n",
    "    \n",
    "In this section,  an in-depth analysis of all the variables in the DataFrame is perfomed.\n",
    "\n",
    "looking at:\n",
    "\n",
    "-  Numerical and categorical features\n",
    "-  Null values\n",
    "-  Descriptive analysis \n",
    "-  The target variable 'sentiment'\n",
    "-  Feature variables 'message'"
   ]
  },
  {
   "cell_type": "markdown",
   "id": "58e11866",
   "metadata": {},
   "source": [
    "###  3.1 Numerical and categorical features\n",
    "\n",
    "Looking  at the method df.info(). This will provide the information about the data types of the variables, the number of variables and the non-null count for each variable."
   ]
  },
  {
   "cell_type": "code",
   "execution_count": 5,
   "id": "3c87d42f",
   "metadata": {
    "scrolled": true
   },
   "outputs": [
    {
     "name": "stdout",
     "output_type": "stream",
     "text": [
      "<class 'pandas.core.frame.DataFrame'>\n",
      "RangeIndex: 15819 entries, 0 to 15818\n",
      "Data columns (total 3 columns):\n",
      " #   Column     Non-Null Count  Dtype \n",
      "---  ------     --------------  ----- \n",
      " 0   sentiment  15819 non-null  int64 \n",
      " 1   message    15819 non-null  object\n",
      " 2   tweetid    15819 non-null  int64 \n",
      "dtypes: int64(2), object(1)\n",
      "memory usage: 370.9+ KB\n"
     ]
    }
   ],
   "source": [
    "df_train.info()"
   ]
  },
  {
   "cell_type": "markdown",
   "id": "601db8c6",
   "metadata": {},
   "source": [
    "Sentiment and tweetid columns contains numerical data, while clean_message contain Categorical data"
   ]
  },
  {
   "cell_type": "markdown",
   "id": "a9b404b4",
   "metadata": {},
   "source": [
    "###  3.2 Null Values\n",
    "\n",
    " Looking at the function df.isnull().sum(). This will give us information about which variables have null values."
   ]
  },
  {
   "cell_type": "code",
   "execution_count": 6,
   "id": "bcb581ba",
   "metadata": {},
   "outputs": [
    {
     "data": {
      "text/plain": [
       "sentiment    0\n",
       "message      0\n",
       "tweetid      0\n",
       "dtype: int64"
      ]
     },
     "execution_count": 6,
     "metadata": {},
     "output_type": "execute_result"
    }
   ],
   "source": [
    "df_train.isnull().sum()"
   ]
  },
  {
   "cell_type": "markdown",
   "id": "ad1b379d",
   "metadata": {},
   "source": [
    "There are no null values present in all columns."
   ]
  },
  {
   "cell_type": "markdown",
   "id": "c399fa54",
   "metadata": {},
   "source": [
    "###  3.3 Descriptive analysis"
   ]
  },
  {
   "cell_type": "markdown",
   "id": "c78af324",
   "metadata": {},
   "source": [
    "To run summary statistics on columns containing `Numerical data`, we use `.describe()` function"
   ]
  },
  {
   "cell_type": "code",
   "execution_count": 7,
   "id": "2dd7868f",
   "metadata": {
    "scrolled": true
   },
   "outputs": [
    {
     "data": {
      "text/html": [
       "<div>\n",
       "<style scoped>\n",
       "    .dataframe tbody tr th:only-of-type {\n",
       "        vertical-align: middle;\n",
       "    }\n",
       "\n",
       "    .dataframe tbody tr th {\n",
       "        vertical-align: top;\n",
       "    }\n",
       "\n",
       "    .dataframe thead th {\n",
       "        text-align: right;\n",
       "    }\n",
       "</style>\n",
       "<table border=\"1\" class=\"dataframe\">\n",
       "  <thead>\n",
       "    <tr style=\"text-align: right;\">\n",
       "      <th></th>\n",
       "      <th>sentiment</th>\n",
       "      <th>tweetid</th>\n",
       "    </tr>\n",
       "  </thead>\n",
       "  <tbody>\n",
       "    <tr>\n",
       "      <th>count</th>\n",
       "      <td>15819.000000</td>\n",
       "      <td>15819.000000</td>\n",
       "    </tr>\n",
       "    <tr>\n",
       "      <th>mean</th>\n",
       "      <td>0.917504</td>\n",
       "      <td>501719.433656</td>\n",
       "    </tr>\n",
       "    <tr>\n",
       "      <th>std</th>\n",
       "      <td>0.836537</td>\n",
       "      <td>289045.983132</td>\n",
       "    </tr>\n",
       "    <tr>\n",
       "      <th>min</th>\n",
       "      <td>-1.000000</td>\n",
       "      <td>6.000000</td>\n",
       "    </tr>\n",
       "    <tr>\n",
       "      <th>25%</th>\n",
       "      <td>1.000000</td>\n",
       "      <td>253207.500000</td>\n",
       "    </tr>\n",
       "    <tr>\n",
       "      <th>50%</th>\n",
       "      <td>1.000000</td>\n",
       "      <td>502291.000000</td>\n",
       "    </tr>\n",
       "    <tr>\n",
       "      <th>75%</th>\n",
       "      <td>1.000000</td>\n",
       "      <td>753769.000000</td>\n",
       "    </tr>\n",
       "    <tr>\n",
       "      <th>max</th>\n",
       "      <td>2.000000</td>\n",
       "      <td>999888.000000</td>\n",
       "    </tr>\n",
       "  </tbody>\n",
       "</table>\n",
       "</div>"
      ],
      "text/plain": [
       "          sentiment        tweetid\n",
       "count  15819.000000   15819.000000\n",
       "mean       0.917504  501719.433656\n",
       "std        0.836537  289045.983132\n",
       "min       -1.000000       6.000000\n",
       "25%        1.000000  253207.500000\n",
       "50%        1.000000  502291.000000\n",
       "75%        1.000000  753769.000000\n",
       "max        2.000000  999888.000000"
      ]
     },
     "execution_count": 7,
     "metadata": {},
     "output_type": "execute_result"
    }
   ],
   "source": [
    "df_train.describe()"
   ]
  },
  {
   "cell_type": "markdown",
   "id": "678445c6",
   "metadata": {},
   "source": [
    "Summary statistics on `Categorical` column"
   ]
  },
  {
   "cell_type": "code",
   "execution_count": 8,
   "id": "8a299922",
   "metadata": {},
   "outputs": [
    {
     "data": {
      "text/html": [
       "<div>\n",
       "<style scoped>\n",
       "    .dataframe tbody tr th:only-of-type {\n",
       "        vertical-align: middle;\n",
       "    }\n",
       "\n",
       "    .dataframe tbody tr th {\n",
       "        vertical-align: top;\n",
       "    }\n",
       "\n",
       "    .dataframe thead th {\n",
       "        text-align: right;\n",
       "    }\n",
       "</style>\n",
       "<table border=\"1\" class=\"dataframe\">\n",
       "  <thead>\n",
       "    <tr style=\"text-align: right;\">\n",
       "      <th></th>\n",
       "      <th>message</th>\n",
       "    </tr>\n",
       "  </thead>\n",
       "  <tbody>\n",
       "    <tr>\n",
       "      <th>count</th>\n",
       "      <td>15819</td>\n",
       "    </tr>\n",
       "    <tr>\n",
       "      <th>unique</th>\n",
       "      <td>14229</td>\n",
       "    </tr>\n",
       "    <tr>\n",
       "      <th>top</th>\n",
       "      <td>RT @StephenSchlegel: she's thinking about how she's going to die because your husband doesn't believe in climate change https://t.co/SjoFoNÃ¢â‚¬Â¦</td>\n",
       "    </tr>\n",
       "    <tr>\n",
       "      <th>freq</th>\n",
       "      <td>307</td>\n",
       "    </tr>\n",
       "  </tbody>\n",
       "</table>\n",
       "</div>"
      ],
      "text/plain": [
       "                                                                                                                                                   message\n",
       "count                                                                                                                                                15819\n",
       "unique                                                                                                                                               14229\n",
       "top     RT @StephenSchlegel: she's thinking about how she's going to die because your husband doesn't believe in climate change https://t.co/SjoFoNÃ¢â‚¬Â¦\n",
       "freq                                                                                                                                                   307"
      ]
     },
     "execution_count": 8,
     "metadata": {},
     "output_type": "execute_result"
    }
   ],
   "source": [
    "df_train.describe(include='object')"
   ]
  },
  {
   "cell_type": "markdown",
   "id": "31c7b39b",
   "metadata": {},
   "source": [
    "We notice that there are duplicates in message column, as shown by the unique row. These could be messages retweeted by different people.   \n",
    "\n",
    "Possible solution would be to drop the duplicate columns. "
   ]
  },
  {
   "cell_type": "markdown",
   "id": "054c6cc4",
   "metadata": {},
   "source": [
    "###  3.4 The target variable 'sentiment'"
   ]
  },
  {
   "cell_type": "markdown",
   "id": "54806398",
   "metadata": {},
   "source": [
    "##### Class Description (Sentiments)\n",
    "\n",
    "- 2 : News: the tweet links to factual news about climate change\n",
    "- 1 : Pro: the tweet supports the belief of man-made climate change\n",
    "- 0 : Neutral: the tweet neither supports nor refutes the belief of man-made climate change\n",
    "- -1: Anti: the tweet does not believe in man-made climate change"
   ]
  },
  {
   "cell_type": "code",
   "execution_count": 9,
   "id": "1bb138b8",
   "metadata": {},
   "outputs": [
    {
     "name": "stdout",
     "output_type": "stream",
     "text": [
      "[-1, 0, 1, 2]\n"
     ]
    }
   ],
   "source": [
    "# list of unique types of Sentiments\n",
    "type_sentis = list(sorted(df_train.sentiment.unique()))\n",
    "print(type_sentis)"
   ]
  },
  {
   "cell_type": "code",
   "execution_count": 10,
   "id": "3681f3cb",
   "metadata": {},
   "outputs": [
    {
     "data": {
      "image/png": "[encoded data removed]",
      "text/plain": [
       "<Figure size 432x288 with 1 Axes>"
      ]
     },
     "metadata": {},
     "output_type": "display_data"
    }
   ],
   "source": [
    "df_train['sentiment'].value_counts().sort_index().plot(kind = 'bar')\n",
    "plt.show()"
   ]
  },
  {
   "cell_type": "markdown",
   "id": "27f527a4",
   "metadata": {},
   "source": [
    "We can observe an imbalance with the class samples."
   ]
  },
  {
   "cell_type": "markdown",
   "id": "2548ab89",
   "metadata": {},
   "source": [
    "###  3.5 Feature variables 'message'"
   ]
  },
  {
   "cell_type": "markdown",
   "id": "11019fd7",
   "metadata": {},
   "source": [
    "#### Words cloud of frequently twitted words\n",
    "\n",
    "We will create a word could image of the frequently twitted word in each of the different classes which are as follows:\n",
    "\n",
    "* 2 News: the tweet links to factual news about climate change\n",
    "* 1 Pro: the tweet supports the belief of man-made climate change\n",
    "* 0 Neutral: the tweet neither supports nor refutes the belief of man-made climate change\n",
    "* -1 Anti: the tweet does not believe in man-made climate change"
   ]
  },
  {
   "cell_type": "code",
   "execution_count": 11,
   "id": "e4326b41",
   "metadata": {},
   "outputs": [],
   "source": [
    "df_gm = df_train.copy()"
   ]
  },
  {
   "cell_type": "code",
   "execution_count": 12,
   "id": "4e817e42",
   "metadata": {},
   "outputs": [],
   "source": [
    "#create different dataframes for each of the classes\n",
    "df_news= df_gm.drop(df_gm[df_gm.sentiment <= 1].index)\n",
    "\n",
    "df_pro= df_gm.drop(df_gm[df_gm.sentiment<=0].index)\n",
    "df_pro= df_gm.drop(df_gm[df_gm.sentiment>=2].index)\n",
    "\n",
    "df_neutral= df_gm.drop(df_gm[df_gm.sentiment<=(-1)].index)\n",
    "df_neutral= df_gm.drop(df_gm[df_gm.sentiment>=1].index)\n",
    "\n",
    "df_anti= df_gm.drop(df_gm[df_gm.sentiment>=0].index)"
   ]
  },
  {
   "cell_type": "code",
   "execution_count": 13,
   "id": "7398cad5",
   "metadata": {},
   "outputs": [
    {
     "data": {
      "text/plain": [
       "Text(0.5, 1.0, 'Anti Tweets')"
      ]
     },
     "execution_count": 13,
     "metadata": {},
     "output_type": "execute_result"
    },
    {
     "data": {
      "image/png": "[encoded data removed]",
      "text/plain": [
       "<Figure size 288x576 with 1 Axes>"
      ]
     },
     "metadata": {},
     "output_type": "display_data"
    },
    {
     "data": {
      "image/png": "[encoded data removed]",
      "text/plain": [
       "<Figure size 288x576 with 1 Axes>"
      ]
     },
     "metadata": {},
     "output_type": "display_data"
    },
    {
     "data": {
      "image/png": "[encoded data removed]",
      "text/plain": [
       "<Figure size 288x576 with 1 Axes>"
      ]
     },
     "metadata": {},
     "output_type": "display_data"
    },
    {
     "data": {
      "image/png": "[encoded data removed]",
      "text/plain": [
       "<Figure size 288x576 with 1 Axes>"
      ]
     },
     "metadata": {},
     "output_type": "display_data"
    }
   ],
   "source": [
    "# Importing wordcloud for plotting word clouds and textwrap for wrapping longer text\n",
    "from wordcloud import WordCloud\n",
    "from textwrap import wrap\n",
    "\n",
    "#create instance of WordCloud\n",
    "wc=WordCloud(width=400, height=330, max_words=150,colormap=\"Dark2\")\n",
    "\n",
    "#Create string of 100 words\n",
    "wcVect = CountVectorizer(stop_words='english',max_features=100) \n",
    "wcVect.fit(df_news['message'])\n",
    "text1=list(wcVect.vocabulary_)\n",
    "text2=string = ' '.join(text1)\n",
    "\n",
    "text2\n",
    "#createWordCloud\n",
    "a=wc.generate(string)\n",
    "\n",
    "plt.figure(figsize = (4, 8), facecolor = None)\n",
    "plt.imshow(a)\n",
    "plt.axis(\"off\")\n",
    "plt.tight_layout(pad = 0);\n",
    "\n",
    "plt.title(\"News Tweets\")\n",
    "##########################################################\n",
    "#create instance of WordCloud\n",
    "wc=WordCloud(width=400, height=330, max_words=150,colormap=\"Dark2\")\n",
    "\n",
    "#Create string of 100 words\n",
    "wcVect = CountVectorizer(stop_words='english',max_features=100) \n",
    "wcVect.fit(df_pro['message'])\n",
    "text1=list(wcVect.vocabulary_)\n",
    "text2=string = ' '.join(text1)\n",
    "\n",
    "text2\n",
    "\n",
    "#createWordCloud\n",
    "b=wc.generate(string)\n",
    "\n",
    "\n",
    "plt.figure(figsize = (4, 8), facecolor = None)\n",
    "plt.imshow(b)\n",
    "plt.axis(\"off\")\n",
    "plt.tight_layout(pad = 0)\n",
    "\n",
    "plt.title(\"Pro Tweets\")\n",
    "##################################################################\n",
    "#create instance of WordCloud\n",
    "wc=WordCloud(width=400, height=330, max_words=150,colormap=\"Dark2\")\n",
    "\n",
    "#Create string of 100 words\n",
    "wcVect = CountVectorizer(stop_words='english',max_features=100) \n",
    "wcVect.fit(df_neutral['message'])\n",
    "text1=list(wcVect.vocabulary_)\n",
    "text2=string = ' '.join(text1)\n",
    "\n",
    "text2\n",
    "\n",
    "#createWordCloud\n",
    "c=wc.generate(string)\n",
    "\n",
    "\n",
    "plt.figure(figsize = (4, 8), facecolor = None)\n",
    "plt.imshow(c)\n",
    "plt.axis(\"off\")\n",
    "plt.tight_layout(pad = 0);\n",
    "\n",
    "plt.title(\"Neutral Tweets\")\n",
    "\n",
    "#########################################################\n",
    "#create instance of WordCloud\n",
    "wc=WordCloud(width=400, height=330, max_words=150,colormap=\"Dark2\")\n",
    "\n",
    "#Create string of 100 words\n",
    "wcVect = CountVectorizer(stop_words='english',max_features=100) \n",
    "wcVect.fit(df_anti['message'])\n",
    "text1=list(wcVect.vocabulary_)\n",
    "text2=string = ' '.join(text1)\n",
    "\n",
    "text2\n",
    "\n",
    "#createWordCloud\n",
    "d=wc.generate(string)\n",
    "\n",
    "\n",
    "plt.figure(figsize = (4, 8), facecolor = None)\n",
    "plt.imshow(d)\n",
    "plt.axis(\"off\")\n",
    "plt.tight_layout(pad = 0);\n",
    "\n",
    "plt.title(\"Anti Tweets\")\n"
   ]
  },
  {
   "cell_type": "markdown",
   "id": "0037ecbb",
   "metadata": {},
   "source": [
    "## 4. Data Engineering\n",
    "<a class=\"anchor\" id=\"1.1\"></a>\n",
    "<a href=#cont>Back to Table of Contents</a>\n",
    "\n",
    "Data engineering is the complex task of making raw data usable for the modeling phase. In this section we engineer the features such that they are ready for modelling\n",
    "\n",
    "\n",
    "For our dataset, we will be doing the following steps:\n",
    "* removing the web-urls\n",
    "* making everything lower case\n",
    "* removing punctuation and special characters\n",
    "* removing mentions and retweets(`rt`)"
   ]
  },
  {
   "cell_type": "markdown",
   "id": "788ceccb",
   "metadata": {},
   "source": [
    "### 4.1 removing the web-urls"
   ]
  },
  {
   "cell_type": "code",
   "execution_count": 14,
   "id": "2cef88bb",
   "metadata": {},
   "outputs": [],
   "source": [
    "pattern_url = r'http[s]?://(?:[A-Za-z]|[0-9]|[$-_@.&+]|[!*\\(\\),]|(?:%[0-9A-Fa-f][0-9A-Fa-f]))+'\n",
    "subs_url = r'url-web'\n",
    "df_train['message'] = df_train['message'].replace(to_replace = pattern_url, value = subs_url, regex = True)"
   ]
  },
  {
   "cell_type": "markdown",
   "id": "dca722af",
   "metadata": {},
   "source": [
    "### 4.2 Lowercase conversion "
   ]
  },
  {
   "cell_type": "code",
   "execution_count": 15,
   "id": "3d214ae4",
   "metadata": {},
   "outputs": [],
   "source": [
    "df_train['message'] = df_train['message'].str.lower()"
   ]
  },
  {
   "cell_type": "markdown",
   "id": "3e73f1b8",
   "metadata": {},
   "source": [
    "### 4.3 Removing punctuation and special characters"
   ]
  },
  {
   "cell_type": "markdown",
   "id": "bc6b01cf",
   "metadata": {},
   "source": [
    "We create a funcion that will remove the web-urls, punctuation, and mentions along with retweets(`rt`)"
   ]
  },
  {
   "cell_type": "code",
   "execution_count": 16,
   "id": "e5a5098a",
   "metadata": {},
   "outputs": [],
   "source": [
    "def data_cleaning(tweet):\n",
    "    tweet = re.sub(r'@[a-z0-9]+', '', tweet) # removing mentions\n",
    "    tweet = re.sub(r'#', '', tweet) # remove #\n",
    "    tweet = re.sub(r'rt[\\s]+', '', tweet) # remove retweets(`rt`)\n",
    "    #tweet = re.sub(r'url-web', '', tweet) # remove web-urls\n",
    "    \n",
    "    return tweet"
   ]
  },
  {
   "cell_type": "code",
   "execution_count": 17,
   "id": "2d83f99a",
   "metadata": {},
   "outputs": [],
   "source": [
    "df_train['clean_message'] = df_train['message'].apply(data_cleaning)"
   ]
  },
  {
   "cell_type": "code",
   "execution_count": 18,
   "id": "462df2ae",
   "metadata": {
    "scrolled": false
   },
   "outputs": [
    {
     "data": {
      "text/html": [
       "<div>\n",
       "<style scoped>\n",
       "    .dataframe tbody tr th:only-of-type {\n",
       "        vertical-align: middle;\n",
       "    }\n",
       "\n",
       "    .dataframe tbody tr th {\n",
       "        vertical-align: top;\n",
       "    }\n",
       "\n",
       "    .dataframe thead th {\n",
       "        text-align: right;\n",
       "    }\n",
       "</style>\n",
       "<table border=\"1\" class=\"dataframe\">\n",
       "  <thead>\n",
       "    <tr style=\"text-align: right;\">\n",
       "      <th></th>\n",
       "      <th>sentiment</th>\n",
       "      <th>message</th>\n",
       "      <th>tweetid</th>\n",
       "      <th>clean_message</th>\n",
       "    </tr>\n",
       "  </thead>\n",
       "  <tbody>\n",
       "    <tr>\n",
       "      <th>0</th>\n",
       "      <td>1</td>\n",
       "      <td>polyscimajor epa chief doesn't think carbon dioxide is main cause of global warming and.. wait, what!? url-web via @mashable</td>\n",
       "      <td>625221</td>\n",
       "      <td>polyscimajor epa chief doesn't think carbon dioxide is main cause of global warming and.. wait, what!? url-web via</td>\n",
       "    </tr>\n",
       "    <tr>\n",
       "      <th>1</th>\n",
       "      <td>1</td>\n",
       "      <td>it's not like we lack evidence of anthropogenic global warming</td>\n",
       "      <td>126103</td>\n",
       "      <td>it's not like we lack evidence of anthropogenic global warming</td>\n",
       "    </tr>\n",
       "  </tbody>\n",
       "</table>\n",
       "</div>"
      ],
      "text/plain": [
       "   sentiment  \\\n",
       "0          1   \n",
       "1          1   \n",
       "\n",
       "                                                                                                                        message  \\\n",
       "0  polyscimajor epa chief doesn't think carbon dioxide is main cause of global warming and.. wait, what!? url-web via @mashable   \n",
       "1                                                                it's not like we lack evidence of anthropogenic global warming   \n",
       "\n",
       "   tweetid  \\\n",
       "0   625221   \n",
       "1   126103   \n",
       "\n",
       "                                                                                                         clean_message  \n",
       "0  polyscimajor epa chief doesn't think carbon dioxide is main cause of global warming and.. wait, what!? url-web via   \n",
       "1                                                       it's not like we lack evidence of anthropogenic global warming  "
      ]
     },
     "execution_count": 18,
     "metadata": {},
     "output_type": "execute_result"
    }
   ],
   "source": [
    "df_train.head(2)"
   ]
  },
  {
   "cell_type": "markdown",
   "id": "418bd287",
   "metadata": {},
   "source": [
    "In case of special characters and extra whitespace, we employed NeatText "
   ]
  },
  {
   "cell_type": "code",
   "execution_count": 19,
   "id": "ccab941b",
   "metadata": {},
   "outputs": [],
   "source": [
    "# Remove special characters using NeatText\n",
    "df_train['clean_message'] = df_train['clean_message'].apply(nt.remove_special_characters)"
   ]
  },
  {
   "cell_type": "code",
   "execution_count": 20,
   "id": "d85e625c",
   "metadata": {},
   "outputs": [],
   "source": [
    "# Remove multiple whitespace between words\n",
    "df_train['clean_message'] = df_train['clean_message'].apply(nt.remove_multiple_spaces)"
   ]
  },
  {
   "cell_type": "code",
   "execution_count": 21,
   "id": "c5594054",
   "metadata": {},
   "outputs": [
    {
     "data": {
      "text/html": [
       "<div>\n",
       "<style scoped>\n",
       "    .dataframe tbody tr th:only-of-type {\n",
       "        vertical-align: middle;\n",
       "    }\n",
       "\n",
       "    .dataframe tbody tr th {\n",
       "        vertical-align: top;\n",
       "    }\n",
       "\n",
       "    .dataframe thead th {\n",
       "        text-align: right;\n",
       "    }\n",
       "</style>\n",
       "<table border=\"1\" class=\"dataframe\">\n",
       "  <thead>\n",
       "    <tr style=\"text-align: right;\">\n",
       "      <th></th>\n",
       "      <th>sentiment</th>\n",
       "      <th>message</th>\n",
       "      <th>tweetid</th>\n",
       "      <th>clean_message</th>\n",
       "    </tr>\n",
       "  </thead>\n",
       "  <tbody>\n",
       "    <tr>\n",
       "      <th>0</th>\n",
       "      <td>1</td>\n",
       "      <td>polyscimajor epa chief doesn't think carbon dioxide is main cause of global warming and.. wait, what!? url-web via @mashable</td>\n",
       "      <td>625221</td>\n",
       "      <td>polyscimajor epa chief doesnt think carbon dioxide is main cause of global warming and wait what urlweb via</td>\n",
       "    </tr>\n",
       "    <tr>\n",
       "      <th>1</th>\n",
       "      <td>1</td>\n",
       "      <td>it's not like we lack evidence of anthropogenic global warming</td>\n",
       "      <td>126103</td>\n",
       "      <td>its not like we lack evidence of anthropogenic global warming</td>\n",
       "    </tr>\n",
       "  </tbody>\n",
       "</table>\n",
       "</div>"
      ],
      "text/plain": [
       "   sentiment  \\\n",
       "0          1   \n",
       "1          1   \n",
       "\n",
       "                                                                                                                        message  \\\n",
       "0  polyscimajor epa chief doesn't think carbon dioxide is main cause of global warming and.. wait, what!? url-web via @mashable   \n",
       "1                                                                it's not like we lack evidence of anthropogenic global warming   \n",
       "\n",
       "   tweetid  \\\n",
       "0   625221   \n",
       "1   126103   \n",
       "\n",
       "                                                                                                  clean_message  \n",
       "0  polyscimajor epa chief doesnt think carbon dioxide is main cause of global warming and wait what urlweb via   \n",
       "1                                                 its not like we lack evidence of anthropogenic global warming  "
      ]
     },
     "execution_count": 21,
     "metadata": {},
     "output_type": "execute_result"
    }
   ],
   "source": [
    "df_train.head(2)"
   ]
  },
  {
   "cell_type": "code",
   "execution_count": 22,
   "id": "7aa0df2d",
   "metadata": {
    "scrolled": true
   },
   "outputs": [
    {
     "data": {
      "text/html": [
       "<div>\n",
       "<style scoped>\n",
       "    .dataframe tbody tr th:only-of-type {\n",
       "        vertical-align: middle;\n",
       "    }\n",
       "\n",
       "    .dataframe tbody tr th {\n",
       "        vertical-align: top;\n",
       "    }\n",
       "\n",
       "    .dataframe thead th {\n",
       "        text-align: right;\n",
       "    }\n",
       "</style>\n",
       "<table border=\"1\" class=\"dataframe\">\n",
       "  <thead>\n",
       "    <tr style=\"text-align: right;\">\n",
       "      <th></th>\n",
       "      <th>message</th>\n",
       "      <th>clean_message</th>\n",
       "    </tr>\n",
       "  </thead>\n",
       "  <tbody>\n",
       "    <tr>\n",
       "      <th>0</th>\n",
       "      <td>polyscimajor epa chief doesn't think carbon dioxide is main cause of global warming and.. wait, what!? url-web via @mashable</td>\n",
       "      <td>polyscimajor epa chief doesnt think carbon dioxide is main cause of global warming and wait what urlweb via</td>\n",
       "    </tr>\n",
       "    <tr>\n",
       "      <th>1</th>\n",
       "      <td>it's not like we lack evidence of anthropogenic global warming</td>\n",
       "      <td>its not like we lack evidence of anthropogenic global warming</td>\n",
       "    </tr>\n",
       "    <tr>\n",
       "      <th>2</th>\n",
       "      <td>rt @rawstory: researchers say we have three years to act on climate change before it’s too late url-web url-web…</td>\n",
       "      <td>researchers say we have three years to act on climate change before its too late urlweb urlweb</td>\n",
       "    </tr>\n",
       "    <tr>\n",
       "      <th>3</th>\n",
       "      <td>#todayinmaker# wired : 2016 was a pivotal year in the war on climate change url-web</td>\n",
       "      <td>todayinmaker wired 2016 was a pivotal year in the war on climate change urlweb</td>\n",
       "    </tr>\n",
       "    <tr>\n",
       "      <th>4</th>\n",
       "      <td>rt @soynoviodetodas: it's 2016, and a racist, sexist, climate change denying bigot is leading in the polls. #electionnight</td>\n",
       "      <td>its 2016 and a racist sexist climate change denying bigot is leading in the polls electionnight</td>\n",
       "    </tr>\n",
       "  </tbody>\n",
       "</table>\n",
       "</div>"
      ],
      "text/plain": [
       "                                                                                                                        message  \\\n",
       "0  polyscimajor epa chief doesn't think carbon dioxide is main cause of global warming and.. wait, what!? url-web via @mashable   \n",
       "1                                                                it's not like we lack evidence of anthropogenic global warming   \n",
       "2              rt @rawstory: researchers say we have three years to act on climate change before it’s too late url-web url-web…   \n",
       "3                                           #todayinmaker# wired : 2016 was a pivotal year in the war on climate change url-web   \n",
       "4    rt @soynoviodetodas: it's 2016, and a racist, sexist, climate change denying bigot is leading in the polls. #electionnight   \n",
       "\n",
       "                                                                                                  clean_message  \n",
       "0  polyscimajor epa chief doesnt think carbon dioxide is main cause of global warming and wait what urlweb via   \n",
       "1                                                 its not like we lack evidence of anthropogenic global warming  \n",
       "2                researchers say we have three years to act on climate change before its too late urlweb urlweb  \n",
       "3                                todayinmaker wired 2016 was a pivotal year in the war on climate change urlweb  \n",
       "4               its 2016 and a racist sexist climate change denying bigot is leading in the polls electionnight  "
      ]
     },
     "execution_count": 22,
     "metadata": {},
     "output_type": "execute_result"
    }
   ],
   "source": [
    "df_train[['message','clean_message']].head()"
   ]
  },
  {
   "cell_type": "code",
   "execution_count": 23,
   "id": "1d0917d3",
   "metadata": {},
   "outputs": [],
   "source": [
    "df_train = df_train.drop('message', axis=1)"
   ]
  },
  {
   "cell_type": "code",
   "execution_count": 24,
   "id": "dc590752",
   "metadata": {
    "scrolled": true
   },
   "outputs": [
    {
     "data": {
      "text/html": [
       "<div>\n",
       "<style scoped>\n",
       "    .dataframe tbody tr th:only-of-type {\n",
       "        vertical-align: middle;\n",
       "    }\n",
       "\n",
       "    .dataframe tbody tr th {\n",
       "        vertical-align: top;\n",
       "    }\n",
       "\n",
       "    .dataframe thead th {\n",
       "        text-align: right;\n",
       "    }\n",
       "</style>\n",
       "<table border=\"1\" class=\"dataframe\">\n",
       "  <thead>\n",
       "    <tr style=\"text-align: right;\">\n",
       "      <th></th>\n",
       "      <th>sentiment</th>\n",
       "      <th>tweetid</th>\n",
       "      <th>clean_message</th>\n",
       "    </tr>\n",
       "  </thead>\n",
       "  <tbody>\n",
       "    <tr>\n",
       "      <th>0</th>\n",
       "      <td>1</td>\n",
       "      <td>625221</td>\n",
       "      <td>polyscimajor epa chief doesnt think carbon dioxide is main cause of global warming and wait what urlweb via</td>\n",
       "    </tr>\n",
       "    <tr>\n",
       "      <th>1</th>\n",
       "      <td>1</td>\n",
       "      <td>126103</td>\n",
       "      <td>its not like we lack evidence of anthropogenic global warming</td>\n",
       "    </tr>\n",
       "  </tbody>\n",
       "</table>\n",
       "</div>"
      ],
      "text/plain": [
       "   sentiment  tweetid  \\\n",
       "0          1   625221   \n",
       "1          1   126103   \n",
       "\n",
       "                                                                                                  clean_message  \n",
       "0  polyscimajor epa chief doesnt think carbon dioxide is main cause of global warming and wait what urlweb via   \n",
       "1                                                 its not like we lack evidence of anthropogenic global warming  "
      ]
     },
     "execution_count": 24,
     "metadata": {},
     "output_type": "execute_result"
    }
   ],
   "source": [
    "df_train.head(2)"
   ]
  },
  {
   "cell_type": "markdown",
   "id": "3a8123f5",
   "metadata": {},
   "source": [
    " ### 4.4 Lemmatization"
   ]
  },
  {
   "cell_type": "markdown",
   "id": "108ccb2a",
   "metadata": {},
   "source": [
    "Lemmatization will help in achieving the root forms (synonyms) of the words."
   ]
  },
  {
   "cell_type": "code",
   "execution_count": 25,
   "id": "1b3abf2a",
   "metadata": {},
   "outputs": [
    {
     "data": {
      "text/html": [
       "<div>\n",
       "<style scoped>\n",
       "    .dataframe tbody tr th:only-of-type {\n",
       "        vertical-align: middle;\n",
       "    }\n",
       "\n",
       "    .dataframe tbody tr th {\n",
       "        vertical-align: top;\n",
       "    }\n",
       "\n",
       "    .dataframe thead th {\n",
       "        text-align: right;\n",
       "    }\n",
       "</style>\n",
       "<table border=\"1\" class=\"dataframe\">\n",
       "  <thead>\n",
       "    <tr style=\"text-align: right;\">\n",
       "      <th></th>\n",
       "      <th>sentiment</th>\n",
       "      <th>tweetid</th>\n",
       "      <th>clean_message</th>\n",
       "    </tr>\n",
       "  </thead>\n",
       "  <tbody>\n",
       "    <tr>\n",
       "      <th>0</th>\n",
       "      <td>1</td>\n",
       "      <td>625221</td>\n",
       "      <td>polyscimajor epa chief doesnt think carbon dioxide is main cause of global warming and wait what urlweb via</td>\n",
       "    </tr>\n",
       "    <tr>\n",
       "      <th>1</th>\n",
       "      <td>1</td>\n",
       "      <td>126103</td>\n",
       "      <td>it not like we lack evidence of anthropogenic global warming</td>\n",
       "    </tr>\n",
       "  </tbody>\n",
       "</table>\n",
       "</div>"
      ],
      "text/plain": [
       "   sentiment  tweetid  \\\n",
       "0          1   625221   \n",
       "1          1   126103   \n",
       "\n",
       "                                                                                                 clean_message  \n",
       "0  polyscimajor epa chief doesnt think carbon dioxide is main cause of global warming and wait what urlweb via  \n",
       "1                                                 it not like we lack evidence of anthropogenic global warming  "
      ]
     },
     "execution_count": 25,
     "metadata": {},
     "output_type": "execute_result"
    }
   ],
   "source": [
    "from nltk.stem import WordNetLemmatizer\n",
    "\n",
    "lemmatizer = WordNetLemmatizer()\n",
    "\n",
    "def lemma(words, lemmatizer):\n",
    "    return ' '.join(([lemmatizer.lemmatize(word) for word in words.split()]))\n",
    "\n",
    "df_train['clean_message'] = df_train['clean_message'].apply(lemma, args=(lemmatizer, ))\n",
    "\n",
    "df_train.head(2)\n"
   ]
  },
  {
   "cell_type": "markdown",
   "id": "eb39f6e1",
   "metadata": {},
   "source": [
    "### 4.5 Removing Stop words"
   ]
  },
  {
   "cell_type": "code",
   "execution_count": 26,
   "id": "abbb1146",
   "metadata": {
    "scrolled": true
   },
   "outputs": [
    {
     "data": {
      "text/html": [
       "<div>\n",
       "<style scoped>\n",
       "    .dataframe tbody tr th:only-of-type {\n",
       "        vertical-align: middle;\n",
       "    }\n",
       "\n",
       "    .dataframe tbody tr th {\n",
       "        vertical-align: top;\n",
       "    }\n",
       "\n",
       "    .dataframe thead th {\n",
       "        text-align: right;\n",
       "    }\n",
       "</style>\n",
       "<table border=\"1\" class=\"dataframe\">\n",
       "  <thead>\n",
       "    <tr style=\"text-align: right;\">\n",
       "      <th></th>\n",
       "      <th>sentiment</th>\n",
       "      <th>tweetid</th>\n",
       "      <th>clean_message</th>\n",
       "    </tr>\n",
       "  </thead>\n",
       "  <tbody>\n",
       "    <tr>\n",
       "      <th>0</th>\n",
       "      <td>1</td>\n",
       "      <td>625221</td>\n",
       "      <td>polyscimajor epa chief doesnt think carbon dioxide main cause global warming wait urlweb via</td>\n",
       "    </tr>\n",
       "    <tr>\n",
       "      <th>1</th>\n",
       "      <td>1</td>\n",
       "      <td>126103</td>\n",
       "      <td>like lack evidence anthropogenic global warming</td>\n",
       "    </tr>\n",
       "    <tr>\n",
       "      <th>2</th>\n",
       "      <td>2</td>\n",
       "      <td>698562</td>\n",
       "      <td>researcher say three year act climate change late urlweb urlweb</td>\n",
       "    </tr>\n",
       "    <tr>\n",
       "      <th>3</th>\n",
       "      <td>1</td>\n",
       "      <td>573736</td>\n",
       "      <td>todayinmaker wired 2016 wa pivotal year war climate change urlweb</td>\n",
       "    </tr>\n",
       "    <tr>\n",
       "      <th>4</th>\n",
       "      <td>1</td>\n",
       "      <td>466954</td>\n",
       "      <td>2016 racist sexist climate change denying bigot leading poll electionnight</td>\n",
       "    </tr>\n",
       "  </tbody>\n",
       "</table>\n",
       "</div>"
      ],
      "text/plain": [
       "   sentiment  tweetid  \\\n",
       "0          1   625221   \n",
       "1          1   126103   \n",
       "2          2   698562   \n",
       "3          1   573736   \n",
       "4          1   466954   \n",
       "\n",
       "                                                                                  clean_message  \n",
       "0  polyscimajor epa chief doesnt think carbon dioxide main cause global warming wait urlweb via  \n",
       "1                                               like lack evidence anthropogenic global warming  \n",
       "2                               researcher say three year act climate change late urlweb urlweb  \n",
       "3                             todayinmaker wired 2016 wa pivotal year war climate change urlweb  \n",
       "4                    2016 racist sexist climate change denying bigot leading poll electionnight  "
      ]
     },
     "execution_count": 26,
     "metadata": {},
     "output_type": "execute_result"
    }
   ],
   "source": [
    "#remove stop words\n",
    "from nltk.corpus import stopwords\n",
    "stop = stopwords.words('english')\n",
    "\n",
    "df_train['clean_message']= df_train['clean_message'].apply(lambda x: ' '.join([word for word in x.split() if word not in (stop)]))\n",
    "\n",
    "df_train.head()"
   ]
  },
  {
   "cell_type": "markdown",
   "id": "99f9a70a",
   "metadata": {},
   "source": [
    "### 4.6 Feature Extraction using CountVectorizer"
   ]
  },
  {
   "cell_type": "markdown",
   "id": "a538ff7a",
   "metadata": {},
   "source": [
    "The text feature extraction module called CountVectorizer is used to convert a collection of documents (rows of text) into a matrix of token counts."
   ]
  },
  {
   "cell_type": "code",
   "execution_count": 27,
   "id": "e9e14d71",
   "metadata": {},
   "outputs": [
    {
     "data": {
      "text/plain": [
       "CountVectorizer()"
      ]
     },
     "execution_count": 27,
     "metadata": {},
     "output_type": "execute_result"
    }
   ],
   "source": [
    "# create vectorizer instance\n",
    "vect = CountVectorizer()\n",
    "\n",
    "#fit vectorizer\n",
    "vect.fit(df_train['clean_message'])"
   ]
  },
  {
   "cell_type": "code",
   "execution_count": 28,
   "id": "11526265",
   "metadata": {},
   "outputs": [
    {
     "name": "stdout",
     "output_type": "stream",
     "text": [
      "16827\n"
     ]
    }
   ],
   "source": [
    "# NUM of predictors\n",
    "print(len(vect.vocabulary_))"
   ]
  },
  {
   "cell_type": "code",
   "execution_count": 29,
   "id": "efcfb35b",
   "metadata": {},
   "outputs": [
    {
     "data": {
      "text/plain": [
       "(15819, 16827)"
      ]
     },
     "execution_count": 29,
     "metadata": {},
     "output_type": "execute_result"
    }
   ],
   "source": [
    "#transform features to numbers for modelling\n",
    "vect_transform=vect.transform(df_train['clean_message'])\n",
    "\n",
    "# Get shape of our predictive variables\n",
    "vect_transform.shape"
   ]
  },
  {
   "cell_type": "code",
   "execution_count": 30,
   "id": "ec9cdc60",
   "metadata": {},
   "outputs": [
    {
     "data": {
      "text/plain": [
       "168550"
      ]
     },
     "execution_count": 30,
     "metadata": {},
     "output_type": "execute_result"
    }
   ],
   "source": [
    "#total number of words in corpus\n",
    "total_corpus=sum(vect_transform.toarray().sum(axis=0))\n",
    "total_corpus"
   ]
  },
  {
   "cell_type": "markdown",
   "id": "78280618",
   "metadata": {},
   "source": [
    "We can seee that there are a features, some of which correspond to words which only appear once. Not all of them are very useful, we must therefore tune vectorizer."
   ]
  },
  {
   "cell_type": "code",
   "execution_count": 31,
   "id": "72ea0abd",
   "metadata": {},
   "outputs": [
    {
     "data": {
      "text/plain": [
       "CountVectorizer(max_features=10000, stop_words='english')"
      ]
     },
     "execution_count": 31,
     "metadata": {},
     "output_type": "execute_result"
    }
   ],
   "source": [
    "betterVect = CountVectorizer(stop_words='english',max_features=10000) \n",
    "\n",
    "betterVect.fit(df_train['clean_message'])"
   ]
  },
  {
   "cell_type": "code",
   "execution_count": 32,
   "id": "1b7da068",
   "metadata": {},
   "outputs": [
    {
     "data": {
      "text/plain": [
       "(15819, 10000)"
      ]
     },
     "execution_count": 32,
     "metadata": {},
     "output_type": "execute_result"
    }
   ],
   "source": [
    "betterVect_transform=betterVect.transform(df_train['clean_message'])\n",
    "\n",
    "# Get shape of our predictive variables\n",
    "betterVect_transform.shape"
   ]
  },
  {
   "cell_type": "code",
   "execution_count": 33,
   "id": "836c2f51",
   "metadata": {},
   "outputs": [
    {
     "data": {
      "text/plain": [
       "152627"
      ]
     },
     "execution_count": 33,
     "metadata": {},
     "output_type": "execute_result"
    }
   ],
   "source": [
    "#get total words in better corpus\n",
    "total_better_corpus=sum(betterVect_transform.toarray().sum(axis=0))\n",
    "total_better_corpus"
   ]
  },
  {
   "cell_type": "code",
   "execution_count": 34,
   "id": "f6bb9827",
   "metadata": {},
   "outputs": [
    {
     "data": {
      "text/plain": [
       "91"
      ]
     },
     "execution_count": 34,
     "metadata": {},
     "output_type": "execute_result"
    }
   ],
   "source": [
    "#percentage of words used \n",
    "feature_percentage=round((total_better_corpus/total_corpus)*100)\n",
    "feature_percentage"
   ]
  },
  {
   "cell_type": "markdown",
   "id": "4c766468",
   "metadata": {},
   "source": [
    "We will use 89 percent of the word in the total corpus."
   ]
  },
  {
   "cell_type": "code",
   "execution_count": 36,
   "id": "ed2bcab0",
   "metadata": {},
   "outputs": [
    {
     "name": "stderr",
     "output_type": "stream",
     "text": [
      "C:\\Users\\u1121\\anaconda3\\lib\\site-packages\\sklearn\\utils\\deprecation.py:87: FutureWarning: Function get_feature_names is deprecated; get_feature_names is deprecated in 1.0 and will be removed in 1.2. Please use get_feature_names_out instead.\n",
      "  warnings.warn(msg, category=FutureWarning)\n"
     ]
    }
   ],
   "source": [
    "X_feat = betterVect_transform.toarray()\n",
    "X_feat=pd.DataFrame(X_feat, columns = betterVect.get_feature_names())"
   ]
  },
  {
   "cell_type": "code",
   "execution_count": 39,
   "id": "425ac864",
   "metadata": {},
   "outputs": [
    {
     "data": {
      "text/html": [
       "<div>\n",
       "<style scoped>\n",
       "    .dataframe tbody tr th:only-of-type {\n",
       "        vertical-align: middle;\n",
       "    }\n",
       "\n",
       "    .dataframe tbody tr th {\n",
       "        vertical-align: top;\n",
       "    }\n",
       "\n",
       "    .dataframe thead th {\n",
       "        text-align: right;\n",
       "    }\n",
       "</style>\n",
       "<table border=\"1\" class=\"dataframe\">\n",
       "  <thead>\n",
       "    <tr style=\"text-align: right;\">\n",
       "      <th></th>\n",
       "      <th>10</th>\n",
       "      <th>100</th>\n",
       "      <th>1000</th>\n",
       "      <th>100000</th>\n",
       "      <th>101</th>\n",
       "      <th>105</th>\n",
       "      <th>109c</th>\n",
       "      <th>10yrs</th>\n",
       "      <th>11</th>\n",
       "      <th>110</th>\n",
       "      <th>...</th>\n",
       "      <th>ziploc</th>\n",
       "      <th>zoals</th>\n",
       "      <th>zodiac</th>\n",
       "      <th>zoe</th>\n",
       "      <th>zombie</th>\n",
       "      <th>zombification</th>\n",
       "      <th>zonde</th>\n",
       "      <th>zone</th>\n",
       "      <th>zoo</th>\n",
       "      <th>zukunft</th>\n",
       "    </tr>\n",
       "  </thead>\n",
       "  <tbody>\n",
       "    <tr>\n",
       "      <th>0</th>\n",
       "      <td>0</td>\n",
       "      <td>0</td>\n",
       "      <td>0</td>\n",
       "      <td>0</td>\n",
       "      <td>0</td>\n",
       "      <td>0</td>\n",
       "      <td>0</td>\n",
       "      <td>0</td>\n",
       "      <td>0</td>\n",
       "      <td>0</td>\n",
       "      <td>...</td>\n",
       "      <td>0</td>\n",
       "      <td>0</td>\n",
       "      <td>0</td>\n",
       "      <td>0</td>\n",
       "      <td>0</td>\n",
       "      <td>0</td>\n",
       "      <td>0</td>\n",
       "      <td>0</td>\n",
       "      <td>0</td>\n",
       "      <td>0</td>\n",
       "    </tr>\n",
       "    <tr>\n",
       "      <th>1</th>\n",
       "      <td>0</td>\n",
       "      <td>0</td>\n",
       "      <td>0</td>\n",
       "      <td>0</td>\n",
       "      <td>0</td>\n",
       "      <td>0</td>\n",
       "      <td>0</td>\n",
       "      <td>0</td>\n",
       "      <td>0</td>\n",
       "      <td>0</td>\n",
       "      <td>...</td>\n",
       "      <td>0</td>\n",
       "      <td>0</td>\n",
       "      <td>0</td>\n",
       "      <td>0</td>\n",
       "      <td>0</td>\n",
       "      <td>0</td>\n",
       "      <td>0</td>\n",
       "      <td>0</td>\n",
       "      <td>0</td>\n",
       "      <td>0</td>\n",
       "    </tr>\n",
       "    <tr>\n",
       "      <th>2</th>\n",
       "      <td>0</td>\n",
       "      <td>0</td>\n",
       "      <td>0</td>\n",
       "      <td>0</td>\n",
       "      <td>0</td>\n",
       "      <td>0</td>\n",
       "      <td>0</td>\n",
       "      <td>0</td>\n",
       "      <td>0</td>\n",
       "      <td>0</td>\n",
       "      <td>...</td>\n",
       "      <td>0</td>\n",
       "      <td>0</td>\n",
       "      <td>0</td>\n",
       "      <td>0</td>\n",
       "      <td>0</td>\n",
       "      <td>0</td>\n",
       "      <td>0</td>\n",
       "      <td>0</td>\n",
       "      <td>0</td>\n",
       "      <td>0</td>\n",
       "    </tr>\n",
       "    <tr>\n",
       "      <th>3</th>\n",
       "      <td>0</td>\n",
       "      <td>0</td>\n",
       "      <td>0</td>\n",
       "      <td>0</td>\n",
       "      <td>0</td>\n",
       "      <td>0</td>\n",
       "      <td>0</td>\n",
       "      <td>0</td>\n",
       "      <td>0</td>\n",
       "      <td>0</td>\n",
       "      <td>...</td>\n",
       "      <td>0</td>\n",
       "      <td>0</td>\n",
       "      <td>0</td>\n",
       "      <td>0</td>\n",
       "      <td>0</td>\n",
       "      <td>0</td>\n",
       "      <td>0</td>\n",
       "      <td>0</td>\n",
       "      <td>0</td>\n",
       "      <td>0</td>\n",
       "    </tr>\n",
       "    <tr>\n",
       "      <th>4</th>\n",
       "      <td>0</td>\n",
       "      <td>0</td>\n",
       "      <td>0</td>\n",
       "      <td>0</td>\n",
       "      <td>0</td>\n",
       "      <td>0</td>\n",
       "      <td>0</td>\n",
       "      <td>0</td>\n",
       "      <td>0</td>\n",
       "      <td>0</td>\n",
       "      <td>...</td>\n",
       "      <td>0</td>\n",
       "      <td>0</td>\n",
       "      <td>0</td>\n",
       "      <td>0</td>\n",
       "      <td>0</td>\n",
       "      <td>0</td>\n",
       "      <td>0</td>\n",
       "      <td>0</td>\n",
       "      <td>0</td>\n",
       "      <td>0</td>\n",
       "    </tr>\n",
       "  </tbody>\n",
       "</table>\n",
       "<p>5 rows × 10000 columns</p>\n",
       "</div>"
      ],
      "text/plain": [
       "   10  100  1000  100000  101  105  109c  10yrs  11  110  ...  ziploc  zoals  \\\n",
       "0   0    0     0       0    0    0     0      0   0    0  ...       0      0   \n",
       "1   0    0     0       0    0    0     0      0   0    0  ...       0      0   \n",
       "2   0    0     0       0    0    0     0      0   0    0  ...       0      0   \n",
       "3   0    0     0       0    0    0     0      0   0    0  ...       0      0   \n",
       "4   0    0     0       0    0    0     0      0   0    0  ...       0      0   \n",
       "\n",
       "   zodiac  zoe  zombie  zombification  zonde  zone  zoo  zukunft  \n",
       "0       0    0       0              0      0     0    0        0  \n",
       "1       0    0       0              0      0     0    0        0  \n",
       "2       0    0       0              0      0     0    0        0  \n",
       "3       0    0       0              0      0     0    0        0  \n",
       "4       0    0       0              0      0     0    0        0  \n",
       "\n",
       "[5 rows x 10000 columns]"
      ]
     },
     "execution_count": 39,
     "metadata": {},
     "output_type": "execute_result"
    }
   ],
   "source": [
    "X_feat.head()"
   ]
  },
  {
   "cell_type": "code",
   "execution_count": 44,
   "id": "db119cfb",
   "metadata": {},
   "outputs": [
    {
     "data": {
      "text/html": [
       "<div>\n",
       "<style scoped>\n",
       "    .dataframe tbody tr th:only-of-type {\n",
       "        vertical-align: middle;\n",
       "    }\n",
       "\n",
       "    .dataframe tbody tr th {\n",
       "        vertical-align: top;\n",
       "    }\n",
       "\n",
       "    .dataframe thead th {\n",
       "        text-align: right;\n",
       "    }\n",
       "</style>\n",
       "<table border=\"1\" class=\"dataframe\">\n",
       "  <thead>\n",
       "    <tr style=\"text-align: right;\">\n",
       "      <th></th>\n",
       "      <th>feat_names</th>\n",
       "    </tr>\n",
       "  </thead>\n",
       "  <tbody>\n",
       "    <tr>\n",
       "      <th>0</th>\n",
       "      <td>10</td>\n",
       "    </tr>\n",
       "    <tr>\n",
       "      <th>1</th>\n",
       "      <td>100</td>\n",
       "    </tr>\n",
       "    <tr>\n",
       "      <th>2</th>\n",
       "      <td>1000</td>\n",
       "    </tr>\n",
       "    <tr>\n",
       "      <th>3</th>\n",
       "      <td>100000</td>\n",
       "    </tr>\n",
       "    <tr>\n",
       "      <th>4</th>\n",
       "      <td>101</td>\n",
       "    </tr>\n",
       "    <tr>\n",
       "      <th>...</th>\n",
       "      <td>...</td>\n",
       "    </tr>\n",
       "    <tr>\n",
       "      <th>9995</th>\n",
       "      <td>zombification</td>\n",
       "    </tr>\n",
       "    <tr>\n",
       "      <th>9996</th>\n",
       "      <td>zonde</td>\n",
       "    </tr>\n",
       "    <tr>\n",
       "      <th>9997</th>\n",
       "      <td>zone</td>\n",
       "    </tr>\n",
       "    <tr>\n",
       "      <th>9998</th>\n",
       "      <td>zoo</td>\n",
       "    </tr>\n",
       "    <tr>\n",
       "      <th>9999</th>\n",
       "      <td>zukunft</td>\n",
       "    </tr>\n",
       "  </tbody>\n",
       "</table>\n",
       "<p>10000 rows × 1 columns</p>\n",
       "</div>"
      ],
      "text/plain": [
       "         feat_names\n",
       "0                10\n",
       "1               100\n",
       "2              1000\n",
       "3            100000\n",
       "4               101\n",
       "...             ...\n",
       "9995  zombification\n",
       "9996          zonde\n",
       "9997           zone\n",
       "9998            zoo\n",
       "9999        zukunft\n",
       "\n",
       "[10000 rows x 1 columns]"
      ]
     },
     "execution_count": 44,
     "metadata": {},
     "output_type": "execute_result"
    }
   ],
   "source": [
    "feat_names=pd.DataFrame(X_feat.columns.T, columns = [\"feat_names\"])\n",
    "feat_names"
   ]
  },
  {
   "cell_type": "markdown",
   "id": "bd94186b",
   "metadata": {},
   "source": [
    "#### Scaling"
   ]
  },
  {
   "cell_type": "code",
   "execution_count": 35,
   "id": "b25e6f31",
   "metadata": {},
   "outputs": [],
   "source": [
    "#scaling X\n",
    "\n",
    "# Import the scaler module\n",
    "from sklearn import preprocessing\n",
    "scaler = preprocessing.MinMaxScaler()\n",
    "\n",
    "X_scaled=betterVect_transform.toarray()\n",
    "\n",
    "# Scale data\n",
    "X_scaled = scaler.fit_transform(X_scaled)"
   ]
  },
  {
   "cell_type": "markdown",
   "id": "955e671c",
   "metadata": {},
   "source": [
    "Selecting best performing features"
   ]
  },
  {
   "cell_type": "code",
   "execution_count": 47,
   "id": "5102f981",
   "metadata": {},
   "outputs": [],
   "source": [
    "X=X_feat\n",
    "y=df_train['sentiment']\n"
   ]
  },
  {
   "cell_type": "code",
   "execution_count": 48,
   "id": "44e0bb23",
   "metadata": {},
   "outputs": [],
   "source": [
    "#Import libraries\n",
    "from sklearn.datasets import make_regression\n",
    "from sklearn.model_selection import train_test_split\n",
    "from sklearn.feature_selection import SelectKBest\n",
    "from sklearn.feature_selection import chi2\n",
    "from matplotlib import pyplot\n",
    "\n",
    "# feature selection\n",
    "def select_features(X_train, y_train, X_test):\n",
    "    # configure to select all features\n",
    "    fs = SelectKBest(score_func=chi2, k='all')\n",
    "    # learn relationship from training data\n",
    "    fs.fit(X_train, y_train)\n",
    "    # transform train input data\n",
    "    X_train_fs = fs.transform(X_train)\n",
    "    # transform test input data\n",
    "    X_test_fs = fs.transform(X_test)\n",
    "    return X_train_fs, X_test_fs, fs"
   ]
  },
  {
   "cell_type": "code",
   "execution_count": 49,
   "id": "205746df",
   "metadata": {},
   "outputs": [
    {
     "data": {
      "image/png": "[encoded data removed]",
      "text/plain": [
       "<Figure size 1440x640 with 1 Axes>"
      ]
     },
     "metadata": {},
     "output_type": "display_data"
    }
   ],
   "source": [
    "# split into train and test sets\n",
    "X_train, X_test, y_train, y_test = train_test_split(X, y, test_size=0.2, random_state=1)\n",
    "# feature selection\n",
    "X_train_fs, X_test_fs, fs = select_features(X_train, y_train, X_test)\n",
    "\n",
    "# plot the scores\n",
    "from matplotlib.pyplot import figure\n",
    "\n",
    "figure(figsize=(18, 8), dpi=80)\n",
    "\n",
    "pyplot.bar([i for i in range(len(fs.scores_))], fs.scores_)\n",
    "\n",
    "pyplot.show()"
   ]
  },
  {
   "cell_type": "code",
   "execution_count": 55,
   "id": "9c5b399f",
   "metadata": {},
   "outputs": [
    {
     "data": {
      "text/html": [
       "<div>\n",
       "<style scoped>\n",
       "    .dataframe tbody tr th:only-of-type {\n",
       "        vertical-align: middle;\n",
       "    }\n",
       "\n",
       "    .dataframe tbody tr th {\n",
       "        vertical-align: top;\n",
       "    }\n",
       "\n",
       "    .dataframe thead th {\n",
       "        text-align: right;\n",
       "    }\n",
       "</style>\n",
       "<table border=\"1\" class=\"dataframe\">\n",
       "  <thead>\n",
       "    <tr style=\"text-align: right;\">\n",
       "      <th></th>\n",
       "      <th>chi_scores</th>\n",
       "    </tr>\n",
       "  </thead>\n",
       "  <tbody>\n",
       "    <tr>\n",
       "      <th>0</th>\n",
       "      <td>3.364577</td>\n",
       "    </tr>\n",
       "    <tr>\n",
       "      <th>1</th>\n",
       "      <td>14.172760</td>\n",
       "    </tr>\n",
       "    <tr>\n",
       "      <th>2</th>\n",
       "      <td>4.551828</td>\n",
       "    </tr>\n",
       "    <tr>\n",
       "      <th>3</th>\n",
       "      <td>10.024014</td>\n",
       "    </tr>\n",
       "    <tr>\n",
       "      <th>4</th>\n",
       "      <td>10.750232</td>\n",
       "    </tr>\n",
       "    <tr>\n",
       "      <th>...</th>\n",
       "      <td>...</td>\n",
       "    </tr>\n",
       "    <tr>\n",
       "      <th>9995</th>\n",
       "      <td>0.869000</td>\n",
       "    </tr>\n",
       "    <tr>\n",
       "      <th>9996</th>\n",
       "      <td>5.688689</td>\n",
       "    </tr>\n",
       "    <tr>\n",
       "      <th>9997</th>\n",
       "      <td>10.751160</td>\n",
       "    </tr>\n",
       "    <tr>\n",
       "      <th>9998</th>\n",
       "      <td>5.688689</td>\n",
       "    </tr>\n",
       "    <tr>\n",
       "      <th>9999</th>\n",
       "      <td>0.869000</td>\n",
       "    </tr>\n",
       "  </tbody>\n",
       "</table>\n",
       "<p>10000 rows × 1 columns</p>\n",
       "</div>"
      ],
      "text/plain": [
       "      chi_scores\n",
       "0       3.364577\n",
       "1      14.172760\n",
       "2       4.551828\n",
       "3      10.024014\n",
       "4      10.750232\n",
       "...          ...\n",
       "9995    0.869000\n",
       "9996    5.688689\n",
       "9997   10.751160\n",
       "9998    5.688689\n",
       "9999    0.869000\n",
       "\n",
       "[10000 rows x 1 columns]"
      ]
     },
     "execution_count": 55,
     "metadata": {},
     "output_type": "execute_result"
    }
   ],
   "source": [
    "chi_scores=pd.DataFrame(fs.scores_, columns = [\"chi_scores\"])\n",
    "chi_scores"
   ]
  },
  {
   "cell_type": "code",
   "execution_count": 61,
   "id": "e137fd21",
   "metadata": {},
   "outputs": [
    {
     "data": {
      "text/html": [
       "<div>\n",
       "<style scoped>\n",
       "    .dataframe tbody tr th:only-of-type {\n",
       "        vertical-align: middle;\n",
       "    }\n",
       "\n",
       "    .dataframe tbody tr th {\n",
       "        vertical-align: top;\n",
       "    }\n",
       "\n",
       "    .dataframe thead th {\n",
       "        text-align: right;\n",
       "    }\n",
       "</style>\n",
       "<table border=\"1\" class=\"dataframe\">\n",
       "  <thead>\n",
       "    <tr style=\"text-align: right;\">\n",
       "      <th></th>\n",
       "      <th>feat_names</th>\n",
       "      <th>chi_scores</th>\n",
       "    </tr>\n",
       "  </thead>\n",
       "  <tbody>\n",
       "    <tr>\n",
       "      <th>3798</th>\n",
       "      <td>living</td>\n",
       "      <td>0.012157</td>\n",
       "    </tr>\n",
       "    <tr>\n",
       "      <th>2078</th>\n",
       "      <td>drought</td>\n",
       "      <td>0.068210</td>\n",
       "    </tr>\n",
       "    <tr>\n",
       "      <th>3880</th>\n",
       "      <td>mad</td>\n",
       "      <td>0.085217</td>\n",
       "    </tr>\n",
       "    <tr>\n",
       "      <th>5402</th>\n",
       "      <td>presidential</td>\n",
       "      <td>0.085217</td>\n",
       "    </tr>\n",
       "    <tr>\n",
       "      <th>2072</th>\n",
       "      <td>driver</td>\n",
       "      <td>0.134766</td>\n",
       "    </tr>\n",
       "    <tr>\n",
       "      <th>...</th>\n",
       "      <td>...</td>\n",
       "      <td>...</td>\n",
       "    </tr>\n",
       "    <tr>\n",
       "      <th>9961</th>\n",
       "      <td>yuletide</td>\n",
       "      <td>NaN</td>\n",
       "    </tr>\n",
       "    <tr>\n",
       "      <th>9965</th>\n",
       "      <td>yur</td>\n",
       "      <td>NaN</td>\n",
       "    </tr>\n",
       "    <tr>\n",
       "      <th>9976</th>\n",
       "      <td>zeets</td>\n",
       "      <td>NaN</td>\n",
       "    </tr>\n",
       "    <tr>\n",
       "      <th>9982</th>\n",
       "      <td>zhu</td>\n",
       "      <td>NaN</td>\n",
       "    </tr>\n",
       "    <tr>\n",
       "      <th>9983</th>\n",
       "      <td>zijn</td>\n",
       "      <td>NaN</td>\n",
       "    </tr>\n",
       "  </tbody>\n",
       "</table>\n",
       "<p>10000 rows × 2 columns</p>\n",
       "</div>"
      ],
      "text/plain": [
       "        feat_names  chi_scores\n",
       "3798        living    0.012157\n",
       "2078       drought    0.068210\n",
       "3880           mad    0.085217\n",
       "5402  presidential    0.085217\n",
       "2072        driver    0.134766\n",
       "...            ...         ...\n",
       "9961      yuletide         NaN\n",
       "9965           yur         NaN\n",
       "9976         zeets         NaN\n",
       "9982           zhu         NaN\n",
       "9983          zijn         NaN\n",
       "\n",
       "[10000 rows x 2 columns]"
      ]
     },
     "execution_count": 61,
     "metadata": {},
     "output_type": "execute_result"
    }
   ],
   "source": [
    "pd.options.display.max_columns\n",
    "\n",
    "\n",
    "feat_scores=feat_names.join(chi_scores)\n",
    "feat_scores_sorted=feat_scores.sort_values('chi_scores')\n",
    "feat_scores_sorted"
   ]
  },
  {
   "cell_type": "code",
   "execution_count": null,
   "id": "91154bc7",
   "metadata": {},
   "outputs": [],
   "source": [
    "final_features = dfObj[(dfObj['Sale'] > 30)"
   ]
  },
  {
   "cell_type": "code",
   "execution_count": null,
   "id": "33a1f582",
   "metadata": {},
   "outputs": [],
   "source": []
  },
  {
   "cell_type": "code",
   "execution_count": null,
   "id": "fb3eb00e",
   "metadata": {},
   "outputs": [],
   "source": []
  },
  {
   "cell_type": "code",
   "execution_count": null,
   "id": "6c7205af",
   "metadata": {},
   "outputs": [],
   "source": []
  },
  {
   "cell_type": "code",
   "execution_count": 51,
   "id": "7cac34cc",
   "metadata": {},
   "outputs": [],
   "source": [
    "from sklearn.feature_selection import RFE\n",
    "from sklearn.linear_model import LogisticRegression\n",
    "feature = RFE(LogisticRegression(multi_class='ovr',max_iter=200), n_features_to_select=100)"
   ]
  },
  {
   "cell_type": "code",
   "execution_count": null,
   "id": "eb3d7424",
   "metadata": {},
   "outputs": [],
   "source": [
    "feature.fit(X_train,y_train)"
   ]
  },
  {
   "cell_type": "code",
   "execution_count": null,
   "id": "489108b2",
   "metadata": {},
   "outputs": [],
   "source": []
  },
  {
   "cell_type": "code",
   "execution_count": null,
   "id": "c13dd352",
   "metadata": {},
   "outputs": [],
   "source": []
  },
  {
   "cell_type": "markdown",
   "id": "9c083960",
   "metadata": {},
   "source": [
    "### 4.7 Balancing the classes"
   ]
  },
  {
   "cell_type": "code",
   "execution_count": 37,
   "id": "7db957d1",
   "metadata": {},
   "outputs": [
    {
     "name": "stdout",
     "output_type": "stream",
     "text": [
      "Class=1, n=7635 (48.265%)\n",
      "Class=-1, n=1170 (7.396%)\n",
      "Class=0, n=2129 (13.458%)\n",
      "Class=2, n=3303 (20.880%)\n"
     ]
    },
    {
     "data": {
      "image/png": "[encoded data removed]",
      "text/plain": [
       "<Figure size 432x288 with 1 Axes>"
      ]
     },
     "metadata": {},
     "output_type": "display_data"
    }
   ],
   "source": [
    "from collections import Counter\n",
    "from sklearn.preprocessing import LabelEncoder\n",
    "\n",
    "# split into input and output elements\n",
    "X=X_scaled\n",
    "y=df_train['sentiment']\n",
    "\n",
    "# import train/test split module\n",
    "from sklearn.model_selection import train_test_split\n",
    "\n",
    "# Get training and testing data \n",
    "X_train, X_test, y_train, y_test = train_test_split(X, y, test_size=0.1, random_state=42)\n",
    "\n",
    "# summarize distribution\n",
    "counter = Counter(y_train)\n",
    "for k,v in counter.items():\n",
    "    per = v / len(y) * 100\n",
    "    print('Class=%d, n=%d (%.3f%%)' % (k, v, per))\n",
    "# plot the distribution\n",
    "plt.bar(counter.keys(), counter.values())\n",
    "plt.show()"
   ]
  },
  {
   "cell_type": "code",
   "execution_count": 38,
   "id": "eadac560",
   "metadata": {},
   "outputs": [
    {
     "name": "stdout",
     "output_type": "stream",
     "text": [
      "Class=1, n=7635 (48.265%)\n",
      "Class=-1, n=7635 (48.265%)\n",
      "Class=0, n=7635 (48.265%)\n",
      "Class=2, n=7635 (48.265%)\n"
     ]
    },
    {
     "data": {
      "image/png": "[encoded data removed]",
      "text/plain": [
       "<Figure size 432x288 with 1 Axes>"
      ]
     },
     "metadata": {},
     "output_type": "display_data"
    }
   ],
   "source": [
    "from imblearn.over_sampling import SMOTE\n",
    "from collections import Counter\n",
    "\n",
    "# transform the dataset\n",
    "oversample = SMOTE()\n",
    "\n",
    "X_train, y_train = oversample.fit_resample(X_train, y_train)\n",
    "# summarize distribution\n",
    "counter = Counter(y_train)\n",
    "for k,v in counter.items():\n",
    "    per = v / len(y) * 100\n",
    "    print('Class=%d, n=%d (%.3f%%)' % (k, v, per))\n",
    "# plot the distribution\n",
    "plt.bar(counter.keys(), counter.values())\n",
    "plt.show()"
   ]
  },
  {
   "cell_type": "markdown",
   "id": "efcd4c85",
   "metadata": {},
   "source": [
    "### 4.7 Preparing the test dataset"
   ]
  },
  {
   "cell_type": "code",
   "execution_count": 42,
   "id": "5e32cb2b",
   "metadata": {},
   "outputs": [],
   "source": [
    "df_test = pd.read_csv('test_with_no_labels.csv')\n",
    "#df_test.info()"
   ]
  },
  {
   "cell_type": "code",
   "execution_count": 43,
   "id": "55b62499",
   "metadata": {},
   "outputs": [
    {
     "data": {
      "text/html": [
       "<div>\n",
       "<style scoped>\n",
       "    .dataframe tbody tr th:only-of-type {\n",
       "        vertical-align: middle;\n",
       "    }\n",
       "\n",
       "    .dataframe tbody tr th {\n",
       "        vertical-align: top;\n",
       "    }\n",
       "\n",
       "    .dataframe thead th {\n",
       "        text-align: right;\n",
       "    }\n",
       "</style>\n",
       "<table border=\"1\" class=\"dataframe\">\n",
       "  <thead>\n",
       "    <tr style=\"text-align: right;\">\n",
       "      <th></th>\n",
       "      <th>message</th>\n",
       "      <th>tweetid</th>\n",
       "      <th>clean_message</th>\n",
       "    </tr>\n",
       "  </thead>\n",
       "  <tbody>\n",
       "    <tr>\n",
       "      <th>0</th>\n",
       "      <td>europe will now be looking to china to make sure that it is not alone in fighting climate change… url-web</td>\n",
       "      <td>169760</td>\n",
       "      <td>europe looking china make sure alone fighting climate change urlweb</td>\n",
       "    </tr>\n",
       "    <tr>\n",
       "      <th>1</th>\n",
       "      <td>combine this with the polling of staffers re climate change and womens' rights and you have a fascist state. url-web</td>\n",
       "      <td>35326</td>\n",
       "      <td>combine polling staffer climate change woman right fascist state urlweb</td>\n",
       "    </tr>\n",
       "    <tr>\n",
       "      <th>2</th>\n",
       "      <td>the scary, unimpeachable evidence that climate change is already here: url-web #itstimetochange #climatechange @zeroco2_;..</td>\n",
       "      <td>224985</td>\n",
       "      <td>scary unimpeachable evidence climate change already urlweb itstimetochange climatechange</td>\n",
       "    </tr>\n",
       "    <tr>\n",
       "      <th>3</th>\n",
       "      <td>@karoli @morgfair @osborneink @dailykos \\nputin got to you too jill ! \\ntrump doesn't believe in climate change at all \\nthinks it's s hoax</td>\n",
       "      <td>476263</td>\n",
       "      <td>putin got jill trump doesnt believe climate change think hoax</td>\n",
       "    </tr>\n",
       "    <tr>\n",
       "      <th>4</th>\n",
       "      <td>rt @fakewillmoore: 'female orgasms cause global warming!'\\n-sarcastic republican</td>\n",
       "      <td>872928</td>\n",
       "      <td>female orgasm cause global warmingsarcastic republican</td>\n",
       "    </tr>\n",
       "  </tbody>\n",
       "</table>\n",
       "</div>"
      ],
      "text/plain": [
       "                                                                                                                                       message  \\\n",
       "0                                    europe will now be looking to china to make sure that it is not alone in fighting climate change… url-web   \n",
       "1                         combine this with the polling of staffers re climate change and womens' rights and you have a fascist state. url-web   \n",
       "2                  the scary, unimpeachable evidence that climate change is already here: url-web #itstimetochange #climatechange @zeroco2_;..   \n",
       "3  @karoli @morgfair @osborneink @dailykos \\nputin got to you too jill ! \\ntrump doesn't believe in climate change at all \\nthinks it's s hoax   \n",
       "4                                                             rt @fakewillmoore: 'female orgasms cause global warming!'\\n-sarcastic republican   \n",
       "\n",
       "   tweetid  \\\n",
       "0   169760   \n",
       "1    35326   \n",
       "2   224985   \n",
       "3   476263   \n",
       "4   872928   \n",
       "\n",
       "                                                                              clean_message  \n",
       "0                       europe looking china make sure alone fighting climate change urlweb  \n",
       "1                   combine polling staffer climate change woman right fascist state urlweb  \n",
       "2  scary unimpeachable evidence climate change already urlweb itstimetochange climatechange  \n",
       "3                             putin got jill trump doesnt believe climate change think hoax  \n",
       "4                                    female orgasm cause global warmingsarcastic republican  "
      ]
     },
     "execution_count": 43,
     "metadata": {},
     "output_type": "execute_result"
    }
   ],
   "source": [
    "#removing the web-urls\n",
    "pattern_url = r'http[s]?://(?:[A-Za-z]|[0-9]|[$-_@.&+]|[!*\\(\\),]|(?:%[0-9A-Fa-f][0-9A-Fa-f]))+'\n",
    "subs_url = r'url-web'\n",
    "df_test['message'] = df_test['message'].replace(to_replace = pattern_url, value = subs_url, regex = True)\n",
    "\n",
    "# Lowercase conversion\n",
    "df_test['message'] = df_test['message'].str.lower()\n",
    "\n",
    "#Removing punctuation and special characters\n",
    "def data_cleaning(tweet):\n",
    "    tweet = re.sub(r'@[a-z0-9]+', '', tweet) # removing mentions\n",
    "    tweet = re.sub(r'#', '', tweet) # remove #\n",
    "    tweet = re.sub(r'rt[\\s]+', '', tweet) # remove retweets(`rt`)\n",
    "    #tweet = re.sub(r'url-web', '', tweet) # remove web-urls\n",
    "    \n",
    "    return tweet\n",
    "\n",
    "df_test['clean_message'] = df_test['message'].apply(data_cleaning)\n",
    "\n",
    "# Remove special characters using NeatText\n",
    "df_test['clean_message'] = df_test['clean_message'].apply(nt.remove_special_characters)\n",
    "\n",
    "\n",
    " ### 4.4 Lemmatization\n",
    "lemmatizer = WordNetLemmatizer()\n",
    "\n",
    "def lemma(words, lemmatizer):\n",
    "    return ' '.join(([lemmatizer.lemmatize(word) for word in words.split()]))\n",
    "\n",
    "df_test['clean_message'] = df_test['clean_message'].apply(lemma, args=(lemmatizer, ))\n",
    "\n",
    "#remove stop words\n",
    "from nltk.corpus import stopwords\n",
    "stop = stopwords.words('english')\n",
    "\n",
    "df_test['clean_message']= df_test['clean_message'].apply(lambda x: ' '.join([word for word in x.split() if word not in (stop)]))\n",
    "\n",
    "df_test.head()\n",
    "\n"
   ]
  },
  {
   "cell_type": "code",
   "execution_count": 44,
   "id": "d542f24f",
   "metadata": {},
   "outputs": [
    {
     "data": {
      "text/html": [
       "<div>\n",
       "<style scoped>\n",
       "    .dataframe tbody tr th:only-of-type {\n",
       "        vertical-align: middle;\n",
       "    }\n",
       "\n",
       "    .dataframe tbody tr th {\n",
       "        vertical-align: top;\n",
       "    }\n",
       "\n",
       "    .dataframe thead th {\n",
       "        text-align: right;\n",
       "    }\n",
       "</style>\n",
       "<table border=\"1\" class=\"dataframe\">\n",
       "  <thead>\n",
       "    <tr style=\"text-align: right;\">\n",
       "      <th></th>\n",
       "      <th>tweetid</th>\n",
       "      <th>clean_message</th>\n",
       "    </tr>\n",
       "  </thead>\n",
       "  <tbody>\n",
       "    <tr>\n",
       "      <th>0</th>\n",
       "      <td>169760</td>\n",
       "      <td>europe looking china make sure alone fighting climate change urlweb</td>\n",
       "    </tr>\n",
       "    <tr>\n",
       "      <th>1</th>\n",
       "      <td>35326</td>\n",
       "      <td>combine polling staffer climate change woman right fascist state urlweb</td>\n",
       "    </tr>\n",
       "  </tbody>\n",
       "</table>\n",
       "</div>"
      ],
      "text/plain": [
       "   tweetid  \\\n",
       "0   169760   \n",
       "1    35326   \n",
       "\n",
       "                                                             clean_message  \n",
       "0      europe looking china make sure alone fighting climate change urlweb  \n",
       "1  combine polling staffer climate change woman right fascist state urlweb  "
      ]
     },
     "execution_count": 44,
     "metadata": {},
     "output_type": "execute_result"
    }
   ],
   "source": [
    "df_test = df_test.drop('message', axis=1)\n",
    "df_test.head(2)"
   ]
  },
  {
   "cell_type": "code",
   "execution_count": 45,
   "id": "7c7ad8a6",
   "metadata": {
    "scrolled": true
   },
   "outputs": [
    {
     "data": {
      "text/plain": [
       "array([[0., 0., 0., ..., 0., 0., 0.],\n",
       "       [0., 0., 0., ..., 0., 0., 0.],\n",
       "       [0., 0., 0., ..., 0., 0., 0.],\n",
       "       ...,\n",
       "       [0., 0., 0., ..., 0., 0., 0.],\n",
       "       [0., 1., 0., ..., 0., 0., 0.],\n",
       "       [0., 0., 0., ..., 0., 0., 0.]])"
      ]
     },
     "execution_count": 45,
     "metadata": {},
     "output_type": "execute_result"
    }
   ],
   "source": [
    "#Count Vectorizer\n",
    "\n",
    "betterVect_test = CountVectorizer(stop_words='english',max_features=10000)\n",
    "\n",
    "vect_fit_test=betterVect_test.fit(df_test['clean_message'])\n",
    "\n",
    "betterVect_transform_test=betterVect_test.transform(df_test['clean_message'])\n",
    "\n",
    "feat_test=betterVect_transform_test.toarray()\n",
    "\n",
    "#scaling\n",
    "feat_test = scaler.fit_transform(feat_test)\n",
    "\n",
    "feat_test"
   ]
  },
  {
   "cell_type": "markdown",
   "id": "6dee40c8",
   "metadata": {},
   "source": [
    "## 5. Modelling\n",
    "<a class=\"anchor\" id=\"1.1\"></a>\n",
    "<a href=#cont>Back to Table of Contents</a>\n",
    "\n",
    "In this section, we will create one or more classification models that are able to accurately predict our classes. \n",
    "\n",
    "These are the models that will created:\n",
    "\n"
   ]
  },
  {
   "cell_type": "code",
   "execution_count": 43,
   "id": "a0f0d1b1",
   "metadata": {},
   "outputs": [],
   "source": [
    "from sklearn.linear_model import LogisticRegression\n",
    "from sklearn.ensemble import RandomForestClassifier\n",
    "from sklearn.tree import DecisionTreeClassifier\n",
    "from sklearn.ensemble import RandomForestClassifier\n",
    "from sklearn.neighbors import KNeighborsClassifier\n",
    "from sklearn.naive_bayes import GaussianNB\n",
    "\n",
    "\n",
    "from sklearn.model_selection import cross_val_score"
   ]
  },
  {
   "cell_type": "code",
   "execution_count": 44,
   "id": "56157ad7",
   "metadata": {},
   "outputs": [],
   "source": [
    "X=X_scaled\n",
    "y=df_train['sentiment']\n",
    "\n",
    "models = [\n",
    "    LogisticRegression(max_iter=200,random_state=42),\n",
    "    RandomForestClassifier(n_estimators=100, max_depth=5, random_state=0),\n",
    "    DecisionTreeClassifier(random_state=42),\n",
    "    GaussianNB(),\n",
    "    KNeighborsClassifier()      \n",
    "]\n",
    "# Cross-validation\n",
    "CV = 5\n",
    "cv_df = pd.DataFrame(index=range(CV * len(models)))\n",
    "entries = []\n",
    "for model in models:\n",
    "    model_name = model.__class__.__name__\n",
    "    accuracies = cross_val_score(model, X, y, scoring='accuracy', cv=CV)\n",
    "    for fold_idx, accuracy in enumerate(accuracies):\n",
    "        entries.append((model_name, fold_idx, accuracy))\n",
    "    \n",
    "cv_df = pd.DataFrame(entries, columns=['model_name', 'fold_idx', 'accuracy'])"
   ]
  },
  {
   "cell_type": "code",
   "execution_count": 45,
   "id": "b221fadd",
   "metadata": {},
   "outputs": [
    {
     "data": {
      "text/html": [
       "<div>\n",
       "<style scoped>\n",
       "    .dataframe tbody tr th:only-of-type {\n",
       "        vertical-align: middle;\n",
       "    }\n",
       "\n",
       "    .dataframe tbody tr th {\n",
       "        vertical-align: top;\n",
       "    }\n",
       "\n",
       "    .dataframe thead th {\n",
       "        text-align: right;\n",
       "    }\n",
       "</style>\n",
       "<table border=\"1\" class=\"dataframe\">\n",
       "  <thead>\n",
       "    <tr style=\"text-align: right;\">\n",
       "      <th></th>\n",
       "      <th>Mean Accuracy</th>\n",
       "      <th>Standard deviation</th>\n",
       "    </tr>\n",
       "    <tr>\n",
       "      <th>model_name</th>\n",
       "      <th></th>\n",
       "      <th></th>\n",
       "    </tr>\n",
       "  </thead>\n",
       "  <tbody>\n",
       "    <tr>\n",
       "      <th>DecisionTreeClassifier</th>\n",
       "      <td>0.629749</td>\n",
       "      <td>0.006844</td>\n",
       "    </tr>\n",
       "    <tr>\n",
       "      <th>GaussianNB</th>\n",
       "      <td>0.478981</td>\n",
       "      <td>0.004443</td>\n",
       "    </tr>\n",
       "    <tr>\n",
       "      <th>KNeighborsClassifier</th>\n",
       "      <td>0.478666</td>\n",
       "      <td>0.014179</td>\n",
       "    </tr>\n",
       "    <tr>\n",
       "      <th>LogisticRegression</th>\n",
       "      <td>0.730325</td>\n",
       "      <td>0.004852</td>\n",
       "    </tr>\n",
       "    <tr>\n",
       "      <th>RandomForestClassifier</th>\n",
       "      <td>0.539225</td>\n",
       "      <td>0.000076</td>\n",
       "    </tr>\n",
       "  </tbody>\n",
       "</table>\n",
       "</div>"
      ],
      "text/plain": [
       "                        Mean Accuracy  Standard deviation\n",
       "model_name                                               \n",
       "DecisionTreeClassifier       0.629749            0.006844\n",
       "GaussianNB                   0.478981            0.004443\n",
       "KNeighborsClassifier         0.478666            0.014179\n",
       "LogisticRegression           0.730325            0.004852\n",
       "RandomForestClassifier       0.539225            0.000076"
      ]
     },
     "execution_count": 45,
     "metadata": {},
     "output_type": "execute_result"
    }
   ],
   "source": [
    "mean_accuracy = cv_df.groupby('model_name').accuracy.mean()\n",
    "std_accuracy = cv_df.groupby('model_name').accuracy.std()\n",
    "acc = pd.concat([mean_accuracy, std_accuracy], axis= 1, \n",
    "          ignore_index=True)\n",
    "acc.columns = ['Mean Accuracy', 'Standard deviation']\n",
    "acc"
   ]
  },
  {
   "cell_type": "markdown",
   "id": "5c3d8d48",
   "metadata": {},
   "source": [
    "### 5.1 Logistic regression classification"
   ]
  },
  {
   "cell_type": "code",
   "execution_count": 39,
   "id": "4a383543",
   "metadata": {},
   "outputs": [
    {
     "data": {
      "text/plain": [
       "LogisticRegression(max_iter=200, multi_class='ovr')"
      ]
     },
     "execution_count": 39,
     "metadata": {},
     "output_type": "execute_result"
    }
   ],
   "source": [
    "# import logistic regression module\n",
    "from sklearn.linear_model import LogisticRegression\n",
    "\n",
    "# create model object\n",
    "lr = LogisticRegression(multi_class='ovr',max_iter=200)\n",
    "\n",
    "# train model\n",
    "lr.fit(X_train, y_train)"
   ]
  },
  {
   "cell_type": "markdown",
   "id": "e5254430",
   "metadata": {},
   "source": [
    "#### Checking outcomes on the testing set"
   ]
  },
  {
   "cell_type": "code",
   "execution_count": 40,
   "id": "06969b6a",
   "metadata": {},
   "outputs": [],
   "source": [
    "#Generate predictions\n",
    "y_pred = lr.predict(X_test)\n",
    "\n",
    "y_pred=pd.DataFrame(y_pred)"
   ]
  },
  {
   "cell_type": "code",
   "execution_count": 41,
   "id": "5cd84388",
   "metadata": {
    "scrolled": true
   },
   "outputs": [
    {
     "name": "stdout",
     "output_type": "stream",
     "text": [
      "              precision    recall  f1-score   support\n",
      "\n",
      "          -1       0.42      0.59      0.49       126\n",
      "           0       0.46      0.52      0.49       224\n",
      "           1       0.82      0.68      0.74       895\n",
      "           2       0.65      0.80      0.72       337\n",
      "\n",
      "    accuracy                           0.68      1582\n",
      "   macro avg       0.59      0.65      0.61      1582\n",
      "weighted avg       0.70      0.68      0.68      1582\n",
      "\n"
     ]
    }
   ],
   "source": [
    "# Classification report\n",
    "from sklearn.metrics import classification_report\n",
    "print(classification_report(y_test, y_pred))\n",
    "\n",
    "import warnings\n",
    "warnings.filterwarnings('ignore')"
   ]
  },
  {
   "cell_type": "markdown",
   "id": "1771cf0f",
   "metadata": {},
   "source": [
    "#### Predictions on Test"
   ]
  },
  {
   "cell_type": "code",
   "execution_count": 46,
   "id": "7132514c",
   "metadata": {},
   "outputs": [],
   "source": [
    "preds=lr.predict(feat_test)"
   ]
  },
  {
   "cell_type": "code",
   "execution_count": 47,
   "id": "9e764b75",
   "metadata": {},
   "outputs": [
    {
     "data": {
      "text/html": [
       "<div>\n",
       "<style scoped>\n",
       "    .dataframe tbody tr th:only-of-type {\n",
       "        vertical-align: middle;\n",
       "    }\n",
       "\n",
       "    .dataframe tbody tr th {\n",
       "        vertical-align: top;\n",
       "    }\n",
       "\n",
       "    .dataframe thead th {\n",
       "        text-align: right;\n",
       "    }\n",
       "</style>\n",
       "<table border=\"1\" class=\"dataframe\">\n",
       "  <thead>\n",
       "    <tr style=\"text-align: right;\">\n",
       "      <th></th>\n",
       "      <th>sentiment</th>\n",
       "    </tr>\n",
       "  </thead>\n",
       "  <tbody>\n",
       "    <tr>\n",
       "      <th>0</th>\n",
       "      <td>0</td>\n",
       "    </tr>\n",
       "    <tr>\n",
       "      <th>1</th>\n",
       "      <td>0</td>\n",
       "    </tr>\n",
       "  </tbody>\n",
       "</table>\n",
       "</div>"
      ],
      "text/plain": [
       "   sentiment\n",
       "0          0\n",
       "1          0"
      ]
     },
     "execution_count": 47,
     "metadata": {},
     "output_type": "execute_result"
    }
   ],
   "source": [
    "daf=pd.DataFrame(preds,columns=['sentiment'])\n",
    "daf.head(2)"
   ]
  },
  {
   "cell_type": "code",
   "execution_count": 49,
   "id": "7a59a3e7",
   "metadata": {},
   "outputs": [
    {
     "data": {
      "text/html": [
       "<div>\n",
       "<style scoped>\n",
       "    .dataframe tbody tr th:only-of-type {\n",
       "        vertical-align: middle;\n",
       "    }\n",
       "\n",
       "    .dataframe tbody tr th {\n",
       "        vertical-align: top;\n",
       "    }\n",
       "\n",
       "    .dataframe thead th {\n",
       "        text-align: right;\n",
       "    }\n",
       "</style>\n",
       "<table border=\"1\" class=\"dataframe\">\n",
       "  <thead>\n",
       "    <tr style=\"text-align: right;\">\n",
       "      <th></th>\n",
       "      <th>tweetid</th>\n",
       "      <th>sentiment</th>\n",
       "    </tr>\n",
       "  </thead>\n",
       "  <tbody>\n",
       "    <tr>\n",
       "      <th>0</th>\n",
       "      <td>169760</td>\n",
       "      <td>0</td>\n",
       "    </tr>\n",
       "    <tr>\n",
       "      <th>1</th>\n",
       "      <td>35326</td>\n",
       "      <td>0</td>\n",
       "    </tr>\n",
       "    <tr>\n",
       "      <th>2</th>\n",
       "      <td>224985</td>\n",
       "      <td>0</td>\n",
       "    </tr>\n",
       "    <tr>\n",
       "      <th>3</th>\n",
       "      <td>476263</td>\n",
       "      <td>0</td>\n",
       "    </tr>\n",
       "    <tr>\n",
       "      <th>4</th>\n",
       "      <td>872928</td>\n",
       "      <td>-1</td>\n",
       "    </tr>\n",
       "    <tr>\n",
       "      <th>...</th>\n",
       "      <td>...</td>\n",
       "      <td>...</td>\n",
       "    </tr>\n",
       "    <tr>\n",
       "      <th>10541</th>\n",
       "      <td>895714</td>\n",
       "      <td>0</td>\n",
       "    </tr>\n",
       "    <tr>\n",
       "      <th>10542</th>\n",
       "      <td>875167</td>\n",
       "      <td>0</td>\n",
       "    </tr>\n",
       "    <tr>\n",
       "      <th>10543</th>\n",
       "      <td>78329</td>\n",
       "      <td>-1</td>\n",
       "    </tr>\n",
       "    <tr>\n",
       "      <th>10544</th>\n",
       "      <td>867455</td>\n",
       "      <td>0</td>\n",
       "    </tr>\n",
       "    <tr>\n",
       "      <th>10545</th>\n",
       "      <td>470892</td>\n",
       "      <td>1</td>\n",
       "    </tr>\n",
       "  </tbody>\n",
       "</table>\n",
       "<p>10546 rows × 2 columns</p>\n",
       "</div>"
      ],
      "text/plain": [
       "       tweetid  sentiment\n",
       "0       169760          0\n",
       "1        35326          0\n",
       "2       224985          0\n",
       "3       476263          0\n",
       "4       872928         -1\n",
       "...        ...        ...\n",
       "10541   895714          0\n",
       "10542   875167          0\n",
       "10543    78329         -1\n",
       "10544   867455          0\n",
       "10545   470892          1\n",
       "\n",
       "[10546 rows x 2 columns]"
      ]
     },
     "execution_count": 49,
     "metadata": {},
     "output_type": "execute_result"
    }
   ],
   "source": [
    "output=pd.DataFrame({'tweetid':df_test['tweetid']})\n",
    "submission=output.join(daf)\n",
    "#submission.to_csv('submission3.csv',index=False)\n",
    "\n",
    "submission"
   ]
  },
  {
   "cell_type": "markdown",
   "id": "270a13a9",
   "metadata": {},
   "source": [
    "### 5.2 Decision Tree"
   ]
  },
  {
   "cell_type": "code",
   "execution_count": 49,
   "id": "7ac369c1",
   "metadata": {},
   "outputs": [
    {
     "data": {
      "text/plain": [
       "RandomForestClassifier(random_state=42)"
      ]
     },
     "execution_count": 49,
     "metadata": {},
     "output_type": "execute_result"
    }
   ],
   "source": [
    "forest = RandomForestClassifier(n_estimators=100, random_state=42)\n",
    "forest.fit(X_train, y_train)"
   ]
  },
  {
   "cell_type": "code",
   "execution_count": 50,
   "id": "8a9a48fa",
   "metadata": {
    "scrolled": true
   },
   "outputs": [
    {
     "name": "stdout",
     "output_type": "stream",
     "text": [
      "              precision    recall  f1-score   support\n",
      "\n",
      "          -1       0.49      0.33      0.40       278\n",
      "           0       0.44      0.48      0.46       425\n",
      "           1       0.75      0.79      0.77      1755\n",
      "           2       0.75      0.68      0.71       706\n",
      "\n",
      "    accuracy                           0.69      3164\n",
      "   macro avg       0.61      0.57      0.59      3164\n",
      "weighted avg       0.68      0.69      0.68      3164\n",
      "\n"
     ]
    }
   ],
   "source": [
    "pred_forest_dt = forest.predict(X_test)\n",
    "pred_forest_dt=pd.DataFrame(pred_forest_dt)\n",
    "\n",
    "# Classification report\n",
    "from sklearn.metrics import classification_report\n",
    "print(classification_report(y_test, pred_forest_dt))\n",
    "\n",
    "import warnings\n",
    "warnings.filterwarnings('ignore')"
   ]
  },
  {
   "cell_type": "markdown",
   "id": "4ea79836",
   "metadata": {},
   "source": [
    "#### Logging results on comet\n"
   ]
  },
  {
   "cell_type": "code",
   "execution_count": 51,
   "id": "e93b73ec",
   "metadata": {},
   "outputs": [],
   "source": [
    "from sklearn.metrics import accuracy_score\n",
    "\n",
    "accuracy_rf=accuracy_score(y_test, pred_forest_dt)\n",
    "\n",
    "params = {\"random_state=\": 42,\n",
    "      \"model_type\": \"RandomForestClassifier\",\n",
    "      \"scaler:\": \"standard scale\"\n",
    "         }\n",
    "\n",
    "metrics = {\"Acuracy\":accuracy_rf}"
   ]
  },
  {
   "cell_type": "code",
   "execution_count": 52,
   "id": "69ccbbea",
   "metadata": {},
   "outputs": [],
   "source": [
    "experiment.log_parameters(params)\n",
    "experiment.log_metrics(metrics)"
   ]
  },
  {
   "cell_type": "markdown",
   "id": "d4f28dd8",
   "metadata": {},
   "source": [
    "#### Hyperparameter tuning"
   ]
  },
  {
   "cell_type": "code",
   "execution_count": 53,
   "id": "f4d448c8",
   "metadata": {},
   "outputs": [
    {
     "ename": "NameError",
     "evalue": "name 'GridSearchCV' is not defined",
     "output_type": "error",
     "traceback": [
      "\u001b[1;31m---------------------------------------------------------------------------\u001b[0m",
      "\u001b[1;31mNameError\u001b[0m                                 Traceback (most recent call last)",
      "\u001b[1;32m<ipython-input-53-7ceeae9aba8a>\u001b[0m in \u001b[0;36m<module>\u001b[1;34m\u001b[0m\n\u001b[0;32m      1\u001b[0m \u001b[0mparams_dt\u001b[0m \u001b[1;33m=\u001b[0m \u001b[1;33m{\u001b[0m\u001b[1;34m'criterion'\u001b[0m\u001b[1;33m:\u001b[0m\u001b[1;33m[\u001b[0m\u001b[1;34m'gini'\u001b[0m\u001b[1;33m,\u001b[0m\u001b[1;34m'entropy'\u001b[0m\u001b[1;33m]\u001b[0m\u001b[1;33m,\u001b[0m\u001b[1;34m'max_depth'\u001b[0m\u001b[1;33m:\u001b[0m\u001b[1;33m[\u001b[0m\u001b[1;36m4\u001b[0m\u001b[1;33m,\u001b[0m\u001b[1;36m5\u001b[0m\u001b[1;33m,\u001b[0m\u001b[1;36m6\u001b[0m\u001b[1;33m,\u001b[0m\u001b[1;36m7\u001b[0m\u001b[1;33m,\u001b[0m\u001b[1;36m8\u001b[0m\u001b[1;33m,\u001b[0m\u001b[1;36m9\u001b[0m\u001b[1;33m,\u001b[0m\u001b[1;36m10\u001b[0m\u001b[1;33m,\u001b[0m\u001b[1;36m11\u001b[0m\u001b[1;33m,\u001b[0m\u001b[1;36m12\u001b[0m\u001b[1;33m,\u001b[0m\u001b[1;36m15\u001b[0m\u001b[1;33m,\u001b[0m\u001b[1;36m20\u001b[0m\u001b[1;33m,\u001b[0m\u001b[1;36m30\u001b[0m\u001b[1;33m,\u001b[0m\u001b[1;36m40\u001b[0m\u001b[1;33m,\u001b[0m\u001b[1;36m50\u001b[0m\u001b[1;33m,\u001b[0m\u001b[1;36m70\u001b[0m\u001b[1;33m,\u001b[0m\u001b[1;36m90\u001b[0m\u001b[1;33m,\u001b[0m\u001b[1;36m120\u001b[0m\u001b[1;33m,\u001b[0m\u001b[1;36m150\u001b[0m\u001b[1;33m]\u001b[0m\u001b[1;33m}\u001b[0m\u001b[1;33m\u001b[0m\u001b[1;33m\u001b[0m\u001b[0m\n\u001b[1;32m----> 2\u001b[1;33m gs_nb = GridSearchCV(estimator=forest, \n\u001b[0m\u001b[0;32m      3\u001b[0m                  \u001b[0mparam_grid\u001b[0m\u001b[1;33m=\u001b[0m\u001b[0mparams_nb\u001b[0m\u001b[1;33m,\u001b[0m\u001b[1;33m\u001b[0m\u001b[1;33m\u001b[0m\u001b[0m\n\u001b[0;32m      4\u001b[0m                  \u001b[0mverbose\u001b[0m\u001b[1;33m=\u001b[0m\u001b[1;36m1\u001b[0m\u001b[1;33m,\u001b[0m\u001b[1;33m\u001b[0m\u001b[1;33m\u001b[0m\u001b[0m\n\u001b[0;32m      5\u001b[0m                  scoring='f1') \n",
      "\u001b[1;31mNameError\u001b[0m: name 'GridSearchCV' is not defined"
     ]
    }
   ],
   "source": [
    "params_dt = {'criterion':['gini','entropy'],'max_depth':[4,5,6,7,8,9,10,11,12,15,20,30,40,50,70,90,120,150]}\n",
    "gs_nb = GridSearchCV(estimator=forest, \n",
    "                 param_grid=params_nb,    \n",
    "                 verbose=1, \n",
    "                 scoring='f1') \n",
    "gs_nb.fit(X_train, y_train)\n",
    "\n",
    "gs_nb.best_params_"
   ]
  },
  {
   "cell_type": "code",
   "execution_count": null,
   "id": "8006c138",
   "metadata": {},
   "outputs": [],
   "source": []
  },
  {
   "cell_type": "code",
   "execution_count": null,
   "id": "740ae65f",
   "metadata": {},
   "outputs": [],
   "source": []
  },
  {
   "cell_type": "code",
   "execution_count": null,
   "id": "7416adc2",
   "metadata": {},
   "outputs": [],
   "source": []
  },
  {
   "cell_type": "markdown",
   "id": "38267131",
   "metadata": {},
   "source": [
    "### 5.3 Random Forests"
   ]
  },
  {
   "cell_type": "code",
   "execution_count": null,
   "id": "5131c81b",
   "metadata": {},
   "outputs": [],
   "source": []
  },
  {
   "cell_type": "code",
   "execution_count": null,
   "id": "8d2f8153",
   "metadata": {},
   "outputs": [],
   "source": []
  },
  {
   "cell_type": "code",
   "execution_count": null,
   "id": "fd2b5fde",
   "metadata": {},
   "outputs": [],
   "source": []
  },
  {
   "cell_type": "code",
   "execution_count": null,
   "id": "ca57a9c1",
   "metadata": {},
   "outputs": [],
   "source": []
  },
  {
   "cell_type": "markdown",
   "id": "7acac5b7",
   "metadata": {},
   "source": [
    "### 5.4 Naive Bayes"
   ]
  },
  {
   "cell_type": "code",
   "execution_count": null,
   "id": "5db6d614",
   "metadata": {},
   "outputs": [],
   "source": [
    "#import the model\n",
    "from sklearn.naive_bayes import GaussianNB\n",
    "\n",
    "# Define the model \n",
    "naive_bayes = GaussianNB()\n",
    "\n",
    "# Fit the model \n",
    "naive_bayes.fit(X_train, y_train)"
   ]
  },
  {
   "cell_type": "markdown",
   "id": "4150f538",
   "metadata": {},
   "source": [
    "#### Hyperparameter tuning"
   ]
  },
  {
   "cell_type": "code",
   "execution_count": null,
   "id": "17464ca0",
   "metadata": {
    "scrolled": true
   },
   "outputs": [],
   "source": [
    "from sklearn.model_selection import GridSearchCV\n",
    "\n",
    "params_nb = {'var_smoothing': np.logspace(0,-9, num=10)}\n",
    "gs_nb = GridSearchCV(estimator=naive_bayes, \n",
    "                 param_grid=params_nb,    \n",
    "                 verbose=1, \n",
    "                 scoring='f1') \n",
    "gs_nb.fit(X_train, y_train)\n",
    "\n",
    "gs_nb.best_params_"
   ]
  },
  {
   "cell_type": "code",
   "execution_count": null,
   "id": "e3990540",
   "metadata": {},
   "outputs": [],
   "source": [
    "# Define the model \n",
    "naive_bayes_better = GaussianNB(var_smoothing=2.71828182846)\n",
    "# Fit the model \n",
    "naive_bayes_better.fit(X_train, y_train)"
   ]
  },
  {
   "cell_type": "markdown",
   "id": "1c7d80ed",
   "metadata": {},
   "source": [
    "#### Checking outcomes on the testing set\n"
   ]
  },
  {
   "cell_type": "code",
   "execution_count": null,
   "id": "51b7f3f4",
   "metadata": {},
   "outputs": [],
   "source": [
    "# Generate predictions\n",
    "y_pred_nb = naive_bayes.predict(X_test)\n",
    "\n",
    "y_pred_nb=pd.DataFrame(y_pred_nb)\n",
    "\n",
    "# Classification report\n",
    "print(classification_report(y_test, y_pred_nb))\n",
    "\n",
    "import warnings\n",
    "warnings.filterwarnings('ignore')"
   ]
  },
  {
   "cell_type": "markdown",
   "id": "298dcebf",
   "metadata": {},
   "source": [
    "#### Checking outcomes on tuned model\n"
   ]
  },
  {
   "cell_type": "code",
   "execution_count": null,
   "id": "0af7d8e9",
   "metadata": {},
   "outputs": [],
   "source": [
    "# Generate predictions\n",
    "y_pred_nb_better = naive_bayes_better.predict(X_test)\n",
    "\n",
    "y_pred_nb_better=pd.DataFrame(y_pred_nb_better)\n",
    "\n",
    "# Classification report\n",
    "print(classification_report(y_test, y_pred_nb_better))\n",
    "\n",
    "import warnings\n",
    "warnings.filterwarnings('ignore')"
   ]
  },
  {
   "cell_type": "markdown",
   "id": "e446cb33",
   "metadata": {},
   "source": [
    "### 5.5 k nearest neighbuors"
   ]
  },
  {
   "cell_type": "code",
   "execution_count": null,
   "id": "858a5b2b",
   "metadata": {},
   "outputs": [],
   "source": [
    "from sklearn.neighbors import KNeighborsClassifier\n",
    "\n",
    "n_neighbors = 10 \n",
    "\n",
    "# Define the model\n",
    "knn = KNeighborsClassifier(n_neighbors,  weights='distance')\n",
    "# Fit the model \n",
    "knn.fit(X_train, y_train)"
   ]
  },
  {
   "cell_type": "markdown",
   "id": "d3c565c3",
   "metadata": {},
   "source": [
    "#### Hyperparameter tuning"
   ]
  },
  {
   "cell_type": "code",
   "execution_count": null,
   "id": "29db6823",
   "metadata": {},
   "outputs": [],
   "source": [
    "ks = [ 1, 2, 3, 4, 5, 6, 7, 8, 9, 10,20]\n",
    "\n",
    "param_grid = {'n_neighbors': ks}\n",
    "\n",
    "grid_knn = GridSearchCV(KNeighborsClassifier(), param_grid, scoring='f1')\n",
    "\n",
    "grid_knn.fit(X, y)\n",
    "grid_knn.best_params_"
   ]
  },
  {
   "cell_type": "code",
   "execution_count": null,
   "id": "cbbfde6c",
   "metadata": {},
   "outputs": [],
   "source": [
    "n_neighbors = 1 \n",
    "\n",
    "#model instance\n",
    "knn_improved = KNeighborsClassifier(n_neighbors,  weights='distance')\n",
    "# Fit the model \n",
    "knn_improved.fit(X_train, y_train)"
   ]
  },
  {
   "cell_type": "markdown",
   "id": "845f60ac",
   "metadata": {},
   "source": [
    "#### Checking outcomes on the testing set"
   ]
  },
  {
   "cell_type": "code",
   "execution_count": null,
   "id": "988efc20",
   "metadata": {},
   "outputs": [],
   "source": [
    "# Generate predictions\n",
    "y_pred_knn = knn.predict(X_test)\n",
    "\n",
    "y_pred_knn=pd.DataFrame(y_pred_knn)\n",
    "\n",
    "# Classification report\n",
    "print(classification_report(y_test, y_pred_knn))\n",
    "\n",
    "import warnings\n",
    "warnings.filterwarnings('ignore')"
   ]
  },
  {
   "cell_type": "markdown",
   "id": "263f3114",
   "metadata": {},
   "source": [
    "#### Checking outcomes on tuned model\n"
   ]
  },
  {
   "cell_type": "code",
   "execution_count": null,
   "id": "7cb03be2",
   "metadata": {},
   "outputs": [],
   "source": [
    "# Generate predictions\n",
    "y_pred_knn_improved = knn_improved.predict(X_test)\n",
    "\n",
    "y_pred_knn_improved=pd.DataFrame(y_pred_knn_improved)\n",
    "\n",
    "# Classification report\n",
    "print(classification_report(y_test, y_pred_knn_improved))\n",
    "\n",
    "import warnings\n",
    "warnings.filterwarnings('ignore')"
   ]
  },
  {
   "cell_type": "code",
   "execution_count": null,
   "id": "cb33dcbf",
   "metadata": {},
   "outputs": [],
   "source": [
    "experiment.end()"
   ]
  },
  {
   "cell_type": "code",
   "execution_count": null,
   "id": "e3a1fb70",
   "metadata": {},
   "outputs": [],
   "source": []
  }
 ],
 "metadata": {
  "kernelspec": {
   "display_name": "Python 3",
   "language": "python",
   "name": "python3"
  },
  "language_info": {
   "codemirror_mode": {
    "name": "ipython",
    "version": 3
   },
   "file_extension": ".py",
   "mimetype": "text/x-python",
   "name": "python",
   "nbconvert_exporter": "python",
   "pygments_lexer": "ipython3",
   "version": "3.8.8"
  }
 },
 "nbformat": 4,
 "nbformat_minor": 5
}
