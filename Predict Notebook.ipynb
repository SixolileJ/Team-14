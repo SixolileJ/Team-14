{
 "cells": [
  {
   "cell_type": "markdown",
   "id": "3b7283f3",
   "metadata": {},
   "source": [
    "# Classification Predict Student Solution\n",
    "\n",
    "© Explore Data Science Academy\n",
    "\n",
    "---\n",
    "### Honour Code\n",
    "\n",
    "I {**Team-14**}, confirm - by submitting this document - that the solutions in this notebook are a result of my own work and that I abide by the [EDSA honour code](https://drive.google.com/file/d/1QDCjGZJ8-FmJE3bZdIQNwnJyQKPhHZBn/view?usp=sharing).\n",
    "\n",
    "Non-compliance with the honour code constitutes a material breach of contract.\n",
    " \n",
    "### Climate Change Belief Analysis 2022\n",
    "\n",
    "Many companies are built around lessening one’s environmental impact or carbon footprint. They offer products and services that are environmentally friendly and sustainable, in line with their values and ideals. They would like to determine how people perceive climate change and whether or not they believe it is a real threat. This would add to their market research efforts in gauging how their product/service may be received.\n",
    "\n",
    "- 1. analyse the supplied data;\n",
    "- 2. identify potential errors in the data and clean the existing data set;\n",
    "- 3. determine if additional features can be added to enrich the data set;\n",
    "- 4. build a model that is capable of classifying whether or not a person believes in climate change;\n",
    "- 5. evaluate the accuracy of the best machine learning model;\n",
    "- 6. determine what features were most important in the model’s prediction decision, and\n",
    "- 7. explain the inner working of the model to a non-technical audience.\n"
   ]
  },
  {
   "cell_type": "markdown",
   "id": "0fa7d9e9",
   "metadata": {},
   "source": [
    "<a id=\"cont\"></a>\n",
    "\n",
    "## Table of Contents\n",
    "<a href=#one>1. Importing Packages</a>\n",
    "\n",
    "<a href=#two>2. Loading Data</a>\n",
    "\n",
    "<a href=#three>3. Exploratory Data Analysis (EDA)</a>\n",
    "\n",
    "- <a href=#two>3.1 Numerical and categorical features</a>\n",
    "\n",
    "- <a href=#four>3.2 Null Values </a>\n",
    "\n",
    "- <a href=#four>3.3 Descriptive analysis </a>\n",
    "\n",
    "- <a href=#four>3.4 The target variable </a>\n",
    "\n",
    "- <a href=#four>3.5 Feature variables </a>\n",
    "\n",
    "\n",
    "<a href=#four>4. Data Engineering</a>\n",
    "\n",
    "- <a href=#four>4.1 removing the web-urls</a>\n",
    "\n",
    "- <a href=#four>4.2 Lowercase conversion </a>\n",
    "\n",
    "- <a href=#four>4.3 Removing punctuation and special characters </a>\n",
    "\n",
    "- <a href=#four>4.4 Lemmatization </a>\n",
    "\n",
    "- <a href=#four>4.5 Removing Stop words </a>\n",
    "\n",
    "- <a href=#four>4.6 Feature Extraction using CountVectorizer </a>\n",
    "\n",
    "- <a href=#four>4.7 Preparing the test dataset </a>\n",
    "\n",
    "\n",
    "<a href=#five>5. Modeling</a>\n",
    "\n",
    "\n",
    "- <a href=#four>5.1 Logistic regression classification </a>\n",
    "\n",
    "- <a href=#four>5.2 Decision Tree </a>\n",
    "\n",
    "- <a href=#four>5.3 Random Forests</a>\n",
    "\n",
    "- <a href=#four>5.4 Naive Bayes</a>\n",
    "\n",
    "- <a href=#four>5.5 k nearest neighbuors </a>\n",
    "\n",
    "- <a href=#four> </a>\n",
    "\n",
    "- <a href=#four> </a>\n",
    "\n",
    "\n",
    "<a href=#six>6. Model Performance</a>\n",
    "\n",
    "<a href=#seven>7. Model Explanations</a>"
   ]
  },
  {
   "cell_type": "markdown",
   "id": "5537c227",
   "metadata": {},
   "source": [
    "## Comet"
   ]
  },
  {
   "cell_type": "code",
   "execution_count": 1,
   "id": "6a311a85",
   "metadata": {},
   "outputs": [
    {
     "name": "stderr",
     "output_type": "stream",
     "text": [
      "COMET WARNING: As you are running in a Jupyter environment, you will need to call `experiment.end()` when finished to ensure all metrics and code are logged before exiting.\n",
      "COMET INFO: Experiment is live on comet.ml https://www.comet.ml/sixolilej/team-14-classification-sprint/8f1ff143213e47a3ba517bacd77631bd\n",
      "\n"
     ]
    }
   ],
   "source": [
    "# import comet_ml at the top of your file\n",
    "from comet_ml import Experiment\n",
    "\n",
    "# Create an experiment with your api key\n",
    "experiment = Experiment(\n",
    "    api_key=\"j6t6QCKPHzxLlzGL6upDixMVs\",\n",
    "    project_name=\"team-14-classification-sprint\",\n",
    "    workspace=\"sixolilej\",\n",
    ")"
   ]
  },
  {
   "cell_type": "markdown",
   "id": "e2b80f08",
   "metadata": {},
   "source": [
    "<a id=\"one\"></a>\n",
    "## 1. Importing Packages\n",
    "<a href=#cont>Back to Table of Contents</a>\n",
    "\n",
    "In this section the necessary libraries that will be used throughout the anaylisis are imported.\n",
    "\n",
    "---"
   ]
  },
  {
   "cell_type": "code",
   "execution_count": 2,
   "id": "2ef81f58",
   "metadata": {},
   "outputs": [],
   "source": [
    "# Libraries for data loading, data manipulation and data visulisation\n",
    "\n",
    "import numpy as np\n",
    "import pandas as pd\n",
    "import matplotlib.pyplot as plt\n",
    "%matplotlib inline\n",
    "import seaborn as sns\n",
    "import re\n",
    "import string\n",
    "import neattext.functions as nt\n",
    "import neattext.functions as nt\n",
    "\n",
    "import nltk\n",
    "from nltk.corpus import stopwords\n",
    "from nltk import SnowballStemmer, PorterStemmer, LancasterStemmer\n",
    "from nltk.stem import WordNetLemmatizer\n",
    "from nltk.corpus import stopwords\n",
    "from nltk.util import ngrams\n",
    "\n",
    "# Libraries for data preparation and model building\n",
    "from sklearn.feature_extraction.text import CountVectorizer\n",
    "\n",
    "\n",
    "# set plot style\n",
    "sns.set()\n",
    "\n",
    "\n",
    "#import *\n",
    "\n",
    "# Setting global constants to ensure notebook results are reproducible\n",
    "#PARAMETER_CONSTANT = ###"
   ]
  },
  {
   "cell_type": "markdown",
   "id": "715cc340",
   "metadata": {},
   "source": [
    "<a id=\"two\"></a>\n",
    "## 2. Loading the Data\n",
    "<a class=\"anchor\" id=\"1.1\"></a>\n",
    "<a href=#cont>Back to Table of Contents</a>\n",
    "\n",
    "\n",
    "In this section the data is loaded from the `df_train` file.\n",
    "\n",
    "---"
   ]
  },
  {
   "cell_type": "code",
   "execution_count": 3,
   "id": "7557d744",
   "metadata": {},
   "outputs": [],
   "source": [
    "pd.set_option('display.max_colwidth', None)\n",
    "df_train = pd.read_csv('train.csv') # load the data\n",
    "#df_test = pd.read_csv('test.csv') # load the data"
   ]
  },
  {
   "cell_type": "code",
   "execution_count": 4,
   "id": "c4d7a75b",
   "metadata": {},
   "outputs": [
    {
     "data": {
      "text/html": [
       "<div>\n",
       "<style scoped>\n",
       "    .dataframe tbody tr th:only-of-type {\n",
       "        vertical-align: middle;\n",
       "    }\n",
       "\n",
       "    .dataframe tbody tr th {\n",
       "        vertical-align: top;\n",
       "    }\n",
       "\n",
       "    .dataframe thead th {\n",
       "        text-align: right;\n",
       "    }\n",
       "</style>\n",
       "<table border=\"1\" class=\"dataframe\">\n",
       "  <thead>\n",
       "    <tr style=\"text-align: right;\">\n",
       "      <th></th>\n",
       "      <th>sentiment</th>\n",
       "      <th>message</th>\n",
       "      <th>tweetid</th>\n",
       "    </tr>\n",
       "  </thead>\n",
       "  <tbody>\n",
       "    <tr>\n",
       "      <th>0</th>\n",
       "      <td>1</td>\n",
       "      <td>PolySciMajor EPA chief doesn't think carbon dioxide is main cause of global warming and.. wait, what!? https://t.co/yeLvcEFXkC via @mashable</td>\n",
       "      <td>625221</td>\n",
       "    </tr>\n",
       "    <tr>\n",
       "      <th>1</th>\n",
       "      <td>1</td>\n",
       "      <td>It's not like we lack evidence of anthropogenic global warming</td>\n",
       "      <td>126103</td>\n",
       "    </tr>\n",
       "    <tr>\n",
       "      <th>2</th>\n",
       "      <td>2</td>\n",
       "      <td>RT @RawStory: Researchers say we have three years to act on climate change before it’s too late https://t.co/WdT0KdUr2f https://t.co/Z0ANPT…</td>\n",
       "      <td>698562</td>\n",
       "    </tr>\n",
       "    <tr>\n",
       "      <th>3</th>\n",
       "      <td>1</td>\n",
       "      <td>#TodayinMaker# WIRED : 2016 was a pivotal year in the war on climate change https://t.co/44wOTxTLcD</td>\n",
       "      <td>573736</td>\n",
       "    </tr>\n",
       "    <tr>\n",
       "      <th>4</th>\n",
       "      <td>1</td>\n",
       "      <td>RT @SoyNovioDeTodas: It's 2016, and a racist, sexist, climate change denying bigot is leading in the polls. #ElectionNight</td>\n",
       "      <td>466954</td>\n",
       "    </tr>\n",
       "  </tbody>\n",
       "</table>\n",
       "</div>"
      ],
      "text/plain": [
       "   sentiment  \\\n",
       "0          1   \n",
       "1          1   \n",
       "2          2   \n",
       "3          1   \n",
       "4          1   \n",
       "\n",
       "                                                                                                                                        message  \\\n",
       "0  PolySciMajor EPA chief doesn't think carbon dioxide is main cause of global warming and.. wait, what!? https://t.co/yeLvcEFXkC via @mashable   \n",
       "1                                                                                It's not like we lack evidence of anthropogenic global warming   \n",
       "2  RT @RawStory: Researchers say we have three years to act on climate change before it’s too late https://t.co/WdT0KdUr2f https://t.co/Z0ANPT…   \n",
       "3                                           #TodayinMaker# WIRED : 2016 was a pivotal year in the war on climate change https://t.co/44wOTxTLcD   \n",
       "4                    RT @SoyNovioDeTodas: It's 2016, and a racist, sexist, climate change denying bigot is leading in the polls. #ElectionNight   \n",
       "\n",
       "   tweetid  \n",
       "0   625221  \n",
       "1   126103  \n",
       "2   698562  \n",
       "3   573736  \n",
       "4   466954  "
      ]
     },
     "execution_count": 4,
     "metadata": {},
     "output_type": "execute_result"
    }
   ],
   "source": [
    "# View dataset\n",
    "df_train.head()"
   ]
  },
  {
   "cell_type": "markdown",
   "id": "806a5cb2",
   "metadata": {},
   "source": [
    "<a id=\"three\"></a>\n",
    "## 3. Exploratory Data Analysis (EDA)\n",
    "<a class=\"anchor\" id=\"1.1\"></a>\n",
    "<a href=#cont>Back to Table of Contents</a>\n",
    "\n",
    "\n",
    "    \n",
    "In this section,  an in-depth analysis of all the variables in the DataFrame is perfomed.\n",
    "\n",
    "looking at:\n",
    "\n",
    "-  Numerical and categorical features\n",
    "-  Null values\n",
    "-  Descriptive analysis \n",
    "-  The target variable 'sentiment'\n",
    "-  Feature variables 'message'"
   ]
  },
  {
   "cell_type": "markdown",
   "id": "58e11866",
   "metadata": {},
   "source": [
    "###  3.1 Numerical and categorical features\n",
    "\n",
    "Looking  at the method df.info(). This will provide the information about the data types of the variables, the number of variables and the non-null count for each variable."
   ]
  },
  {
   "cell_type": "code",
   "execution_count": 5,
   "id": "3c87d42f",
   "metadata": {
    "scrolled": true
   },
   "outputs": [
    {
     "name": "stdout",
     "output_type": "stream",
     "text": [
      "<class 'pandas.core.frame.DataFrame'>\n",
      "RangeIndex: 15819 entries, 0 to 15818\n",
      "Data columns (total 3 columns):\n",
      " #   Column     Non-Null Count  Dtype \n",
      "---  ------     --------------  ----- \n",
      " 0   sentiment  15819 non-null  int64 \n",
      " 1   message    15819 non-null  object\n",
      " 2   tweetid    15819 non-null  int64 \n",
      "dtypes: int64(2), object(1)\n",
      "memory usage: 370.9+ KB\n"
     ]
    }
   ],
   "source": [
    "df_train.info()"
   ]
  },
  {
   "cell_type": "markdown",
   "id": "601db8c6",
   "metadata": {},
   "source": [
    "Sentiment and tweetid columns contains numerical data, while clean_message contain Categorical data"
   ]
  },
  {
   "cell_type": "markdown",
   "id": "a9b404b4",
   "metadata": {},
   "source": [
    "###  3.2 Null Values\n",
    "\n",
    " Looking at the function df.isnull().sum(). This will give us information about which variables have null values."
   ]
  },
  {
   "cell_type": "code",
   "execution_count": 6,
   "id": "bcb581ba",
   "metadata": {},
   "outputs": [
    {
     "data": {
      "text/plain": [
       "sentiment    0\n",
       "message      0\n",
       "tweetid      0\n",
       "dtype: int64"
      ]
     },
     "execution_count": 6,
     "metadata": {},
     "output_type": "execute_result"
    }
   ],
   "source": [
    "df_train.isnull().sum()"
   ]
  },
  {
   "cell_type": "markdown",
   "id": "ad1b379d",
   "metadata": {},
   "source": [
    "There are no null values present in all columns."
   ]
  },
  {
   "cell_type": "markdown",
   "id": "c399fa54",
   "metadata": {},
   "source": [
    "###  3.3 Descriptive analysis"
   ]
  },
  {
   "cell_type": "markdown",
   "id": "c78af324",
   "metadata": {},
   "source": [
    "To run summary statistics on columns containing `Numerical data`, we use `.describe()` function"
   ]
  },
  {
   "cell_type": "code",
   "execution_count": 7,
   "id": "2dd7868f",
   "metadata": {
    "scrolled": true
   },
   "outputs": [
    {
     "data": {
      "text/html": [
       "<div>\n",
       "<style scoped>\n",
       "    .dataframe tbody tr th:only-of-type {\n",
       "        vertical-align: middle;\n",
       "    }\n",
       "\n",
       "    .dataframe tbody tr th {\n",
       "        vertical-align: top;\n",
       "    }\n",
       "\n",
       "    .dataframe thead th {\n",
       "        text-align: right;\n",
       "    }\n",
       "</style>\n",
       "<table border=\"1\" class=\"dataframe\">\n",
       "  <thead>\n",
       "    <tr style=\"text-align: right;\">\n",
       "      <th></th>\n",
       "      <th>sentiment</th>\n",
       "      <th>tweetid</th>\n",
       "    </tr>\n",
       "  </thead>\n",
       "  <tbody>\n",
       "    <tr>\n",
       "      <th>count</th>\n",
       "      <td>15819.000000</td>\n",
       "      <td>15819.000000</td>\n",
       "    </tr>\n",
       "    <tr>\n",
       "      <th>mean</th>\n",
       "      <td>0.917504</td>\n",
       "      <td>501719.433656</td>\n",
       "    </tr>\n",
       "    <tr>\n",
       "      <th>std</th>\n",
       "      <td>0.836537</td>\n",
       "      <td>289045.983132</td>\n",
       "    </tr>\n",
       "    <tr>\n",
       "      <th>min</th>\n",
       "      <td>-1.000000</td>\n",
       "      <td>6.000000</td>\n",
       "    </tr>\n",
       "    <tr>\n",
       "      <th>25%</th>\n",
       "      <td>1.000000</td>\n",
       "      <td>253207.500000</td>\n",
       "    </tr>\n",
       "    <tr>\n",
       "      <th>50%</th>\n",
       "      <td>1.000000</td>\n",
       "      <td>502291.000000</td>\n",
       "    </tr>\n",
       "    <tr>\n",
       "      <th>75%</th>\n",
       "      <td>1.000000</td>\n",
       "      <td>753769.000000</td>\n",
       "    </tr>\n",
       "    <tr>\n",
       "      <th>max</th>\n",
       "      <td>2.000000</td>\n",
       "      <td>999888.000000</td>\n",
       "    </tr>\n",
       "  </tbody>\n",
       "</table>\n",
       "</div>"
      ],
      "text/plain": [
       "          sentiment        tweetid\n",
       "count  15819.000000   15819.000000\n",
       "mean       0.917504  501719.433656\n",
       "std        0.836537  289045.983132\n",
       "min       -1.000000       6.000000\n",
       "25%        1.000000  253207.500000\n",
       "50%        1.000000  502291.000000\n",
       "75%        1.000000  753769.000000\n",
       "max        2.000000  999888.000000"
      ]
     },
     "execution_count": 7,
     "metadata": {},
     "output_type": "execute_result"
    }
   ],
   "source": [
    "df_train.describe()"
   ]
  },
  {
   "cell_type": "markdown",
   "id": "678445c6",
   "metadata": {},
   "source": [
    "Summary statistics on `Categorical` column"
   ]
  },
  {
   "cell_type": "code",
   "execution_count": 8,
   "id": "8a299922",
   "metadata": {},
   "outputs": [
    {
     "data": {
      "text/html": [
       "<div>\n",
       "<style scoped>\n",
       "    .dataframe tbody tr th:only-of-type {\n",
       "        vertical-align: middle;\n",
       "    }\n",
       "\n",
       "    .dataframe tbody tr th {\n",
       "        vertical-align: top;\n",
       "    }\n",
       "\n",
       "    .dataframe thead th {\n",
       "        text-align: right;\n",
       "    }\n",
       "</style>\n",
       "<table border=\"1\" class=\"dataframe\">\n",
       "  <thead>\n",
       "    <tr style=\"text-align: right;\">\n",
       "      <th></th>\n",
       "      <th>message</th>\n",
       "    </tr>\n",
       "  </thead>\n",
       "  <tbody>\n",
       "    <tr>\n",
       "      <th>count</th>\n",
       "      <td>15819</td>\n",
       "    </tr>\n",
       "    <tr>\n",
       "      <th>unique</th>\n",
       "      <td>14229</td>\n",
       "    </tr>\n",
       "    <tr>\n",
       "      <th>top</th>\n",
       "      <td>RT @StephenSchlegel: she's thinking about how she's going to die because your husband doesn't believe in climate change https://t.co/SjoFoNÃ¢â‚¬Â¦</td>\n",
       "    </tr>\n",
       "    <tr>\n",
       "      <th>freq</th>\n",
       "      <td>307</td>\n",
       "    </tr>\n",
       "  </tbody>\n",
       "</table>\n",
       "</div>"
      ],
      "text/plain": [
       "                                                                                                                                                   message\n",
       "count                                                                                                                                                15819\n",
       "unique                                                                                                                                               14229\n",
       "top     RT @StephenSchlegel: she's thinking about how she's going to die because your husband doesn't believe in climate change https://t.co/SjoFoNÃ¢â‚¬Â¦\n",
       "freq                                                                                                                                                   307"
      ]
     },
     "execution_count": 8,
     "metadata": {},
     "output_type": "execute_result"
    }
   ],
   "source": [
    "df_train.describe(include='object')"
   ]
  },
  {
   "cell_type": "markdown",
   "id": "31c7b39b",
   "metadata": {},
   "source": [
    "We notice that there are duplicates in message column, as shown by the unique row. These could be messages retweeted by different people.   \n",
    "\n",
    "Possible solution would be to drop the duplicate columns. "
   ]
  },
  {
   "cell_type": "markdown",
   "id": "054c6cc4",
   "metadata": {},
   "source": [
    "###  3.4 The target variable 'sentiment'"
   ]
  },
  {
   "cell_type": "markdown",
   "id": "54806398",
   "metadata": {},
   "source": [
    "##### Class Description (Sentiments)\n",
    "\n",
    "- 2 : News: the tweet links to factual news about climate change\n",
    "- 1 : Pro: the tweet supports the belief of man-made climate change\n",
    "- 0 : Neutral: the tweet neither supports nor refutes the belief of man-made climate change\n",
    "- -1: Anti: the tweet does not believe in man-made climate change"
   ]
  },
  {
   "cell_type": "code",
   "execution_count": 9,
   "id": "1bb138b8",
   "metadata": {},
   "outputs": [
    {
     "name": "stdout",
     "output_type": "stream",
     "text": [
      "[-1, 0, 1, 2]\n"
     ]
    }
   ],
   "source": [
    "# list of unique types of Sentiments\n",
    "type_sentis = list(sorted(df_train.sentiment.unique()))\n",
    "print(type_sentis)"
   ]
  },
  {
   "cell_type": "code",
   "execution_count": 10,
   "id": "3681f3cb",
   "metadata": {},
   "outputs": [
    {
     "data": {
      "image/png": "[encoded data removed]",
      "text/plain": [
       "<Figure size 432x288 with 1 Axes>"
      ]
     },
     "metadata": {},
     "output_type": "display_data"
    }
   ],
   "source": [
    "df_train['sentiment'].value_counts().sort_index().plot(kind = 'bar')\n",
    "plt.show()"
   ]
  },
  {
   "cell_type": "markdown",
   "id": "27f527a4",
   "metadata": {},
   "source": [
    "We can observe an imbalance with the class samples."
   ]
  },
  {
   "cell_type": "markdown",
   "id": "2548ab89",
   "metadata": {},
   "source": [
    "###  3.5 Feature variables 'message'"
   ]
  },
  {
   "cell_type": "markdown",
   "id": "11019fd7",
   "metadata": {},
   "source": [
    "#### Words cloud of frequently twitted words\n",
    "\n",
    "We will create a word could image of the frequently twitted word in each of the different classes which are as follows:\n",
    "\n",
    "* 2 News: the tweet links to factual news about climate change\n",
    "* 1 Pro: the tweet supports the belief of man-made climate change\n",
    "* 0 Neutral: the tweet neither supports nor refutes the belief of man-made climate change\n",
    "* -1 Anti: the tweet does not believe in man-made climate change"
   ]
  },
  {
   "cell_type": "code",
   "execution_count": 11,
   "id": "e4326b41",
   "metadata": {},
   "outputs": [],
   "source": [
    "df_gm = df_train.copy()"
   ]
  },
  {
   "cell_type": "code",
   "execution_count": 12,
   "id": "4e817e42",
   "metadata": {},
   "outputs": [],
   "source": [
    "#create different dataframes for each of the classes\n",
    "df_news= df_gm.drop(df_gm[df_gm.sentiment <= 1].index)\n",
    "\n",
    "df_pro= df_gm.drop(df_gm[df_gm.sentiment<=0].index)\n",
    "df_pro= df_gm.drop(df_gm[df_gm.sentiment>=2].index)\n",
    "\n",
    "df_neutral= df_gm.drop(df_gm[df_gm.sentiment<=(-1)].index)\n",
    "df_neutral= df_gm.drop(df_gm[df_gm.sentiment>=1].index)\n",
    "\n",
    "df_anti= df_gm.drop(df_gm[df_gm.sentiment>=0].index)"
   ]
  },
  {
   "cell_type": "code",
   "execution_count": 13,
   "id": "7398cad5",
   "metadata": {},
   "outputs": [
    {
     "data": {
      "text/plain": [
       "Text(0.5, 1.0, 'Anti Tweets')"
      ]
     },
     "execution_count": 13,
     "metadata": {},
     "output_type": "execute_result"
    },
    {
     "data": {
      "image/png": "[encoded data removed]",
      "text/plain": [
       "<Figure size 288x576 with 1 Axes>"
      ]
     },
     "metadata": {},
     "output_type": "display_data"
    },
    {
     "data": {
      "image/png": "[encoded data removed]",
      "text/plain": [
       "<Figure size 288x576 with 1 Axes>"
      ]
     },
     "metadata": {},
     "output_type": "display_data"
    },
    {
     "data": {
      "image/png": "[encoded data removed]",
      "text/plain": [
       "<Figure size 288x576 with 1 Axes>"
      ]
     },
     "metadata": {},
     "output_type": "display_data"
    },
    {
     "data": {
      "image/png": "[encoded data removed]",
      "text/plain": [
       "<Figure size 288x576 with 1 Axes>"
      ]
     },
     "metadata": {},
     "output_type": "display_data"
    }
   ],
   "source": [
    "# Importing wordcloud for plotting word clouds and textwrap for wrapping longer text\n",
    "from wordcloud import WordCloud\n",
    "from textwrap import wrap\n",
    "\n",
    "#create instance of WordCloud\n",
    "wc=WordCloud(width=400, height=330, max_words=150,colormap=\"Dark2\")\n",
    "\n",
    "#Create string of 100 words\n",
    "wcVect = CountVectorizer(stop_words='english',max_features=100) \n",
    "wcVect.fit(df_news['message'])\n",
    "text1=list(wcVect.vocabulary_)\n",
    "text2=string = ' '.join(text1)\n",
    "\n",
    "text2\n",
    "#createWordCloud\n",
    "a=wc.generate(string)\n",
    "\n",
    "plt.figure(figsize = (4, 8), facecolor = None)\n",
    "plt.imshow(a)\n",
    "plt.axis(\"off\")\n",
    "plt.tight_layout(pad = 0);\n",
    "\n",
    "plt.title(\"News Tweets\")\n",
    "##########################################################\n",
    "#create instance of WordCloud\n",
    "wc=WordCloud(width=400, height=330, max_words=150,colormap=\"Dark2\")\n",
    "\n",
    "#Create string of 100 words\n",
    "wcVect = CountVectorizer(stop_words='english',max_features=100) \n",
    "wcVect.fit(df_pro['message'])\n",
    "text1=list(wcVect.vocabulary_)\n",
    "text2=string = ' '.join(text1)\n",
    "\n",
    "text2\n",
    "\n",
    "#createWordCloud\n",
    "b=wc.generate(string)\n",
    "\n",
    "\n",
    "plt.figure(figsize = (4, 8), facecolor = None)\n",
    "plt.imshow(b)\n",
    "plt.axis(\"off\")\n",
    "plt.tight_layout(pad = 0)\n",
    "\n",
    "plt.title(\"Pro Tweets\")\n",
    "##################################################################\n",
    "#create instance of WordCloud\n",
    "wc=WordCloud(width=400, height=330, max_words=150,colormap=\"Dark2\")\n",
    "\n",
    "#Create string of 100 words\n",
    "wcVect = CountVectorizer(stop_words='english',max_features=100) \n",
    "wcVect.fit(df_neutral['message'])\n",
    "text1=list(wcVect.vocabulary_)\n",
    "text2=string = ' '.join(text1)\n",
    "\n",
    "text2\n",
    "\n",
    "#createWordCloud\n",
    "c=wc.generate(string)\n",
    "\n",
    "\n",
    "plt.figure(figsize = (4, 8), facecolor = None)\n",
    "plt.imshow(c)\n",
    "plt.axis(\"off\")\n",
    "plt.tight_layout(pad = 0);\n",
    "\n",
    "plt.title(\"Neutral Tweets\")\n",
    "\n",
    "#########################################################\n",
    "#create instance of WordCloud\n",
    "wc=WordCloud(width=400, height=330, max_words=150,colormap=\"Dark2\")\n",
    "\n",
    "#Create string of 100 words\n",
    "wcVect = CountVectorizer(stop_words='english',max_features=100) \n",
    "wcVect.fit(df_anti['message'])\n",
    "text1=list(wcVect.vocabulary_)\n",
    "text2=string = ' '.join(text1)\n",
    "\n",
    "text2\n",
    "\n",
    "#createWordCloud\n",
    "d=wc.generate(string)\n",
    "\n",
    "\n",
    "plt.figure(figsize = (4, 8), facecolor = None)\n",
    "plt.imshow(d)\n",
    "plt.axis(\"off\")\n",
    "plt.tight_layout(pad = 0);\n",
    "\n",
    "plt.title(\"Anti Tweets\")\n"
   ]
  },
  {
   "cell_type": "markdown",
   "id": "0037ecbb",
   "metadata": {},
   "source": [
    "## 4. Data Engineering\n",
    "<a class=\"anchor\" id=\"1.1\"></a>\n",
    "<a href=#cont>Back to Table of Contents</a>\n",
    "\n",
    "Data engineering is the complex task of making raw data usable for the modeling phase. In this section we engineer the features such that they are ready for modelling\n",
    "\n",
    "\n",
    "For our dataset, we will be doing the following steps:\n",
    "* removing the web-urls\n",
    "* making everything lower case\n",
    "* removing punctuation and special characters\n",
    "* removing mentions and retweets(`rt`)"
   ]
  },
  {
   "cell_type": "markdown",
   "id": "788ceccb",
   "metadata": {},
   "source": [
    "### 4.1 removing the web-urls"
   ]
  },
  {
   "cell_type": "code",
   "execution_count": 14,
   "id": "2cef88bb",
   "metadata": {},
   "outputs": [],
   "source": [
    "pattern_url = r'http[s]?://(?:[A-Za-z]|[0-9]|[$-_@.&+]|[!*\\(\\),]|(?:%[0-9A-Fa-f][0-9A-Fa-f]))+'\n",
    "subs_url = r'url-web'\n",
    "df_train['message'] = df_train['message'].replace(to_replace = pattern_url, value = subs_url, regex = True)"
   ]
  },
  {
   "cell_type": "markdown",
   "id": "dca722af",
   "metadata": {},
   "source": [
    "### 4.2 Lowercase conversion "
   ]
  },
  {
   "cell_type": "code",
   "execution_count": 15,
   "id": "3d214ae4",
   "metadata": {},
   "outputs": [],
   "source": [
    "df_train['message'] = df_train['message'].str.lower()"
   ]
  },
  {
   "cell_type": "markdown",
   "id": "3e73f1b8",
   "metadata": {},
   "source": [
    "### 4.3 Removing punctuation and special characters"
   ]
  },
  {
   "cell_type": "markdown",
   "id": "bc6b01cf",
   "metadata": {},
   "source": [
    "We create a funcion that will remove the web-urls, punctuation, and mentions along with retweets(`rt`)"
   ]
  },
  {
   "cell_type": "code",
   "execution_count": 16,
   "id": "e5a5098a",
   "metadata": {},
   "outputs": [],
   "source": [
    "def data_cleaning(tweet):\n",
    "    tweet = re.sub(r'@[a-z0-9]+', '', tweet) # removing mentions\n",
    "    tweet = re.sub(r'#', '', tweet) # remove #\n",
    "    tweet = re.sub(r'rt[\\s]+', '', tweet) # remove retweets(`rt`)\n",
    "    #tweet = re.sub(r'url-web', '', tweet) # remove web-urls\n",
    "    \n",
    "    return tweet"
   ]
  },
  {
   "cell_type": "code",
   "execution_count": 17,
   "id": "2d83f99a",
   "metadata": {},
   "outputs": [],
   "source": [
    "df_train['clean_message'] = df_train['message'].apply(data_cleaning)"
   ]
  },
  {
   "cell_type": "code",
   "execution_count": 18,
   "id": "462df2ae",
   "metadata": {
    "scrolled": false
   },
   "outputs": [
    {
     "data": {
      "text/html": [
       "<div>\n",
       "<style scoped>\n",
       "    .dataframe tbody tr th:only-of-type {\n",
       "        vertical-align: middle;\n",
       "    }\n",
       "\n",
       "    .dataframe tbody tr th {\n",
       "        vertical-align: top;\n",
       "    }\n",
       "\n",
       "    .dataframe thead th {\n",
       "        text-align: right;\n",
       "    }\n",
       "</style>\n",
       "<table border=\"1\" class=\"dataframe\">\n",
       "  <thead>\n",
       "    <tr style=\"text-align: right;\">\n",
       "      <th></th>\n",
       "      <th>sentiment</th>\n",
       "      <th>message</th>\n",
       "      <th>tweetid</th>\n",
       "      <th>clean_message</th>\n",
       "    </tr>\n",
       "  </thead>\n",
       "  <tbody>\n",
       "    <tr>\n",
       "      <th>0</th>\n",
       "      <td>1</td>\n",
       "      <td>polyscimajor epa chief doesn't think carbon dioxide is main cause of global warming and.. wait, what!? url-web via @mashable</td>\n",
       "      <td>625221</td>\n",
       "      <td>polyscimajor epa chief doesn't think carbon dioxide is main cause of global warming and.. wait, what!? url-web via</td>\n",
       "    </tr>\n",
       "    <tr>\n",
       "      <th>1</th>\n",
       "      <td>1</td>\n",
       "      <td>it's not like we lack evidence of anthropogenic global warming</td>\n",
       "      <td>126103</td>\n",
       "      <td>it's not like we lack evidence of anthropogenic global warming</td>\n",
       "    </tr>\n",
       "  </tbody>\n",
       "</table>\n",
       "</div>"
      ],
      "text/plain": [
       "   sentiment  \\\n",
       "0          1   \n",
       "1          1   \n",
       "\n",
       "                                                                                                                        message  \\\n",
       "0  polyscimajor epa chief doesn't think carbon dioxide is main cause of global warming and.. wait, what!? url-web via @mashable   \n",
       "1                                                                it's not like we lack evidence of anthropogenic global warming   \n",
       "\n",
       "   tweetid  \\\n",
       "0   625221   \n",
       "1   126103   \n",
       "\n",
       "                                                                                                         clean_message  \n",
       "0  polyscimajor epa chief doesn't think carbon dioxide is main cause of global warming and.. wait, what!? url-web via   \n",
       "1                                                       it's not like we lack evidence of anthropogenic global warming  "
      ]
     },
     "execution_count": 18,
     "metadata": {},
     "output_type": "execute_result"
    }
   ],
   "source": [
    "df_train.head(2)"
   ]
  },
  {
   "cell_type": "markdown",
   "id": "418bd287",
   "metadata": {},
   "source": [
    "In case of special characters and extra whitespace, we employed NeatText "
   ]
  },
  {
   "cell_type": "code",
   "execution_count": 19,
   "id": "ccab941b",
   "metadata": {},
   "outputs": [],
   "source": [
    "# Remove special characters using NeatText\n",
    "df_train['clean_message'] = df_train['clean_message'].apply(nt.remove_special_characters)"
   ]
  },
  {
   "cell_type": "code",
   "execution_count": 20,
   "id": "d85e625c",
   "metadata": {},
   "outputs": [],
   "source": [
    "# Remove multiple whitespace between words\n",
    "df_train['clean_message'] = df_train['clean_message'].apply(nt.remove_multiple_spaces)"
   ]
  },
  {
   "cell_type": "code",
   "execution_count": 21,
   "id": "c5594054",
   "metadata": {},
   "outputs": [
    {
     "data": {
      "text/html": [
       "<div>\n",
       "<style scoped>\n",
       "    .dataframe tbody tr th:only-of-type {\n",
       "        vertical-align: middle;\n",
       "    }\n",
       "\n",
       "    .dataframe tbody tr th {\n",
       "        vertical-align: top;\n",
       "    }\n",
       "\n",
       "    .dataframe thead th {\n",
       "        text-align: right;\n",
       "    }\n",
       "</style>\n",
       "<table border=\"1\" class=\"dataframe\">\n",
       "  <thead>\n",
       "    <tr style=\"text-align: right;\">\n",
       "      <th></th>\n",
       "      <th>sentiment</th>\n",
       "      <th>message</th>\n",
       "      <th>tweetid</th>\n",
       "      <th>clean_message</th>\n",
       "    </tr>\n",
       "  </thead>\n",
       "  <tbody>\n",
       "    <tr>\n",
       "      <th>0</th>\n",
       "      <td>1</td>\n",
       "      <td>polyscimajor epa chief doesn't think carbon dioxide is main cause of global warming and.. wait, what!? url-web via @mashable</td>\n",
       "      <td>625221</td>\n",
       "      <td>polyscimajor epa chief doesnt think carbon dioxide is main cause of global warming and wait what urlweb via</td>\n",
       "    </tr>\n",
       "    <tr>\n",
       "      <th>1</th>\n",
       "      <td>1</td>\n",
       "      <td>it's not like we lack evidence of anthropogenic global warming</td>\n",
       "      <td>126103</td>\n",
       "      <td>its not like we lack evidence of anthropogenic global warming</td>\n",
       "    </tr>\n",
       "  </tbody>\n",
       "</table>\n",
       "</div>"
      ],
      "text/plain": [
       "   sentiment  \\\n",
       "0          1   \n",
       "1          1   \n",
       "\n",
       "                                                                                                                        message  \\\n",
       "0  polyscimajor epa chief doesn't think carbon dioxide is main cause of global warming and.. wait, what!? url-web via @mashable   \n",
       "1                                                                it's not like we lack evidence of anthropogenic global warming   \n",
       "\n",
       "   tweetid  \\\n",
       "0   625221   \n",
       "1   126103   \n",
       "\n",
       "                                                                                                  clean_message  \n",
       "0  polyscimajor epa chief doesnt think carbon dioxide is main cause of global warming and wait what urlweb via   \n",
       "1                                                 its not like we lack evidence of anthropogenic global warming  "
      ]
     },
     "execution_count": 21,
     "metadata": {},
     "output_type": "execute_result"
    }
   ],
   "source": [
    "df_train.head(2)"
   ]
  },
  {
   "cell_type": "code",
   "execution_count": 22,
   "id": "7aa0df2d",
   "metadata": {
    "scrolled": true
   },
   "outputs": [
    {
     "data": {
      "text/html": [
       "<div>\n",
       "<style scoped>\n",
       "    .dataframe tbody tr th:only-of-type {\n",
       "        vertical-align: middle;\n",
       "    }\n",
       "\n",
       "    .dataframe tbody tr th {\n",
       "        vertical-align: top;\n",
       "    }\n",
       "\n",
       "    .dataframe thead th {\n",
       "        text-align: right;\n",
       "    }\n",
       "</style>\n",
       "<table border=\"1\" class=\"dataframe\">\n",
       "  <thead>\n",
       "    <tr style=\"text-align: right;\">\n",
       "      <th></th>\n",
       "      <th>message</th>\n",
       "      <th>clean_message</th>\n",
       "    </tr>\n",
       "  </thead>\n",
       "  <tbody>\n",
       "    <tr>\n",
       "      <th>0</th>\n",
       "      <td>polyscimajor epa chief doesn't think carbon dioxide is main cause of global warming and.. wait, what!? url-web via @mashable</td>\n",
       "      <td>polyscimajor epa chief doesnt think carbon dioxide is main cause of global warming and wait what urlweb via</td>\n",
       "    </tr>\n",
       "    <tr>\n",
       "      <th>1</th>\n",
       "      <td>it's not like we lack evidence of anthropogenic global warming</td>\n",
       "      <td>its not like we lack evidence of anthropogenic global warming</td>\n",
       "    </tr>\n",
       "    <tr>\n",
       "      <th>2</th>\n",
       "      <td>rt @rawstory: researchers say we have three years to act on climate change before it’s too late url-web url-web…</td>\n",
       "      <td>researchers say we have three years to act on climate change before its too late urlweb urlweb</td>\n",
       "    </tr>\n",
       "    <tr>\n",
       "      <th>3</th>\n",
       "      <td>#todayinmaker# wired : 2016 was a pivotal year in the war on climate change url-web</td>\n",
       "      <td>todayinmaker wired 2016 was a pivotal year in the war on climate change urlweb</td>\n",
       "    </tr>\n",
       "    <tr>\n",
       "      <th>4</th>\n",
       "      <td>rt @soynoviodetodas: it's 2016, and a racist, sexist, climate change denying bigot is leading in the polls. #electionnight</td>\n",
       "      <td>its 2016 and a racist sexist climate change denying bigot is leading in the polls electionnight</td>\n",
       "    </tr>\n",
       "  </tbody>\n",
       "</table>\n",
       "</div>"
      ],
      "text/plain": [
       "                                                                                                                        message  \\\n",
       "0  polyscimajor epa chief doesn't think carbon dioxide is main cause of global warming and.. wait, what!? url-web via @mashable   \n",
       "1                                                                it's not like we lack evidence of anthropogenic global warming   \n",
       "2              rt @rawstory: researchers say we have three years to act on climate change before it’s too late url-web url-web…   \n",
       "3                                           #todayinmaker# wired : 2016 was a pivotal year in the war on climate change url-web   \n",
       "4    rt @soynoviodetodas: it's 2016, and a racist, sexist, climate change denying bigot is leading in the polls. #electionnight   \n",
       "\n",
       "                                                                                                  clean_message  \n",
       "0  polyscimajor epa chief doesnt think carbon dioxide is main cause of global warming and wait what urlweb via   \n",
       "1                                                 its not like we lack evidence of anthropogenic global warming  \n",
       "2                researchers say we have three years to act on climate change before its too late urlweb urlweb  \n",
       "3                                todayinmaker wired 2016 was a pivotal year in the war on climate change urlweb  \n",
       "4               its 2016 and a racist sexist climate change denying bigot is leading in the polls electionnight  "
      ]
     },
     "execution_count": 22,
     "metadata": {},
     "output_type": "execute_result"
    }
   ],
   "source": [
    "df_train[['message','clean_message']].head()"
   ]
  },
  {
   "cell_type": "code",
   "execution_count": 23,
   "id": "1d0917d3",
   "metadata": {},
   "outputs": [],
   "source": [
    "df_train = df_train.drop('message', axis=1)"
   ]
  },
  {
   "cell_type": "code",
   "execution_count": 24,
   "id": "dc590752",
   "metadata": {
    "scrolled": false
   },
   "outputs": [
    {
     "data": {
      "text/html": [
       "<div>\n",
       "<style scoped>\n",
       "    .dataframe tbody tr th:only-of-type {\n",
       "        vertical-align: middle;\n",
       "    }\n",
       "\n",
       "    .dataframe tbody tr th {\n",
       "        vertical-align: top;\n",
       "    }\n",
       "\n",
       "    .dataframe thead th {\n",
       "        text-align: right;\n",
       "    }\n",
       "</style>\n",
       "<table border=\"1\" class=\"dataframe\">\n",
       "  <thead>\n",
       "    <tr style=\"text-align: right;\">\n",
       "      <th></th>\n",
       "      <th>sentiment</th>\n",
       "      <th>tweetid</th>\n",
       "      <th>clean_message</th>\n",
       "    </tr>\n",
       "  </thead>\n",
       "  <tbody>\n",
       "    <tr>\n",
       "      <th>0</th>\n",
       "      <td>1</td>\n",
       "      <td>625221</td>\n",
       "      <td>polyscimajor epa chief doesnt think carbon dioxide is main cause of global warming and wait what urlweb via</td>\n",
       "    </tr>\n",
       "    <tr>\n",
       "      <th>1</th>\n",
       "      <td>1</td>\n",
       "      <td>126103</td>\n",
       "      <td>its not like we lack evidence of anthropogenic global warming</td>\n",
       "    </tr>\n",
       "  </tbody>\n",
       "</table>\n",
       "</div>"
      ],
      "text/plain": [
       "   sentiment  tweetid  \\\n",
       "0          1   625221   \n",
       "1          1   126103   \n",
       "\n",
       "                                                                                                  clean_message  \n",
       "0  polyscimajor epa chief doesnt think carbon dioxide is main cause of global warming and wait what urlweb via   \n",
       "1                                                 its not like we lack evidence of anthropogenic global warming  "
      ]
     },
     "execution_count": 24,
     "metadata": {},
     "output_type": "execute_result"
    }
   ],
   "source": [
    "df_train.head(2)"
   ]
  },
  {
   "cell_type": "markdown",
   "id": "3a8123f5",
   "metadata": {},
   "source": [
    " ### 4.4 Lemmatization"
   ]
  },
  {
   "cell_type": "markdown",
   "id": "108ccb2a",
   "metadata": {},
   "source": [
    "Lemmatization will help in achieving the root forms (synonyms) of the words."
   ]
  },
  {
   "cell_type": "code",
   "execution_count": 25,
   "id": "1b3abf2a",
   "metadata": {},
   "outputs": [
    {
     "data": {
      "text/html": [
       "<div>\n",
       "<style scoped>\n",
       "    .dataframe tbody tr th:only-of-type {\n",
       "        vertical-align: middle;\n",
       "    }\n",
       "\n",
       "    .dataframe tbody tr th {\n",
       "        vertical-align: top;\n",
       "    }\n",
       "\n",
       "    .dataframe thead th {\n",
       "        text-align: right;\n",
       "    }\n",
       "</style>\n",
       "<table border=\"1\" class=\"dataframe\">\n",
       "  <thead>\n",
       "    <tr style=\"text-align: right;\">\n",
       "      <th></th>\n",
       "      <th>sentiment</th>\n",
       "      <th>tweetid</th>\n",
       "      <th>clean_message</th>\n",
       "    </tr>\n",
       "  </thead>\n",
       "  <tbody>\n",
       "    <tr>\n",
       "      <th>0</th>\n",
       "      <td>1</td>\n",
       "      <td>625221</td>\n",
       "      <td>polyscimajor epa chief doesnt think carbon dioxide is main cause of global warming and wait what urlweb via</td>\n",
       "    </tr>\n",
       "    <tr>\n",
       "      <th>1</th>\n",
       "      <td>1</td>\n",
       "      <td>126103</td>\n",
       "      <td>it not like we lack evidence of anthropogenic global warming</td>\n",
       "    </tr>\n",
       "  </tbody>\n",
       "</table>\n",
       "</div>"
      ],
      "text/plain": [
       "   sentiment  tweetid  \\\n",
       "0          1   625221   \n",
       "1          1   126103   \n",
       "\n",
       "                                                                                                 clean_message  \n",
       "0  polyscimajor epa chief doesnt think carbon dioxide is main cause of global warming and wait what urlweb via  \n",
       "1                                                 it not like we lack evidence of anthropogenic global warming  "
      ]
     },
     "execution_count": 25,
     "metadata": {},
     "output_type": "execute_result"
    }
   ],
   "source": [
    "from nltk.stem import WordNetLemmatizer\n",
    "\n",
    "lemmatizer = WordNetLemmatizer()\n",
    "\n",
    "def lemma(words, lemmatizer):\n",
    "    return ' '.join(([lemmatizer.lemmatize(word) for word in words.split()]))\n",
    "\n",
    "df_train['clean_message'] = df_train['clean_message'].apply(lemma, args=(lemmatizer, ))\n",
    "\n",
    "df_train.head(2)\n"
   ]
  },
  {
   "cell_type": "markdown",
   "id": "eb39f6e1",
   "metadata": {},
   "source": [
    "### 4.5 Removing Stop words"
   ]
  },
  {
   "cell_type": "code",
   "execution_count": 26,
   "id": "abbb1146",
   "metadata": {
    "scrolled": true
   },
   "outputs": [
    {
     "data": {
      "text/html": [
       "<div>\n",
       "<style scoped>\n",
       "    .dataframe tbody tr th:only-of-type {\n",
       "        vertical-align: middle;\n",
       "    }\n",
       "\n",
       "    .dataframe tbody tr th {\n",
       "        vertical-align: top;\n",
       "    }\n",
       "\n",
       "    .dataframe thead th {\n",
       "        text-align: right;\n",
       "    }\n",
       "</style>\n",
       "<table border=\"1\" class=\"dataframe\">\n",
       "  <thead>\n",
       "    <tr style=\"text-align: right;\">\n",
       "      <th></th>\n",
       "      <th>sentiment</th>\n",
       "      <th>tweetid</th>\n",
       "      <th>clean_message</th>\n",
       "    </tr>\n",
       "  </thead>\n",
       "  <tbody>\n",
       "    <tr>\n",
       "      <th>0</th>\n",
       "      <td>1</td>\n",
       "      <td>625221</td>\n",
       "      <td>polyscimajor epa chief doesnt think carbon dioxide main cause global warming wait urlweb via</td>\n",
       "    </tr>\n",
       "    <tr>\n",
       "      <th>1</th>\n",
       "      <td>1</td>\n",
       "      <td>126103</td>\n",
       "      <td>like lack evidence anthropogenic global warming</td>\n",
       "    </tr>\n",
       "    <tr>\n",
       "      <th>2</th>\n",
       "      <td>2</td>\n",
       "      <td>698562</td>\n",
       "      <td>researcher say three year act climate change late urlweb urlweb</td>\n",
       "    </tr>\n",
       "    <tr>\n",
       "      <th>3</th>\n",
       "      <td>1</td>\n",
       "      <td>573736</td>\n",
       "      <td>todayinmaker wired 2016 wa pivotal year war climate change urlweb</td>\n",
       "    </tr>\n",
       "    <tr>\n",
       "      <th>4</th>\n",
       "      <td>1</td>\n",
       "      <td>466954</td>\n",
       "      <td>2016 racist sexist climate change denying bigot leading poll electionnight</td>\n",
       "    </tr>\n",
       "  </tbody>\n",
       "</table>\n",
       "</div>"
      ],
      "text/plain": [
       "   sentiment  tweetid  \\\n",
       "0          1   625221   \n",
       "1          1   126103   \n",
       "2          2   698562   \n",
       "3          1   573736   \n",
       "4          1   466954   \n",
       "\n",
       "                                                                                  clean_message  \n",
       "0  polyscimajor epa chief doesnt think carbon dioxide main cause global warming wait urlweb via  \n",
       "1                                               like lack evidence anthropogenic global warming  \n",
       "2                               researcher say three year act climate change late urlweb urlweb  \n",
       "3                             todayinmaker wired 2016 wa pivotal year war climate change urlweb  \n",
       "4                    2016 racist sexist climate change denying bigot leading poll electionnight  "
      ]
     },
     "execution_count": 26,
     "metadata": {},
     "output_type": "execute_result"
    }
   ],
   "source": [
    "#remove stop words\n",
    "from nltk.corpus import stopwords\n",
    "stop = stopwords.words('english')\n",
    "\n",
    "df_train['clean_message']= df_train['clean_message'].apply(lambda x: ' '.join([word for word in x.split() if word not in (stop)]))\n",
    "\n",
    "df_train.head()"
   ]
  },
  {
   "cell_type": "markdown",
   "id": "99f9a70a",
   "metadata": {},
   "source": [
    "### 4.6 Feature Extraction using CountVectorizer"
   ]
  },
  {
   "cell_type": "code",
   "execution_count": null,
   "id": "d020302f",
   "metadata": {},
   "outputs": [],
   "source": [
    "#load unseen data\n",
    "pd.set_option('display.max_colwidth', None)\n",
    "df_test= pd.read_csv('test_set.csv')\n",
    "\n",
    "df_test.head(2)"
   ]
  },
  {
   "cell_type": "code",
   "execution_count": null,
   "id": "8716fce4",
   "metadata": {},
   "outputs": [],
   "source": []
  },
  {
   "cell_type": "code",
   "execution_count": null,
   "id": "4fcbed9e",
   "metadata": {},
   "outputs": [],
   "source": []
  },
  {
   "cell_type": "code",
   "execution_count": null,
   "id": "a19440db",
   "metadata": {},
   "outputs": [],
   "source": []
  },
  {
   "cell_type": "code",
   "execution_count": null,
   "id": "0d0d671f",
   "metadata": {},
   "outputs": [],
   "source": []
  },
  {
   "cell_type": "code",
   "execution_count": null,
   "id": "d8a79a62",
   "metadata": {},
   "outputs": [],
   "source": []
  },
  {
   "cell_type": "code",
   "execution_count": null,
   "id": "59e3ed36",
   "metadata": {},
   "outputs": [],
   "source": []
  },
  {
   "cell_type": "markdown",
   "id": "a538ff7a",
   "metadata": {},
   "source": [
    "The text feature extraction module called CountVectorizer is used to convert a collection of documents (rows of text) into a matrix of token counts."
   ]
  },
  {
   "cell_type": "code",
   "execution_count": 26,
   "id": "e9e14d71",
   "metadata": {},
   "outputs": [
    {
     "data": {
      "text/plain": [
       "CountVectorizer()"
      ]
     },
     "execution_count": 26,
     "metadata": {},
     "output_type": "execute_result"
    }
   ],
   "source": [
    "# create vectorizer instance\n",
    "vect = CountVectorizer()\n",
    "\n",
    "#fit vectorizer\n",
    "vect.fit(df_train['clean_message'])"
   ]
  },
  {
   "cell_type": "code",
   "execution_count": 27,
   "id": "11526265",
   "metadata": {},
   "outputs": [
    {
     "name": "stdout",
     "output_type": "stream",
     "text": [
      "16827\n"
     ]
    }
   ],
   "source": [
    "# NUM of predictors\n",
    "print(len(vect.vocabulary_))"
   ]
  },
  {
   "cell_type": "code",
   "execution_count": 28,
   "id": "efcfb35b",
   "metadata": {},
   "outputs": [
    {
     "data": {
      "text/plain": [
       "(15819, 16827)"
      ]
     },
     "execution_count": 28,
     "metadata": {},
     "output_type": "execute_result"
    }
   ],
   "source": [
    "#transform features to numbers for modelling\n",
    "vect_transform=vect.transform(df_train['clean_message'])\n",
    "\n",
    "# Get shape of our predictive variables\n",
    "vect_transform.shape"
   ]
  },
  {
   "cell_type": "code",
   "execution_count": 29,
   "id": "ec9cdc60",
   "metadata": {},
   "outputs": [
    {
     "data": {
      "text/plain": [
       "168550"
      ]
     },
     "execution_count": 29,
     "metadata": {},
     "output_type": "execute_result"
    }
   ],
   "source": [
    "#total number of words in corpus\n",
    "total_corpus=sum(vect_transform.toarray().sum(axis=0))\n",
    "total_corpus"
   ]
  },
  {
   "cell_type": "markdown",
   "id": "78280618",
   "metadata": {},
   "source": [
    "We can seee that there are a features, some of which correspond to words which only appear once. Not all of them are very useful, we must therefore tune vectorizer."
   ]
  },
  {
   "cell_type": "code",
   "execution_count": 30,
   "id": "72ea0abd",
   "metadata": {},
   "outputs": [
    {
     "data": {
      "text/plain": [
       "CountVectorizer(max_features=10000, stop_words='english')"
      ]
     },
     "execution_count": 30,
     "metadata": {},
     "output_type": "execute_result"
    }
   ],
   "source": [
    "betterVect = CountVectorizer(stop_words='english',max_features=10000) \n",
    "\n",
    "betterVect.fit(df_train['clean_message'])"
   ]
  },
  {
   "cell_type": "code",
   "execution_count": 31,
   "id": "1b7da068",
   "metadata": {},
   "outputs": [
    {
     "data": {
      "text/plain": [
       "(15819, 10000)"
      ]
     },
     "execution_count": 31,
     "metadata": {},
     "output_type": "execute_result"
    }
   ],
   "source": [
    "betterVect_transform=betterVect.transform(df_train['clean_message'])\n",
    "\n",
    "# Get shape of our predictive variables\n",
    "betterVect_transform.shape"
   ]
  },
  {
   "cell_type": "code",
   "execution_count": 32,
   "id": "836c2f51",
   "metadata": {},
   "outputs": [
    {
     "data": {
      "text/plain": [
       "152627"
      ]
     },
     "execution_count": 32,
     "metadata": {},
     "output_type": "execute_result"
    }
   ],
   "source": [
    "#get total words in better corpus\n",
    "total_better_corpus=sum(betterVect_transform.toarray().sum(axis=0))\n",
    "total_better_corpus"
   ]
  },
  {
   "cell_type": "code",
   "execution_count": 33,
   "id": "f6bb9827",
   "metadata": {},
   "outputs": [
    {
     "data": {
      "text/plain": [
       "91"
      ]
     },
     "execution_count": 33,
     "metadata": {},
     "output_type": "execute_result"
    }
   ],
   "source": [
    "#percentage of words used \n",
    "feature_percentage=round((total_better_corpus/total_corpus)*100)\n",
    "feature_percentage"
   ]
  },
  {
   "cell_type": "markdown",
   "id": "4c766468",
   "metadata": {},
   "source": [
    "We will use 89 percent of the word in the total corpus."
   ]
  },
  {
   "cell_type": "code",
   "execution_count": 34,
   "id": "e32d430d",
   "metadata": {},
   "outputs": [
    {
     "name": "stderr",
     "output_type": "stream",
     "text": [
      "C:\\Users\\u1121\\anaconda3\\lib\\site-packages\\sklearn\\utils\\deprecation.py:87: FutureWarning: Function get_feature_names is deprecated; get_feature_names is deprecated in 1.0 and will be removed in 1.2. Please use get_feature_names_out instead.\n",
      "  warnings.warn(msg, category=FutureWarning)\n"
     ]
    }
   ],
   "source": [
    "X_feat = betterVect_transform.toarray()\n",
    "X_feat=pd.DataFrame(X_feat, columns = betterVect.get_feature_names())"
   ]
  },
  {
   "cell_type": "code",
   "execution_count": 35,
   "id": "be2fd388",
   "metadata": {},
   "outputs": [
    {
     "data": {
      "text/html": [
       "<div>\n",
       "<style scoped>\n",
       "    .dataframe tbody tr th:only-of-type {\n",
       "        vertical-align: middle;\n",
       "    }\n",
       "\n",
       "    .dataframe tbody tr th {\n",
       "        vertical-align: top;\n",
       "    }\n",
       "\n",
       "    .dataframe thead th {\n",
       "        text-align: right;\n",
       "    }\n",
       "</style>\n",
       "<table border=\"1\" class=\"dataframe\">\n",
       "  <thead>\n",
       "    <tr style=\"text-align: right;\">\n",
       "      <th></th>\n",
       "      <th>10</th>\n",
       "      <th>100</th>\n",
       "      <th>1000</th>\n",
       "      <th>100000</th>\n",
       "      <th>101</th>\n",
       "      <th>105</th>\n",
       "      <th>109c</th>\n",
       "      <th>10yrs</th>\n",
       "      <th>11</th>\n",
       "      <th>110</th>\n",
       "      <th>...</th>\n",
       "      <th>ziploc</th>\n",
       "      <th>zoals</th>\n",
       "      <th>zodiac</th>\n",
       "      <th>zoe</th>\n",
       "      <th>zombie</th>\n",
       "      <th>zombification</th>\n",
       "      <th>zonde</th>\n",
       "      <th>zone</th>\n",
       "      <th>zoo</th>\n",
       "      <th>zukunft</th>\n",
       "    </tr>\n",
       "  </thead>\n",
       "  <tbody>\n",
       "    <tr>\n",
       "      <th>0</th>\n",
       "      <td>0</td>\n",
       "      <td>0</td>\n",
       "      <td>0</td>\n",
       "      <td>0</td>\n",
       "      <td>0</td>\n",
       "      <td>0</td>\n",
       "      <td>0</td>\n",
       "      <td>0</td>\n",
       "      <td>0</td>\n",
       "      <td>0</td>\n",
       "      <td>...</td>\n",
       "      <td>0</td>\n",
       "      <td>0</td>\n",
       "      <td>0</td>\n",
       "      <td>0</td>\n",
       "      <td>0</td>\n",
       "      <td>0</td>\n",
       "      <td>0</td>\n",
       "      <td>0</td>\n",
       "      <td>0</td>\n",
       "      <td>0</td>\n",
       "    </tr>\n",
       "    <tr>\n",
       "      <th>1</th>\n",
       "      <td>0</td>\n",
       "      <td>0</td>\n",
       "      <td>0</td>\n",
       "      <td>0</td>\n",
       "      <td>0</td>\n",
       "      <td>0</td>\n",
       "      <td>0</td>\n",
       "      <td>0</td>\n",
       "      <td>0</td>\n",
       "      <td>0</td>\n",
       "      <td>...</td>\n",
       "      <td>0</td>\n",
       "      <td>0</td>\n",
       "      <td>0</td>\n",
       "      <td>0</td>\n",
       "      <td>0</td>\n",
       "      <td>0</td>\n",
       "      <td>0</td>\n",
       "      <td>0</td>\n",
       "      <td>0</td>\n",
       "      <td>0</td>\n",
       "    </tr>\n",
       "    <tr>\n",
       "      <th>2</th>\n",
       "      <td>0</td>\n",
       "      <td>0</td>\n",
       "      <td>0</td>\n",
       "      <td>0</td>\n",
       "      <td>0</td>\n",
       "      <td>0</td>\n",
       "      <td>0</td>\n",
       "      <td>0</td>\n",
       "      <td>0</td>\n",
       "      <td>0</td>\n",
       "      <td>...</td>\n",
       "      <td>0</td>\n",
       "      <td>0</td>\n",
       "      <td>0</td>\n",
       "      <td>0</td>\n",
       "      <td>0</td>\n",
       "      <td>0</td>\n",
       "      <td>0</td>\n",
       "      <td>0</td>\n",
       "      <td>0</td>\n",
       "      <td>0</td>\n",
       "    </tr>\n",
       "    <tr>\n",
       "      <th>3</th>\n",
       "      <td>0</td>\n",
       "      <td>0</td>\n",
       "      <td>0</td>\n",
       "      <td>0</td>\n",
       "      <td>0</td>\n",
       "      <td>0</td>\n",
       "      <td>0</td>\n",
       "      <td>0</td>\n",
       "      <td>0</td>\n",
       "      <td>0</td>\n",
       "      <td>...</td>\n",
       "      <td>0</td>\n",
       "      <td>0</td>\n",
       "      <td>0</td>\n",
       "      <td>0</td>\n",
       "      <td>0</td>\n",
       "      <td>0</td>\n",
       "      <td>0</td>\n",
       "      <td>0</td>\n",
       "      <td>0</td>\n",
       "      <td>0</td>\n",
       "    </tr>\n",
       "    <tr>\n",
       "      <th>4</th>\n",
       "      <td>0</td>\n",
       "      <td>0</td>\n",
       "      <td>0</td>\n",
       "      <td>0</td>\n",
       "      <td>0</td>\n",
       "      <td>0</td>\n",
       "      <td>0</td>\n",
       "      <td>0</td>\n",
       "      <td>0</td>\n",
       "      <td>0</td>\n",
       "      <td>...</td>\n",
       "      <td>0</td>\n",
       "      <td>0</td>\n",
       "      <td>0</td>\n",
       "      <td>0</td>\n",
       "      <td>0</td>\n",
       "      <td>0</td>\n",
       "      <td>0</td>\n",
       "      <td>0</td>\n",
       "      <td>0</td>\n",
       "      <td>0</td>\n",
       "    </tr>\n",
       "  </tbody>\n",
       "</table>\n",
       "<p>5 rows × 10000 columns</p>\n",
       "</div>"
      ],
      "text/plain": [
       "   10  100  1000  100000  101  105  109c  10yrs  11  110  ...  ziploc  zoals  \\\n",
       "0   0    0     0       0    0    0     0      0   0    0  ...       0      0   \n",
       "1   0    0     0       0    0    0     0      0   0    0  ...       0      0   \n",
       "2   0    0     0       0    0    0     0      0   0    0  ...       0      0   \n",
       "3   0    0     0       0    0    0     0      0   0    0  ...       0      0   \n",
       "4   0    0     0       0    0    0     0      0   0    0  ...       0      0   \n",
       "\n",
       "   zodiac  zoe  zombie  zombification  zonde  zone  zoo  zukunft  \n",
       "0       0    0       0              0      0     0    0        0  \n",
       "1       0    0       0              0      0     0    0        0  \n",
       "2       0    0       0              0      0     0    0        0  \n",
       "3       0    0       0              0      0     0    0        0  \n",
       "4       0    0       0              0      0     0    0        0  \n",
       "\n",
       "[5 rows x 10000 columns]"
      ]
     },
     "execution_count": 35,
     "metadata": {},
     "output_type": "execute_result"
    }
   ],
   "source": [
    "X_feat.head()"
   ]
  },
  {
   "cell_type": "markdown",
   "id": "bd94186b",
   "metadata": {},
   "source": [
    "#### Scaling"
   ]
  },
  {
   "cell_type": "code",
   "execution_count": 36,
   "id": "b25e6f31",
   "metadata": {},
   "outputs": [],
   "source": [
    "#scaling X\n",
    "\n",
    "# Import the scaler module\n",
    "from sklearn import preprocessing\n",
    "scaler = preprocessing.MinMaxScaler()\n",
    "\n",
    "# Scale data\n",
    "X_scaled = scaler.fit_transform(X_feat)"
   ]
  },
  {
   "cell_type": "markdown",
   "id": "955e671c",
   "metadata": {},
   "source": [
    "Selecting best performing features"
   ]
  },
  {
   "cell_type": "code",
   "execution_count": 37,
   "id": "489108b2",
   "metadata": {},
   "outputs": [
    {
     "name": "stdout",
     "output_type": "stream",
     "text": [
      "Fitting 5 folds for each of 9 candidates, totalling 45 fits\n"
     ]
    },
    {
     "name": "stderr",
     "output_type": "stream",
     "text": [
      "C:\\Users\\u1121\\anaconda3\\lib\\site-packages\\sklearn\\feature_selection\\_univariate_selection.py:112: UserWarning: Features [ 119  131  271  283  317  432  487  560  671  708  713  757  860  908\n",
      "  919 1021 1157 1230 1260 1321 1324 1353 1417 1459 1513 1585 1602 1621\n",
      " 1769 1822 2102 2227 2274 2282 2384 2485 2558 2623 2696 2717 2780 2806\n",
      " 2899 3046 3074 3261 3458 3472 3715 3724 3762 3927 3992 4052 4086 4199\n",
      " 4237 4245 4411 4418 4426 4434 4437 4440 4443 4447 4468 4486 4487 4501\n",
      " 4519 4520 4526 4529 4534 4551 4553 4556 4561 4566 4572 4580 4581 4599\n",
      " 4606 4621 4640 4652 4655 4670 4685 4693 4694 4698 4702 4705 4714 4727\n",
      " 4733 4756 4762 4774 4778 4785 4787 4790 4793 4797 4814 4820 4830 4854\n",
      " 4866 4908 4911 4912 4914 4953 4958 4960 4963 5000 5002 5011 5022 5024\n",
      " 5045 5050 5059 5068 5108 5131 5162 5169 5173 5177 5198 5205 5215 5219\n",
      " 5220 5222 5227 5234 5248 5250 5256 5265 5267 5271 5273 5277 5288 5307\n",
      " 5314 5319 5325 5329 5346 5357 5386 5404 5405 5409 5454 5464 5469 5474\n",
      " 5485 5496 5498 5499 5524 5540 5549 5571 5572 5585 5587 5605 5639 5647\n",
      " 5661 5671 5681 5685 5692 5697 5714 5728 5732 5735 5744 5745 5746 5775\n",
      " 5783 5787 5788 5790 5801 5817 5820 5823 5824 5827 5829 5832 5838 5849\n",
      " 5853 5862 5866 5887 5908 5911 5914 5920 5924 5929 5930 5934 5936 5938\n",
      " 5945 5946 5948 5954 5963 5964 5999 6002 6006 6013 6034 6158 6195 6207\n",
      " 6211 6214 6220 6226 6240 6242 6254 6256 6289 6306 6309 6311 6320 6343\n",
      " 6357 6362 6366 6377 6382 6389 6391 6392 6404 6408 6419 6427 6437 6441\n",
      " 6443 6448 6460 6472 6480 6487 6493 6499 6501 6534 6535 6536 6539 6544\n",
      " 6580 6585 6586 6595 6608 6616 6617 6651 6660 6670 6675 6680 6683 6691\n",
      " 6694 6696 6702 6719 6732 6734 6740 6745 6747 6753 6756 6766 6791 6793\n",
      " 6799 6801 6802 6805 6824 6831 6865 6890 6895 6901 6904 6908 6909 6914\n",
      " 6920 6925 6932 6935 6941 6964 6966 6974 6976 6980 6997 7000 7008 7013\n",
      " 7019 7032 7066 7071 7089 7097 7105 7111 7133 7136 7144 7152 7177 7191\n",
      " 7194 7210 7212 7220 7227 7245 7271 7304 7309 7316 7320 7321 7322 7323\n",
      " 7330 7334 7335 7342 7362 7363 7380 7409 7430 7438 7444 7449 7472 7479\n",
      " 7486 7488 7490 7497 7501 7506 7516 7523 7531 7535 7550 7554 7566 7573\n",
      " 7587 7590 7593 7596 7602 7603 7632 7652 7665 7674 7684 7703 7708 7716\n",
      " 7717 7732 7733 7735 7759 7766 7767 7772 7778 7783 7784 7785 7798 7805\n",
      " 7810 7822 7825 7841 7842 7843 7852 7866 7872 7882 7914 7916 7920 7923\n",
      " 8083 8132 8137 8169 8183 8184 8187 8199 8212 8219 8220 8226 8236 8271\n",
      " 8273 8283 8291 8297 8303 8309 8312 8322 8327 8331 8335 8362 8376 8379\n",
      " 8387 8403 8411 8421 8442 8488 8500 8505 8519 8524 8526 8528 8540 8546\n",
      " 8547 8551 8582 8586 8590 8607 8618 8626 8628 8631 8633 8644 8672 8674\n",
      " 8688 8701 8713 8715 8720 8728 8751 8754 8757 8784 8787 8799 8814 8815\n",
      " 8816 8819 8826 8868 8874 8876 8893 8904 8926 8931 8935 8958 8970 8985\n",
      " 8990 8996 9001 9011 9012 9013 9024 9027 9036 9052 9056 9084 9101 9104\n",
      " 9139 9142 9155 9158 9161 9163 9181 9209 9215 9216 9245 9250 9253 9258\n",
      " 9260 9261 9295 9314 9320 9321 9330 9334 9337 9340 9349 9350 9354 9355\n",
      " 9370 9372 9375 9381 9383 9390 9400 9410 9423 9448 9453 9458 9467 9468\n",
      " 9485 9486 9490 9497 9498 9505 9512 9530 9534 9550 9560 9563 9564 9572\n",
      " 9577 9584 9585 9595 9605 9607 9611 9613 9622 9631 9635 9640 9648 9669\n",
      " 9670 9671 9674 9686 9688 9696 9702 9707 9715 9716 9724 9725 9741 9751\n",
      " 9762 9769 9777 9787 9788 9789 9798 9799 9806 9834 9835 9840 9842 9850\n",
      " 9855 9861 9866 9877 9886 9895 9906 9918 9939 9943 9988 9995] are constant.\n",
      "  warnings.warn(\"Features %s are constant.\" % constant_features_idx, UserWarning)\n",
      "C:\\Users\\u1121\\anaconda3\\lib\\site-packages\\sklearn\\feature_selection\\_univariate_selection.py:113: RuntimeWarning: invalid value encountered in true_divide\n",
      "  f = msb / msw\n",
      "C:\\Users\\u1121\\anaconda3\\lib\\site-packages\\sklearn\\model_selection\\_validation.py:770: UserWarning: Scoring failed. The score on this train-test partition for these parameters will be set to nan. Details: \n",
      "Traceback (most recent call last):\n",
      "  File \"C:\\Users\\u1121\\anaconda3\\lib\\site-packages\\sklearn\\model_selection\\_validation.py\", line 761, in _score\n",
      "    scores = scorer(estimator, X_test, y_test)\n",
      "  File \"C:\\Users\\u1121\\anaconda3\\lib\\site-packages\\sklearn\\metrics\\_scorer.py\", line 216, in __call__\n",
      "    return self._score(\n",
      "  File \"C:\\Users\\u1121\\anaconda3\\lib\\site-packages\\sklearn\\metrics\\_scorer.py\", line 258, in _score\n",
      "    y_pred = method_caller(estimator, \"predict\", X)\n",
      "  File \"C:\\Users\\u1121\\anaconda3\\lib\\site-packages\\sklearn\\metrics\\_scorer.py\", line 68, in _cached_call\n",
      "    return getattr(estimator, method)(*args, **kwargs)\n",
      "AttributeError: 'SelectKBest' object has no attribute 'predict'\n",
      "\n",
      "  warnings.warn(\n",
      "C:\\Users\\u1121\\anaconda3\\lib\\site-packages\\sklearn\\feature_selection\\_univariate_selection.py:112: UserWarning: Features [  29   33   60   69  191  457  535  647  651  672  709  717  769  773\n",
      "  840  877  968  993 1082 1270 1358 1439 1610 1928 1938 1998 2012 2031\n",
      " 2167 2353 2494 2567 2629 2662 2669 2785 2841 2851 3019 3023 3033 3085\n",
      " 3113 3163 3200 3204 3232 3240 3279 3323 3362 3387 3447 3478 3668 3716\n",
      " 3845 3977 3996 4005 4098 4196 4252 4297 4301 4349 4358 4376 4416 4419\n",
      " 4433 4445 4446 4450 4453 4454 4455 4470 4485 4496 4504 4505 4512 4517\n",
      " 4527 4536 4546 4569 4574 4579 4603 4609 4611 4614 4617 4633 4667 4668\n",
      " 4669 4684 4697 4703 4709 4712 4726 4732 4753 4754 4761 4763 4769 4772\n",
      " 4776 4791 4812 4819 4837 4838 4839 4840 4846 4849 4851 4867 4868 4902\n",
      " 4909 4910 4913 4917 4918 4919 4921 4923 4926 4932 4941 4945 4946 4965\n",
      " 4967 4970 4977 4985 4990 5014 5015 5037 5043 5047 5058 5072 5077 5118\n",
      " 5121 5122 5126 5136 5148 5155 5158 5160 5165 5179 5180 5181 5182 5189\n",
      " 5194 5196 5213 5218 5223 5242 5244 5249 5255 5259 5260 5262 5282 5290\n",
      " 5305 5315 5316 5320 5331 5332 5333 5347 5349 5351 5370 5373 5380 5382\n",
      " 5396 5416 5419 5425 5426 5428 5462 5484 5488 5494 5512 5520 5523 5545\n",
      " 5553 5556 5565 5580 5596 5613 5621 5641 5649 5664 5667 5679 5680 5695\n",
      " 5701 5707 5719 5721 5724 5725 5730 5776 5786 5791 5802 5810 5818 5822\n",
      " 5856 5858 5868 5869 5918 5919 5947 5950 5952 5961 5962 5969 5974 5979\n",
      " 5981 5985 5986 6001 6011 6020 6039 6151 6192 6200 6228 6245 6246 6251\n",
      " 6260 6268 6287 6299 6310 6315 6321 6327 6334 6339 6341 6350 6359 6360\n",
      " 6375 6376 6383 6384 6395 6409 6420 6430 6431 6438 6452 6457 6463 6465\n",
      " 6494 6503 6517 6523 6528 6529 6542 6552 6558 6562 6583 6589 6614 6625\n",
      " 6635 6643 6644 6645 6647 6662 6663 6669 6689 6701 6704 6706 6707 6708\n",
      " 6722 6725 6731 6733 6754 6794 6816 6832 6842 6851 6855 6858 6860 6873\n",
      " 6878 6902 6937 6951 6952 6953 6955 6972 6984 6989 6994 6996 6998 7010\n",
      " 7017 7037 7039 7041 7044 7056 7061 7065 7079 7092 7101 7117 7155 7163\n",
      " 7164 7171 7174 7175 7206 7209 7215 7216 7230 7238 7241 7247 7248 7259\n",
      " 7269 7277 7282 7283 7284 7286 7287 7289 7290 7300 7302 7313 7336 7337\n",
      " 7338 7361 7368 7372 7390 7392 7400 7401 7415 7417 7424 7435 7452 7455\n",
      " 7460 7465 7470 7477 7494 7499 7512 7514 7517 7521 7529 7537 7541 7549\n",
      " 7568 7585 7606 7607 7615 7617 7621 7629 7648 7650 7657 7663 7666 7669\n",
      " 7677 7694 7699 7726 7736 7740 7749 7750 7751 7752 7789 7811 7812 7813\n",
      " 7818 7834 7869 7877 7886 7891 7892 7897 7901 7906 7912 7921 7925 7943\n",
      " 7991 8068 8138 8144 8146 8148 8160 8162 8164 8167 8174 8179 8181 8190\n",
      " 8191 8194 8196 8237 8252 8255 8257 8267 8270 8284 8293 8295 8306 8307\n",
      " 8308 8323 8353 8354 8359 8366 8378 8380 8384 8393 8398 8420 8451 8490\n",
      " 8494 8510 8514 8515 8518 8525 8549 8559 8563 8570 8571 8576 8580 8581\n",
      " 8589 8592 8598 8599 8601 8603 8605 8608 8612 8622 8639 8645 8647 8649\n",
      " 8651 8653 8657 8662 8673 8675 8679 8682 8693 8705 8707 8708 8722 8726\n",
      " 8730 8735 8765 8777 8782 8783 8793 8800 8802 8804 8809 8837 8844 8866\n",
      " 8884 8886 8889 8890 8905 8910 8918 8920 8921 8932 8933 8939 8941 8952\n",
      " 8953 8969 8971 8972 8982 8997 9004 9010 9014 9017 9020 9038 9045 9048\n",
      " 9049 9055 9057 9061 9068 9072 9080 9089 9091 9094 9096 9108 9109 9120\n",
      " 9122 9136 9145 9160 9169 9203 9213 9218 9235 9236 9238 9269 9270 9276\n",
      " 9278 9290 9302 9319 9322 9331 9332 9338 9344 9353 9358 9377 9380 9387\n",
      " 9391 9398 9413 9414 9425 9433 9435 9439 9457 9460 9461 9463 9469 9482\n",
      " 9487 9496 9515 9521 9522 9533 9537 9546 9548 9561 9562 9569 9575 9581\n",
      " 9586 9610 9618 9619 9623 9628 9680 9690 9691 9709 9717 9736 9759 9764\n",
      " 9784 9785 9797 9818 9823 9826 9838 9839 9852 9853 9854 9865 9868 9888\n",
      " 9907 9914 9921 9931 9940 9942 9945 9946 9948 9952 9955 9960 9961 9962\n",
      " 9977 9985 9991 9994 9996] are constant.\n",
      "  warnings.warn(\"Features %s are constant.\" % constant_features_idx, UserWarning)\n",
      "C:\\Users\\u1121\\anaconda3\\lib\\site-packages\\sklearn\\feature_selection\\_univariate_selection.py:113: RuntimeWarning: invalid value encountered in true_divide\n",
      "  f = msb / msw\n",
      "C:\\Users\\u1121\\anaconda3\\lib\\site-packages\\sklearn\\model_selection\\_validation.py:770: UserWarning: Scoring failed. The score on this train-test partition for these parameters will be set to nan. Details: \n",
      "Traceback (most recent call last):\n",
      "  File \"C:\\Users\\u1121\\anaconda3\\lib\\site-packages\\sklearn\\model_selection\\_validation.py\", line 761, in _score\n",
      "    scores = scorer(estimator, X_test, y_test)\n",
      "  File \"C:\\Users\\u1121\\anaconda3\\lib\\site-packages\\sklearn\\metrics\\_scorer.py\", line 216, in __call__\n",
      "    return self._score(\n",
      "  File \"C:\\Users\\u1121\\anaconda3\\lib\\site-packages\\sklearn\\metrics\\_scorer.py\", line 258, in _score\n",
      "    y_pred = method_caller(estimator, \"predict\", X)\n",
      "  File \"C:\\Users\\u1121\\anaconda3\\lib\\site-packages\\sklearn\\metrics\\_scorer.py\", line 68, in _cached_call\n",
      "    return getattr(estimator, method)(*args, **kwargs)\n",
      "AttributeError: 'SelectKBest' object has no attribute 'predict'\n",
      "\n",
      "  warnings.warn(\n"
     ]
    },
    {
     "name": "stderr",
     "output_type": "stream",
     "text": [
      "C:\\Users\\u1121\\anaconda3\\lib\\site-packages\\sklearn\\feature_selection\\_univariate_selection.py:112: UserWarning: Features [  31  107  129  155  232  379  382  435  482  537  646  669  881 1155\n",
      " 1158 1188 1356 1377 1562 1567 1629 1641 1654 1666 1730 1815 1908 1992\n",
      " 2009 2259 2362 2415 2461 2632 2664 2728 2853 2862 3068 3078 3211 3214\n",
      " 3280 3347 3427 3465 3500 3563 3663 3900 3932 4006 4154 4250 4251 4327\n",
      " 4340 4370 4403 4421 4422 4429 4431 4436 4469 4471 4473 4488 4506 4525\n",
      " 4528 4538 4540 4549 4555 4558 4564 4587 4604 4607 4615 4616 4619 4627\n",
      " 4634 4647 4656 4659 4662 4664 4666 4680 4696 4701 4710 4711 4716 4719\n",
      " 4720 4729 4731 4736 4751 4765 4767 4789 4802 4805 4809 4810 4816 4818\n",
      " 4821 4823 4826 4841 4845 4858 4865 4872 4884 4888 4892 4894 4903 4904\n",
      " 4924 4954 4968 4975 4997 5007 5016 5021 5023 5035 5036 5049 5056 5063\n",
      " 5069 5081 5084 5101 5103 5106 5124 5129 5134 5137 5142 5150 5151 5156\n",
      " 5159 5166 5167 5171 5191 5212 5217 5226 5230 5236 5246 5251 5252 5253\n",
      " 5266 5268 5269 5278 5283 5285 5289 5291 5294 5295 5296 5297 5303 5308\n",
      " 5311 5321 5326 5352 5367 5369 5371 5383 5407 5427 5449 5460 5480 5482\n",
      " 5487 5509 5514 5528 5534 5538 5568 5569 5570 5586 5589 5594 5607 5620\n",
      " 5627 5628 5630 5637 5638 5644 5655 5665 5669 5683 5684 5686 5690 5691\n",
      " 5698 5700 5704 5706 5708 5713 5717 5722 5723 5737 5738 5741 5747 5773\n",
      " 5778 5781 5793 5804 5836 5843 5848 5863 5865 5870 5874 5879 5883 5895\n",
      " 5897 5900 5902 5905 5906 5933 5935 5959 5973 5994 6018 6188 6194 6199\n",
      " 6208 6224 6227 6241 6249 6252 6255 6263 6264 6270 6286 6292 6302 6305\n",
      " 6313 6318 6331 6340 6342 6346 6347 6351 6356 6363 6365 6371 6401 6403\n",
      " 6406 6416 6421 6428 6439 6445 6446 6454 6455 6456 6477 6486 6489 6502\n",
      " 6505 6511 6515 6524 6526 6533 6543 6556 6565 6572 6575 6576 6579 6591\n",
      " 6592 6596 6597 6598 6603 6604 6610 6623 6628 6642 6664 6679 6698 6703\n",
      " 6712 6713 6726 6728 6736 6738 6752 6762 6772 6773 6782 6792 6809 6822\n",
      " 6825 6843 6845 6846 6852 6854 6862 6869 6874 6880 6894 6898 6899 6916\n",
      " 6917 6918 6921 6945 6956 6961 6967 6993 7003 7009 7015 7033 7036 7052\n",
      " 7053 7057 7068 7072 7078 7088 7090 7094 7096 7104 7109 7119 7129 7135\n",
      " 7138 7147 7148 7159 7161 7166 7188 7200 7208 7217 7226 7231 7234 7237\n",
      " 7239 7246 7255 7257 7262 7273 7275 7279 7296 7297 7307 7308 7325 7331\n",
      " 7339 7340 7352 7370 7371 7375 7391 7398 7404 7425 7434 7450 7451 7456\n",
      " 7458 7491 7493 7511 7515 7524 7526 7536 7538 7539 7540 7548 7560 7561\n",
      " 7569 7570 7574 7576 7581 7584 7604 7609 7610 7623 7683 7701 7704 7707\n",
      " 7715 7720 7728 7739 7743 7756 7771 7774 7781 7786 7790 7792 7808 7816\n",
      " 7817 7823 7826 7828 7840 7847 7858 7859 7875 7879 7885 7887 7890 7896\n",
      " 7909 7913 8005 8109 8120 8142 8158 8161 8165 8172 8173 8176 8178 8185\n",
      " 8188 8192 8205 8214 8222 8246 8256 8275 8277 8282 8285 8288 8296 8299\n",
      " 8318 8329 8343 8352 8358 8360 8394 8399 8406 8412 8419 8431 8432 8433\n",
      " 8458 8476 8479 8483 8484 8501 8507 8517 8520 8521 8532 8533 8548 8550\n",
      " 8553 8572 8578 8585 8588 8602 8613 8624 8629 8635 8641 8642 8646 8656\n",
      " 8660 8681 8691 8695 8698 8702 8703 8714 8716 8724 8738 8740 8741 8744\n",
      " 8758 8762 8771 8775 8806 8808 8820 8827 8828 8846 8848 8857 8861 8862\n",
      " 8869 8907 8909 8911 8916 8922 8925 8927 8944 8947 8948 8950 8951 8976\n",
      " 8979 8980 8988 9003 9005 9006 9007 9026 9028 9031 9042 9051 9059 9066\n",
      " 9079 9082 9085 9095 9097 9103 9115 9116 9125 9126 9130 9146 9165 9172\n",
      " 9179 9193 9195 9204 9205 9206 9222 9224 9225 9228 9233 9239 9242 9243\n",
      " 9267 9273 9279 9283 9285 9293 9298 9300 9307 9327 9329 9335 9339 9345\n",
      " 9347 9351 9352 9356 9361 9362 9364 9366 9367 9373 9389 9392 9402 9405\n",
      " 9416 9432 9441 9443 9471 9491 9501 9504 9524 9539 9543 9551 9565 9574\n",
      " 9587 9591 9596 9599 9601 9603 9645 9651 9654 9667 9673 9685 9698 9699\n",
      " 9729 9744 9748 9749 9750 9755 9756 9757 9771 9781 9791 9800 9817 9819\n",
      " 9837 9863 9867 9869 9870 9873 9874 9878 9882 9885 9887 9901 9904 9909\n",
      " 9958 9967 9975 9976 9981 9986 9999] are constant.\n",
      "  warnings.warn(\"Features %s are constant.\" % constant_features_idx, UserWarning)\n",
      "C:\\Users\\u1121\\anaconda3\\lib\\site-packages\\sklearn\\feature_selection\\_univariate_selection.py:113: RuntimeWarning: invalid value encountered in true_divide\n",
      "  f = msb / msw\n",
      "C:\\Users\\u1121\\anaconda3\\lib\\site-packages\\sklearn\\model_selection\\_validation.py:770: UserWarning: Scoring failed. The score on this train-test partition for these parameters will be set to nan. Details: \n",
      "Traceback (most recent call last):\n",
      "  File \"C:\\Users\\u1121\\anaconda3\\lib\\site-packages\\sklearn\\model_selection\\_validation.py\", line 761, in _score\n",
      "    scores = scorer(estimator, X_test, y_test)\n",
      "  File \"C:\\Users\\u1121\\anaconda3\\lib\\site-packages\\sklearn\\metrics\\_scorer.py\", line 216, in __call__\n",
      "    return self._score(\n",
      "  File \"C:\\Users\\u1121\\anaconda3\\lib\\site-packages\\sklearn\\metrics\\_scorer.py\", line 258, in _score\n",
      "    y_pred = method_caller(estimator, \"predict\", X)\n",
      "  File \"C:\\Users\\u1121\\anaconda3\\lib\\site-packages\\sklearn\\metrics\\_scorer.py\", line 68, in _cached_call\n",
      "    return getattr(estimator, method)(*args, **kwargs)\n",
      "AttributeError: 'SelectKBest' object has no attribute 'predict'\n",
      "\n",
      "  warnings.warn(\n",
      "C:\\Users\\u1121\\anaconda3\\lib\\site-packages\\sklearn\\feature_selection\\_univariate_selection.py:112: UserWarning: Features [  11   47  106  165  170  261  316  360  456  497  620  735  755  813\n",
      "  934 1025 1064 1111 1119 1124 1143 1255 1277 1384 1570 1628 1632 1650\n",
      " 1721 1870 1951 1997 2086 2087 2115 2141 2416 2445 2504 2541 2616 2626\n",
      " 2711 2774 2821 2884 2906 3166 3247 3288 3504 3508 3527 3536 3548 3620\n",
      " 3644 3671 3695 3765 3852 3889 3984 4089 4188 4218 4265 4378 4381 4417\n",
      " 4420 4432 4438 4439 4451 4452 4458 4459 4472 4476 4495 4497 4508 4516\n",
      " 4533 4544 4557 4559 4571 4575 4577 4588 4590 4592 4596 4601 4608 4620\n",
      " 4623 4624 4631 4632 4643 4649 4653 4660 4663 4695 4707 4713 4718 4722\n",
      " 4723 4728 4730 4739 4749 4759 4764 4782 4804 4808 4815 4824 4827 4852\n",
      " 4857 4859 4860 4871 4875 4881 4885 4887 4889 4890 4901 4916 4940 4949\n",
      " 4956 4966 4983 4991 4992 5012 5013 5026 5040 5054 5060 5067 5075 5083\n",
      " 5085 5094 5095 5107 5116 5125 5130 5132 5140 5154 5170 5188 5193 5195\n",
      " 5204 5209 5210 5211 5214 5231 5232 5235 5239 5247 5299 5309 5322 5354\n",
      " 5363 5365 5389 5415 5417 5422 5423 5435 5441 5468 5470 5481 5483 5500\n",
      " 5503 5504 5535 5537 5543 5560 5574 5581 5583 5601 5603 5609 5614 5623\n",
      " 5635 5650 5656 5658 5666 5670 5674 5676 5731 5736 5742 5743 5777 5779\n",
      " 5795 5796 5797 5807 5809 5812 5841 5851 5852 5857 5860 5871 5873 5898\n",
      " 5903 5904 5909 5912 5913 5915 5921 5925 5931 5932 5943 5944 5967 5968\n",
      " 5971 5980 5984 5987 5997 6010 6012 6014 6017 6045 6140 6185 6202 6203\n",
      " 6219 6225 6230 6247 6261 6273 6282 6291 6303 6308 6312 6316 6329 6337\n",
      " 6344 6354 6358 6369 6370 6374 6385 6387 6390 6397 6400 6410 6415 6432\n",
      " 6440 6449 6450 6459 6461 6470 6476 6482 6507 6520 6527 6537 6557 6559\n",
      " 6582 6584 6600 6602 6620 6629 6666 6692 6697 6700 6709 6710 6724 6730\n",
      " 6735 6737 6744 6755 6758 6763 6777 6780 6783 6785 6795 6798 6804 6826\n",
      " 6836 6847 6859 6867 6868 6877 6888 6893 6900 6907 6910 6923 6943 6954\n",
      " 6975 6986 6987 7001 7002 7007 7011 7020 7025 7027 7030 7035 7042 7050\n",
      " 7051 7062 7076 7087 7112 7113 7122 7132 7172 7180 7189 7202 7211 7218\n",
      " 7236 7254 7267 7281 7291 7293 7311 7315 7345 7347 7350 7353 7356 7357\n",
      " 7365 7367 7378 7381 7383 7385 7387 7388 7389 7405 7406 7411 7427 7432\n",
      " 7433 7439 7453 7463 7469 7474 7478 7480 7484 7496 7503 7504 7509 7518\n",
      " 7547 7552 7555 7556 7558 7562 7563 7564 7572 7626 7627 7628 7639 7640\n",
      " 7670 7678 7687 7690 7692 7709 7713 7723 7730 7737 7741 7742 7744 7745\n",
      " 7753 7763 7770 7794 7795 7796 7797 7799 7814 7850 7856 7860 7863 7864\n",
      " 7876 7881 7893 7900 7904 7907 7924 7928 8011 8125 8131 8141 8145 8147\n",
      " 8151 8180 8186 8193 8195 8197 8202 8203 8204 8248 8268 8269 8272 8274\n",
      " 8276 8292 8300 8304 8310 8313 8314 8321 8326 8330 8340 8345 8346 8350\n",
      " 8357 8361 8363 8372 8389 8395 8402 8410 8424 8427 8428 8436 8438 8441\n",
      " 8446 8453 8477 8480 8485 8493 8516 8527 8536 8542 8555 8561 8562 8565\n",
      " 8577 8597 8600 8616 8621 8630 8634 8643 8650 8655 8670 8683 8687 8696\n",
      " 8700 8709 8710 8711 8718 8719 8748 8755 8756 8759 8764 8768 8773 8781\n",
      " 8788 8797 8811 8812 8817 8836 8840 8841 8858 8860 8863 8888 8892 8898\n",
      " 8901 8903 8908 8934 8956 8959 8973 8975 8986 8987 8989 8993 9025 9033\n",
      " 9054 9060 9064 9071 9074 9078 9093 9102 9107 9117 9118 9135 9137 9149\n",
      " 9150 9153 9164 9175 9196 9200 9217 9219 9221 9255 9259 9263 9266 9271\n",
      " 9280 9299 9305 9315 9336 9342 9346 9357 9359 9360 9365 9368 9374 9382\n",
      " 9386 9408 9418 9437 9438 9440 9445 9446 9451 9454 9462 9464 9475 9488\n",
      " 9494 9499 9500 9503 9506 9509 9518 9527 9529 9531 9541 9545 9557 9558\n",
      " 9578 9594 9597 9598 9600 9602 9609 9616 9617 9620 9627 9633 9636 9642\n",
      " 9659 9676 9683 9692 9695 9718 9721 9722 9723 9730 9742 9743 9761 9778\n",
      " 9780 9793 9801 9804 9815 9820 9822 9825 9829 9831 9836 9847 9851 9856\n",
      " 9859 9883 9891 9900 9903 9910 9911 9919 9932 9933 9944 9950 9951 9959\n",
      " 9966 9968 9971 9982 9998] are constant.\n",
      "  warnings.warn(\"Features %s are constant.\" % constant_features_idx, UserWarning)\n",
      "C:\\Users\\u1121\\anaconda3\\lib\\site-packages\\sklearn\\feature_selection\\_univariate_selection.py:113: RuntimeWarning: invalid value encountered in true_divide\n",
      "  f = msb / msw\n",
      "C:\\Users\\u1121\\anaconda3\\lib\\site-packages\\sklearn\\model_selection\\_validation.py:770: UserWarning: Scoring failed. The score on this train-test partition for these parameters will be set to nan. Details: \n",
      "Traceback (most recent call last):\n",
      "  File \"C:\\Users\\u1121\\anaconda3\\lib\\site-packages\\sklearn\\model_selection\\_validation.py\", line 761, in _score\n",
      "    scores = scorer(estimator, X_test, y_test)\n",
      "  File \"C:\\Users\\u1121\\anaconda3\\lib\\site-packages\\sklearn\\metrics\\_scorer.py\", line 216, in __call__\n",
      "    return self._score(\n",
      "  File \"C:\\Users\\u1121\\anaconda3\\lib\\site-packages\\sklearn\\metrics\\_scorer.py\", line 258, in _score\n",
      "    y_pred = method_caller(estimator, \"predict\", X)\n",
      "  File \"C:\\Users\\u1121\\anaconda3\\lib\\site-packages\\sklearn\\metrics\\_scorer.py\", line 68, in _cached_call\n",
      "    return getattr(estimator, method)(*args, **kwargs)\n",
      "AttributeError: 'SelectKBest' object has no attribute 'predict'\n",
      "\n",
      "  warnings.warn(\n"
     ]
    },
    {
     "name": "stderr",
     "output_type": "stream",
     "text": [
      "C:\\Users\\u1121\\anaconda3\\lib\\site-packages\\sklearn\\feature_selection\\_univariate_selection.py:112: UserWarning: Features [  53   55   85  236  242  682  707  721  727  841  915  973  977  984\n",
      " 1120 1166 1176 1209 1375 1398 1412 1482 1569 1608 1696 1723 1809 1907\n",
      " 1910 2037 2165 2222 2273 2286 2320 2486 2516 2633 2663 2672 2709 2742\n",
      " 2790 2804 2836 2931 2943 3208 3221 3252 3286 3334 3338 3395 3428 3454\n",
      " 3482 3487 3523 3593 3616 3652 3725 3767 3830 3859 3876 3899 4100 4144\n",
      " 4152 4193 4226 4244 4291 4329 4366 4423 4424 4427 4435 4442 4449 4465\n",
      " 4475 4493 4500 4524 4531 4532 4539 4541 4543 4547 4548 4550 4552 4554\n",
      " 4567 4568 4573 4585 4593 4622 4625 4648 4658 4673 4678 4681 4691 4692\n",
      " 4700 4724 4725 4734 4742 4744 4745 4750 4766 4770 4781 4796 4799 4833\n",
      " 4835 4864 4882 4891 4893 4920 4925 4930 4931 4935 4938 4944 4947 4950\n",
      " 4959 4972 4973 4980 4993 4998 5009 5018 5027 5028 5030 5033 5042 5055\n",
      " 5061 5071 5078 5086 5100 5109 5113 5117 5128 5139 5144 5145 5157 5175\n",
      " 5178 5184 5190 5216 5221 5238 5243 5261 5276 5280 5286 5292 5293 5340\n",
      " 5341 5348 5366 5375 5376 5384 5392 5399 5403 5406 5411 5418 5434 5438\n",
      " 5443 5458 5463 5473 5478 5492 5505 5513 5533 5541 5555 5562 5573 5584\n",
      " 5611 5615 5634 5645 5646 5653 5654 5668 5677 5682 5715 5716 5734 5749\n",
      " 5771 5784 5794 5811 5815 5825 5839 5846 5859 5861 5864 5867 5881 5889\n",
      " 5899 5927 5937 5940 5942 5951 5955 5958 5988 6021 6213 6216 6234 6236\n",
      " 6237 6267 6269 6271 6274 6280 6284 6296 6300 6317 6323 6324 6325 6328\n",
      " 6332 6336 6349 6353 6381 6394 6405 6412 6414 6423 6424 6436 6442 6444\n",
      " 6451 6453 6462 6473 6479 6491 6496 6504 6509 6510 6514 6519 6522 6532\n",
      " 6540 6545 6547 6554 6560 6568 6573 6605 6607 6626 6633 6639 6641 6654\n",
      " 6656 6665 6668 6672 6678 6685 6686 6695 6699 6705 6715 6717 6727 6741\n",
      " 6742 6749 6751 6764 6767 6768 6771 6776 6781 6789 6790 6800 6811 6812\n",
      " 6813 6818 6819 6829 6844 6848 6849 6870 6871 6872 6926 6929 6933 6936\n",
      " 6948 6950 6957 6958 6959 6960 6965 6969 6988 6990 6992 7004 7014 7018\n",
      " 7038 7043 7067 7080 7095 7102 7106 7114 7131 7140 7141 7145 7150 7151\n",
      " 7169 7176 7182 7185 7187 7198 7207 7221 7223 7240 7244 7260 7261 7263\n",
      " 7268 7272 7274 7285 7299 7301 7306 7310 7327 7329 7344 7348 7349 7358\n",
      " 7359 7364 7377 7382 7384 7402 7403 7407 7408 7413 7414 7419 7422 7423\n",
      " 7426 7440 7442 7447 7457 7482 7485 7498 7508 7510 7519 7542 7553 7557\n",
      " 7580 7582 7586 7588 7599 7600 7608 7618 7625 7630 7634 7636 7638 7645\n",
      " 7653 7655 7662 7682 7689 7693 7695 7706 7712 7718 7721 7747 7757 7762\n",
      " 7764 7765 7773 7787 7793 7803 7827 7835 7849 7853 7862 7871 7874 7884\n",
      " 7894 7899 7905 7992 8023 8085 8134 8139 8143 8150 8153 8157 8166 8177\n",
      " 8182 8200 8207 8208 8213 8221 8228 8242 8243 8294 8298 8302 8311 8320\n",
      " 8328 8368 8370 8371 8374 8388 8425 8437 8444 8452 8465 8474 8486 8504\n",
      " 8509 8523 8530 8531 8534 8537 8538 8539 8543 8568 8569 8573 8574 8579\n",
      " 8593 8638 8640 8658 8663 8665 8666 8667 8669 8677 8684 8686 8690 8712\n",
      " 8721 8723 8725 8727 8729 8736 8737 8750 8790 8791 8794 8795 8807 8810\n",
      " 8813 8823 8825 8838 8850 8854 8859 8865 8870 8875 8881 8883 8887 8896\n",
      " 8906 8912 8915 8919 8924 8930 8940 8943 8949 8957 8961 8974 8977 8978\n",
      " 8981 8983 8992 8994 8995 8999 9000 9002 9009 9016 9037 9046 9047 9062\n",
      " 9081 9086 9092 9106 9111 9113 9121 9127 9131 9134 9141 9148 9151 9157\n",
      " 9162 9170 9171 9174 9178 9180 9182 9184 9188 9189 9229 9248 9249 9257\n",
      " 9264 9265 9272 9277 9287 9288 9291 9301 9306 9308 9311 9324 9333 9343\n",
      " 9348 9371 9376 9393 9406 9409 9427 9429 9436 9452 9455 9472 9479 9480\n",
      " 9484 9493 9510 9516 9532 9536 9544 9552 9553 9556 9573 9576 9583 9593\n",
      " 9634 9637 9638 9641 9644 9658 9664 9665 9668 9684 9687 9712 9740 9747\n",
      " 9753 9758 9766 9786 9795 9796 9803 9808 9821 9827 9833 9843 9848 9860\n",
      " 9879 9897 9902 9912 9915 9922 9926 9928 9934 9935 9963 9965 9978 9980\n",
      " 9990 9992] are constant.\n",
      "  warnings.warn(\"Features %s are constant.\" % constant_features_idx, UserWarning)\n",
      "C:\\Users\\u1121\\anaconda3\\lib\\site-packages\\sklearn\\feature_selection\\_univariate_selection.py:113: RuntimeWarning: invalid value encountered in true_divide\n",
      "  f = msb / msw\n",
      "C:\\Users\\u1121\\anaconda3\\lib\\site-packages\\sklearn\\model_selection\\_validation.py:770: UserWarning: Scoring failed. The score on this train-test partition for these parameters will be set to nan. Details: \n",
      "Traceback (most recent call last):\n",
      "  File \"C:\\Users\\u1121\\anaconda3\\lib\\site-packages\\sklearn\\model_selection\\_validation.py\", line 761, in _score\n",
      "    scores = scorer(estimator, X_test, y_test)\n",
      "  File \"C:\\Users\\u1121\\anaconda3\\lib\\site-packages\\sklearn\\metrics\\_scorer.py\", line 216, in __call__\n",
      "    return self._score(\n",
      "  File \"C:\\Users\\u1121\\anaconda3\\lib\\site-packages\\sklearn\\metrics\\_scorer.py\", line 258, in _score\n",
      "    y_pred = method_caller(estimator, \"predict\", X)\n",
      "  File \"C:\\Users\\u1121\\anaconda3\\lib\\site-packages\\sklearn\\metrics\\_scorer.py\", line 68, in _cached_call\n",
      "    return getattr(estimator, method)(*args, **kwargs)\n",
      "AttributeError: 'SelectKBest' object has no attribute 'predict'\n",
      "\n",
      "  warnings.warn(\n",
      "C:\\Users\\u1121\\anaconda3\\lib\\site-packages\\sklearn\\feature_selection\\_univariate_selection.py:112: UserWarning: Features [ 119  131  271  283  317  432  487  560  671  708  713  757  860  908\n",
      "  919 1021 1157 1230 1260 1321 1324 1353 1417 1459 1513 1585 1602 1621\n",
      " 1769 1822 2102 2227 2274 2282 2384 2485 2558 2623 2696 2717 2780 2806\n",
      " 2899 3046 3074 3261 3458 3472 3715 3724 3762 3927 3992 4052 4086 4199\n",
      " 4237 4245 4411 4418 4426 4434 4437 4440 4443 4447 4468 4486 4487 4501\n",
      " 4519 4520 4526 4529 4534 4551 4553 4556 4561 4566 4572 4580 4581 4599\n",
      " 4606 4621 4640 4652 4655 4670 4685 4693 4694 4698 4702 4705 4714 4727\n",
      " 4733 4756 4762 4774 4778 4785 4787 4790 4793 4797 4814 4820 4830 4854\n",
      " 4866 4908 4911 4912 4914 4953 4958 4960 4963 5000 5002 5011 5022 5024\n",
      " 5045 5050 5059 5068 5108 5131 5162 5169 5173 5177 5198 5205 5215 5219\n",
      " 5220 5222 5227 5234 5248 5250 5256 5265 5267 5271 5273 5277 5288 5307\n",
      " 5314 5319 5325 5329 5346 5357 5386 5404 5405 5409 5454 5464 5469 5474\n",
      " 5485 5496 5498 5499 5524 5540 5549 5571 5572 5585 5587 5605 5639 5647\n",
      " 5661 5671 5681 5685 5692 5697 5714 5728 5732 5735 5744 5745 5746 5775\n",
      " 5783 5787 5788 5790 5801 5817 5820 5823 5824 5827 5829 5832 5838 5849\n",
      " 5853 5862 5866 5887 5908 5911 5914 5920 5924 5929 5930 5934 5936 5938\n",
      " 5945 5946 5948 5954 5963 5964 5999 6002 6006 6013 6034 6158 6195 6207\n",
      " 6211 6214 6220 6226 6240 6242 6254 6256 6289 6306 6309 6311 6320 6343\n",
      " 6357 6362 6366 6377 6382 6389 6391 6392 6404 6408 6419 6427 6437 6441\n",
      " 6443 6448 6460 6472 6480 6487 6493 6499 6501 6534 6535 6536 6539 6544\n",
      " 6580 6585 6586 6595 6608 6616 6617 6651 6660 6670 6675 6680 6683 6691\n",
      " 6694 6696 6702 6719 6732 6734 6740 6745 6747 6753 6756 6766 6791 6793\n",
      " 6799 6801 6802 6805 6824 6831 6865 6890 6895 6901 6904 6908 6909 6914\n",
      " 6920 6925 6932 6935 6941 6964 6966 6974 6976 6980 6997 7000 7008 7013\n",
      " 7019 7032 7066 7071 7089 7097 7105 7111 7133 7136 7144 7152 7177 7191\n",
      " 7194 7210 7212 7220 7227 7245 7271 7304 7309 7316 7320 7321 7322 7323\n",
      " 7330 7334 7335 7342 7362 7363 7380 7409 7430 7438 7444 7449 7472 7479\n",
      " 7486 7488 7490 7497 7501 7506 7516 7523 7531 7535 7550 7554 7566 7573\n",
      " 7587 7590 7593 7596 7602 7603 7632 7652 7665 7674 7684 7703 7708 7716\n",
      " 7717 7732 7733 7735 7759 7766 7767 7772 7778 7783 7784 7785 7798 7805\n",
      " 7810 7822 7825 7841 7842 7843 7852 7866 7872 7882 7914 7916 7920 7923\n",
      " 8083 8132 8137 8169 8183 8184 8187 8199 8212 8219 8220 8226 8236 8271\n",
      " 8273 8283 8291 8297 8303 8309 8312 8322 8327 8331 8335 8362 8376 8379\n",
      " 8387 8403 8411 8421 8442 8488 8500 8505 8519 8524 8526 8528 8540 8546\n",
      " 8547 8551 8582 8586 8590 8607 8618 8626 8628 8631 8633 8644 8672 8674\n",
      " 8688 8701 8713 8715 8720 8728 8751 8754 8757 8784 8787 8799 8814 8815\n",
      " 8816 8819 8826 8868 8874 8876 8893 8904 8926 8931 8935 8958 8970 8985\n",
      " 8990 8996 9001 9011 9012 9013 9024 9027 9036 9052 9056 9084 9101 9104\n",
      " 9139 9142 9155 9158 9161 9163 9181 9209 9215 9216 9245 9250 9253 9258\n",
      " 9260 9261 9295 9314 9320 9321 9330 9334 9337 9340 9349 9350 9354 9355\n",
      " 9370 9372 9375 9381 9383 9390 9400 9410 9423 9448 9453 9458 9467 9468\n",
      " 9485 9486 9490 9497 9498 9505 9512 9530 9534 9550 9560 9563 9564 9572\n",
      " 9577 9584 9585 9595 9605 9607 9611 9613 9622 9631 9635 9640 9648 9669\n",
      " 9670 9671 9674 9686 9688 9696 9702 9707 9715 9716 9724 9725 9741 9751\n",
      " 9762 9769 9777 9787 9788 9789 9798 9799 9806 9834 9835 9840 9842 9850\n",
      " 9855 9861 9866 9877 9886 9895 9906 9918 9939 9943 9988 9995] are constant.\n",
      "  warnings.warn(\"Features %s are constant.\" % constant_features_idx, UserWarning)\n",
      "C:\\Users\\u1121\\anaconda3\\lib\\site-packages\\sklearn\\feature_selection\\_univariate_selection.py:113: RuntimeWarning: invalid value encountered in true_divide\n",
      "  f = msb / msw\n",
      "C:\\Users\\u1121\\anaconda3\\lib\\site-packages\\sklearn\\model_selection\\_validation.py:770: UserWarning: Scoring failed. The score on this train-test partition for these parameters will be set to nan. Details: \n",
      "Traceback (most recent call last):\n",
      "  File \"C:\\Users\\u1121\\anaconda3\\lib\\site-packages\\sklearn\\model_selection\\_validation.py\", line 761, in _score\n",
      "    scores = scorer(estimator, X_test, y_test)\n",
      "  File \"C:\\Users\\u1121\\anaconda3\\lib\\site-packages\\sklearn\\metrics\\_scorer.py\", line 216, in __call__\n",
      "    return self._score(\n",
      "  File \"C:\\Users\\u1121\\anaconda3\\lib\\site-packages\\sklearn\\metrics\\_scorer.py\", line 258, in _score\n",
      "    y_pred = method_caller(estimator, \"predict\", X)\n",
      "  File \"C:\\Users\\u1121\\anaconda3\\lib\\site-packages\\sklearn\\metrics\\_scorer.py\", line 68, in _cached_call\n",
      "    return getattr(estimator, method)(*args, **kwargs)\n",
      "AttributeError: 'SelectKBest' object has no attribute 'predict'\n",
      "\n",
      "  warnings.warn(\n"
     ]
    },
    {
     "ename": "KeyboardInterrupt",
     "evalue": "",
     "output_type": "error",
     "traceback": [
      "\u001b[1;31m---------------------------------------------------------------------------\u001b[0m",
      "\u001b[1;31mKeyboardInterrupt\u001b[0m                         Traceback (most recent call last)",
      "\u001b[1;32m<ipython-input-37-64d68b873059>\u001b[0m in \u001b[0;36m<module>\u001b[1;34m\u001b[0m\n\u001b[0;32m     10\u001b[0m                  \u001b[0mverbose\u001b[0m\u001b[1;33m=\u001b[0m\u001b[1;36m1\u001b[0m\u001b[1;33m,\u001b[0m\u001b[1;33m\u001b[0m\u001b[1;33m\u001b[0m\u001b[0m\n\u001b[0;32m     11\u001b[0m                  scoring='mutual_info_score') \n\u001b[1;32m---> 12\u001b[1;33m \u001b[0mgs_skb\u001b[0m\u001b[1;33m.\u001b[0m\u001b[0mfit\u001b[0m\u001b[1;33m(\u001b[0m\u001b[0mX\u001b[0m\u001b[1;33m,\u001b[0m \u001b[0my\u001b[0m\u001b[1;33m)\u001b[0m\u001b[1;33m\u001b[0m\u001b[1;33m\u001b[0m\u001b[0m\n\u001b[0m\u001b[0;32m     13\u001b[0m \u001b[1;33m\u001b[0m\u001b[0m\n\u001b[0;32m     14\u001b[0m \u001b[0mgs_skb\u001b[0m\u001b[1;33m.\u001b[0m\u001b[0mbest_params_\u001b[0m\u001b[1;33m\u001b[0m\u001b[1;33m\u001b[0m\u001b[0m\n",
      "\u001b[1;32m~\\anaconda3\\lib\\site-packages\\sklearn\\model_selection\\_search.py\u001b[0m in \u001b[0;36mfit\u001b[1;34m(self, X, y, groups, **fit_params)\u001b[0m\n\u001b[0;32m    889\u001b[0m                 \u001b[1;32mreturn\u001b[0m \u001b[0mresults\u001b[0m\u001b[1;33m\u001b[0m\u001b[1;33m\u001b[0m\u001b[0m\n\u001b[0;32m    890\u001b[0m \u001b[1;33m\u001b[0m\u001b[0m\n\u001b[1;32m--> 891\u001b[1;33m             \u001b[0mself\u001b[0m\u001b[1;33m.\u001b[0m\u001b[0m_run_search\u001b[0m\u001b[1;33m(\u001b[0m\u001b[0mevaluate_candidates\u001b[0m\u001b[1;33m)\u001b[0m\u001b[1;33m\u001b[0m\u001b[1;33m\u001b[0m\u001b[0m\n\u001b[0m\u001b[0;32m    892\u001b[0m \u001b[1;33m\u001b[0m\u001b[0m\n\u001b[0;32m    893\u001b[0m             \u001b[1;31m# multimetric is determined here because in the case of a callable\u001b[0m\u001b[1;33m\u001b[0m\u001b[1;33m\u001b[0m\u001b[1;33m\u001b[0m\u001b[0m\n",
      "\u001b[1;32m~\\anaconda3\\lib\\site-packages\\sklearn\\model_selection\\_search.py\u001b[0m in \u001b[0;36m_run_search\u001b[1;34m(self, evaluate_candidates)\u001b[0m\n\u001b[0;32m   1390\u001b[0m     \u001b[1;32mdef\u001b[0m \u001b[0m_run_search\u001b[0m\u001b[1;33m(\u001b[0m\u001b[0mself\u001b[0m\u001b[1;33m,\u001b[0m \u001b[0mevaluate_candidates\u001b[0m\u001b[1;33m)\u001b[0m\u001b[1;33m:\u001b[0m\u001b[1;33m\u001b[0m\u001b[1;33m\u001b[0m\u001b[0m\n\u001b[0;32m   1391\u001b[0m         \u001b[1;34m\"\"\"Search all candidates in param_grid\"\"\"\u001b[0m\u001b[1;33m\u001b[0m\u001b[1;33m\u001b[0m\u001b[0m\n\u001b[1;32m-> 1392\u001b[1;33m         \u001b[0mevaluate_candidates\u001b[0m\u001b[1;33m(\u001b[0m\u001b[0mParameterGrid\u001b[0m\u001b[1;33m(\u001b[0m\u001b[0mself\u001b[0m\u001b[1;33m.\u001b[0m\u001b[0mparam_grid\u001b[0m\u001b[1;33m)\u001b[0m\u001b[1;33m)\u001b[0m\u001b[1;33m\u001b[0m\u001b[1;33m\u001b[0m\u001b[0m\n\u001b[0m\u001b[0;32m   1393\u001b[0m \u001b[1;33m\u001b[0m\u001b[0m\n\u001b[0;32m   1394\u001b[0m \u001b[1;33m\u001b[0m\u001b[0m\n",
      "\u001b[1;32m~\\anaconda3\\lib\\site-packages\\sklearn\\model_selection\\_search.py\u001b[0m in \u001b[0;36mevaluate_candidates\u001b[1;34m(candidate_params, cv, more_results)\u001b[0m\n\u001b[0;32m    836\u001b[0m                     )\n\u001b[0;32m    837\u001b[0m \u001b[1;33m\u001b[0m\u001b[0m\n\u001b[1;32m--> 838\u001b[1;33m                 out = parallel(\n\u001b[0m\u001b[0;32m    839\u001b[0m                     delayed(_fit_and_score)(\n\u001b[0;32m    840\u001b[0m                         \u001b[0mclone\u001b[0m\u001b[1;33m(\u001b[0m\u001b[0mbase_estimator\u001b[0m\u001b[1;33m)\u001b[0m\u001b[1;33m,\u001b[0m\u001b[1;33m\u001b[0m\u001b[1;33m\u001b[0m\u001b[0m\n",
      "\u001b[1;32m~\\anaconda3\\lib\\site-packages\\joblib\\parallel.py\u001b[0m in \u001b[0;36m__call__\u001b[1;34m(self, iterable)\u001b[0m\n\u001b[0;32m   1042\u001b[0m                 \u001b[0mself\u001b[0m\u001b[1;33m.\u001b[0m\u001b[0m_iterating\u001b[0m \u001b[1;33m=\u001b[0m \u001b[0mself\u001b[0m\u001b[1;33m.\u001b[0m\u001b[0m_original_iterator\u001b[0m \u001b[1;32mis\u001b[0m \u001b[1;32mnot\u001b[0m \u001b[1;32mNone\u001b[0m\u001b[1;33m\u001b[0m\u001b[1;33m\u001b[0m\u001b[0m\n\u001b[0;32m   1043\u001b[0m \u001b[1;33m\u001b[0m\u001b[0m\n\u001b[1;32m-> 1044\u001b[1;33m             \u001b[1;32mwhile\u001b[0m \u001b[0mself\u001b[0m\u001b[1;33m.\u001b[0m\u001b[0mdispatch_one_batch\u001b[0m\u001b[1;33m(\u001b[0m\u001b[0miterator\u001b[0m\u001b[1;33m)\u001b[0m\u001b[1;33m:\u001b[0m\u001b[1;33m\u001b[0m\u001b[1;33m\u001b[0m\u001b[0m\n\u001b[0m\u001b[0;32m   1045\u001b[0m                 \u001b[1;32mpass\u001b[0m\u001b[1;33m\u001b[0m\u001b[1;33m\u001b[0m\u001b[0m\n\u001b[0;32m   1046\u001b[0m \u001b[1;33m\u001b[0m\u001b[0m\n",
      "\u001b[1;32m~\\anaconda3\\lib\\site-packages\\joblib\\parallel.py\u001b[0m in \u001b[0;36mdispatch_one_batch\u001b[1;34m(self, iterator)\u001b[0m\n\u001b[0;32m    857\u001b[0m                 \u001b[1;32mreturn\u001b[0m \u001b[1;32mFalse\u001b[0m\u001b[1;33m\u001b[0m\u001b[1;33m\u001b[0m\u001b[0m\n\u001b[0;32m    858\u001b[0m             \u001b[1;32melse\u001b[0m\u001b[1;33m:\u001b[0m\u001b[1;33m\u001b[0m\u001b[1;33m\u001b[0m\u001b[0m\n\u001b[1;32m--> 859\u001b[1;33m                 \u001b[0mself\u001b[0m\u001b[1;33m.\u001b[0m\u001b[0m_dispatch\u001b[0m\u001b[1;33m(\u001b[0m\u001b[0mtasks\u001b[0m\u001b[1;33m)\u001b[0m\u001b[1;33m\u001b[0m\u001b[1;33m\u001b[0m\u001b[0m\n\u001b[0m\u001b[0;32m    860\u001b[0m                 \u001b[1;32mreturn\u001b[0m \u001b[1;32mTrue\u001b[0m\u001b[1;33m\u001b[0m\u001b[1;33m\u001b[0m\u001b[0m\n\u001b[0;32m    861\u001b[0m \u001b[1;33m\u001b[0m\u001b[0m\n",
      "\u001b[1;32m~\\anaconda3\\lib\\site-packages\\joblib\\parallel.py\u001b[0m in \u001b[0;36m_dispatch\u001b[1;34m(self, batch)\u001b[0m\n\u001b[0;32m    775\u001b[0m         \u001b[1;32mwith\u001b[0m \u001b[0mself\u001b[0m\u001b[1;33m.\u001b[0m\u001b[0m_lock\u001b[0m\u001b[1;33m:\u001b[0m\u001b[1;33m\u001b[0m\u001b[1;33m\u001b[0m\u001b[0m\n\u001b[0;32m    776\u001b[0m             \u001b[0mjob_idx\u001b[0m \u001b[1;33m=\u001b[0m \u001b[0mlen\u001b[0m\u001b[1;33m(\u001b[0m\u001b[0mself\u001b[0m\u001b[1;33m.\u001b[0m\u001b[0m_jobs\u001b[0m\u001b[1;33m)\u001b[0m\u001b[1;33m\u001b[0m\u001b[1;33m\u001b[0m\u001b[0m\n\u001b[1;32m--> 777\u001b[1;33m             \u001b[0mjob\u001b[0m \u001b[1;33m=\u001b[0m \u001b[0mself\u001b[0m\u001b[1;33m.\u001b[0m\u001b[0m_backend\u001b[0m\u001b[1;33m.\u001b[0m\u001b[0mapply_async\u001b[0m\u001b[1;33m(\u001b[0m\u001b[0mbatch\u001b[0m\u001b[1;33m,\u001b[0m \u001b[0mcallback\u001b[0m\u001b[1;33m=\u001b[0m\u001b[0mcb\u001b[0m\u001b[1;33m)\u001b[0m\u001b[1;33m\u001b[0m\u001b[1;33m\u001b[0m\u001b[0m\n\u001b[0m\u001b[0;32m    778\u001b[0m             \u001b[1;31m# A job can complete so quickly than its callback is\u001b[0m\u001b[1;33m\u001b[0m\u001b[1;33m\u001b[0m\u001b[1;33m\u001b[0m\u001b[0m\n\u001b[0;32m    779\u001b[0m             \u001b[1;31m# called before we get here, causing self._jobs to\u001b[0m\u001b[1;33m\u001b[0m\u001b[1;33m\u001b[0m\u001b[1;33m\u001b[0m\u001b[0m\n",
      "\u001b[1;32m~\\anaconda3\\lib\\site-packages\\joblib\\_parallel_backends.py\u001b[0m in \u001b[0;36mapply_async\u001b[1;34m(self, func, callback)\u001b[0m\n\u001b[0;32m    206\u001b[0m     \u001b[1;32mdef\u001b[0m \u001b[0mapply_async\u001b[0m\u001b[1;33m(\u001b[0m\u001b[0mself\u001b[0m\u001b[1;33m,\u001b[0m \u001b[0mfunc\u001b[0m\u001b[1;33m,\u001b[0m \u001b[0mcallback\u001b[0m\u001b[1;33m=\u001b[0m\u001b[1;32mNone\u001b[0m\u001b[1;33m)\u001b[0m\u001b[1;33m:\u001b[0m\u001b[1;33m\u001b[0m\u001b[1;33m\u001b[0m\u001b[0m\n\u001b[0;32m    207\u001b[0m         \u001b[1;34m\"\"\"Schedule a func to be run\"\"\"\u001b[0m\u001b[1;33m\u001b[0m\u001b[1;33m\u001b[0m\u001b[0m\n\u001b[1;32m--> 208\u001b[1;33m         \u001b[0mresult\u001b[0m \u001b[1;33m=\u001b[0m \u001b[0mImmediateResult\u001b[0m\u001b[1;33m(\u001b[0m\u001b[0mfunc\u001b[0m\u001b[1;33m)\u001b[0m\u001b[1;33m\u001b[0m\u001b[1;33m\u001b[0m\u001b[0m\n\u001b[0m\u001b[0;32m    209\u001b[0m         \u001b[1;32mif\u001b[0m \u001b[0mcallback\u001b[0m\u001b[1;33m:\u001b[0m\u001b[1;33m\u001b[0m\u001b[1;33m\u001b[0m\u001b[0m\n\u001b[0;32m    210\u001b[0m             \u001b[0mcallback\u001b[0m\u001b[1;33m(\u001b[0m\u001b[0mresult\u001b[0m\u001b[1;33m)\u001b[0m\u001b[1;33m\u001b[0m\u001b[1;33m\u001b[0m\u001b[0m\n",
      "\u001b[1;32m~\\anaconda3\\lib\\site-packages\\joblib\\_parallel_backends.py\u001b[0m in \u001b[0;36m__init__\u001b[1;34m(self, batch)\u001b[0m\n\u001b[0;32m    570\u001b[0m         \u001b[1;31m# Don't delay the application, to avoid keeping the input\u001b[0m\u001b[1;33m\u001b[0m\u001b[1;33m\u001b[0m\u001b[1;33m\u001b[0m\u001b[0m\n\u001b[0;32m    571\u001b[0m         \u001b[1;31m# arguments in memory\u001b[0m\u001b[1;33m\u001b[0m\u001b[1;33m\u001b[0m\u001b[1;33m\u001b[0m\u001b[0m\n\u001b[1;32m--> 572\u001b[1;33m         \u001b[0mself\u001b[0m\u001b[1;33m.\u001b[0m\u001b[0mresults\u001b[0m \u001b[1;33m=\u001b[0m \u001b[0mbatch\u001b[0m\u001b[1;33m(\u001b[0m\u001b[1;33m)\u001b[0m\u001b[1;33m\u001b[0m\u001b[1;33m\u001b[0m\u001b[0m\n\u001b[0m\u001b[0;32m    573\u001b[0m \u001b[1;33m\u001b[0m\u001b[0m\n\u001b[0;32m    574\u001b[0m     \u001b[1;32mdef\u001b[0m \u001b[0mget\u001b[0m\u001b[1;33m(\u001b[0m\u001b[0mself\u001b[0m\u001b[1;33m)\u001b[0m\u001b[1;33m:\u001b[0m\u001b[1;33m\u001b[0m\u001b[1;33m\u001b[0m\u001b[0m\n",
      "\u001b[1;32m~\\anaconda3\\lib\\site-packages\\joblib\\parallel.py\u001b[0m in \u001b[0;36m__call__\u001b[1;34m(self)\u001b[0m\n\u001b[0;32m    260\u001b[0m         \u001b[1;31m# change the default number of processes to -1\u001b[0m\u001b[1;33m\u001b[0m\u001b[1;33m\u001b[0m\u001b[1;33m\u001b[0m\u001b[0m\n\u001b[0;32m    261\u001b[0m         \u001b[1;32mwith\u001b[0m \u001b[0mparallel_backend\u001b[0m\u001b[1;33m(\u001b[0m\u001b[0mself\u001b[0m\u001b[1;33m.\u001b[0m\u001b[0m_backend\u001b[0m\u001b[1;33m,\u001b[0m \u001b[0mn_jobs\u001b[0m\u001b[1;33m=\u001b[0m\u001b[0mself\u001b[0m\u001b[1;33m.\u001b[0m\u001b[0m_n_jobs\u001b[0m\u001b[1;33m)\u001b[0m\u001b[1;33m:\u001b[0m\u001b[1;33m\u001b[0m\u001b[1;33m\u001b[0m\u001b[0m\n\u001b[1;32m--> 262\u001b[1;33m             return [func(*args, **kwargs)\n\u001b[0m\u001b[0;32m    263\u001b[0m                     for func, args, kwargs in self.items]\n\u001b[0;32m    264\u001b[0m \u001b[1;33m\u001b[0m\u001b[0m\n",
      "\u001b[1;32m~\\anaconda3\\lib\\site-packages\\joblib\\parallel.py\u001b[0m in \u001b[0;36m<listcomp>\u001b[1;34m(.0)\u001b[0m\n\u001b[0;32m    260\u001b[0m         \u001b[1;31m# change the default number of processes to -1\u001b[0m\u001b[1;33m\u001b[0m\u001b[1;33m\u001b[0m\u001b[1;33m\u001b[0m\u001b[0m\n\u001b[0;32m    261\u001b[0m         \u001b[1;32mwith\u001b[0m \u001b[0mparallel_backend\u001b[0m\u001b[1;33m(\u001b[0m\u001b[0mself\u001b[0m\u001b[1;33m.\u001b[0m\u001b[0m_backend\u001b[0m\u001b[1;33m,\u001b[0m \u001b[0mn_jobs\u001b[0m\u001b[1;33m=\u001b[0m\u001b[0mself\u001b[0m\u001b[1;33m.\u001b[0m\u001b[0m_n_jobs\u001b[0m\u001b[1;33m)\u001b[0m\u001b[1;33m:\u001b[0m\u001b[1;33m\u001b[0m\u001b[1;33m\u001b[0m\u001b[0m\n\u001b[1;32m--> 262\u001b[1;33m             return [func(*args, **kwargs)\n\u001b[0m\u001b[0;32m    263\u001b[0m                     for func, args, kwargs in self.items]\n\u001b[0;32m    264\u001b[0m \u001b[1;33m\u001b[0m\u001b[0m\n",
      "\u001b[1;32m~\\anaconda3\\lib\\site-packages\\sklearn\\utils\\fixes.py\u001b[0m in \u001b[0;36m__call__\u001b[1;34m(self, *args, **kwargs)\u001b[0m\n\u001b[0;32m    214\u001b[0m     \u001b[1;32mdef\u001b[0m \u001b[0m__call__\u001b[0m\u001b[1;33m(\u001b[0m\u001b[0mself\u001b[0m\u001b[1;33m,\u001b[0m \u001b[1;33m*\u001b[0m\u001b[0margs\u001b[0m\u001b[1;33m,\u001b[0m \u001b[1;33m**\u001b[0m\u001b[0mkwargs\u001b[0m\u001b[1;33m)\u001b[0m\u001b[1;33m:\u001b[0m\u001b[1;33m\u001b[0m\u001b[1;33m\u001b[0m\u001b[0m\n\u001b[0;32m    215\u001b[0m         \u001b[1;32mwith\u001b[0m \u001b[0mconfig_context\u001b[0m\u001b[1;33m(\u001b[0m\u001b[1;33m**\u001b[0m\u001b[0mself\u001b[0m\u001b[1;33m.\u001b[0m\u001b[0mconfig\u001b[0m\u001b[1;33m)\u001b[0m\u001b[1;33m:\u001b[0m\u001b[1;33m\u001b[0m\u001b[1;33m\u001b[0m\u001b[0m\n\u001b[1;32m--> 216\u001b[1;33m             \u001b[1;32mreturn\u001b[0m \u001b[0mself\u001b[0m\u001b[1;33m.\u001b[0m\u001b[0mfunction\u001b[0m\u001b[1;33m(\u001b[0m\u001b[1;33m*\u001b[0m\u001b[0margs\u001b[0m\u001b[1;33m,\u001b[0m \u001b[1;33m**\u001b[0m\u001b[0mkwargs\u001b[0m\u001b[1;33m)\u001b[0m\u001b[1;33m\u001b[0m\u001b[1;33m\u001b[0m\u001b[0m\n\u001b[0m\u001b[0;32m    217\u001b[0m \u001b[1;33m\u001b[0m\u001b[0m\n\u001b[0;32m    218\u001b[0m \u001b[1;33m\u001b[0m\u001b[0m\n",
      "\u001b[1;32m~\\anaconda3\\lib\\site-packages\\sklearn\\model_selection\\_validation.py\u001b[0m in \u001b[0;36m_fit_and_score\u001b[1;34m(estimator, X, y, scorer, train, test, verbose, parameters, fit_params, return_train_score, return_parameters, return_n_test_samples, return_times, return_estimator, split_progress, candidate_progress, error_score)\u001b[0m\n\u001b[0;32m    678\u001b[0m             \u001b[0mestimator\u001b[0m\u001b[1;33m.\u001b[0m\u001b[0mfit\u001b[0m\u001b[1;33m(\u001b[0m\u001b[0mX_train\u001b[0m\u001b[1;33m,\u001b[0m \u001b[1;33m**\u001b[0m\u001b[0mfit_params\u001b[0m\u001b[1;33m)\u001b[0m\u001b[1;33m\u001b[0m\u001b[1;33m\u001b[0m\u001b[0m\n\u001b[0;32m    679\u001b[0m         \u001b[1;32melse\u001b[0m\u001b[1;33m:\u001b[0m\u001b[1;33m\u001b[0m\u001b[1;33m\u001b[0m\u001b[0m\n\u001b[1;32m--> 680\u001b[1;33m             \u001b[0mestimator\u001b[0m\u001b[1;33m.\u001b[0m\u001b[0mfit\u001b[0m\u001b[1;33m(\u001b[0m\u001b[0mX_train\u001b[0m\u001b[1;33m,\u001b[0m \u001b[0my_train\u001b[0m\u001b[1;33m,\u001b[0m \u001b[1;33m**\u001b[0m\u001b[0mfit_params\u001b[0m\u001b[1;33m)\u001b[0m\u001b[1;33m\u001b[0m\u001b[1;33m\u001b[0m\u001b[0m\n\u001b[0m\u001b[0;32m    681\u001b[0m \u001b[1;33m\u001b[0m\u001b[0m\n\u001b[0;32m    682\u001b[0m     \u001b[1;32mexcept\u001b[0m \u001b[0mException\u001b[0m\u001b[1;33m:\u001b[0m\u001b[1;33m\u001b[0m\u001b[1;33m\u001b[0m\u001b[0m\n",
      "\u001b[1;32m~\\anaconda3\\lib\\site-packages\\sklearn\\feature_selection\\_univariate_selection.py\u001b[0m in \u001b[0;36mfit\u001b[1;34m(self, X, y)\u001b[0m\n\u001b[0;32m    406\u001b[0m \u001b[1;33m\u001b[0m\u001b[0m\n\u001b[0;32m    407\u001b[0m         \u001b[0mself\u001b[0m\u001b[1;33m.\u001b[0m\u001b[0m_check_params\u001b[0m\u001b[1;33m(\u001b[0m\u001b[0mX\u001b[0m\u001b[1;33m,\u001b[0m \u001b[0my\u001b[0m\u001b[1;33m)\u001b[0m\u001b[1;33m\u001b[0m\u001b[1;33m\u001b[0m\u001b[0m\n\u001b[1;32m--> 408\u001b[1;33m         \u001b[0mscore_func_ret\u001b[0m \u001b[1;33m=\u001b[0m \u001b[0mself\u001b[0m\u001b[1;33m.\u001b[0m\u001b[0mscore_func\u001b[0m\u001b[1;33m(\u001b[0m\u001b[0mX\u001b[0m\u001b[1;33m,\u001b[0m \u001b[0my\u001b[0m\u001b[1;33m)\u001b[0m\u001b[1;33m\u001b[0m\u001b[1;33m\u001b[0m\u001b[0m\n\u001b[0m\u001b[0;32m    409\u001b[0m         \u001b[1;32mif\u001b[0m \u001b[0misinstance\u001b[0m\u001b[1;33m(\u001b[0m\u001b[0mscore_func_ret\u001b[0m\u001b[1;33m,\u001b[0m \u001b[1;33m(\u001b[0m\u001b[0mlist\u001b[0m\u001b[1;33m,\u001b[0m \u001b[0mtuple\u001b[0m\u001b[1;33m)\u001b[0m\u001b[1;33m)\u001b[0m\u001b[1;33m:\u001b[0m\u001b[1;33m\u001b[0m\u001b[1;33m\u001b[0m\u001b[0m\n\u001b[0;32m    410\u001b[0m             \u001b[0mself\u001b[0m\u001b[1;33m.\u001b[0m\u001b[0mscores_\u001b[0m\u001b[1;33m,\u001b[0m \u001b[0mself\u001b[0m\u001b[1;33m.\u001b[0m\u001b[0mpvalues_\u001b[0m \u001b[1;33m=\u001b[0m \u001b[0mscore_func_ret\u001b[0m\u001b[1;33m\u001b[0m\u001b[1;33m\u001b[0m\u001b[0m\n",
      "\u001b[1;32m~\\anaconda3\\lib\\site-packages\\sklearn\\feature_selection\\_univariate_selection.py\u001b[0m in \u001b[0;36mf_classif\u001b[1;34m(X, y)\u001b[0m\n\u001b[0;32m    146\u001b[0m     \u001b[0mX\u001b[0m\u001b[1;33m,\u001b[0m \u001b[0my\u001b[0m \u001b[1;33m=\u001b[0m \u001b[0mcheck_X_y\u001b[0m\u001b[1;33m(\u001b[0m\u001b[0mX\u001b[0m\u001b[1;33m,\u001b[0m \u001b[0my\u001b[0m\u001b[1;33m,\u001b[0m \u001b[0maccept_sparse\u001b[0m\u001b[1;33m=\u001b[0m\u001b[1;33m[\u001b[0m\u001b[1;34m\"csr\"\u001b[0m\u001b[1;33m,\u001b[0m \u001b[1;34m\"csc\"\u001b[0m\u001b[1;33m,\u001b[0m \u001b[1;34m\"coo\"\u001b[0m\u001b[1;33m]\u001b[0m\u001b[1;33m)\u001b[0m\u001b[1;33m\u001b[0m\u001b[1;33m\u001b[0m\u001b[0m\n\u001b[0;32m    147\u001b[0m     \u001b[0margs\u001b[0m \u001b[1;33m=\u001b[0m \u001b[1;33m[\u001b[0m\u001b[0mX\u001b[0m\u001b[1;33m[\u001b[0m\u001b[0msafe_mask\u001b[0m\u001b[1;33m(\u001b[0m\u001b[0mX\u001b[0m\u001b[1;33m,\u001b[0m \u001b[0my\u001b[0m \u001b[1;33m==\u001b[0m \u001b[0mk\u001b[0m\u001b[1;33m)\u001b[0m\u001b[1;33m]\u001b[0m \u001b[1;32mfor\u001b[0m \u001b[0mk\u001b[0m \u001b[1;32min\u001b[0m \u001b[0mnp\u001b[0m\u001b[1;33m.\u001b[0m\u001b[0munique\u001b[0m\u001b[1;33m(\u001b[0m\u001b[0my\u001b[0m\u001b[1;33m)\u001b[0m\u001b[1;33m]\u001b[0m\u001b[1;33m\u001b[0m\u001b[1;33m\u001b[0m\u001b[0m\n\u001b[1;32m--> 148\u001b[1;33m     \u001b[1;32mreturn\u001b[0m \u001b[0mf_oneway\u001b[0m\u001b[1;33m(\u001b[0m\u001b[1;33m*\u001b[0m\u001b[0margs\u001b[0m\u001b[1;33m)\u001b[0m\u001b[1;33m\u001b[0m\u001b[1;33m\u001b[0m\u001b[0m\n\u001b[0m\u001b[0;32m    149\u001b[0m \u001b[1;33m\u001b[0m\u001b[0m\n\u001b[0;32m    150\u001b[0m \u001b[1;33m\u001b[0m\u001b[0m\n",
      "\u001b[1;32m~\\anaconda3\\lib\\site-packages\\sklearn\\feature_selection\\_univariate_selection.py\u001b[0m in \u001b[0;36mf_oneway\u001b[1;34m(*args)\u001b[0m\n\u001b[0;32m     94\u001b[0m     \u001b[0mn_samples_per_class\u001b[0m \u001b[1;33m=\u001b[0m \u001b[0mnp\u001b[0m\u001b[1;33m.\u001b[0m\u001b[0marray\u001b[0m\u001b[1;33m(\u001b[0m\u001b[1;33m[\u001b[0m\u001b[0ma\u001b[0m\u001b[1;33m.\u001b[0m\u001b[0mshape\u001b[0m\u001b[1;33m[\u001b[0m\u001b[1;36m0\u001b[0m\u001b[1;33m]\u001b[0m \u001b[1;32mfor\u001b[0m \u001b[0ma\u001b[0m \u001b[1;32min\u001b[0m \u001b[0margs\u001b[0m\u001b[1;33m]\u001b[0m\u001b[1;33m)\u001b[0m\u001b[1;33m\u001b[0m\u001b[1;33m\u001b[0m\u001b[0m\n\u001b[0;32m     95\u001b[0m     \u001b[0mn_samples\u001b[0m \u001b[1;33m=\u001b[0m \u001b[0mnp\u001b[0m\u001b[1;33m.\u001b[0m\u001b[0msum\u001b[0m\u001b[1;33m(\u001b[0m\u001b[0mn_samples_per_class\u001b[0m\u001b[1;33m)\u001b[0m\u001b[1;33m\u001b[0m\u001b[1;33m\u001b[0m\u001b[0m\n\u001b[1;32m---> 96\u001b[1;33m     \u001b[0mss_alldata\u001b[0m \u001b[1;33m=\u001b[0m \u001b[0msum\u001b[0m\u001b[1;33m(\u001b[0m\u001b[0msafe_sqr\u001b[0m\u001b[1;33m(\u001b[0m\u001b[0ma\u001b[0m\u001b[1;33m)\u001b[0m\u001b[1;33m.\u001b[0m\u001b[0msum\u001b[0m\u001b[1;33m(\u001b[0m\u001b[0maxis\u001b[0m\u001b[1;33m=\u001b[0m\u001b[1;36m0\u001b[0m\u001b[1;33m)\u001b[0m \u001b[1;32mfor\u001b[0m \u001b[0ma\u001b[0m \u001b[1;32min\u001b[0m \u001b[0margs\u001b[0m\u001b[1;33m)\u001b[0m\u001b[1;33m\u001b[0m\u001b[1;33m\u001b[0m\u001b[0m\n\u001b[0m\u001b[0;32m     97\u001b[0m     \u001b[0msums_args\u001b[0m \u001b[1;33m=\u001b[0m \u001b[1;33m[\u001b[0m\u001b[0mnp\u001b[0m\u001b[1;33m.\u001b[0m\u001b[0masarray\u001b[0m\u001b[1;33m(\u001b[0m\u001b[0ma\u001b[0m\u001b[1;33m.\u001b[0m\u001b[0msum\u001b[0m\u001b[1;33m(\u001b[0m\u001b[0maxis\u001b[0m\u001b[1;33m=\u001b[0m\u001b[1;36m0\u001b[0m\u001b[1;33m)\u001b[0m\u001b[1;33m)\u001b[0m \u001b[1;32mfor\u001b[0m \u001b[0ma\u001b[0m \u001b[1;32min\u001b[0m \u001b[0margs\u001b[0m\u001b[1;33m]\u001b[0m\u001b[1;33m\u001b[0m\u001b[1;33m\u001b[0m\u001b[0m\n\u001b[0;32m     98\u001b[0m     \u001b[0msquare_of_sums_alldata\u001b[0m \u001b[1;33m=\u001b[0m \u001b[0msum\u001b[0m\u001b[1;33m(\u001b[0m\u001b[0msums_args\u001b[0m\u001b[1;33m)\u001b[0m \u001b[1;33m**\u001b[0m \u001b[1;36m2\u001b[0m\u001b[1;33m\u001b[0m\u001b[1;33m\u001b[0m\u001b[0m\n",
      "\u001b[1;32m~\\anaconda3\\lib\\site-packages\\sklearn\\feature_selection\\_univariate_selection.py\u001b[0m in \u001b[0;36m<genexpr>\u001b[1;34m(.0)\u001b[0m\n\u001b[0;32m     94\u001b[0m     \u001b[0mn_samples_per_class\u001b[0m \u001b[1;33m=\u001b[0m \u001b[0mnp\u001b[0m\u001b[1;33m.\u001b[0m\u001b[0marray\u001b[0m\u001b[1;33m(\u001b[0m\u001b[1;33m[\u001b[0m\u001b[0ma\u001b[0m\u001b[1;33m.\u001b[0m\u001b[0mshape\u001b[0m\u001b[1;33m[\u001b[0m\u001b[1;36m0\u001b[0m\u001b[1;33m]\u001b[0m \u001b[1;32mfor\u001b[0m \u001b[0ma\u001b[0m \u001b[1;32min\u001b[0m \u001b[0margs\u001b[0m\u001b[1;33m]\u001b[0m\u001b[1;33m)\u001b[0m\u001b[1;33m\u001b[0m\u001b[1;33m\u001b[0m\u001b[0m\n\u001b[0;32m     95\u001b[0m     \u001b[0mn_samples\u001b[0m \u001b[1;33m=\u001b[0m \u001b[0mnp\u001b[0m\u001b[1;33m.\u001b[0m\u001b[0msum\u001b[0m\u001b[1;33m(\u001b[0m\u001b[0mn_samples_per_class\u001b[0m\u001b[1;33m)\u001b[0m\u001b[1;33m\u001b[0m\u001b[1;33m\u001b[0m\u001b[0m\n\u001b[1;32m---> 96\u001b[1;33m     \u001b[0mss_alldata\u001b[0m \u001b[1;33m=\u001b[0m \u001b[0msum\u001b[0m\u001b[1;33m(\u001b[0m\u001b[0msafe_sqr\u001b[0m\u001b[1;33m(\u001b[0m\u001b[0ma\u001b[0m\u001b[1;33m)\u001b[0m\u001b[1;33m.\u001b[0m\u001b[0msum\u001b[0m\u001b[1;33m(\u001b[0m\u001b[0maxis\u001b[0m\u001b[1;33m=\u001b[0m\u001b[1;36m0\u001b[0m\u001b[1;33m)\u001b[0m \u001b[1;32mfor\u001b[0m \u001b[0ma\u001b[0m \u001b[1;32min\u001b[0m \u001b[0margs\u001b[0m\u001b[1;33m)\u001b[0m\u001b[1;33m\u001b[0m\u001b[1;33m\u001b[0m\u001b[0m\n\u001b[0m\u001b[0;32m     97\u001b[0m     \u001b[0msums_args\u001b[0m \u001b[1;33m=\u001b[0m \u001b[1;33m[\u001b[0m\u001b[0mnp\u001b[0m\u001b[1;33m.\u001b[0m\u001b[0masarray\u001b[0m\u001b[1;33m(\u001b[0m\u001b[0ma\u001b[0m\u001b[1;33m.\u001b[0m\u001b[0msum\u001b[0m\u001b[1;33m(\u001b[0m\u001b[0maxis\u001b[0m\u001b[1;33m=\u001b[0m\u001b[1;36m0\u001b[0m\u001b[1;33m)\u001b[0m\u001b[1;33m)\u001b[0m \u001b[1;32mfor\u001b[0m \u001b[0ma\u001b[0m \u001b[1;32min\u001b[0m \u001b[0margs\u001b[0m\u001b[1;33m]\u001b[0m\u001b[1;33m\u001b[0m\u001b[1;33m\u001b[0m\u001b[0m\n\u001b[0;32m     98\u001b[0m     \u001b[0msquare_of_sums_alldata\u001b[0m \u001b[1;33m=\u001b[0m \u001b[0msum\u001b[0m\u001b[1;33m(\u001b[0m\u001b[0msums_args\u001b[0m\u001b[1;33m)\u001b[0m \u001b[1;33m**\u001b[0m \u001b[1;36m2\u001b[0m\u001b[1;33m\u001b[0m\u001b[1;33m\u001b[0m\u001b[0m\n",
      "\u001b[1;32m~\\anaconda3\\lib\\site-packages\\sklearn\\utils\\__init__.py\u001b[0m in \u001b[0;36msafe_sqr\u001b[1;34m(X, copy)\u001b[0m\n\u001b[0;32m    693\u001b[0m     \u001b[1;32melse\u001b[0m\u001b[1;33m:\u001b[0m\u001b[1;33m\u001b[0m\u001b[1;33m\u001b[0m\u001b[0m\n\u001b[0;32m    694\u001b[0m         \u001b[1;32mif\u001b[0m \u001b[0mcopy\u001b[0m\u001b[1;33m:\u001b[0m\u001b[1;33m\u001b[0m\u001b[1;33m\u001b[0m\u001b[0m\n\u001b[1;32m--> 695\u001b[1;33m             \u001b[0mX\u001b[0m \u001b[1;33m=\u001b[0m \u001b[0mX\u001b[0m \u001b[1;33m**\u001b[0m \u001b[1;36m2\u001b[0m\u001b[1;33m\u001b[0m\u001b[1;33m\u001b[0m\u001b[0m\n\u001b[0m\u001b[0;32m    696\u001b[0m         \u001b[1;32melse\u001b[0m\u001b[1;33m:\u001b[0m\u001b[1;33m\u001b[0m\u001b[1;33m\u001b[0m\u001b[0m\n\u001b[0;32m    697\u001b[0m             \u001b[0mX\u001b[0m \u001b[1;33m**=\u001b[0m \u001b[1;36m2\u001b[0m\u001b[1;33m\u001b[0m\u001b[1;33m\u001b[0m\u001b[0m\n",
      "\u001b[1;31mKeyboardInterrupt\u001b[0m: "
     ]
    }
   ],
   "source": [
    "from sklearn.feature_selection import chi2, SelectKBest\n",
    "from sklearn.model_selection import GridSearchCV\n",
    "\n",
    "X=X_scaled\n",
    "y=df_train['sentiment']\n",
    "\n",
    "params_skb = {'k':[1,100,500,1000,5000,8000,10000,13000,15000]}\n",
    "gs_skb = GridSearchCV(estimator=SelectKBest(), \n",
    "                 param_grid=params_skb,    \n",
    "                 verbose=1, \n",
    "                 scoring='mutual_info_score') \n",
    "gs_skb.fit(X, y)\n",
    "\n",
    "gs_skb.best_params_"
   ]
  },
  {
   "cell_type": "code",
   "execution_count": 44,
   "id": "c13dd352",
   "metadata": {},
   "outputs": [
    {
     "data": {
      "text/plain": [
       "['accuracy',\n",
       " 'adjusted_mutual_info_score',\n",
       " 'adjusted_rand_score',\n",
       " 'average_precision',\n",
       " 'balanced_accuracy',\n",
       " 'completeness_score',\n",
       " 'explained_variance',\n",
       " 'f1',\n",
       " 'f1_macro',\n",
       " 'f1_micro',\n",
       " 'f1_samples',\n",
       " 'f1_weighted',\n",
       " 'fowlkes_mallows_score',\n",
       " 'homogeneity_score',\n",
       " 'jaccard',\n",
       " 'jaccard_macro',\n",
       " 'jaccard_micro',\n",
       " 'jaccard_samples',\n",
       " 'jaccard_weighted',\n",
       " 'max_error',\n",
       " 'mutual_info_score',\n",
       " 'neg_brier_score',\n",
       " 'neg_log_loss',\n",
       " 'neg_mean_absolute_error',\n",
       " 'neg_mean_absolute_percentage_error',\n",
       " 'neg_mean_gamma_deviance',\n",
       " 'neg_mean_poisson_deviance',\n",
       " 'neg_mean_squared_error',\n",
       " 'neg_mean_squared_log_error',\n",
       " 'neg_median_absolute_error',\n",
       " 'neg_root_mean_squared_error',\n",
       " 'normalized_mutual_info_score',\n",
       " 'precision',\n",
       " 'precision_macro',\n",
       " 'precision_micro',\n",
       " 'precision_samples',\n",
       " 'precision_weighted',\n",
       " 'r2',\n",
       " 'rand_score',\n",
       " 'recall',\n",
       " 'recall_macro',\n",
       " 'recall_micro',\n",
       " 'recall_samples',\n",
       " 'recall_weighted',\n",
       " 'roc_auc',\n",
       " 'roc_auc_ovo',\n",
       " 'roc_auc_ovo_weighted',\n",
       " 'roc_auc_ovr',\n",
       " 'roc_auc_ovr_weighted',\n",
       " 'top_k_accuracy',\n",
       " 'v_measure_score']"
      ]
     },
     "execution_count": 44,
     "metadata": {},
     "output_type": "execute_result"
    }
   ],
   "source": [
    "from sklearn.metrics import SCORERS\n",
    "\n",
    "sorted(SCORERS.keys())"
   ]
  },
  {
   "cell_type": "markdown",
   "id": "9c083960",
   "metadata": {},
   "source": [
    "### 4.7 Balancing the classes"
   ]
  },
  {
   "cell_type": "code",
   "execution_count": 39,
   "id": "7db957d1",
   "metadata": {},
   "outputs": [
    {
     "name": "stdout",
     "output_type": "stream",
     "text": [
      "Class=1, n=7635 (48.265%)\n",
      "Class=-1, n=1170 (7.396%)\n",
      "Class=0, n=2129 (13.458%)\n",
      "Class=2, n=3303 (20.880%)\n"
     ]
    },
    {
     "data": {
      "image/png": "[encoded data removed]",
      "text/plain": [
       "<Figure size 432x288 with 1 Axes>"
      ]
     },
     "metadata": {},
     "output_type": "display_data"
    }
   ],
   "source": [
    "from collections import Counter\n",
    "from sklearn.preprocessing import LabelEncoder\n",
    "\n",
    "# split into input and output elements\n",
    "X=X_scaled\n",
    "y=df_train['sentiment']\n",
    "\n",
    "# import train/test split module\n",
    "from sklearn.model_selection import train_test_split\n",
    "\n",
    "# Get training and testing data \n",
    "X_train, X_test, y_train, y_test = train_test_split(X, y, test_size=0.1, random_state=42)\n",
    "\n",
    "# summarize distribution\n",
    "counter = Counter(y_train)\n",
    "for k,v in counter.items():\n",
    "    per = v / len(y) * 100\n",
    "    print('Class=%d, n=%d (%.3f%%)' % (k, v, per))\n",
    "# plot the distribution\n",
    "plt.bar(counter.keys(), counter.values())\n",
    "plt.show()"
   ]
  },
  {
   "cell_type": "code",
   "execution_count": 50,
   "id": "eadac560",
   "metadata": {},
   "outputs": [
    {
     "name": "stdout",
     "output_type": "stream",
     "text": [
      "Class=1, n=7635 (48.265%)\n",
      "Class=-1, n=7635 (48.265%)\n",
      "Class=0, n=7635 (48.265%)\n",
      "Class=2, n=7635 (48.265%)\n"
     ]
    },
    {
     "data": {
      "image/png": "[encoded data removed]",
      "text/plain": [
       "<Figure size 432x288 with 1 Axes>"
      ]
     },
     "metadata": {},
     "output_type": "display_data"
    }
   ],
   "source": [
    "from imblearn.over_sampling import SMOTE\n",
    "from collections import Counter\n",
    "\n",
    "# transform the dataset\n",
    "oversample = SMOTE()\n",
    "\n",
    "X_train, y_train = oversample.fit_resample(X_train, y_train)\n",
    "# summarize distribution\n",
    "counter = Counter(y_train)\n",
    "for k,v in counter.items():\n",
    "    per = v / len(y) * 100\n",
    "    print('Class=%d, n=%d (%.3f%%)' % (k, v, per))\n",
    "# plot the distribution\n",
    "plt.bar(counter.keys(), counter.values())\n",
    "plt.show()"
   ]
  },
  {
   "cell_type": "markdown",
   "id": "efcd4c85",
   "metadata": {},
   "source": [
    "### 4.7 Preparing the test dataset"
   ]
  },
  {
   "cell_type": "code",
   "execution_count": 42,
   "id": "5e32cb2b",
   "metadata": {},
   "outputs": [],
   "source": [
    "df_test = pd.read_csv('test_with_no_labels.csv')\n",
    "#df_test.info()"
   ]
  },
  {
   "cell_type": "code",
   "execution_count": 43,
   "id": "55b62499",
   "metadata": {},
   "outputs": [
    {
     "data": {
      "text/html": [
       "<div>\n",
       "<style scoped>\n",
       "    .dataframe tbody tr th:only-of-type {\n",
       "        vertical-align: middle;\n",
       "    }\n",
       "\n",
       "    .dataframe tbody tr th {\n",
       "        vertical-align: top;\n",
       "    }\n",
       "\n",
       "    .dataframe thead th {\n",
       "        text-align: right;\n",
       "    }\n",
       "</style>\n",
       "<table border=\"1\" class=\"dataframe\">\n",
       "  <thead>\n",
       "    <tr style=\"text-align: right;\">\n",
       "      <th></th>\n",
       "      <th>message</th>\n",
       "      <th>tweetid</th>\n",
       "      <th>clean_message</th>\n",
       "    </tr>\n",
       "  </thead>\n",
       "  <tbody>\n",
       "    <tr>\n",
       "      <th>0</th>\n",
       "      <td>europe will now be looking to china to make sure that it is not alone in fighting climate change… url-web</td>\n",
       "      <td>169760</td>\n",
       "      <td>europe looking china make sure alone fighting climate change urlweb</td>\n",
       "    </tr>\n",
       "    <tr>\n",
       "      <th>1</th>\n",
       "      <td>combine this with the polling of staffers re climate change and womens' rights and you have a fascist state. url-web</td>\n",
       "      <td>35326</td>\n",
       "      <td>combine polling staffer climate change woman right fascist state urlweb</td>\n",
       "    </tr>\n",
       "    <tr>\n",
       "      <th>2</th>\n",
       "      <td>the scary, unimpeachable evidence that climate change is already here: url-web #itstimetochange #climatechange @zeroco2_;..</td>\n",
       "      <td>224985</td>\n",
       "      <td>scary unimpeachable evidence climate change already urlweb itstimetochange climatechange</td>\n",
       "    </tr>\n",
       "    <tr>\n",
       "      <th>3</th>\n",
       "      <td>@karoli @morgfair @osborneink @dailykos \\nputin got to you too jill ! \\ntrump doesn't believe in climate change at all \\nthinks it's s hoax</td>\n",
       "      <td>476263</td>\n",
       "      <td>putin got jill trump doesnt believe climate change think hoax</td>\n",
       "    </tr>\n",
       "    <tr>\n",
       "      <th>4</th>\n",
       "      <td>rt @fakewillmoore: 'female orgasms cause global warming!'\\n-sarcastic republican</td>\n",
       "      <td>872928</td>\n",
       "      <td>female orgasm cause global warmingsarcastic republican</td>\n",
       "    </tr>\n",
       "  </tbody>\n",
       "</table>\n",
       "</div>"
      ],
      "text/plain": [
       "                                                                                                                                       message  \\\n",
       "0                                    europe will now be looking to china to make sure that it is not alone in fighting climate change… url-web   \n",
       "1                         combine this with the polling of staffers re climate change and womens' rights and you have a fascist state. url-web   \n",
       "2                  the scary, unimpeachable evidence that climate change is already here: url-web #itstimetochange #climatechange @zeroco2_;..   \n",
       "3  @karoli @morgfair @osborneink @dailykos \\nputin got to you too jill ! \\ntrump doesn't believe in climate change at all \\nthinks it's s hoax   \n",
       "4                                                             rt @fakewillmoore: 'female orgasms cause global warming!'\\n-sarcastic republican   \n",
       "\n",
       "   tweetid  \\\n",
       "0   169760   \n",
       "1    35326   \n",
       "2   224985   \n",
       "3   476263   \n",
       "4   872928   \n",
       "\n",
       "                                                                              clean_message  \n",
       "0                       europe looking china make sure alone fighting climate change urlweb  \n",
       "1                   combine polling staffer climate change woman right fascist state urlweb  \n",
       "2  scary unimpeachable evidence climate change already urlweb itstimetochange climatechange  \n",
       "3                             putin got jill trump doesnt believe climate change think hoax  \n",
       "4                                    female orgasm cause global warmingsarcastic republican  "
      ]
     },
     "execution_count": 43,
     "metadata": {},
     "output_type": "execute_result"
    }
   ],
   "source": [
    "#removing the web-urls\n",
    "pattern_url = r'http[s]?://(?:[A-Za-z]|[0-9]|[$-_@.&+]|[!*\\(\\),]|(?:%[0-9A-Fa-f][0-9A-Fa-f]))+'\n",
    "subs_url = r'url-web'\n",
    "df_test['message'] = df_test['message'].replace(to_replace = pattern_url, value = subs_url, regex = True)\n",
    "\n",
    "# Lowercase conversion\n",
    "df_test['message'] = df_test['message'].str.lower()\n",
    "\n",
    "#Removing punctuation and special characters\n",
    "def data_cleaning(tweet):\n",
    "    tweet = re.sub(r'@[a-z0-9]+', '', tweet) # removing mentions\n",
    "    tweet = re.sub(r'#', '', tweet) # remove #\n",
    "    tweet = re.sub(r'rt[\\s]+', '', tweet) # remove retweets(`rt`)\n",
    "    #tweet = re.sub(r'url-web', '', tweet) # remove web-urls\n",
    "    \n",
    "    return tweet\n",
    "\n",
    "df_test['clean_message'] = df_test['message'].apply(data_cleaning)\n",
    "\n",
    "# Remove special characters using NeatText\n",
    "df_test['clean_message'] = df_test['clean_message'].apply(nt.remove_special_characters)\n",
    "\n",
    "\n",
    " ### 4.4 Lemmatization\n",
    "lemmatizer = WordNetLemmatizer()\n",
    "\n",
    "def lemma(words, lemmatizer):\n",
    "    return ' '.join(([lemmatizer.lemmatize(word) for word in words.split()]))\n",
    "\n",
    "df_test['clean_message'] = df_test['clean_message'].apply(lemma, args=(lemmatizer, ))\n",
    "\n",
    "#remove stop words\n",
    "from nltk.corpus import stopwords\n",
    "stop = stopwords.words('english')\n",
    "\n",
    "df_test['clean_message']= df_test['clean_message'].apply(lambda x: ' '.join([word for word in x.split() if word not in (stop)]))\n",
    "\n",
    "df_test.head()\n",
    "\n"
   ]
  },
  {
   "cell_type": "code",
   "execution_count": 44,
   "id": "d542f24f",
   "metadata": {},
   "outputs": [
    {
     "data": {
      "text/html": [
       "<div>\n",
       "<style scoped>\n",
       "    .dataframe tbody tr th:only-of-type {\n",
       "        vertical-align: middle;\n",
       "    }\n",
       "\n",
       "    .dataframe tbody tr th {\n",
       "        vertical-align: top;\n",
       "    }\n",
       "\n",
       "    .dataframe thead th {\n",
       "        text-align: right;\n",
       "    }\n",
       "</style>\n",
       "<table border=\"1\" class=\"dataframe\">\n",
       "  <thead>\n",
       "    <tr style=\"text-align: right;\">\n",
       "      <th></th>\n",
       "      <th>tweetid</th>\n",
       "      <th>clean_message</th>\n",
       "    </tr>\n",
       "  </thead>\n",
       "  <tbody>\n",
       "    <tr>\n",
       "      <th>0</th>\n",
       "      <td>169760</td>\n",
       "      <td>europe looking china make sure alone fighting climate change urlweb</td>\n",
       "    </tr>\n",
       "    <tr>\n",
       "      <th>1</th>\n",
       "      <td>35326</td>\n",
       "      <td>combine polling staffer climate change woman right fascist state urlweb</td>\n",
       "    </tr>\n",
       "  </tbody>\n",
       "</table>\n",
       "</div>"
      ],
      "text/plain": [
       "   tweetid  \\\n",
       "0   169760   \n",
       "1    35326   \n",
       "\n",
       "                                                             clean_message  \n",
       "0      europe looking china make sure alone fighting climate change urlweb  \n",
       "1  combine polling staffer climate change woman right fascist state urlweb  "
      ]
     },
     "execution_count": 44,
     "metadata": {},
     "output_type": "execute_result"
    }
   ],
   "source": [
    "df_test = df_test.drop('message', axis=1)\n",
    "df_test.head(2)"
   ]
  },
  {
   "cell_type": "code",
   "execution_count": 45,
   "id": "7c7ad8a6",
   "metadata": {
    "scrolled": true
   },
   "outputs": [
    {
     "data": {
      "text/plain": [
       "array([[0., 0., 0., ..., 0., 0., 0.],\n",
       "       [0., 0., 0., ..., 0., 0., 0.],\n",
       "       [0., 0., 0., ..., 0., 0., 0.],\n",
       "       ...,\n",
       "       [0., 0., 0., ..., 0., 0., 0.],\n",
       "       [0., 1., 0., ..., 0., 0., 0.],\n",
       "       [0., 0., 0., ..., 0., 0., 0.]])"
      ]
     },
     "execution_count": 45,
     "metadata": {},
     "output_type": "execute_result"
    }
   ],
   "source": [
    "#Count Vectorizer\n",
    "\n",
    "betterVect_test = CountVectorizer(stop_words='english',max_features=10000)\n",
    "\n",
    "vect_fit_test=betterVect_test.fit(df_test['clean_message'])\n",
    "\n",
    "betterVect_transform_test=betterVect_test.transform(df_test['clean_message'])\n",
    "\n",
    "feat_test=betterVect_transform_test.toarray()\n",
    "\n",
    "#scaling\n",
    "feat_test = scaler.fit_transform(feat_test)\n",
    "\n",
    "feat_test"
   ]
  },
  {
   "cell_type": "markdown",
   "id": "6dee40c8",
   "metadata": {},
   "source": [
    "## 5. Modelling\n",
    "<a class=\"anchor\" id=\"1.1\"></a>\n",
    "<a href=#cont>Back to Table of Contents</a>\n",
    "\n",
    "In this section, we will create one or more classification models that are able to accurately predict our classes. \n",
    "\n",
    "These are the models that will created:\n",
    "\n"
   ]
  },
  {
   "cell_type": "code",
   "execution_count": 43,
   "id": "a0f0d1b1",
   "metadata": {},
   "outputs": [],
   "source": [
    "from sklearn.linear_model import LogisticRegression\n",
    "from sklearn.ensemble import RandomForestClassifier\n",
    "from sklearn.tree import DecisionTreeClassifier\n",
    "from sklearn.ensemble import RandomForestClassifier\n",
    "from sklearn.neighbors import KNeighborsClassifier\n",
    "from sklearn.naive_bayes import GaussianNB\n",
    "\n",
    "\n",
    "from sklearn.model_selection import cross_val_score"
   ]
  },
  {
   "cell_type": "code",
   "execution_count": 44,
   "id": "56157ad7",
   "metadata": {},
   "outputs": [],
   "source": [
    "X=X_scaled\n",
    "y=df_train['sentiment']\n",
    "\n",
    "models = [\n",
    "    LogisticRegression(max_iter=200,random_state=42),\n",
    "    RandomForestClassifier(n_estimators=100, max_depth=5, random_state=0),\n",
    "    DecisionTreeClassifier(random_state=42),\n",
    "    GaussianNB(),\n",
    "    KNeighborsClassifier()      \n",
    "]\n",
    "# Cross-validation\n",
    "CV = 5\n",
    "cv_df = pd.DataFrame(index=range(CV * len(models)))\n",
    "entries = []\n",
    "for model in models:\n",
    "    model_name = model.__class__.__name__\n",
    "    accuracies = cross_val_score(model, X, y, scoring='accuracy', cv=CV)\n",
    "    for fold_idx, accuracy in enumerate(accuracies):\n",
    "        entries.append((model_name, fold_idx, accuracy))\n",
    "    \n",
    "cv_df = pd.DataFrame(entries, columns=['model_name', 'fold_idx', 'accuracy'])"
   ]
  },
  {
   "cell_type": "code",
   "execution_count": 45,
   "id": "b221fadd",
   "metadata": {},
   "outputs": [
    {
     "data": {
      "text/html": [
       "<div>\n",
       "<style scoped>\n",
       "    .dataframe tbody tr th:only-of-type {\n",
       "        vertical-align: middle;\n",
       "    }\n",
       "\n",
       "    .dataframe tbody tr th {\n",
       "        vertical-align: top;\n",
       "    }\n",
       "\n",
       "    .dataframe thead th {\n",
       "        text-align: right;\n",
       "    }\n",
       "</style>\n",
       "<table border=\"1\" class=\"dataframe\">\n",
       "  <thead>\n",
       "    <tr style=\"text-align: right;\">\n",
       "      <th></th>\n",
       "      <th>Mean Accuracy</th>\n",
       "      <th>Standard deviation</th>\n",
       "    </tr>\n",
       "    <tr>\n",
       "      <th>model_name</th>\n",
       "      <th></th>\n",
       "      <th></th>\n",
       "    </tr>\n",
       "  </thead>\n",
       "  <tbody>\n",
       "    <tr>\n",
       "      <th>DecisionTreeClassifier</th>\n",
       "      <td>0.629749</td>\n",
       "      <td>0.006844</td>\n",
       "    </tr>\n",
       "    <tr>\n",
       "      <th>GaussianNB</th>\n",
       "      <td>0.478981</td>\n",
       "      <td>0.004443</td>\n",
       "    </tr>\n",
       "    <tr>\n",
       "      <th>KNeighborsClassifier</th>\n",
       "      <td>0.478666</td>\n",
       "      <td>0.014179</td>\n",
       "    </tr>\n",
       "    <tr>\n",
       "      <th>LogisticRegression</th>\n",
       "      <td>0.730325</td>\n",
       "      <td>0.004852</td>\n",
       "    </tr>\n",
       "    <tr>\n",
       "      <th>RandomForestClassifier</th>\n",
       "      <td>0.539225</td>\n",
       "      <td>0.000076</td>\n",
       "    </tr>\n",
       "  </tbody>\n",
       "</table>\n",
       "</div>"
      ],
      "text/plain": [
       "                        Mean Accuracy  Standard deviation\n",
       "model_name                                               \n",
       "DecisionTreeClassifier       0.629749            0.006844\n",
       "GaussianNB                   0.478981            0.004443\n",
       "KNeighborsClassifier         0.478666            0.014179\n",
       "LogisticRegression           0.730325            0.004852\n",
       "RandomForestClassifier       0.539225            0.000076"
      ]
     },
     "execution_count": 45,
     "metadata": {},
     "output_type": "execute_result"
    }
   ],
   "source": [
    "mean_accuracy = cv_df.groupby('model_name').accuracy.mean()\n",
    "std_accuracy = cv_df.groupby('model_name').accuracy.std()\n",
    "acc = pd.concat([mean_accuracy, std_accuracy], axis= 1, \n",
    "          ignore_index=True)\n",
    "acc.columns = ['Mean Accuracy', 'Standard deviation']\n",
    "acc"
   ]
  },
  {
   "cell_type": "markdown",
   "id": "5c3d8d48",
   "metadata": {},
   "source": [
    "### 5.1 Logistic regression classification"
   ]
  },
  {
   "cell_type": "code",
   "execution_count": 39,
   "id": "4a383543",
   "metadata": {},
   "outputs": [
    {
     "data": {
      "text/plain": [
       "LogisticRegression(max_iter=200, multi_class='ovr')"
      ]
     },
     "execution_count": 39,
     "metadata": {},
     "output_type": "execute_result"
    }
   ],
   "source": [
    "# import logistic regression module\n",
    "from sklearn.linear_model import LogisticRegression\n",
    "\n",
    "# create model object\n",
    "lr = LogisticRegression(multi_class='ovr',max_iter=200)\n",
    "\n",
    "# train model\n",
    "lr.fit(X_train, y_train)"
   ]
  },
  {
   "cell_type": "markdown",
   "id": "e5254430",
   "metadata": {},
   "source": [
    "#### Checking outcomes on the testing set"
   ]
  },
  {
   "cell_type": "code",
   "execution_count": 40,
   "id": "06969b6a",
   "metadata": {},
   "outputs": [],
   "source": [
    "#Generate predictions\n",
    "y_pred = lr.predict(X_test)\n",
    "\n",
    "y_pred=pd.DataFrame(y_pred)"
   ]
  },
  {
   "cell_type": "code",
   "execution_count": 41,
   "id": "5cd84388",
   "metadata": {
    "scrolled": false
   },
   "outputs": [
    {
     "name": "stdout",
     "output_type": "stream",
     "text": [
      "              precision    recall  f1-score   support\n",
      "\n",
      "          -1       0.42      0.59      0.49       126\n",
      "           0       0.46      0.52      0.49       224\n",
      "           1       0.82      0.68      0.74       895\n",
      "           2       0.65      0.80      0.72       337\n",
      "\n",
      "    accuracy                           0.68      1582\n",
      "   macro avg       0.59      0.65      0.61      1582\n",
      "weighted avg       0.70      0.68      0.68      1582\n",
      "\n"
     ]
    }
   ],
   "source": [
    "# Classification report\n",
    "from sklearn.metrics import classification_report\n",
    "print(classification_report(y_test, y_pred))\n",
    "\n",
    "import warnings\n",
    "warnings.filterwarnings('ignore')"
   ]
  },
  {
   "cell_type": "markdown",
   "id": "1771cf0f",
   "metadata": {},
   "source": [
    "#### Predictions on Test"
   ]
  },
  {
   "cell_type": "code",
   "execution_count": 46,
   "id": "7132514c",
   "metadata": {},
   "outputs": [],
   "source": [
    "preds=lr.predict(feat_test)"
   ]
  },
  {
   "cell_type": "code",
   "execution_count": 47,
   "id": "9e764b75",
   "metadata": {},
   "outputs": [
    {
     "data": {
      "text/html": [
       "<div>\n",
       "<style scoped>\n",
       "    .dataframe tbody tr th:only-of-type {\n",
       "        vertical-align: middle;\n",
       "    }\n",
       "\n",
       "    .dataframe tbody tr th {\n",
       "        vertical-align: top;\n",
       "    }\n",
       "\n",
       "    .dataframe thead th {\n",
       "        text-align: right;\n",
       "    }\n",
       "</style>\n",
       "<table border=\"1\" class=\"dataframe\">\n",
       "  <thead>\n",
       "    <tr style=\"text-align: right;\">\n",
       "      <th></th>\n",
       "      <th>sentiment</th>\n",
       "    </tr>\n",
       "  </thead>\n",
       "  <tbody>\n",
       "    <tr>\n",
       "      <th>0</th>\n",
       "      <td>0</td>\n",
       "    </tr>\n",
       "    <tr>\n",
       "      <th>1</th>\n",
       "      <td>0</td>\n",
       "    </tr>\n",
       "  </tbody>\n",
       "</table>\n",
       "</div>"
      ],
      "text/plain": [
       "   sentiment\n",
       "0          0\n",
       "1          0"
      ]
     },
     "execution_count": 47,
     "metadata": {},
     "output_type": "execute_result"
    }
   ],
   "source": [
    "daf=pd.DataFrame(preds,columns=['sentiment'])\n",
    "daf.head(2)"
   ]
  },
  {
   "cell_type": "code",
   "execution_count": 49,
   "id": "7a59a3e7",
   "metadata": {},
   "outputs": [
    {
     "data": {
      "text/html": [
       "<div>\n",
       "<style scoped>\n",
       "    .dataframe tbody tr th:only-of-type {\n",
       "        vertical-align: middle;\n",
       "    }\n",
       "\n",
       "    .dataframe tbody tr th {\n",
       "        vertical-align: top;\n",
       "    }\n",
       "\n",
       "    .dataframe thead th {\n",
       "        text-align: right;\n",
       "    }\n",
       "</style>\n",
       "<table border=\"1\" class=\"dataframe\">\n",
       "  <thead>\n",
       "    <tr style=\"text-align: right;\">\n",
       "      <th></th>\n",
       "      <th>tweetid</th>\n",
       "      <th>sentiment</th>\n",
       "    </tr>\n",
       "  </thead>\n",
       "  <tbody>\n",
       "    <tr>\n",
       "      <th>0</th>\n",
       "      <td>169760</td>\n",
       "      <td>0</td>\n",
       "    </tr>\n",
       "    <tr>\n",
       "      <th>1</th>\n",
       "      <td>35326</td>\n",
       "      <td>0</td>\n",
       "    </tr>\n",
       "    <tr>\n",
       "      <th>2</th>\n",
       "      <td>224985</td>\n",
       "      <td>0</td>\n",
       "    </tr>\n",
       "    <tr>\n",
       "      <th>3</th>\n",
       "      <td>476263</td>\n",
       "      <td>0</td>\n",
       "    </tr>\n",
       "    <tr>\n",
       "      <th>4</th>\n",
       "      <td>872928</td>\n",
       "      <td>-1</td>\n",
       "    </tr>\n",
       "    <tr>\n",
       "      <th>...</th>\n",
       "      <td>...</td>\n",
       "      <td>...</td>\n",
       "    </tr>\n",
       "    <tr>\n",
       "      <th>10541</th>\n",
       "      <td>895714</td>\n",
       "      <td>0</td>\n",
       "    </tr>\n",
       "    <tr>\n",
       "      <th>10542</th>\n",
       "      <td>875167</td>\n",
       "      <td>0</td>\n",
       "    </tr>\n",
       "    <tr>\n",
       "      <th>10543</th>\n",
       "      <td>78329</td>\n",
       "      <td>-1</td>\n",
       "    </tr>\n",
       "    <tr>\n",
       "      <th>10544</th>\n",
       "      <td>867455</td>\n",
       "      <td>0</td>\n",
       "    </tr>\n",
       "    <tr>\n",
       "      <th>10545</th>\n",
       "      <td>470892</td>\n",
       "      <td>1</td>\n",
       "    </tr>\n",
       "  </tbody>\n",
       "</table>\n",
       "<p>10546 rows × 2 columns</p>\n",
       "</div>"
      ],
      "text/plain": [
       "       tweetid  sentiment\n",
       "0       169760          0\n",
       "1        35326          0\n",
       "2       224985          0\n",
       "3       476263          0\n",
       "4       872928         -1\n",
       "...        ...        ...\n",
       "10541   895714          0\n",
       "10542   875167          0\n",
       "10543    78329         -1\n",
       "10544   867455          0\n",
       "10545   470892          1\n",
       "\n",
       "[10546 rows x 2 columns]"
      ]
     },
     "execution_count": 49,
     "metadata": {},
     "output_type": "execute_result"
    }
   ],
   "source": [
    "output=pd.DataFrame({'tweetid':df_test['tweetid']})\n",
    "submission=output.join(daf)\n",
    "#submission.to_csv('submission3.csv',index=False)\n",
    "\n",
    "submission"
   ]
  },
  {
   "cell_type": "markdown",
   "id": "270a13a9",
   "metadata": {},
   "source": [
    "### 5.2 Decision Tree"
   ]
  },
  {
   "cell_type": "code",
   "execution_count": 49,
   "id": "7ac369c1",
   "metadata": {},
   "outputs": [
    {
     "data": {
      "text/plain": [
       "RandomForestClassifier(random_state=42)"
      ]
     },
     "execution_count": 49,
     "metadata": {},
     "output_type": "execute_result"
    }
   ],
   "source": [
    "forest = RandomForestClassifier(n_estimators=100, random_state=42)\n",
    "forest.fit(X_train, y_train)"
   ]
  },
  {
   "cell_type": "code",
   "execution_count": 50,
   "id": "8a9a48fa",
   "metadata": {
    "scrolled": true
   },
   "outputs": [
    {
     "name": "stdout",
     "output_type": "stream",
     "text": [
      "              precision    recall  f1-score   support\n",
      "\n",
      "          -1       0.49      0.33      0.40       278\n",
      "           0       0.44      0.48      0.46       425\n",
      "           1       0.75      0.79      0.77      1755\n",
      "           2       0.75      0.68      0.71       706\n",
      "\n",
      "    accuracy                           0.69      3164\n",
      "   macro avg       0.61      0.57      0.59      3164\n",
      "weighted avg       0.68      0.69      0.68      3164\n",
      "\n"
     ]
    }
   ],
   "source": [
    "pred_forest_dt = forest.predict(X_test)\n",
    "pred_forest_dt=pd.DataFrame(pred_forest_dt)\n",
    "\n",
    "# Classification report\n",
    "from sklearn.metrics import classification_report\n",
    "print(classification_report(y_test, pred_forest_dt))\n",
    "\n",
    "import warnings\n",
    "warnings.filterwarnings('ignore')"
   ]
  },
  {
   "cell_type": "markdown",
   "id": "4ea79836",
   "metadata": {},
   "source": [
    "#### Logging results on comet\n"
   ]
  },
  {
   "cell_type": "code",
   "execution_count": 51,
   "id": "e93b73ec",
   "metadata": {},
   "outputs": [],
   "source": [
    "from sklearn.metrics import accuracy_score\n",
    "\n",
    "accuracy_rf=accuracy_score(y_test, pred_forest_dt)\n",
    "\n",
    "params = {\"random_state=\": 42,\n",
    "      \"model_type\": \"RandomForestClassifier\",\n",
    "      \"scaler:\": \"standard scale\"\n",
    "         }\n",
    "\n",
    "metrics = {\"Acuracy\":accuracy_rf}"
   ]
  },
  {
   "cell_type": "code",
   "execution_count": 52,
   "id": "69ccbbea",
   "metadata": {},
   "outputs": [],
   "source": [
    "experiment.log_parameters(params)\n",
    "experiment.log_metrics(metrics)"
   ]
  },
  {
   "cell_type": "markdown",
   "id": "d4f28dd8",
   "metadata": {},
   "source": [
    "#### Hyperparameter tuning"
   ]
  },
  {
   "cell_type": "code",
   "execution_count": 53,
   "id": "f4d448c8",
   "metadata": {},
   "outputs": [
    {
     "ename": "NameError",
     "evalue": "name 'GridSearchCV' is not defined",
     "output_type": "error",
     "traceback": [
      "\u001b[1;31m---------------------------------------------------------------------------\u001b[0m",
      "\u001b[1;31mNameError\u001b[0m                                 Traceback (most recent call last)",
      "\u001b[1;32m<ipython-input-53-7ceeae9aba8a>\u001b[0m in \u001b[0;36m<module>\u001b[1;34m\u001b[0m\n\u001b[0;32m      1\u001b[0m \u001b[0mparams_dt\u001b[0m \u001b[1;33m=\u001b[0m \u001b[1;33m{\u001b[0m\u001b[1;34m'criterion'\u001b[0m\u001b[1;33m:\u001b[0m\u001b[1;33m[\u001b[0m\u001b[1;34m'gini'\u001b[0m\u001b[1;33m,\u001b[0m\u001b[1;34m'entropy'\u001b[0m\u001b[1;33m]\u001b[0m\u001b[1;33m,\u001b[0m\u001b[1;34m'max_depth'\u001b[0m\u001b[1;33m:\u001b[0m\u001b[1;33m[\u001b[0m\u001b[1;36m4\u001b[0m\u001b[1;33m,\u001b[0m\u001b[1;36m5\u001b[0m\u001b[1;33m,\u001b[0m\u001b[1;36m6\u001b[0m\u001b[1;33m,\u001b[0m\u001b[1;36m7\u001b[0m\u001b[1;33m,\u001b[0m\u001b[1;36m8\u001b[0m\u001b[1;33m,\u001b[0m\u001b[1;36m9\u001b[0m\u001b[1;33m,\u001b[0m\u001b[1;36m10\u001b[0m\u001b[1;33m,\u001b[0m\u001b[1;36m11\u001b[0m\u001b[1;33m,\u001b[0m\u001b[1;36m12\u001b[0m\u001b[1;33m,\u001b[0m\u001b[1;36m15\u001b[0m\u001b[1;33m,\u001b[0m\u001b[1;36m20\u001b[0m\u001b[1;33m,\u001b[0m\u001b[1;36m30\u001b[0m\u001b[1;33m,\u001b[0m\u001b[1;36m40\u001b[0m\u001b[1;33m,\u001b[0m\u001b[1;36m50\u001b[0m\u001b[1;33m,\u001b[0m\u001b[1;36m70\u001b[0m\u001b[1;33m,\u001b[0m\u001b[1;36m90\u001b[0m\u001b[1;33m,\u001b[0m\u001b[1;36m120\u001b[0m\u001b[1;33m,\u001b[0m\u001b[1;36m150\u001b[0m\u001b[1;33m]\u001b[0m\u001b[1;33m}\u001b[0m\u001b[1;33m\u001b[0m\u001b[1;33m\u001b[0m\u001b[0m\n\u001b[1;32m----> 2\u001b[1;33m gs_nb = GridSearchCV(estimator=forest, \n\u001b[0m\u001b[0;32m      3\u001b[0m                  \u001b[0mparam_grid\u001b[0m\u001b[1;33m=\u001b[0m\u001b[0mparams_nb\u001b[0m\u001b[1;33m,\u001b[0m\u001b[1;33m\u001b[0m\u001b[1;33m\u001b[0m\u001b[0m\n\u001b[0;32m      4\u001b[0m                  \u001b[0mverbose\u001b[0m\u001b[1;33m=\u001b[0m\u001b[1;36m1\u001b[0m\u001b[1;33m,\u001b[0m\u001b[1;33m\u001b[0m\u001b[1;33m\u001b[0m\u001b[0m\n\u001b[0;32m      5\u001b[0m                  scoring='f1') \n",
      "\u001b[1;31mNameError\u001b[0m: name 'GridSearchCV' is not defined"
     ]
    }
   ],
   "source": [
    "params_dt = {'criterion':['gini','entropy'],'max_depth':[4,5,6,7,8,9,10,11,12,15,20,30,40,50,70,90,120,150]}\n",
    "gs_nb = GridSearchCV(estimator=forest, \n",
    "                 param_grid=params_nb,    \n",
    "                 verbose=1, \n",
    "                 scoring='f1') \n",
    "gs_nb.fit(X_train, y_train)\n",
    "\n",
    "gs_nb.best_params_"
   ]
  },
  {
   "cell_type": "code",
   "execution_count": null,
   "id": "8006c138",
   "metadata": {},
   "outputs": [],
   "source": []
  },
  {
   "cell_type": "code",
   "execution_count": null,
   "id": "740ae65f",
   "metadata": {},
   "outputs": [],
   "source": []
  },
  {
   "cell_type": "code",
   "execution_count": null,
   "id": "7416adc2",
   "metadata": {},
   "outputs": [],
   "source": []
  },
  {
   "cell_type": "markdown",
   "id": "38267131",
   "metadata": {},
   "source": [
    "### 5.3 Random Forests"
   ]
  },
  {
   "cell_type": "code",
   "execution_count": null,
   "id": "5131c81b",
   "metadata": {},
   "outputs": [],
   "source": []
  },
  {
   "cell_type": "code",
   "execution_count": null,
   "id": "8d2f8153",
   "metadata": {},
   "outputs": [],
   "source": []
  },
  {
   "cell_type": "code",
   "execution_count": null,
   "id": "fd2b5fde",
   "metadata": {},
   "outputs": [],
   "source": []
  },
  {
   "cell_type": "code",
   "execution_count": null,
   "id": "ca57a9c1",
   "metadata": {},
   "outputs": [],
   "source": []
  },
  {
   "cell_type": "markdown",
   "id": "7acac5b7",
   "metadata": {},
   "source": [
    "### 5.4 Naive Bayes"
   ]
  },
  {
   "cell_type": "code",
   "execution_count": 41,
   "id": "5db6d614",
   "metadata": {},
   "outputs": [
    {
     "data": {
      "text/plain": [
       "GaussianNB()"
      ]
     },
     "execution_count": 41,
     "metadata": {},
     "output_type": "execute_result"
    }
   ],
   "source": [
    "#import the model\n",
    "from sklearn.naive_bayes import GaussianNB\n",
    "\n",
    "# Define the model \n",
    "naive_bayes = GaussianNB()\n",
    "\n",
    "# Fit the model \n",
    "naive_bayes.fit(X_train, y_train)"
   ]
  },
  {
   "cell_type": "markdown",
   "id": "4150f538",
   "metadata": {},
   "source": [
    "#### Hyperparameter tuning"
   ]
  },
  {
   "cell_type": "code",
   "execution_count": 43,
   "id": "17464ca0",
   "metadata": {
    "scrolled": true
   },
   "outputs": [
    {
     "name": "stdout",
     "output_type": "stream",
     "text": [
      "Fitting 5 folds for each of 10 candidates, totalling 50 fits\n"
     ]
    },
    {
     "data": {
      "text/plain": [
       "{'var_smoothing': 1e-07}"
      ]
     },
     "execution_count": 43,
     "metadata": {},
     "output_type": "execute_result"
    }
   ],
   "source": [
    "from sklearn.model_selection import GridSearchCV\n",
    "\n",
    "params_nb = {'var_smoothing': np.logspace(0,-9, num=10)}\n",
    "gs_nb = GridSearchCV(estimator=naive_bayes, \n",
    "                 param_grid=params_nb,    \n",
    "                 verbose=1, \n",
    "                 scoring='f1_macro') \n",
    "gs_nb.fit(X_train, y_train)\n",
    "\n",
    "gs_nb.best_params_"
   ]
  },
  {
   "cell_type": "code",
   "execution_count": 46,
   "id": "b9a38343",
   "metadata": {},
   "outputs": [
    {
     "data": {
      "text/plain": [
       "0.7304055317002504"
      ]
     },
     "execution_count": 46,
     "metadata": {},
     "output_type": "execute_result"
    }
   ],
   "source": [
    "gs_nb.best_score_"
   ]
  },
  {
   "cell_type": "code",
   "execution_count": 44,
   "id": "e3990540",
   "metadata": {},
   "outputs": [
    {
     "data": {
      "text/plain": [
       "GaussianNB(var_smoothing=1e-07)"
      ]
     },
     "execution_count": 44,
     "metadata": {},
     "output_type": "execute_result"
    }
   ],
   "source": [
    "# Define the model \n",
    "naive_bayes_better = GaussianNB(var_smoothing=1e-07)\n",
    "# Fit the model \n",
    "naive_bayes_better.fit(X_train, y_train)"
   ]
  },
  {
   "cell_type": "markdown",
   "id": "1c7d80ed",
   "metadata": {},
   "source": [
    "#### Checking outcomes on the testing set\n"
   ]
  },
  {
   "cell_type": "code",
   "execution_count": null,
   "id": "51b7f3f4",
   "metadata": {},
   "outputs": [],
   "source": [
    "# Generate predictions\n",
    "y_pred_nb = naive_bayes.predict(X_test)\n",
    "\n",
    "y_pred_nb=pd.DataFrame(y_pred_nb)\n",
    "\n",
    "# Classification report\n",
    "print(classification_report(y_test, y_pred_nb))\n",
    "\n",
    "import warnings\n",
    "warnings.filterwarnings('ignore')"
   ]
  },
  {
   "cell_type": "markdown",
   "id": "298dcebf",
   "metadata": {},
   "source": [
    "#### Checking outcomes on tuned model\n"
   ]
  },
  {
   "cell_type": "code",
   "execution_count": 48,
   "id": "0af7d8e9",
   "metadata": {},
   "outputs": [
    {
     "name": "stdout",
     "output_type": "stream",
     "text": [
      "              precision    recall  f1-score   support\n",
      "\n",
      "          -1       0.16      0.44      0.24       126\n",
      "           0       0.24      0.32      0.27       224\n",
      "           1       0.72      0.44      0.55       895\n",
      "           2       0.52      0.61      0.56       337\n",
      "\n",
      "    accuracy                           0.46      1582\n",
      "   macro avg       0.41      0.45      0.40      1582\n",
      "weighted avg       0.56      0.46      0.49      1582\n",
      "\n"
     ]
    }
   ],
   "source": [
    "# Generate predictions\n",
    "y_pred_nb_better = naive_bayes_better.predict(X_test)\n",
    "\n",
    "y_pred_nb_better=pd.DataFrame(y_pred_nb_better)\n",
    "\n",
    "# Classification report\n",
    "from sklearn.metrics import classification_report\n",
    "print(classification_report(y_test, y_pred_nb_better))\n",
    "\n",
    "import warnings\n",
    "warnings.filterwarnings('ignore')"
   ]
  },
  {
   "cell_type": "markdown",
   "id": "e446cb33",
   "metadata": {},
   "source": [
    "### 5.5 k nearest neighbuors"
   ]
  },
  {
   "cell_type": "code",
   "execution_count": 51,
   "id": "858a5b2b",
   "metadata": {},
   "outputs": [
    {
     "data": {
      "text/plain": [
       "KNeighborsClassifier(n_neighbors=10, weights='distance')"
      ]
     },
     "execution_count": 51,
     "metadata": {},
     "output_type": "execute_result"
    }
   ],
   "source": [
    "from sklearn.neighbors import KNeighborsClassifier\n",
    "\n",
    "n_neighbors = 10 \n",
    "\n",
    "# Define the model\n",
    "knn = KNeighborsClassifier(n_neighbors,  weights='distance')\n",
    "# Fit the model \n",
    "knn.fit(X_train, y_train)"
   ]
  },
  {
   "cell_type": "markdown",
   "id": "d3c565c3",
   "metadata": {},
   "source": [
    "#### Hyperparameter tuning"
   ]
  },
  {
   "cell_type": "code",
   "execution_count": null,
   "id": "29db6823",
   "metadata": {},
   "outputs": [],
   "source": [
    "ks = [ 1, 2, 3, 4, 5, 6, 7, 8, 9, 10,20]\n",
    "\n",
    "param_grid = {'n_neighbors': ks}\n",
    "\n",
    "grid_knn = GridSearchCV(KNeighborsClassifier(), param_grid, scoring='f1')\n",
    "\n",
    "grid_knn.fit(X, y)\n",
    "grid_knn.best_params_"
   ]
  },
  {
   "cell_type": "code",
   "execution_count": null,
   "id": "cbbfde6c",
   "metadata": {},
   "outputs": [],
   "source": [
    "n_neighbors = 1 \n",
    "\n",
    "#model instance\n",
    "knn_improved = KNeighborsClassifier(n_neighbors,  weights='distance')\n",
    "# Fit the model \n",
    "knn_improved.fit(X_train, y_train)"
   ]
  },
  {
   "cell_type": "markdown",
   "id": "845f60ac",
   "metadata": {},
   "source": [
    "#### Checking outcomes on the testing set"
   ]
  },
  {
   "cell_type": "code",
   "execution_count": 52,
   "id": "988efc20",
   "metadata": {},
   "outputs": [
    {
     "name": "stdout",
     "output_type": "stream",
     "text": [
      "              precision    recall  f1-score   support\n",
      "\n",
      "          -1       0.21      0.58      0.31       126\n",
      "           0       0.24      0.69      0.36       224\n",
      "           1       0.91      0.27      0.41       895\n",
      "           2       0.61      0.61      0.61       337\n",
      "\n",
      "    accuracy                           0.43      1582\n",
      "   macro avg       0.49      0.54      0.42      1582\n",
      "weighted avg       0.70      0.43      0.44      1582\n",
      "\n"
     ]
    }
   ],
   "source": [
    "# Generate predictions\n",
    "y_pred_knn = knn.predict(X_test)\n",
    "\n",
    "y_pred_knn=pd.DataFrame(y_pred_knn)\n",
    "\n",
    "# Classification report\n",
    "print(classification_report(y_test, y_pred_knn))\n",
    "\n",
    "import warnings\n",
    "warnings.filterwarnings('ignore')"
   ]
  },
  {
   "cell_type": "markdown",
   "id": "263f3114",
   "metadata": {},
   "source": [
    "#### Checking outcomes on tuned model\n"
   ]
  },
  {
   "cell_type": "code",
   "execution_count": null,
   "id": "7cb03be2",
   "metadata": {},
   "outputs": [],
   "source": [
    "# Generate predictions\n",
    "y_pred_knn_improved = knn_improved.predict(X_test)\n",
    "\n",
    "y_pred_knn_improved=pd.DataFrame(y_pred_knn_improved)\n",
    "\n",
    "# Classification report\n",
    "print(classification_report(y_test, y_pred_knn_improved))\n",
    "\n",
    "import warnings\n",
    "warnings.filterwarnings('ignore')"
   ]
  },
  {
   "cell_type": "code",
   "execution_count": null,
   "id": "cb33dcbf",
   "metadata": {},
   "outputs": [],
   "source": [
    "experiment.end()"
   ]
  },
  {
   "cell_type": "code",
   "execution_count": null,
   "id": "e3a1fb70",
   "metadata": {},
   "outputs": [],
   "source": []
  }
 ],
 "metadata": {
  "kernelspec": {
   "display_name": "Python 3",
   "language": "python",
   "name": "python3"
  },
  "language_info": {
   "codemirror_mode": {
    "name": "ipython",
    "version": 3
   },
   "file_extension": ".py",
   "mimetype": "text/x-python",
   "name": "python",
   "nbconvert_exporter": "python",
   "pygments_lexer": "ipython3",
   "version": "3.8.8"
  }
 },
 "nbformat": 4,
 "nbformat_minor": 5
}
