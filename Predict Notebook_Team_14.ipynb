{
 "cells": [
  {
   "cell_type": "markdown",
   "id": "3b7283f3",
   "metadata": {},
   "source": [
    "# Classification Predict Student Solution\n",
    "\n",
    "© Explore Data Science Academy\n",
    "\n",
    "---\n",
    "### Honour Code\n",
    "\n",
    "I {**Team-14**}, confirm - by submitting this document - that the solutions in this notebook are a result of my own work and that I abide by the [EDSA honour code](https://drive.google.com/file/d/1QDCjGZJ8-FmJE3bZdIQNwnJyQKPhHZBn/view?usp=sharing).\n",
    "\n",
    "Non-compliance with the honour code constitutes a material breach of contract.\n",
    " \n",
    "### Climate Change Belief Analysis 2022\n",
    "\n",
    "Many companies are built around lessening one’s environmental impact or carbon footprint. They offer products and services that are environmentally friendly and sustainable, in line with their values and ideals. They would like to determine how people perceive climate change and whether or not they believe it is a real threat. This would add to their market research efforts in gauging how their product/service may be received.\n",
    "\n",
    "- 1. analyse the supplied data;\n",
    "- 2. identify potential errors in the data and clean the existing data set;\n",
    "- 3. determine if additional features can be added to enrich the data set;\n",
    "- 4. build a model that is capable of classifying whether or not a person believes in climate change;\n",
    "- 5. evaluate the accuracy of the best machine learning model;\n",
    "- 6. determine what features were most important in the model’s prediction decision, and\n",
    "- 7. explain the inner working of the model to a non-technical audience.\n"
   ]
  },
  {
   "cell_type": "markdown",
   "id": "0fa7d9e9",
   "metadata": {},
   "source": [
    "<a id=\"cont\"></a>\n",
    "\n",
    "## Table of Contents\n",
    "<a href=#one>1. Importing Packages</a>\n",
    "\n",
    "<a href=#two>2. Loading Data</a>\n",
    "\n",
    "<a href=#three>3. Exploratory Data Analysis (EDA)</a>\n",
    "\n",
    "- <a href=#two>3.1 Numerical and categorical features</a>\n",
    "\n",
    "- <a href=#four>3.2 Null Values </a>\n",
    "\n",
    "- <a href=#four>3.3 Descriptive analysis </a>\n",
    "\n",
    "- <a href=#four>3.4 The target variable </a>\n",
    "\n",
    "- <a href=#four>3.5 Feature variables </a>\n",
    "\n",
    "\n",
    "<a href=#four>4. Data Engineering</a>\n",
    "\n",
    "- <a href=#four>4.1 removing the web-urls</a>\n",
    "\n",
    "- <a href=#four>4.2 Lowercase conversion </a>\n",
    "\n",
    "- <a href=#four>4.3 Removing punctuation and special characters </a>\n",
    "\n",
    "- <a href=#four>4.4 Lemmatization </a>\n",
    "\n",
    "- <a href=#four>4.5 Removing Stop words </a>\n",
    "\n",
    "- <a href=#four>4.6 Feature Extraction using CountVectorizer </a>\n",
    "\n",
    "- <a href=#four>4.7 Preparing the test dataset </a>\n",
    "\n",
    "\n",
    "<a href=#five>5. Modeling</a>\n",
    "\n",
    "\n",
    "- <a href=#four>5.1 Logistic regression classification </a>\n",
    "\n",
    "- <a href=#four>5.2 Decision Tree </a>\n",
    "\n",
    "- <a href=#four>5.3 Random Forests</a>\n",
    "\n",
    "- <a href=#four>5.4 Naive Bayes</a>\n",
    "\n",
    "- <a href=#four>5.5 k nearest neighbuors </a>\n",
    "\n",
    "- <a href=#four> </a>\n",
    "\n",
    "- <a href=#four> </a>\n",
    "\n",
    "\n",
    "<a href=#six>6. Model Performance</a>\n",
    "\n",
    "<a href=#seven>7. Model Explanations</a>"
   ]
  },
  {
   "cell_type": "markdown",
   "id": "e2b80f08",
   "metadata": {},
   "source": [
    "<a id=\"one\"></a>\n",
    "## 1. Importing Packages\n",
    "<a href=#cont>Back to Table of Contents</a>\n",
    "\n",
    "In this section the necessary libraries that will be used throughout the anaylisis are imported.\n",
    "\n",
    "---"
   ]
  },
  {
   "cell_type": "markdown",
   "id": "c07f5cf3",
   "metadata": {},
   "source": [
    "!pip install wordcloud"
   ]
  },
  {
   "cell_type": "code",
   "execution_count": 1,
   "id": "2ef81f58",
   "metadata": {},
   "outputs": [],
   "source": [
    "# Libraries for data loading, data manipulation and data visulisation\n",
    "\n",
    "import numpy as np\n",
    "import pandas as pd\n",
    "import matplotlib.pyplot as plt\n",
    "%matplotlib inline\n",
    "import seaborn as sns\n",
    "# set plot style\n",
    "sns.set()\n",
    "import re\n",
    "import string\n",
    "import neattext.functions as nt\n",
    "import nltk\n",
    "from nltk.corpus import stopwords\n",
    "from nltk import SnowballStemmer, PorterStemmer, LancasterStemmer\n",
    "from nltk.stem import WordNetLemmatizer\n",
    "from nltk.corpus import stopwords\n",
    "from nltk.util import ngrams\n",
    "from imblearn.over_sampling import SMOTE\n",
    "from collections import Counter\n",
    "from wordcloud import WordCloud\n",
    "from textwrap import wrap\n",
    "\n",
    "\n",
    "# Libraries for data preparation and model building\n",
    "from sklearn import preprocessing\n",
    "from sklearn.feature_extraction.text import CountVectorizer\n",
    "from sklearn.feature_extraction.text import TfidfVectorizer\n",
    "from sklearn.model_selection import GridSearchCV, train_test_split\n",
    "from sklearn.preprocessing import LabelEncoder\n",
    "from sklearn.naive_bayes import GaussianNB\n",
    "from sklearn.naive_bayes import MultinomialNB\n",
    "from sklearn.neighbors import KNeighborsClassifier\n",
    "from sklearn.ensemble import RandomForestClassifier \n",
    "from sklearn.linear_model import LogisticRegression\n",
    "from sklearn.metrics import classification_report\n",
    "\n",
    "#import *\n",
    "\n",
    "# Setting global constants to ensure notebook results are reproducible\n",
    "#PARAMETER_CONSTANT = ###"
   ]
  },
  {
   "cell_type": "markdown",
   "id": "715cc340",
   "metadata": {},
   "source": [
    "<a id=\"two\"></a>\n",
    "## 2. Loading the Data\n",
    "<a class=\"anchor\" id=\"1.1\"></a>\n",
    "<a href=#cont>Back to Table of Contents</a>\n",
    "\n",
    "\n",
    "In this section the data is loaded from the `df_train` file.\n",
    "\n",
    "---"
   ]
  },
  {
   "cell_type": "code",
   "execution_count": 2,
   "id": "7557d744",
   "metadata": {},
   "outputs": [],
   "source": [
    "pd.set_option('display.max_colwidth', None)\n",
    "df_train = pd.read_csv('train.csv') # load the data\n",
    "#df_test = pd.read_csv('test.csv') # load the data"
   ]
  },
  {
   "cell_type": "code",
   "execution_count": 3,
   "id": "c4d7a75b",
   "metadata": {},
   "outputs": [
    {
     "data": {
      "text/html": [
       "<div>\n",
       "<style scoped>\n",
       "    .dataframe tbody tr th:only-of-type {\n",
       "        vertical-align: middle;\n",
       "    }\n",
       "\n",
       "    .dataframe tbody tr th {\n",
       "        vertical-align: top;\n",
       "    }\n",
       "\n",
       "    .dataframe thead th {\n",
       "        text-align: right;\n",
       "    }\n",
       "</style>\n",
       "<table border=\"1\" class=\"dataframe\">\n",
       "  <thead>\n",
       "    <tr style=\"text-align: right;\">\n",
       "      <th></th>\n",
       "      <th>sentiment</th>\n",
       "      <th>message</th>\n",
       "      <th>tweetid</th>\n",
       "    </tr>\n",
       "  </thead>\n",
       "  <tbody>\n",
       "    <tr>\n",
       "      <th>0</th>\n",
       "      <td>1</td>\n",
       "      <td>PolySciMajor EPA chief doesn't think carbon dioxide is main cause of global warming and.. wait, what!? https://t.co/yeLvcEFXkC via @mashable</td>\n",
       "      <td>625221</td>\n",
       "    </tr>\n",
       "    <tr>\n",
       "      <th>1</th>\n",
       "      <td>1</td>\n",
       "      <td>It's not like we lack evidence of anthropogenic global warming</td>\n",
       "      <td>126103</td>\n",
       "    </tr>\n",
       "    <tr>\n",
       "      <th>2</th>\n",
       "      <td>2</td>\n",
       "      <td>RT @RawStory: Researchers say we have three years to act on climate change before it’s too late https://t.co/WdT0KdUr2f https://t.co/Z0ANPT…</td>\n",
       "      <td>698562</td>\n",
       "    </tr>\n",
       "    <tr>\n",
       "      <th>3</th>\n",
       "      <td>1</td>\n",
       "      <td>#TodayinMaker# WIRED : 2016 was a pivotal year in the war on climate change https://t.co/44wOTxTLcD</td>\n",
       "      <td>573736</td>\n",
       "    </tr>\n",
       "    <tr>\n",
       "      <th>4</th>\n",
       "      <td>1</td>\n",
       "      <td>RT @SoyNovioDeTodas: It's 2016, and a racist, sexist, climate change denying bigot is leading in the polls. #ElectionNight</td>\n",
       "      <td>466954</td>\n",
       "    </tr>\n",
       "  </tbody>\n",
       "</table>\n",
       "</div>"
      ],
      "text/plain": [
       "   sentiment  \\\n",
       "0          1   \n",
       "1          1   \n",
       "2          2   \n",
       "3          1   \n",
       "4          1   \n",
       "\n",
       "                                                                                                                                        message  \\\n",
       "0  PolySciMajor EPA chief doesn't think carbon dioxide is main cause of global warming and.. wait, what!? https://t.co/yeLvcEFXkC via @mashable   \n",
       "1                                                                                It's not like we lack evidence of anthropogenic global warming   \n",
       "2  RT @RawStory: Researchers say we have three years to act on climate change before it’s too late https://t.co/WdT0KdUr2f https://t.co/Z0ANPT…   \n",
       "3                                           #TodayinMaker# WIRED : 2016 was a pivotal year in the war on climate change https://t.co/44wOTxTLcD   \n",
       "4                    RT @SoyNovioDeTodas: It's 2016, and a racist, sexist, climate change denying bigot is leading in the polls. #ElectionNight   \n",
       "\n",
       "   tweetid  \n",
       "0   625221  \n",
       "1   126103  \n",
       "2   698562  \n",
       "3   573736  \n",
       "4   466954  "
      ]
     },
     "execution_count": 3,
     "metadata": {},
     "output_type": "execute_result"
    }
   ],
   "source": [
    "# View dataset\n",
    "df_train.head()"
   ]
  },
  {
   "cell_type": "markdown",
   "id": "806a5cb2",
   "metadata": {},
   "source": [
    "<a id=\"three\"></a>\n",
    "## 3. Exploratory Data Analysis (EDA)\n",
    "<a class=\"anchor\" id=\"1.1\"></a>\n",
    "<a href=#cont>Back to Table of Contents</a>\n",
    "\n",
    "\n",
    "    \n",
    "In this section,  an in-depth analysis of all the variables in the DataFrame is perfomed.\n",
    "\n",
    "looking at:\n",
    "\n",
    "-  Numerical and categorical features\n",
    "-  Null values\n",
    "-  Descriptive analysis \n",
    "-  The target variable 'sentiment'\n",
    "-  Feature variables 'message'"
   ]
  },
  {
   "cell_type": "markdown",
   "id": "58e11866",
   "metadata": {},
   "source": [
    "###  3.1 Numerical and categorical features\n",
    "\n",
    "Looking  at the method df.info(). This will provide the information about the data types of the variables, the number of variables and the non-null count for each variable."
   ]
  },
  {
   "cell_type": "code",
   "execution_count": 4,
   "id": "3c87d42f",
   "metadata": {
    "scrolled": true
   },
   "outputs": [
    {
     "name": "stdout",
     "output_type": "stream",
     "text": [
      "<class 'pandas.core.frame.DataFrame'>\n",
      "RangeIndex: 15819 entries, 0 to 15818\n",
      "Data columns (total 3 columns):\n",
      " #   Column     Non-Null Count  Dtype \n",
      "---  ------     --------------  ----- \n",
      " 0   sentiment  15819 non-null  int64 \n",
      " 1   message    15819 non-null  object\n",
      " 2   tweetid    15819 non-null  int64 \n",
      "dtypes: int64(2), object(1)\n",
      "memory usage: 370.9+ KB\n"
     ]
    }
   ],
   "source": [
    "df_train.info()"
   ]
  },
  {
   "cell_type": "markdown",
   "id": "601db8c6",
   "metadata": {},
   "source": [
    "Sentiment and tweetid columns contains numerical data, while clean_message contain Categorical data"
   ]
  },
  {
   "cell_type": "markdown",
   "id": "a9b404b4",
   "metadata": {},
   "source": [
    "###  3.2 Null Values\n",
    "\n",
    " Looking at the function df.isnull().sum(). This will give us information about which variables have null values."
   ]
  },
  {
   "cell_type": "code",
   "execution_count": 5,
   "id": "bcb581ba",
   "metadata": {},
   "outputs": [
    {
     "data": {
      "text/plain": [
       "sentiment    0\n",
       "message      0\n",
       "tweetid      0\n",
       "dtype: int64"
      ]
     },
     "execution_count": 5,
     "metadata": {},
     "output_type": "execute_result"
    }
   ],
   "source": [
    "df_train.isnull().sum()"
   ]
  },
  {
   "cell_type": "markdown",
   "id": "ad1b379d",
   "metadata": {},
   "source": [
    "There are no null values present in all columns."
   ]
  },
  {
   "cell_type": "markdown",
   "id": "c399fa54",
   "metadata": {},
   "source": [
    "###  3.3 Descriptive analysis"
   ]
  },
  {
   "cell_type": "markdown",
   "id": "c78af324",
   "metadata": {},
   "source": [
    "To run summary statistics on columns containing `Numerical data`, we use `.describe()` function"
   ]
  },
  {
   "cell_type": "code",
   "execution_count": 6,
   "id": "2dd7868f",
   "metadata": {
    "scrolled": true
   },
   "outputs": [
    {
     "data": {
      "text/html": [
       "<div>\n",
       "<style scoped>\n",
       "    .dataframe tbody tr th:only-of-type {\n",
       "        vertical-align: middle;\n",
       "    }\n",
       "\n",
       "    .dataframe tbody tr th {\n",
       "        vertical-align: top;\n",
       "    }\n",
       "\n",
       "    .dataframe thead th {\n",
       "        text-align: right;\n",
       "    }\n",
       "</style>\n",
       "<table border=\"1\" class=\"dataframe\">\n",
       "  <thead>\n",
       "    <tr style=\"text-align: right;\">\n",
       "      <th></th>\n",
       "      <th>sentiment</th>\n",
       "      <th>tweetid</th>\n",
       "    </tr>\n",
       "  </thead>\n",
       "  <tbody>\n",
       "    <tr>\n",
       "      <th>count</th>\n",
       "      <td>15819.000000</td>\n",
       "      <td>15819.000000</td>\n",
       "    </tr>\n",
       "    <tr>\n",
       "      <th>mean</th>\n",
       "      <td>0.917504</td>\n",
       "      <td>501719.433656</td>\n",
       "    </tr>\n",
       "    <tr>\n",
       "      <th>std</th>\n",
       "      <td>0.836537</td>\n",
       "      <td>289045.983132</td>\n",
       "    </tr>\n",
       "    <tr>\n",
       "      <th>min</th>\n",
       "      <td>-1.000000</td>\n",
       "      <td>6.000000</td>\n",
       "    </tr>\n",
       "    <tr>\n",
       "      <th>25%</th>\n",
       "      <td>1.000000</td>\n",
       "      <td>253207.500000</td>\n",
       "    </tr>\n",
       "    <tr>\n",
       "      <th>50%</th>\n",
       "      <td>1.000000</td>\n",
       "      <td>502291.000000</td>\n",
       "    </tr>\n",
       "    <tr>\n",
       "      <th>75%</th>\n",
       "      <td>1.000000</td>\n",
       "      <td>753769.000000</td>\n",
       "    </tr>\n",
       "    <tr>\n",
       "      <th>max</th>\n",
       "      <td>2.000000</td>\n",
       "      <td>999888.000000</td>\n",
       "    </tr>\n",
       "  </tbody>\n",
       "</table>\n",
       "</div>"
      ],
      "text/plain": [
       "          sentiment        tweetid\n",
       "count  15819.000000   15819.000000\n",
       "mean       0.917504  501719.433656\n",
       "std        0.836537  289045.983132\n",
       "min       -1.000000       6.000000\n",
       "25%        1.000000  253207.500000\n",
       "50%        1.000000  502291.000000\n",
       "75%        1.000000  753769.000000\n",
       "max        2.000000  999888.000000"
      ]
     },
     "execution_count": 6,
     "metadata": {},
     "output_type": "execute_result"
    }
   ],
   "source": [
    "df_train.describe()"
   ]
  },
  {
   "cell_type": "markdown",
   "id": "678445c6",
   "metadata": {},
   "source": [
    "Summary statistics on `Categorical` column"
   ]
  },
  {
   "cell_type": "code",
   "execution_count": 7,
   "id": "8a299922",
   "metadata": {},
   "outputs": [
    {
     "data": {
      "text/html": [
       "<div>\n",
       "<style scoped>\n",
       "    .dataframe tbody tr th:only-of-type {\n",
       "        vertical-align: middle;\n",
       "    }\n",
       "\n",
       "    .dataframe tbody tr th {\n",
       "        vertical-align: top;\n",
       "    }\n",
       "\n",
       "    .dataframe thead th {\n",
       "        text-align: right;\n",
       "    }\n",
       "</style>\n",
       "<table border=\"1\" class=\"dataframe\">\n",
       "  <thead>\n",
       "    <tr style=\"text-align: right;\">\n",
       "      <th></th>\n",
       "      <th>message</th>\n",
       "    </tr>\n",
       "  </thead>\n",
       "  <tbody>\n",
       "    <tr>\n",
       "      <th>count</th>\n",
       "      <td>15819</td>\n",
       "    </tr>\n",
       "    <tr>\n",
       "      <th>unique</th>\n",
       "      <td>14229</td>\n",
       "    </tr>\n",
       "    <tr>\n",
       "      <th>top</th>\n",
       "      <td>RT @StephenSchlegel: she's thinking about how she's going to die because your husband doesn't believe in climate change https://t.co/SjoFoNÃ¢â‚¬Â¦</td>\n",
       "    </tr>\n",
       "    <tr>\n",
       "      <th>freq</th>\n",
       "      <td>307</td>\n",
       "    </tr>\n",
       "  </tbody>\n",
       "</table>\n",
       "</div>"
      ],
      "text/plain": [
       "                                                                                                                                                   message\n",
       "count                                                                                                                                                15819\n",
       "unique                                                                                                                                               14229\n",
       "top     RT @StephenSchlegel: she's thinking about how she's going to die because your husband doesn't believe in climate change https://t.co/SjoFoNÃ¢â‚¬Â¦\n",
       "freq                                                                                                                                                   307"
      ]
     },
     "execution_count": 7,
     "metadata": {},
     "output_type": "execute_result"
    }
   ],
   "source": [
    "df_train.describe(include='object')"
   ]
  },
  {
   "cell_type": "markdown",
   "id": "31c7b39b",
   "metadata": {},
   "source": [
    "We notice that there are duplicates in message column, as shown by the unique row. These could be messages retweeted by different people.   \n",
    "\n",
    "Possible solution would be to drop the duplicate columns. "
   ]
  },
  {
   "cell_type": "markdown",
   "id": "054c6cc4",
   "metadata": {},
   "source": [
    "###  3.4 The target variable 'sentiment'"
   ]
  },
  {
   "cell_type": "markdown",
   "id": "54806398",
   "metadata": {},
   "source": [
    "##### Class Description (Sentiments)\n",
    "\n",
    "- 2 : News: the tweet links to factual news about climate change\n",
    "- 1 : Pro: the tweet supports the belief of man-made climate change\n",
    "- 0 : Neutral: the tweet neither supports nor refutes the belief of man-made climate change\n",
    "- -1: Anti: the tweet does not believe in man-made climate change"
   ]
  },
  {
   "cell_type": "code",
   "execution_count": 8,
   "id": "1bb138b8",
   "metadata": {},
   "outputs": [
    {
     "name": "stdout",
     "output_type": "stream",
     "text": [
      "[-1, 0, 1, 2]\n"
     ]
    }
   ],
   "source": [
    "# list of unique types of Sentiments\n",
    "type_sentis = list(sorted(df_train.sentiment.unique()))\n",
    "print(type_sentis)"
   ]
  },
  {
   "cell_type": "code",
   "execution_count": 9,
   "id": "3681f3cb",
   "metadata": {},
   "outputs": [
    {
     "data": {
      "image/png": "[encoded data removed]",
      "text/plain": [
       "<Figure size 432x288 with 1 Axes>"
      ]
     },
     "metadata": {},
     "output_type": "display_data"
    }
   ],
   "source": [
    "df_train['sentiment'].value_counts().sort_index().plot(kind = 'bar')\n",
    "plt.show()"
   ]
  },
  {
   "cell_type": "markdown",
   "id": "27f527a4",
   "metadata": {},
   "source": [
    "We can observe an imbalance with the class samples."
   ]
  },
  {
   "cell_type": "markdown",
   "id": "2548ab89",
   "metadata": {},
   "source": [
    "###  3.5 Feature variables 'message'"
   ]
  },
  {
   "cell_type": "markdown",
   "id": "11019fd7",
   "metadata": {},
   "source": [
    "#### Words cloud of frequently twitted words\n",
    "\n",
    "We will create a word could image of the frequently twitted word in each of the different classes which are as follows:\n",
    "\n",
    "* 2 News: the tweet links to factual news about climate change\n",
    "* 1 Pro: the tweet supports the belief of man-made climate change\n",
    "* 0 Neutral: the tweet neither supports nor refutes the belief of man-made climate change\n",
    "* -1 Anti: the tweet does not believe in man-made climate change"
   ]
  },
  {
   "cell_type": "code",
   "execution_count": 10,
   "id": "e4326b41",
   "metadata": {},
   "outputs": [],
   "source": [
    "df_gm = df_train.copy()"
   ]
  },
  {
   "cell_type": "code",
   "execution_count": 11,
   "id": "4e817e42",
   "metadata": {},
   "outputs": [],
   "source": [
    "#create different dataframes for each of the classes\n",
    "df_news= df_gm.drop(df_gm[df_gm.sentiment <= 1].index)\n",
    "\n",
    "df_pro= df_gm.drop(df_gm[df_gm.sentiment<=0].index)\n",
    "df_pro= df_gm.drop(df_gm[df_gm.sentiment>=2].index)\n",
    "\n",
    "df_neutral= df_gm.drop(df_gm[df_gm.sentiment<=(-1)].index)\n",
    "df_neutral= df_gm.drop(df_gm[df_gm.sentiment>=1].index)\n",
    "\n",
    "df_anti= df_gm.drop(df_gm[df_gm.sentiment>=0].index)"
   ]
  },
  {
   "cell_type": "code",
   "execution_count": 12,
   "id": "7398cad5",
   "metadata": {},
   "outputs": [
    {
     "data": {
      "text/plain": [
       "Text(0.5, 1.0, 'Anti Tweets')"
      ]
     },
     "execution_count": 12,
     "metadata": {},
     "output_type": "execute_result"
    },
    {
     "data": {
      "image/png": "[encoded data removed]",
      "text/plain": [
       "<Figure size 288x576 with 1 Axes>"
      ]
     },
     "metadata": {},
     "output_type": "display_data"
    },
    {
     "data": {
      "image/png": "[encoded data removed]",
      "text/plain": [
       "<Figure size 288x576 with 1 Axes>"
      ]
     },
     "metadata": {},
     "output_type": "display_data"
    },
    {
     "data": {
      "image/png": "[encoded data removed]",
      "text/plain": [
       "<Figure size 288x576 with 1 Axes>"
      ]
     },
     "metadata": {},
     "output_type": "display_data"
    },
    {
     "data": {
      "image/png": "[encoded data removed]",
      "text/plain": [
       "<Figure size 288x576 with 1 Axes>"
      ]
     },
     "metadata": {},
     "output_type": "display_data"
    }
   ],
   "source": [
    "#create instance of WordCloud\n",
    "wc=WordCloud(width=400, height=330, max_words=150,colormap=\"Dark2\")\n",
    "\n",
    "#Create string of 100 words\n",
    "wcVect = CountVectorizer(stop_words='english',max_features=100) \n",
    "wcVect.fit(df_news['message'])\n",
    "text1=list(wcVect.vocabulary_)\n",
    "text2=string = ' '.join(text1)\n",
    "\n",
    "text2\n",
    "#createWordCloud\n",
    "a=wc.generate(string)\n",
    "\n",
    "plt.figure(figsize = (4, 8), facecolor = None)\n",
    "plt.imshow(a)\n",
    "plt.axis(\"off\")\n",
    "plt.tight_layout(pad = 0);\n",
    "\n",
    "plt.title(\"News Tweets\")\n",
    "##########################################################\n",
    "#create instance of WordCloud\n",
    "wc=WordCloud(width=400, height=330, max_words=150,colormap=\"Dark2\")\n",
    "\n",
    "#Create string of 100 words\n",
    "wcVect = CountVectorizer(stop_words='english',max_features=100) \n",
    "wcVect.fit(df_pro['message'])\n",
    "text1=list(wcVect.vocabulary_)\n",
    "text2=string = ' '.join(text1)\n",
    "\n",
    "text2\n",
    "\n",
    "#createWordCloud\n",
    "b=wc.generate(string)\n",
    "\n",
    "\n",
    "plt.figure(figsize = (4, 8), facecolor = None)\n",
    "plt.imshow(b)\n",
    "plt.axis(\"off\")\n",
    "plt.tight_layout(pad = 0)\n",
    "\n",
    "plt.title(\"Pro Tweets\")\n",
    "##################################################################\n",
    "#create instance of WordCloud\n",
    "wc=WordCloud(width=400, height=330, max_words=150,colormap=\"Dark2\")\n",
    "\n",
    "#Create string of 100 words\n",
    "wcVect = CountVectorizer(stop_words='english',max_features=100) \n",
    "wcVect.fit(df_neutral['message'])\n",
    "text1=list(wcVect.vocabulary_)\n",
    "text2=string = ' '.join(text1)\n",
    "\n",
    "text2\n",
    "\n",
    "#createWordCloud\n",
    "c=wc.generate(string)\n",
    "\n",
    "\n",
    "plt.figure(figsize = (4, 8), facecolor = None)\n",
    "plt.imshow(c)\n",
    "plt.axis(\"off\")\n",
    "plt.tight_layout(pad = 0);\n",
    "\n",
    "plt.title(\"Neutral Tweets\")\n",
    "\n",
    "#########################################################\n",
    "#create instance of WordCloud\n",
    "wc=WordCloud(width=400, height=330, max_words=150,colormap=\"Dark2\")\n",
    "\n",
    "#Create string of 100 words\n",
    "wcVect = CountVectorizer(stop_words='english',max_features=100) \n",
    "wcVect.fit(df_anti['message'])\n",
    "text1=list(wcVect.vocabulary_)\n",
    "text2=string = ' '.join(text1)\n",
    "\n",
    "text2\n",
    "\n",
    "#createWordCloud\n",
    "d=wc.generate(string)\n",
    "\n",
    "\n",
    "plt.figure(figsize = (4, 8), facecolor = None)\n",
    "plt.imshow(d)\n",
    "plt.axis(\"off\")\n",
    "plt.tight_layout(pad = 0);\n",
    "\n",
    "plt.title(\"Anti Tweets\")\n"
   ]
  },
  {
   "cell_type": "markdown",
   "id": "0037ecbb",
   "metadata": {},
   "source": [
    "## 4. Data Engineering\n",
    "<a class=\"anchor\" id=\"1.1\"></a>\n",
    "<a href=#cont>Back to Table of Contents</a>\n",
    "\n",
    "Data engineering is the complex task of making raw data usable for the modeling phase. In this section we engineer the features such that they are ready for modelling\n",
    "\n",
    "\n",
    "For our dataset, we will be doing the following steps:\n",
    "* removing the web-urls\n",
    "* making everything lower case\n",
    "* removing punctuation and special characters\n",
    "* removing mentions and retweets(`rt`)"
   ]
  },
  {
   "cell_type": "markdown",
   "id": "788ceccb",
   "metadata": {},
   "source": [
    "### 4.1 removing the web-urls"
   ]
  },
  {
   "cell_type": "code",
   "execution_count": 13,
   "id": "2cef88bb",
   "metadata": {},
   "outputs": [],
   "source": [
    "pattern_url = r'http[s]?://(?:[A-Za-z]|[0-9]|[$-_@.&+]|[!*\\(\\),]|(?:%[0-9A-Fa-f][0-9A-Fa-f]))+'\n",
    "subs_url = r'url-web'\n",
    "df_train['message'] = df_train['message'].replace(to_replace = pattern_url, value = subs_url, regex = True)"
   ]
  },
  {
   "cell_type": "markdown",
   "id": "dca722af",
   "metadata": {},
   "source": [
    "### 4.2 Lowercase conversion "
   ]
  },
  {
   "cell_type": "code",
   "execution_count": 14,
   "id": "3d214ae4",
   "metadata": {},
   "outputs": [],
   "source": [
    "df_train['message'] = df_train['message'].str.lower()"
   ]
  },
  {
   "cell_type": "markdown",
   "id": "3e73f1b8",
   "metadata": {},
   "source": [
    "### 4.3 Removing punctuation and special characters"
   ]
  },
  {
   "cell_type": "markdown",
   "id": "bc6b01cf",
   "metadata": {},
   "source": [
    "We create a funcion that will remove the web-urls, punctuation, and mentions along with retweets(`rt`)"
   ]
  },
  {
   "cell_type": "code",
   "execution_count": 15,
   "id": "e5a5098a",
   "metadata": {},
   "outputs": [],
   "source": [
    "def data_cleaning(tweet):\n",
    "    tweet = re.sub(r'@[a-z0-9]+', '', tweet) # removing mentions\n",
    "    tweet = re.sub(r'#', '', tweet) # remove #\n",
    "    tweet = re.sub(r'rt[\\s]+', '', tweet) # remove retweets(`rt`)\n",
    "    #tweet = re.sub(r'url-web', '', tweet) # remove web-urls\n",
    "    \n",
    "    return tweet"
   ]
  },
  {
   "cell_type": "code",
   "execution_count": 16,
   "id": "2d83f99a",
   "metadata": {},
   "outputs": [],
   "source": [
    "df_train['clean_message'] = df_train['message'].apply(data_cleaning)"
   ]
  },
  {
   "cell_type": "code",
   "execution_count": 17,
   "id": "462df2ae",
   "metadata": {
    "scrolled": false
   },
   "outputs": [
    {
     "data": {
      "text/html": [
       "<div>\n",
       "<style scoped>\n",
       "    .dataframe tbody tr th:only-of-type {\n",
       "        vertical-align: middle;\n",
       "    }\n",
       "\n",
       "    .dataframe tbody tr th {\n",
       "        vertical-align: top;\n",
       "    }\n",
       "\n",
       "    .dataframe thead th {\n",
       "        text-align: right;\n",
       "    }\n",
       "</style>\n",
       "<table border=\"1\" class=\"dataframe\">\n",
       "  <thead>\n",
       "    <tr style=\"text-align: right;\">\n",
       "      <th></th>\n",
       "      <th>sentiment</th>\n",
       "      <th>message</th>\n",
       "      <th>tweetid</th>\n",
       "      <th>clean_message</th>\n",
       "    </tr>\n",
       "  </thead>\n",
       "  <tbody>\n",
       "    <tr>\n",
       "      <th>0</th>\n",
       "      <td>1</td>\n",
       "      <td>polyscimajor epa chief doesn't think carbon dioxide is main cause of global warming and.. wait, what!? url-web via @mashable</td>\n",
       "      <td>625221</td>\n",
       "      <td>polyscimajor epa chief doesn't think carbon dioxide is main cause of global warming and.. wait, what!? url-web via</td>\n",
       "    </tr>\n",
       "    <tr>\n",
       "      <th>1</th>\n",
       "      <td>1</td>\n",
       "      <td>it's not like we lack evidence of anthropogenic global warming</td>\n",
       "      <td>126103</td>\n",
       "      <td>it's not like we lack evidence of anthropogenic global warming</td>\n",
       "    </tr>\n",
       "  </tbody>\n",
       "</table>\n",
       "</div>"
      ],
      "text/plain": [
       "   sentiment  \\\n",
       "0          1   \n",
       "1          1   \n",
       "\n",
       "                                                                                                                        message  \\\n",
       "0  polyscimajor epa chief doesn't think carbon dioxide is main cause of global warming and.. wait, what!? url-web via @mashable   \n",
       "1                                                                it's not like we lack evidence of anthropogenic global warming   \n",
       "\n",
       "   tweetid  \\\n",
       "0   625221   \n",
       "1   126103   \n",
       "\n",
       "                                                                                                         clean_message  \n",
       "0  polyscimajor epa chief doesn't think carbon dioxide is main cause of global warming and.. wait, what!? url-web via   \n",
       "1                                                       it's not like we lack evidence of anthropogenic global warming  "
      ]
     },
     "execution_count": 17,
     "metadata": {},
     "output_type": "execute_result"
    }
   ],
   "source": [
    "df_train.head(2)"
   ]
  },
  {
   "cell_type": "markdown",
   "id": "418bd287",
   "metadata": {},
   "source": [
    "In case of special characters and extra whitespace, we employed NeatText "
   ]
  },
  {
   "cell_type": "code",
   "execution_count": 18,
   "id": "ccab941b",
   "metadata": {},
   "outputs": [],
   "source": [
    "# Remove special characters using NeatText\n",
    "df_train['clean_message'] = df_train['clean_message'].apply(nt.remove_special_characters)"
   ]
  },
  {
   "cell_type": "code",
   "execution_count": 19,
   "id": "d85e625c",
   "metadata": {},
   "outputs": [],
   "source": [
    "# Remove multiple whitespace between words\n",
    "df_train['clean_message'] = df_train['clean_message'].apply(nt.remove_multiple_spaces)"
   ]
  },
  {
   "cell_type": "code",
   "execution_count": 20,
   "id": "c5594054",
   "metadata": {},
   "outputs": [
    {
     "data": {
      "text/html": [
       "<div>\n",
       "<style scoped>\n",
       "    .dataframe tbody tr th:only-of-type {\n",
       "        vertical-align: middle;\n",
       "    }\n",
       "\n",
       "    .dataframe tbody tr th {\n",
       "        vertical-align: top;\n",
       "    }\n",
       "\n",
       "    .dataframe thead th {\n",
       "        text-align: right;\n",
       "    }\n",
       "</style>\n",
       "<table border=\"1\" class=\"dataframe\">\n",
       "  <thead>\n",
       "    <tr style=\"text-align: right;\">\n",
       "      <th></th>\n",
       "      <th>sentiment</th>\n",
       "      <th>message</th>\n",
       "      <th>tweetid</th>\n",
       "      <th>clean_message</th>\n",
       "    </tr>\n",
       "  </thead>\n",
       "  <tbody>\n",
       "    <tr>\n",
       "      <th>0</th>\n",
       "      <td>1</td>\n",
       "      <td>polyscimajor epa chief doesn't think carbon dioxide is main cause of global warming and.. wait, what!? url-web via @mashable</td>\n",
       "      <td>625221</td>\n",
       "      <td>polyscimajor epa chief doesnt think carbon dioxide is main cause of global warming and wait what urlweb via</td>\n",
       "    </tr>\n",
       "    <tr>\n",
       "      <th>1</th>\n",
       "      <td>1</td>\n",
       "      <td>it's not like we lack evidence of anthropogenic global warming</td>\n",
       "      <td>126103</td>\n",
       "      <td>its not like we lack evidence of anthropogenic global warming</td>\n",
       "    </tr>\n",
       "  </tbody>\n",
       "</table>\n",
       "</div>"
      ],
      "text/plain": [
       "   sentiment  \\\n",
       "0          1   \n",
       "1          1   \n",
       "\n",
       "                                                                                                                        message  \\\n",
       "0  polyscimajor epa chief doesn't think carbon dioxide is main cause of global warming and.. wait, what!? url-web via @mashable   \n",
       "1                                                                it's not like we lack evidence of anthropogenic global warming   \n",
       "\n",
       "   tweetid  \\\n",
       "0   625221   \n",
       "1   126103   \n",
       "\n",
       "                                                                                                  clean_message  \n",
       "0  polyscimajor epa chief doesnt think carbon dioxide is main cause of global warming and wait what urlweb via   \n",
       "1                                                 its not like we lack evidence of anthropogenic global warming  "
      ]
     },
     "execution_count": 20,
     "metadata": {},
     "output_type": "execute_result"
    }
   ],
   "source": [
    "df_train.head(2)"
   ]
  },
  {
   "cell_type": "code",
   "execution_count": 21,
   "id": "7aa0df2d",
   "metadata": {
    "scrolled": true
   },
   "outputs": [
    {
     "data": {
      "text/html": [
       "<div>\n",
       "<style scoped>\n",
       "    .dataframe tbody tr th:only-of-type {\n",
       "        vertical-align: middle;\n",
       "    }\n",
       "\n",
       "    .dataframe tbody tr th {\n",
       "        vertical-align: top;\n",
       "    }\n",
       "\n",
       "    .dataframe thead th {\n",
       "        text-align: right;\n",
       "    }\n",
       "</style>\n",
       "<table border=\"1\" class=\"dataframe\">\n",
       "  <thead>\n",
       "    <tr style=\"text-align: right;\">\n",
       "      <th></th>\n",
       "      <th>message</th>\n",
       "      <th>clean_message</th>\n",
       "    </tr>\n",
       "  </thead>\n",
       "  <tbody>\n",
       "    <tr>\n",
       "      <th>0</th>\n",
       "      <td>polyscimajor epa chief doesn't think carbon dioxide is main cause of global warming and.. wait, what!? url-web via @mashable</td>\n",
       "      <td>polyscimajor epa chief doesnt think carbon dioxide is main cause of global warming and wait what urlweb via</td>\n",
       "    </tr>\n",
       "    <tr>\n",
       "      <th>1</th>\n",
       "      <td>it's not like we lack evidence of anthropogenic global warming</td>\n",
       "      <td>its not like we lack evidence of anthropogenic global warming</td>\n",
       "    </tr>\n",
       "    <tr>\n",
       "      <th>2</th>\n",
       "      <td>rt @rawstory: researchers say we have three years to act on climate change before it’s too late url-web url-web…</td>\n",
       "      <td>researchers say we have three years to act on climate change before its too late urlweb urlweb</td>\n",
       "    </tr>\n",
       "    <tr>\n",
       "      <th>3</th>\n",
       "      <td>#todayinmaker# wired : 2016 was a pivotal year in the war on climate change url-web</td>\n",
       "      <td>todayinmaker wired 2016 was a pivotal year in the war on climate change urlweb</td>\n",
       "    </tr>\n",
       "    <tr>\n",
       "      <th>4</th>\n",
       "      <td>rt @soynoviodetodas: it's 2016, and a racist, sexist, climate change denying bigot is leading in the polls. #electionnight</td>\n",
       "      <td>its 2016 and a racist sexist climate change denying bigot is leading in the polls electionnight</td>\n",
       "    </tr>\n",
       "  </tbody>\n",
       "</table>\n",
       "</div>"
      ],
      "text/plain": [
       "                                                                                                                        message  \\\n",
       "0  polyscimajor epa chief doesn't think carbon dioxide is main cause of global warming and.. wait, what!? url-web via @mashable   \n",
       "1                                                                it's not like we lack evidence of anthropogenic global warming   \n",
       "2              rt @rawstory: researchers say we have three years to act on climate change before it’s too late url-web url-web…   \n",
       "3                                           #todayinmaker# wired : 2016 was a pivotal year in the war on climate change url-web   \n",
       "4    rt @soynoviodetodas: it's 2016, and a racist, sexist, climate change denying bigot is leading in the polls. #electionnight   \n",
       "\n",
       "                                                                                                  clean_message  \n",
       "0  polyscimajor epa chief doesnt think carbon dioxide is main cause of global warming and wait what urlweb via   \n",
       "1                                                 its not like we lack evidence of anthropogenic global warming  \n",
       "2                researchers say we have three years to act on climate change before its too late urlweb urlweb  \n",
       "3                                todayinmaker wired 2016 was a pivotal year in the war on climate change urlweb  \n",
       "4               its 2016 and a racist sexist climate change denying bigot is leading in the polls electionnight  "
      ]
     },
     "execution_count": 21,
     "metadata": {},
     "output_type": "execute_result"
    }
   ],
   "source": [
    "df_train[['message','clean_message']].head()"
   ]
  },
  {
   "cell_type": "code",
   "execution_count": 22,
   "id": "1d0917d3",
   "metadata": {},
   "outputs": [],
   "source": [
    "df_train = df_train.drop('message', axis=1)"
   ]
  },
  {
   "cell_type": "code",
   "execution_count": 23,
   "id": "dc590752",
   "metadata": {
    "scrolled": true
   },
   "outputs": [
    {
     "data": {
      "text/html": [
       "<div>\n",
       "<style scoped>\n",
       "    .dataframe tbody tr th:only-of-type {\n",
       "        vertical-align: middle;\n",
       "    }\n",
       "\n",
       "    .dataframe tbody tr th {\n",
       "        vertical-align: top;\n",
       "    }\n",
       "\n",
       "    .dataframe thead th {\n",
       "        text-align: right;\n",
       "    }\n",
       "</style>\n",
       "<table border=\"1\" class=\"dataframe\">\n",
       "  <thead>\n",
       "    <tr style=\"text-align: right;\">\n",
       "      <th></th>\n",
       "      <th>sentiment</th>\n",
       "      <th>tweetid</th>\n",
       "      <th>clean_message</th>\n",
       "    </tr>\n",
       "  </thead>\n",
       "  <tbody>\n",
       "    <tr>\n",
       "      <th>0</th>\n",
       "      <td>1</td>\n",
       "      <td>625221</td>\n",
       "      <td>polyscimajor epa chief doesnt think carbon dioxide is main cause of global warming and wait what urlweb via</td>\n",
       "    </tr>\n",
       "    <tr>\n",
       "      <th>1</th>\n",
       "      <td>1</td>\n",
       "      <td>126103</td>\n",
       "      <td>its not like we lack evidence of anthropogenic global warming</td>\n",
       "    </tr>\n",
       "  </tbody>\n",
       "</table>\n",
       "</div>"
      ],
      "text/plain": [
       "   sentiment  tweetid  \\\n",
       "0          1   625221   \n",
       "1          1   126103   \n",
       "\n",
       "                                                                                                  clean_message  \n",
       "0  polyscimajor epa chief doesnt think carbon dioxide is main cause of global warming and wait what urlweb via   \n",
       "1                                                 its not like we lack evidence of anthropogenic global warming  "
      ]
     },
     "execution_count": 23,
     "metadata": {},
     "output_type": "execute_result"
    }
   ],
   "source": [
    "df_train.head(2)"
   ]
  },
  {
   "cell_type": "markdown",
   "id": "3a8123f5",
   "metadata": {},
   "source": [
    " ### 4.4 Lemmatization"
   ]
  },
  {
   "cell_type": "markdown",
   "id": "108ccb2a",
   "metadata": {},
   "source": [
    "Lemmatization will help in achieving the root forms (synonyms) of the words."
   ]
  },
  {
   "cell_type": "markdown",
   "id": "54bd1163",
   "metadata": {},
   "source": [
    "nltk.download(['wordnet','punkt','stopwords'])"
   ]
  },
  {
   "cell_type": "code",
   "execution_count": 24,
   "id": "1b3abf2a",
   "metadata": {},
   "outputs": [
    {
     "data": {
      "text/html": [
       "<div>\n",
       "<style scoped>\n",
       "    .dataframe tbody tr th:only-of-type {\n",
       "        vertical-align: middle;\n",
       "    }\n",
       "\n",
       "    .dataframe tbody tr th {\n",
       "        vertical-align: top;\n",
       "    }\n",
       "\n",
       "    .dataframe thead th {\n",
       "        text-align: right;\n",
       "    }\n",
       "</style>\n",
       "<table border=\"1\" class=\"dataframe\">\n",
       "  <thead>\n",
       "    <tr style=\"text-align: right;\">\n",
       "      <th></th>\n",
       "      <th>sentiment</th>\n",
       "      <th>tweetid</th>\n",
       "      <th>clean_message</th>\n",
       "    </tr>\n",
       "  </thead>\n",
       "  <tbody>\n",
       "    <tr>\n",
       "      <th>0</th>\n",
       "      <td>1</td>\n",
       "      <td>625221</td>\n",
       "      <td>polyscimajor epa chief doesnt think carbon dioxide is main cause of global warming and wait what urlweb via</td>\n",
       "    </tr>\n",
       "    <tr>\n",
       "      <th>1</th>\n",
       "      <td>1</td>\n",
       "      <td>126103</td>\n",
       "      <td>it not like we lack evidence of anthropogenic global warming</td>\n",
       "    </tr>\n",
       "  </tbody>\n",
       "</table>\n",
       "</div>"
      ],
      "text/plain": [
       "   sentiment  tweetid  \\\n",
       "0          1   625221   \n",
       "1          1   126103   \n",
       "\n",
       "                                                                                                 clean_message  \n",
       "0  polyscimajor epa chief doesnt think carbon dioxide is main cause of global warming and wait what urlweb via  \n",
       "1                                                 it not like we lack evidence of anthropogenic global warming  "
      ]
     },
     "execution_count": 24,
     "metadata": {},
     "output_type": "execute_result"
    }
   ],
   "source": [
    "\n",
    "lemmatizer = WordNetLemmatizer()\n",
    "\n",
    "def lemma(words, lemmatizer):\n",
    "    return ' '.join(([lemmatizer.lemmatize(word) for word in words.split()]))\n",
    "\n",
    "df_train['clean_message'] = df_train['clean_message'].apply(lemma, args=(lemmatizer, ))\n",
    "\n",
    "df_train.head(2)\n"
   ]
  },
  {
   "cell_type": "markdown",
   "id": "eb39f6e1",
   "metadata": {},
   "source": [
    "### 4.5 Removing Stop words"
   ]
  },
  {
   "cell_type": "markdown",
   "id": "abbb1146",
   "metadata": {
    "scrolled": true
   },
   "source": [
    "#remove stop words\n",
    "stop = stopwords.words('english')\n",
    "\n",
    "df_train['clean_message']= df_train['clean_message'].apply(lambda x: ' '.join([word for word in x.split() if word not in (stop)]))\n",
    "\n",
    "df_train.head()"
   ]
  },
  {
   "cell_type": "markdown",
   "id": "99f9a70a",
   "metadata": {},
   "source": [
    "### 4.6 Feature Extraction using CountVectorizer"
   ]
  },
  {
   "cell_type": "code",
   "execution_count": 25,
   "id": "ef926a02",
   "metadata": {},
   "outputs": [],
   "source": [
    "X,y = df_train['clean_message'], df_train['sentiment']"
   ]
  },
  {
   "cell_type": "code",
   "execution_count": 26,
   "id": "ccbecacc",
   "metadata": {},
   "outputs": [],
   "source": [
    "X_list = []\n",
    "for sentence in X:\n",
    "        # converting the text to lower case\n",
    "        sentence = sentence.lower()\n",
    "        # appendi#ng to data_list\n",
    "        X_list.append(sentence)"
   ]
  },
  {
   "cell_type": "code",
   "execution_count": 27,
   "id": "f9fdd377",
   "metadata": {},
   "outputs": [],
   "source": [
    "# Get bi-grams\n",
    "vect_bi_gram = CountVectorizer(max_features=10000, ngram_range = (2, 2))\n",
    "X2 = vect_bi_gram.fit_transform(X_list).toarray()\n",
    "#scores = (X2.toarray())\n",
    "#print(\"\\n\\nScores : \\n\", scores)\n",
    "  \n",
    "# Getting top ranking features\n",
    "#sums = X2.sum(axis = 0)\n",
    "#data1 = []\n",
    "#for col, term in enumerate(features):\n",
    "#    data1.append( (term, sums[0, col] ))\n",
    "#ranking = pd.DataFrame(data1, columns = ['term', 'rank'])\n",
    "#words = (ranking.sort_values('rank', ascending = False))\n",
    "#print (\"\\n\\nWords : \\n\", words.head(7))"
   ]
  },
  {
   "cell_type": "code",
   "execution_count": 29,
   "id": "38b94122",
   "metadata": {},
   "outputs": [],
   "source": [
    "# Get tri-grams\n",
    "vect_tri_gram = CountVectorizer(max_features=10000, ngram_range = (3, 3))\n",
    "X3 = vect_tri_gram.fit_transform(X).toarray()"
   ]
  },
  {
   "cell_type": "code",
   "execution_count": 36,
   "id": "27a969de",
   "metadata": {},
   "outputs": [],
   "source": [
    "X3_features = vect_tri_gram.get_feature_names()"
   ]
  },
  {
   "cell_type": "code",
   "execution_count": 37,
   "id": "b87b9f17",
   "metadata": {},
   "outputs": [
    {
     "data": {
      "text/plain": [
       "['100 billion dollar',\n",
       " '100 country urlweb',\n",
       " '100 in the',\n",
       " '100 solution to',\n",
       " '109c on urlweb',\n",
       " '11 terrifying climate',\n",
       " '12 globalgoals are',\n",
       " '125 min on',\n",
       " '13 year old',\n",
       " '150 year of',\n",
       " '15c global warming',\n",
       " '15c if we',\n",
       " '170 billion are',\n",
       " '19 house republican',\n",
       " '1991 film warned',\n",
       " '20 are suing',\n",
       " '20 year cause',\n",
       " '2008 due to',\n",
       " '2009 called for',\n",
       " '20102017 so sad',\n",
       " '2016 more american',\n",
       " '2016 set to',\n",
       " '2016 wa pivotal',\n",
       " '2016 wa the',\n",
       " '2020 to get',\n",
       " '2030 half the',\n",
       " '21 kid in',\n",
       " '21 kid on',\n",
       " '22000000000 year on',\n",
       " '2322climate change mention',\n",
       " '280 billion year',\n",
       " '30 year ago',\n",
       " '30 year of',\n",
       " '40 of the',\n",
       " '40 year of',\n",
       " '44 of honey',\n",
       " '50 year of',\n",
       " '500m to un',\n",
       " '50m year dana',\n",
       " '60000 indian farmer',\n",
       " '70 degree in',\n",
       " '80 degree in',\n",
       " '800000 year of',\n",
       " '82 degree and',\n",
       " '82 percent of',\n",
       " '90 degree in',\n",
       " '91 degree in',\n",
       " '97 of climate',\n",
       " '97 of scientist',\n",
       " '98 of scientist',\n",
       " 'abandoning climate change',\n",
       " 'abc news urlweb',\n",
       " 'abortion gay marriage',\n",
       " 'about catastrophic climate',\n",
       " 'about climate change',\n",
       " 'about climate change1',\n",
       " 'about climate changeurlweb',\n",
       " 'about donald trump',\n",
       " 'about fuck off',\n",
       " 'about global warming',\n",
       " 'about global warmingmelania',\n",
       " 'about how climate',\n",
       " 'about how global',\n",
       " 'about how our',\n",
       " 'about how shes',\n",
       " 'about is the',\n",
       " 'about job and',\n",
       " 'about rape and',\n",
       " 'about russia than',\n",
       " 'about that for',\n",
       " 'about the best',\n",
       " 'about the climate',\n",
       " 'about the danger',\n",
       " 'about the future',\n",
       " 'about the global',\n",
       " 'about the impact',\n",
       " 'about the link',\n",
       " 'about the risk',\n",
       " 'about to become',\n",
       " 'about to end',\n",
       " 'about to undo',\n",
       " 'about trump climate',\n",
       " 'about trump stance',\n",
       " 'about whether climate',\n",
       " 'about you http',\n",
       " 'abrupt climate change',\n",
       " 'abruptly cancel longplanned',\n",
       " 'absolutely disgusting how',\n",
       " 'abt climate change',\n",
       " 'abt global warming',\n",
       " 'accelerate global warming',\n",
       " 'accelerating on trump',\n",
       " 'accept climate change',\n",
       " 'accept the scientific',\n",
       " 'accept weather prediction',\n",
       " 'accepts climate change',\n",
       " 'access pipeline would',\n",
       " 'accord on climate',\n",
       " 'according to the',\n",
       " 'according to trump',\n",
       " 'accused of being',\n",
       " 'acknowledge climate change',\n",
       " 'across america to',\n",
       " 'across the country',\n",
       " 'act is now',\n",
       " 'act now before',\n",
       " 'act now to',\n",
       " 'act of war',\n",
       " 'act on climate',\n",
       " 'acting on climate',\n",
       " 'acting to mitigate',\n",
       " 'action against climate',\n",
       " 'action against global',\n",
       " 'action beforetheflood urlweb',\n",
       " 'action can lead',\n",
       " 'action it wi',\n",
       " 'action on climate',\n",
       " 'action our child',\n",
       " 'action re climate',\n",
       " 'action to address',\n",
       " 'action to curb',\n",
       " 'action to fight',\n",
       " 'action to stop',\n",
       " 'action unstoppable despite',\n",
       " 'activity is not',\n",
       " 'activity is the',\n",
       " 'actually ha very',\n",
       " 'actually it required',\n",
       " 'ad in nyt',\n",
       " 'adalah penyebab utama',\n",
       " 'adapt to climate',\n",
       " 'adaptation to climate',\n",
       " 'adaptation urlweb urlweb',\n",
       " 'adapting to climate',\n",
       " 'adapting to trump',\n",
       " 'add your name',\n",
       " 'add your voice',\n",
       " 'address climate change',\n",
       " 'address the health',\n",
       " 'addressing climate change',\n",
       " 'adjust to climate',\n",
       " 'admin fired top',\n",
       " 'administration climate change',\n",
       " 'administration give 500m',\n",
       " 'administration is desperate',\n",
       " 'administration just disbanded',\n",
       " 'administration urlweb urlweb',\n",
       " 'administrator scott pruitt',\n",
       " 'admit climate change',\n",
       " 'admit exxonknew about',\n",
       " 'admits climate change',\n",
       " 'admits scientist manipulated',\n",
       " 'advance climate change',\n",
       " 'adverse climate change',\n",
       " 'advised presidentelect trump',\n",
       " 'adviser say climate',\n",
       " 'advisor is clueless',\n",
       " 'advisory committee on',\n",
       " 'affect sea level',\n",
       " 'affected by climate',\n",
       " 'affected by global',\n",
       " 'affordability to climate',\n",
       " 'africa need to',\n",
       " 'after climate change',\n",
       " 'after epa head',\n",
       " 'after federal climate',\n",
       " 'after he question',\n",
       " 'after pruitts remark',\n",
       " 'after saying the',\n",
       " 'after the election',\n",
       " 'after trump inauguration',\n",
       " 'after uk try',\n",
       " 'after year of',\n",
       " 'ag highest potential',\n",
       " 'ag say tillerson',\n",
       " 'ag say urlweb',\n",
       " 'against abandoning climate',\n",
       " 'against climate change',\n",
       " 'against donald trump',\n",
       " 'against global warming',\n",
       " 'against it there',\n",
       " 'against our nation',\n",
       " 'against trump policy',\n",
       " 'against trump urlweb',\n",
       " 'age amp im',\n",
       " 'age and im',\n",
       " 'age of climate',\n",
       " 'agency deletes reference',\n",
       " 'agency manipulated data',\n",
       " 'agency reacts cautiously',\n",
       " 'agency that address',\n",
       " 'agenda immensely depressing',\n",
       " 'agenda urlweb urlweb',\n",
       " 'aggressive action on',\n",
       " 'ago urlweb via',\n",
       " 'agree climate change',\n",
       " 'agree fox news',\n",
       " 'agree that climate',\n",
       " 'agree that co2',\n",
       " 'agree that it',\n",
       " 'agreement designed by',\n",
       " 'agreement enters into',\n",
       " 'agreement in climate',\n",
       " 'agreement on climate',\n",
       " 'agreement to fight',\n",
       " 'agreement urlweb urlweb',\n",
       " 'agreement world first',\n",
       " 'agriculture is one',\n",
       " 'agriculture is the',\n",
       " 'agriculture victim of',\n",
       " 'ahead of climatemarch',\n",
       " 'ahead of obama',\n",
       " 'ahead of president',\n",
       " 'aid wasted on',\n",
       " 'aim at obamas',\n",
       " 'air and water',\n",
       " 'air pollution and',\n",
       " 'air pollution caused',\n",
       " 'air urlweb urlweb',\n",
       " 'air we breathe',\n",
       " 'aka global warming',\n",
       " 'al gore and',\n",
       " 'al gore climate',\n",
       " 'al gore is',\n",
       " 'al gore just',\n",
       " 'al gore new',\n",
       " 'al gore offer',\n",
       " 'al gore on',\n",
       " 'al gore say',\n",
       " 'al gore the',\n",
       " 'al gore told',\n",
       " 'al gore urlweb',\n",
       " 'al gore will',\n",
       " 'alarm energy department',\n",
       " 'algae bloom in',\n",
       " 'alias at exxon',\n",
       " 'alias email at',\n",
       " 'alias email to',\n",
       " 'alias in email',\n",
       " 'alias to communicate',\n",
       " 'alias used by',\n",
       " 'alias wayne tracker',\n",
       " 'aligns against trump',\n",
       " 'all about climate',\n",
       " 'all climate change',\n",
       " 'all doomed regardless',\n",
       " 'all global warming',\n",
       " 'all mention of',\n",
       " 'all need to',\n",
       " 'all of the',\n",
       " 'all over the',\n",
       " 'all reference to',\n",
       " 'all the climate',\n",
       " 'all the global',\n",
       " 'all the time',\n",
       " 'all these politician',\n",
       " 'all this global',\n",
       " 'all this penguin',\n",
       " 'all vote for',\n",
       " 'all we need',\n",
       " 'all zach you',\n",
       " 'alliance reality solarrich',\n",
       " 'almost ten year',\n",
       " 'already be game',\n",
       " 'already been washed',\n",
       " 'already having on',\n",
       " 'also at urlweb',\n",
       " 'also climate change',\n",
       " 'also doom planet',\n",
       " 'also say that',\n",
       " 'am going to',\n",
       " 'am prochoice and',\n",
       " 'amazon will continue',\n",
       " 'america but maybe',\n",
       " 'america climate change',\n",
       " 'america do we',\n",
       " 'america is about',\n",
       " 'america is going',\n",
       " 'america national park',\n",
       " 'america that officially',\n",
       " 'america to protest',\n",
       " 'america where we',\n",
       " 'american are eating',\n",
       " 'american are even',\n",
       " 'american climate change',\n",
       " 'american meteorological society',\n",
       " 'american than ever',\n",
       " 'american think about',\n",
       " 'american think climate',\n",
       " 'american want aggressive',\n",
       " 'amid climate change',\n",
       " 'among worst developed',\n",
       " 'amount of heat',\n",
       " 'amp action it',\n",
       " 'amp cancel billion',\n",
       " 'amp civil right',\n",
       " 'amp climate change',\n",
       " 'amp donald trump',\n",
       " 'amp enlist at',\n",
       " 'amp extinction worldveganday',\n",
       " 'amp fascist but',\n",
       " 'amp global warming',\n",
       " 'amp im going',\n",
       " 'amp need for',\n",
       " 'amp pesticide when',\n",
       " 'amp rangeland offer',\n",
       " 'amp tackling climate',\n",
       " 'amp we are',\n",
       " 'amp working together',\n",
       " 'an act of',\n",
       " 'an alarming rate',\n",
       " 'an alias email',\n",
       " 'an alias to',\n",
       " 'an america that',\n",
       " 'an antacid to',\n",
       " 'an eloquent plea',\n",
       " 'an email alias',\n",
       " 'an end to',\n",
       " 'an entire river',\n",
       " 'an entire study',\n",
       " 'an entire town',\n",
       " 'an executive order',\n",
       " 'an ice age',\n",
       " 'an idiotic netherworld',\n",
       " 'an impossible task',\n",
       " 'an inconvenient sequel',\n",
       " 'an inconvenient truth',\n",
       " 'an issue in',\n",
       " 'an open mind',\n",
       " 'an opportunity urlweb',\n",
       " 'an orbiting space',\n",
       " 'an outsider it',\n",
       " 'an uproar and',\n",
       " 'ancient indus civilisation',\n",
       " 'and action on',\n",
       " 'and amazon will',\n",
       " 'and believe it',\n",
       " 'and better job',\n",
       " 'and buying reusable',\n",
       " 'and by arm',\n",
       " 'and cannot be',\n",
       " 'and clean energy',\n",
       " 'and climate change',\n",
       " 'and contradicts the',\n",
       " 'and decided to',\n",
       " 'and defense expert',\n",
       " 'and deny climate',\n",
       " 'and denying climate',\n",
       " 'and diabetes researcher',\n",
       " 'and diabetes urlweb',\n",
       " 'and doesnt believe',\n",
       " 'and dont believe',\n",
       " 'and environmentalist say',\n",
       " 'and fight climate',\n",
       " 'and flood city',\n",
       " 'and for the',\n",
       " 'and global climate',\n",
       " 'and global warming',\n",
       " 'and health care',\n",
       " 'and health urlweb',\n",
       " 'and his new',\n",
       " 'and how it',\n",
       " 'and how we',\n",
       " 'and human right',\n",
       " 'and humanity race',\n",
       " 'and im going',\n",
       " 'and instead conspiracy',\n",
       " 'and investor worth',\n",
       " 'and it breathtaking',\n",
       " 'and it halloween',\n",
       " 'and it impact',\n",
       " 'and it not',\n",
       " 'and it terrifying',\n",
       " 'and it will',\n",
       " 'and lack of',\n",
       " 'and mark carney',\n",
       " 'and marsh are',\n",
       " 'and more frequent',\n",
       " 'and more urlweb',\n",
       " 'and national security',\n",
       " 'and now the',\n",
       " 'and of course',\n",
       " 'and on climate',\n",
       " 'and people are',\n",
       " 'and people still',\n",
       " 'and polar bear',\n",
       " 'and politically by',\n",
       " 'and possibly trump',\n",
       " 'and post your',\n",
       " 'and premier to',\n",
       " 'and prevent catastrophethis',\n",
       " 'and prince charles',\n",
       " 'and private jet',\n",
       " 'and refuse to',\n",
       " 'and right agree',\n",
       " 'and say climate',\n",
       " 'and slow climate',\n",
       " 'and solution to',\n",
       " 'and some of',\n",
       " 'and state the',\n",
       " 'and store carbon',\n",
       " 'and storm climate',\n",
       " 'and tell him',\n",
       " 'and tell me',\n",
       " 'and tell them',\n",
       " 'and that might',\n",
       " 'and that we',\n",
       " 'and the economy',\n",
       " 'and the environment',\n",
       " 'and the global',\n",
       " 'and the high',\n",
       " 'and the importance',\n",
       " 'and the kkk',\n",
       " 'and the need',\n",
       " 'and the poor',\n",
       " 'and the presidentelect',\n",
       " 'and the world',\n",
       " 'and there are',\n",
       " 'and this is',\n",
       " 'and trump is',\n",
       " 'and visualization of',\n",
       " 'and wait what',\n",
       " 'and want to',\n",
       " 'and watered every',\n",
       " 'and we believe',\n",
       " 'and why we',\n",
       " 'and woman right',\n",
       " 'and you have',\n",
       " 'and you los',\n",
       " 'and your friend',\n",
       " 'anemone crack in',\n",
       " 'angry caller after',\n",
       " 'animal agriculture is',\n",
       " 'announces plan to',\n",
       " 'another agency deletes',\n",
       " 'another climate change',\n",
       " 'another deadly consequence',\n",
       " 'another global warming',\n",
       " 'another killer episode',\n",
       " 'another reason to',\n",
       " 'another recordbreaking weather',\n",
       " 'another trump advisor',\n",
       " 'answer to climate',\n",
       " 'antacid to relieve',\n",
       " 'antarctica he there',\n",
       " 'antarctica is horrible',\n",
       " 'antarctica is starting',\n",
       " 'antarctica southern ocean',\n",
       " 'anthropogenic climate change',\n",
       " 'anti climate change',\n",
       " 'antiglobal warming effort',\n",
       " 'anxiety ptsd the',\n",
       " 'any climate change',\n",
       " 'any leader ha',\n",
       " 'any mention of',\n",
       " 'any serious hope',\n",
       " 'anyone think global',\n",
       " 'anything about climate',\n",
       " 'anything but urlweb',\n",
       " 'anything for my',\n",
       " 'anything to do',\n",
       " 'apologize to the',\n",
       " 'apparently climate change',\n",
       " 'appear to be',\n",
       " 'apple google microsoft',\n",
       " 'apple make an',\n",
       " 'appointed climate change',\n",
       " 'approach the environment',\n",
       " 'approach to climate',\n",
       " 'arabian sea tied',\n",
       " 'arctic climate change',\n",
       " 'arctic ice melt',\n",
       " 'arctic make it',\n",
       " 'arctic sea ice',\n",
       " 'are adapting to',\n",
       " 'are all zach',\n",
       " 'are among the',\n",
       " 'are being affected',\n",
       " 'are being shaped',\n",
       " 'are born gay',\n",
       " 'are caused by',\n",
       " 'are causing climate',\n",
       " 'are causing global',\n",
       " 'are causing it',\n",
       " 'are climate change',\n",
       " 'are committed to',\n",
       " 'are concerned about',\n",
       " 'are directly linked',\n",
       " 'are disproportionately affected',\n",
       " 'are eating le',\n",
       " 'are enormously high',\n",
       " 'are even le',\n",
       " 'are fighting back',\n",
       " 'are going to',\n",
       " 'are happening now',\n",
       " 'are ignoring global',\n",
       " 'are in the',\n",
       " 'are key in',\n",
       " 'are key to',\n",
       " 'are launching fund',\n",
       " 'are leading the',\n",
       " 'are learning to',\n",
       " 'are like climate',\n",
       " 'are millennial value',\n",
       " 'are more likely',\n",
       " 'are nice but',\n",
       " 'are not wanting',\n",
       " 'are on the',\n",
       " 'are our best',\n",
       " 'are people who',\n",
       " 'are responsible for',\n",
       " 'are sign of',\n",
       " 'are so bad',\n",
       " 'are so fucked',\n",
       " 'are spending on',\n",
       " 'are spreading braininvading',\n",
       " 'are suing the',\n",
       " 'are taking climate',\n",
       " 'are taking the',\n",
       " 'are talking about',\n",
       " 'are the cause',\n",
       " 'are the majority',\n",
       " 'are the most',\n",
       " 'are the primary',\n",
       " 'are the reason',\n",
       " 'are threatened by',\n",
       " 'are to blame',\n",
       " 'are trying to',\n",
       " 'are very concerned',\n",
       " 'are we at',\n",
       " 'are we looking',\n",
       " 'are willing to',\n",
       " 'are worried about',\n",
       " 'are wrong about',\n",
       " 'are you climate',\n",
       " 'are you going',\n",
       " 'are you interested',\n",
       " 'are you saying',\n",
       " 'are your thought',\n",
       " 'are your view',\n",
       " 'arent being discussed',\n",
       " 'arent gonna be',\n",
       " 'arent the cause',\n",
       " 'arguably the biggest',\n",
       " 'argue climate change',\n",
       " 'arm mean flipper',\n",
       " 'arm on climate',\n",
       " 'arnold schwarzenegger team',\n",
       " 'around climate change',\n",
       " 'around the globe',\n",
       " 'around the sun',\n",
       " 'around the world',\n",
       " 'around the worldespecial',\n",
       " 'article about climate',\n",
       " 'article on climate',\n",
       " 'artist visualised what',\n",
       " 'aside from climate',\n",
       " 'ask for exxons',\n",
       " 'ask me what',\n",
       " 'asked about climate',\n",
       " 'asked me what',\n",
       " 'askedemail mention on',\n",
       " 'asks david rose',\n",
       " 'at all the',\n",
       " 'at an alarming',\n",
       " 'at an america',\n",
       " 'at climate change',\n",
       " 'at cop22 on',\n",
       " 'at donald trump',\n",
       " 'at every level',\n",
       " 'at exxon mobil',\n",
       " 'at exxon to',\n",
       " 'at exxon urlweb',\n",
       " 'at g20 world',\n",
       " 'at global level',\n",
       " 'at global warming',\n",
       " 'at great barrier',\n",
       " 'at it finest',\n",
       " 'at least he',\n",
       " 'at obamas effort',\n",
       " 'at odds with',\n",
       " 'at risk climate',\n",
       " 'at risk from',\n",
       " 'at risk urlweb',\n",
       " 'at stake hillary',\n",
       " 'at stake urlweb',\n",
       " 'at the climate',\n",
       " 'at the epa',\n",
       " 'at the forefront',\n",
       " 'at the g20',\n",
       " 'at the headline',\n",
       " 'at the local',\n",
       " 'at the same',\n",
       " 'at the un',\n",
       " 'at the urlweb',\n",
       " 'at the very',\n",
       " 'at thinking about',\n",
       " 'at this point',\n",
       " 'at trump climate',\n",
       " 'at trump over',\n",
       " 'at trump request',\n",
       " 'at urlweb http',\n",
       " 'at urlweb patriot',\n",
       " 'at what point',\n",
       " 'at your university',\n",
       " 'atmosphere an antacid',\n",
       " 'atmosphere hit new',\n",
       " 'attack climate change',\n",
       " 'attack the only',\n",
       " 'attacking climate change',\n",
       " 'attend climate change',\n",
       " 'attended climate change',\n",
       " 'attention to climate',\n",
       " 'attorney general suing',\n",
       " 'attorney general uncovers',\n",
       " 'auspol urlweb urlweb',\n",
       " 'australia pm adviser',\n",
       " 'australia ranked among',\n",
       " 'australian coastline glow',\n",
       " 'author explains why',\n",
       " 'avoid climate change',\n",
       " 'avoid worst effect',\n",
       " 'avoiding dangerous global',\n",
       " 'awareness about climate',\n",
       " 'awareness about global',\n",
       " 'away due to',\n",
       " 'away it wa',\n",
       " 'away moron you',\n",
       " 'away obama climate',\n",
       " 'back against climate',\n",
       " 'back at trump',\n",
       " 'back climate change',\n",
       " 'back down on',\n",
       " 'back in the',\n",
       " 'back obamas climate',\n",
       " 'back on thanks',\n",
       " 'back out of',\n",
       " 'back to the',\n",
       " 'back use of',\n",
       " 'bad at thinking',\n",
       " 'bad climate change',\n",
       " 'bad news for',\n",
       " 'badlands national park',\n",
       " 'balk at trump',\n",
       " 'ban kimoon at',\n",
       " 'ban use of',\n",
       " 'bangladesh globalwarning urlweb',\n",
       " 'bannon mean bye',\n",
       " 'barefoot across america',\n",
       " 'barrier reef is',\n",
       " 'barrier reef scientist',\n",
       " 'barrier reef urlweb',\n",
       " 'barrier urlweb greatbarrierreef',\n",
       " 'bartholomew delivers strongest',\n",
       " 'based on the',\n",
       " 'battle against climate',\n",
       " 'battle climate change',\n",
       " 'battle the trump',\n",
       " 'battling climate change',\n",
       " 'bbc news urlweb',\n",
       " 'bc climate change',\n",
       " 'bc global warming',\n",
       " 'bc of climate',\n",
       " 'bc of global',\n",
       " 'be able to',\n",
       " 'be about to',\n",
       " 'be affected by',\n",
       " 'be bleached anemone',\n",
       " 'be climate change',\n",
       " 'be expensive calculate',\n",
       " 'be game over',\n",
       " 'be global warming',\n",
       " 'be good issue',\n",
       " 'be great time',\n",
       " 'be huge blow',\n",
       " 'be ignored urlweb',\n",
       " 'be in the',\n",
       " 'be le of',\n",
       " 'be more conflict',\n",
       " 'be most affected',\n",
       " 'be nice to',\n",
       " 'be out of',\n",
       " 'be partisan issue',\n",
       " 'be putting up',\n",
       " 'be reeling from',\n",
       " 'be safely ignored',\n",
       " 'be singleissue voter',\n",
       " 'be sure to',\n",
       " 'be the best',\n",
       " 'be the cause',\n",
       " 'be the first',\n",
       " 'be the hottest',\n",
       " 'be the most',\n",
       " 'be the only',\n",
       " 'be the turning',\n",
       " 'be the world',\n",
       " 'be trying to',\n",
       " 'be underwater by',\n",
       " 'be underwater once',\n",
       " 'be waste of',\n",
       " 'be world leader',\n",
       " 'be worried about',\n",
       " 'be young climate',\n",
       " 'bear are being',\n",
       " 'bear for global',\n",
       " 'beat climate change',\n",
       " 'beat it urlweb',\n",
       " 'beautyand effect of',\n",
       " 'because climate change',\n",
       " 'because global warming',\n",
       " 'because it is',\n",
       " 'because of climate',\n",
       " 'because of global',\n",
       " 'because of the',\n",
       " 'because she belief',\n",
       " 'because your husband',\n",
       " 'become the only',\n",
       " 'becomes highestranking official',\n",
       " 'bedif you think',\n",
       " 'bee are dying',\n",
       " 'bee colony died',\n",
       " 'bee die we',\n",
       " 'beef and that',\n",
       " 'beef here why',\n",
       " 'been behind climate',\n",
       " 'been deleted from',\n",
       " 'been talking about',\n",
       " 'been underestimated urlweb',\n",
       " 'been washed away',\n",
       " 'before climate change',\n",
       " 'before entire specie',\n",
       " 'before global fascist',\n",
       " 'before global warming',\n",
       " 'before go to',\n",
       " 'before it too',\n",
       " 'before the flood',\n",
       " 'beforetheflood at your',\n",
       " 'beforetheflood for free',\n",
       " 'beforetheflood on tonight',\n",
       " 'beforetheflood right here',\n",
       " 'begin tearing up',\n",
       " 'begs to differ',\n",
       " 'begun censoring use',\n",
       " 'behind by global',\n",
       " 'behind climate change',\n",
       " 'behind global warming',\n",
       " 'behind on climate',\n",
       " 'beijing embassy resigns',\n",
       " 'being affected by',\n",
       " 'being climate change',\n",
       " 'being discussed urlweb',\n",
       " 'being donald trump',\n",
       " 'being driven to',\n",
       " 'being filled with',\n",
       " 'being gay is',\n",
       " 'being left behind',\n",
       " 'being shaped by',\n",
       " 'being transformed by',\n",
       " 'being washed away',\n",
       " 'belief about climate',\n",
       " 'belief climate change',\n",
       " 'belief global warming',\n",
       " 'belief in climate',\n",
       " 'belief in global',\n",
       " 'belief that global',\n",
       " 'believe carbon dioxide',\n",
       " 'believe climate change',\n",
       " 'believe global warming',\n",
       " 'believe he saw',\n",
       " 'believe in climate',\n",
       " 'believe in equality',\n",
       " 'believe in evolution',\n",
       " 'believe in global',\n",
       " 'believe in god',\n",
       " 'believe in gravity',\n",
       " 'believe in it',\n",
       " 'believe in man',\n",
       " 'believe in manmade',\n",
       " 'believe in science',\n",
       " 'believe in the',\n",
       " 'believe it real',\n",
       " 'believe manmade global',\n",
       " 'believe that climate',\n",
       " 'believe that global',\n",
       " 'believe this gif',\n",
       " 'believed in climate',\n",
       " 'believing climate change',\n",
       " 'believing in climate',\n",
       " 'below degree is',\n",
       " 'berlin is called',\n",
       " 'bernie sander call',\n",
       " 'best earth ever',\n",
       " 'best hope now',\n",
       " 'best there is',\n",
       " 'best time to',\n",
       " 'best way to',\n",
       " 'bet any leader',\n",
       " 'bet france un',\n",
       " 'better job info',\n",
       " 'between climate change',\n",
       " 'between global warming',\n",
       " 'beyond climate change',\n",
       " 'beyond ideology how',\n",
       " 'biden urge canada',\n",
       " 'big climate change',\n",
       " 'big deal urlweb',\n",
       " 'big of problem',\n",
       " 'bigger earth it',\n",
       " 'bigger issue than',\n",
       " 'bigger threat than',\n",
       " 'biggest bet any',\n",
       " 'biggest champion of',\n",
       " 'biggest contributor to',\n",
       " 'biggest threat to',\n",
       " 'biggest threat we',\n",
       " 'bigoted climate change',\n",
       " 'bill gate and',\n",
       " 'bill nye blow',\n",
       " 'bill nye slam',\n",
       " 'billion are launching',\n",
       " 'billion dollar in',\n",
       " 'billion in global',\n",
       " 'billion of dollar',\n",
       " 'billion over manipulated',\n",
       " 'billion solar panel',\n",
       " 'billion year coastal',\n",
       " 'binge dangerous climate',\n",
       " 'biosphere in counteracting',\n",
       " 'bitterly cold winter',\n",
       " 'black life matter',\n",
       " 'blame climate change',\n",
       " 'blame for global',\n",
       " 'blame global warming',\n",
       " 'blame it on',\n",
       " 'blame trump for',\n",
       " 'blame you for',\n",
       " 'blaming global warming',\n",
       " 'bleached anemone crack',\n",
       " 'bleak view from',\n",
       " 'blind eye to',\n",
       " 'blocking climate change',\n",
       " 'blog urlweb amreading',\n",
       " 'bloom in arabian',\n",
       " 'bloomberg and mark',\n",
       " 'bloomberg say city',\n",
       " 'bloomberg to world',\n",
       " 'blow gasket when',\n",
       " 'blow to our',\n",
       " 'blow to the',\n",
       " 'blower charge urlweb',\n",
       " 'board for bouncing',\n",
       " 'bolder action our',\n",
       " 'boo after saying',\n",
       " 'book ahead of',\n",
       " 'book on climate',\n",
       " 'born gay cant',\n",
       " 'boston globe urlweb',\n",
       " 'bottle minute world',\n",
       " 'bottle wont stop',\n",
       " 'bouncing idea on',\n",
       " 'bout climate change',\n",
       " 'brace yourself for',\n",
       " 'brag about rape',\n",
       " 'brain youre broke',\n",
       " 'braininvading worm by',\n",
       " 'brave new world',\n",
       " 'breaking president donald',\n",
       " 'breaking president trump',\n",
       " 'breaking up 200millionyearold',\n",
       " 'breath and climate',\n",
       " 'breitbaover climate change',\n",
       " 'breitbart yes climate',\n",
       " 'breitbarts steve bannon',\n",
       " 'bret stephen oped',\n",
       " 'brexit and trump',\n",
       " 'brexit to berlin',\n",
       " 'brian stelter destroyed',\n",
       " 'brief transnational climate',\n",
       " 'bright side maybe',\n",
       " 'bring in postbrexit',\n",
       " 'bring up climate',\n",
       " 'bring world peace',\n",
       " 'bringing nuclear winter',\n",
       " 'british aid wasted',\n",
       " 'bro our next',\n",
       " 'broadcast news coverage',\n",
       " 'broke nuclear war',\n",
       " 'broken integrity rule',\n",
       " 'brought global warming',\n",
       " 'brought on by',\n",
       " 'brought to you',\n",
       " 'brown call trump',\n",
       " 'brown challenge trump',\n",
       " 'brown vow california',\n",
       " 'brown warns trump',\n",
       " 'buck trump call',\n",
       " 'bucking their party',\n",
       " 'budget ax editorial',\n",
       " 'budget chief on',\n",
       " 'budget cut to',\n",
       " 'budget envisions government',\n",
       " 'budget in favour',\n",
       " 'budget would mean',\n",
       " 'budget would torpedo',\n",
       " 'buhari to attend',\n",
       " 'build climate change',\n",
       " 'build new earth',\n",
       " 'build resilience to',\n",
       " 'build wall at',\n",
       " 'building wall around',\n",
       " 'bullshitter bret stephen',\n",
       " 'bunch of oxford',\n",
       " 'bunk awful news',\n",
       " 'burning is bigger',\n",
       " 'bury it own',\n",
       " 'bushif we could',\n",
       " 'business and investor',\n",
       " 'business insider urlweb',\n",
       " 'business must continue',\n",
       " 'business woefully unprepared',\n",
       " 'business world recognizes',\n",
       " 'busy dealing with',\n",
       " 'but at least',\n",
       " 'but at the',\n",
       " 'but but but',\n",
       " 'but but global',\n",
       " 'but climate change',\n",
       " 'but could one',\n",
       " 'but deep down',\n",
       " 'but deny climate',\n",
       " 'but do know',\n",
       " 'but doe it',\n",
       " 'but doe not',\n",
       " 'but dont believe',\n",
       " 'but dont worry',\n",
       " 'but global warming',\n",
       " 'but how can',\n",
       " 'but if you',\n",
       " 'but ill be',\n",
       " 'but im not',\n",
       " 'but instead we',\n",
       " 'but is most',\n",
       " 'but it being',\n",
       " 'but it had',\n",
       " 'but it is',\n",
       " 'but it might',\n",
       " 'but it still',\n",
       " 'but it wa',\n",
       " 'but just relevant',\n",
       " 'but like global',\n",
       " 'but louisiana wont',\n",
       " 'but low key',\n",
       " 'but maralago could',\n",
       " 'but maybe we',\n",
       " 'but no climate',\n",
       " 'but not climate',\n",
       " 'but not for',\n",
       " 'but now it',\n",
       " 'but nuclear winter',\n",
       " 'but of course',\n",
       " 'but on the',\n",
       " 'but only if',\n",
       " 'but other country',\n",
       " 'but people like',\n",
       " 'but shes woman',\n",
       " 'but sorry climate',\n",
       " 'but that doesnt',\n",
       " 'but the best',\n",
       " 'but the red',\n",
       " 'but the rest',\n",
       " 'but the science',\n",
       " 'but the truth',\n",
       " 'but there are',\n",
       " 'but there is',\n",
       " 'but there no',\n",
       " 'but these chart',\n",
       " 'but theyre being',\n",
       " 'but this is',\n",
       " 'but thought climate',\n",
       " 'but trump doesnt',\n",
       " 'but we can',\n",
       " 'but we need',\n",
       " 'but what about',\n",
       " 'but what are',\n",
       " 'but whats that',\n",
       " 'but wont give',\n",
       " 'but you have',\n",
       " 'but you know',\n",
       " 'but you still',\n",
       " 'buy climate change',\n",
       " 'buying reusable bottle',\n",
       " 'buying this crap',\n",
       " 'by 10 year',\n",
       " 'by 2008 due',\n",
       " 'by 2030 half',\n",
       " 'by 2050 due',\n",
       " 'by 21 kid',\n",
       " 'by accident urlweb',\n",
       " 'by addressing climate',\n",
       " 'by and for',\n",
       " ...]"
      ]
     },
     "execution_count": 37,
     "metadata": {},
     "output_type": "execute_result"
    }
   ],
   "source": [
    "X3_features"
   ]
  },
  {
   "cell_type": "code",
   "execution_count": null,
   "id": "da3b8eca",
   "metadata": {},
   "outputs": [],
   "source": []
  },
  {
   "cell_type": "code",
   "execution_count": null,
   "id": "5d855cb3",
   "metadata": {},
   "outputs": [],
   "source": []
  },
  {
   "cell_type": "code",
   "execution_count": null,
   "id": "116f064c",
   "metadata": {},
   "outputs": [],
   "source": []
  },
  {
   "cell_type": "code",
   "execution_count": null,
   "id": "6007c676",
   "metadata": {},
   "outputs": [],
   "source": []
  },
  {
   "cell_type": "code",
   "execution_count": null,
   "id": "afbe000b",
   "metadata": {},
   "outputs": [],
   "source": []
  },
  {
   "cell_type": "markdown",
   "id": "a0a456e7",
   "metadata": {},
   "source": [
    "# DONT RUN"
   ]
  },
  {
   "cell_type": "markdown",
   "id": "a538ff7a",
   "metadata": {},
   "source": [
    "The text feature extraction module called CountVectorizer is used to convert a collection of documents (rows of text) into a matrix of token counts."
   ]
  },
  {
   "cell_type": "markdown",
   "id": "e9e14d71",
   "metadata": {},
   "source": [
    "# create vectorizer instance\n",
    "vect = TfidfVectorizer() #CountVectorizer()\n",
    "\n",
    "#fit vectorizer\n",
    "vect.fit(df_train['clean_message'])"
   ]
  },
  {
   "cell_type": "markdown",
   "id": "11526265",
   "metadata": {},
   "source": [
    "# NUM of predictors\n",
    "print(len(vect.vocabulary_))"
   ]
  },
  {
   "cell_type": "markdown",
   "id": "efcfb35b",
   "metadata": {},
   "source": [
    "#transform features to numbers for modelling\n",
    "vect_transform=vect.transform(df_train['clean_message'])\n",
    "\n",
    "# Get shape of our predictive variables\n",
    "vect_transform.shape"
   ]
  },
  {
   "cell_type": "markdown",
   "id": "ec9cdc60",
   "metadata": {},
   "source": [
    "#total number of words in corpus\n",
    "total_corpus=sum(vect_transform.toarray().sum(axis=0))\n",
    "total_corpus"
   ]
  },
  {
   "cell_type": "markdown",
   "id": "78280618",
   "metadata": {},
   "source": [
    "We can seee that there are a features, some of which correspond to words which only appear once. Not all of them are very useful, we must therefore tune vectorizer."
   ]
  },
  {
   "cell_type": "markdown",
   "id": "72ea0abd",
   "metadata": {},
   "source": [
    "#betterVect = CountVectorizer(stop_words='english',max_features=10000) \n",
    "betterVect = TfidfVectorizer(stop_words='english',max_features=10000) \n",
    "\n",
    "betterVect.fit(df_train['clean_message'])"
   ]
  },
  {
   "cell_type": "markdown",
   "id": "1b7da068",
   "metadata": {},
   "source": [
    "betterVect_transform=betterVect.transform(df_train['clean_message'])\n",
    "\n",
    "# Get shape of our predictive variables\n",
    "betterVect_transform.shape"
   ]
  },
  {
   "cell_type": "markdown",
   "id": "836c2f51",
   "metadata": {},
   "source": [
    "#get total words in better corpus\n",
    "total_better_corpus=sum(betterVect_transform.toarray().sum(axis=0))\n",
    "total_better_corpus"
   ]
  },
  {
   "cell_type": "markdown",
   "id": "f6bb9827",
   "metadata": {},
   "source": [
    "#percentage of words used \n",
    "feature_percentage=round((total_better_corpus/total_corpus)*100)\n",
    "feature_percentage"
   ]
  },
  {
   "cell_type": "markdown",
   "id": "4c766468",
   "metadata": {},
   "source": [
    "We will use 89 percent of the word in the total corpus."
   ]
  },
  {
   "cell_type": "markdown",
   "id": "bd94186b",
   "metadata": {},
   "source": [
    "#### Scaling"
   ]
  },
  {
   "cell_type": "markdown",
   "id": "b25e6f31",
   "metadata": {},
   "source": [
    "#scaling X\n",
    "\n",
    "# define the scaler module\n",
    "scaler = preprocessing.MinMaxScaler()\n",
    "\n",
    "X_scaled=betterVect_transform.toarray()\n",
    "\n",
    "# Scale data\n",
    "X_scaled = scaler.fit_transform(X_scaled)"
   ]
  },
  {
   "cell_type": "markdown",
   "id": "9c083960",
   "metadata": {},
   "source": [
    "### 4.7 Balancing the classes"
   ]
  },
  {
   "cell_type": "markdown",
   "id": "793ca3ff",
   "metadata": {},
   "source": [
    "# CONTINUE"
   ]
  },
  {
   "cell_type": "code",
   "execution_count": 58,
   "id": "5266b89e",
   "metadata": {},
   "outputs": [],
   "source": [
    "le = LabelEncoder()\n",
    "y_enc = le.fit_transform(y)"
   ]
  },
  {
   "cell_type": "code",
   "execution_count": 38,
   "id": "9efad73e",
   "metadata": {},
   "outputs": [
    {
     "data": {
      "text/plain": [
       "0        1\n",
       "1        1\n",
       "2        2\n",
       "3        1\n",
       "4        1\n",
       "        ..\n",
       "15814    1\n",
       "15815    2\n",
       "15816    0\n",
       "15817   -1\n",
       "15818    0\n",
       "Name: sentiment, Length: 15819, dtype: int64"
      ]
     },
     "execution_count": 38,
     "metadata": {},
     "output_type": "execute_result"
    }
   ],
   "source": [
    "y"
   ]
  },
  {
   "cell_type": "code",
   "execution_count": 39,
   "id": "7db957d1",
   "metadata": {},
   "outputs": [],
   "source": [
    "\n",
    "# split into input and output elements\n",
    "#X=X_scaled\n",
    "#y=df_train['sentiment']\n",
    "\n",
    "# Get training and testing data \n",
    "X_train, X_test, y_train, y_test = train_test_split(X2, y, test_size=0.2, random_state=42)\n",
    "\n",
    "# summarize distribution\n",
    "#counter = Counter(y_train)\n",
    "#for k,v in counter.items():\n",
    "#    per = v / len(y) * 100\n",
    "#    print('Class=%d, n=%d (%.3f%%)' % (k, v, per))\n",
    "# plot the distribution\n",
    "#plt.bar(counter.keys(), counter.values())\n",
    "#plt.show()"
   ]
  },
  {
   "cell_type": "code",
   "execution_count": null,
   "id": "ae29eb18",
   "metadata": {},
   "outputs": [],
   "source": [
    "from sklearn.model_selection import RepeatedStratifiedKFold\n",
    "\n",
    "# define models and parameters\n",
    "model = RandomForestClassifier\n",
    "n_estimators = [10, 100, 1000]\n",
    "max_features = ['sqrt', 'log2']\n",
    "# define grid search\n",
    "grid = dict(n_estimators=n_estimators,max_features=max_features)\n",
    "cv = RepeatedStratifiedKFold(n_splits=10, n_repeats=3, random_state=1)\n",
    "grid_search = GridSearchCV(estimator=model, param_grid=grid, n_jobs=-1, cv=cv, scoring='fi_macro')\n",
    "grid_result = grid_search.fit(X, y)\n",
    "# summarize results\n",
    "print(\"Best: %f using %s\" % (grid_result.best_score_, grid_result.best_params_))\n",
    "means = grid_result.cv_results_['mean_test_score']\n",
    "stds = grid_result.cv_results_['std_test_score']\n",
    "params = grid_result.cv_results_['params']\n",
    "for mean, stdev, param in zip(means, stds, params):\n",
    "    print(\"%f (%f) with: %r\" % (mean, stdev, param))"
   ]
  },
  {
   "cell_type": "markdown",
   "id": "e24c21df",
   "metadata": {},
   "source": [
    "# summarize distribution\n",
    "counter = Counter(y_train)\n",
    "for k,v in counter.items():\n",
    "    per = round(v / len(y) * 100,1)\n",
    "    print('Class=%d, n=%d (%.1f%%)' % (k, v, per))\n",
    "# plot the distribution\n",
    "plt.bar(counter.keys(), counter.values())\n",
    "plt.show()"
   ]
  },
  {
   "cell_type": "code",
   "execution_count": 40,
   "id": "eadac560",
   "metadata": {},
   "outputs": [],
   "source": [
    "# transform the dataset\n",
    "oversample = SMOTE()\n",
    "\n",
    "X_sample, y_sample = oversample.fit_resample(X_train, y_train)\n",
    "# summarize distribution\n",
    "#counter = Counter(y_sample)\n",
    "#for k,v in counter.items():\n",
    "#    per = v / len(y) * 100\n",
    "#    print('Class=%d, n=%d (%.3f%%)' % (k, v, per))\n",
    "# plot the distribution\n",
    "#plt.bar(counter.keys(), counter.values())\n",
    "#plt.show()"
   ]
  },
  {
   "cell_type": "markdown",
   "id": "efcd4c85",
   "metadata": {},
   "source": [
    "### 4.7 Preparing the test dataset"
   ]
  },
  {
   "cell_type": "code",
   "execution_count": 63,
   "id": "5e32cb2b",
   "metadata": {},
   "outputs": [],
   "source": [
    "df_test = pd.read_csv('test.csv')\n",
    "#df_test.info()"
   ]
  },
  {
   "cell_type": "code",
   "execution_count": 64,
   "id": "55b62499",
   "metadata": {},
   "outputs": [
    {
     "data": {
      "text/html": [
       "<div>\n",
       "<style scoped>\n",
       "    .dataframe tbody tr th:only-of-type {\n",
       "        vertical-align: middle;\n",
       "    }\n",
       "\n",
       "    .dataframe tbody tr th {\n",
       "        vertical-align: top;\n",
       "    }\n",
       "\n",
       "    .dataframe thead th {\n",
       "        text-align: right;\n",
       "    }\n",
       "</style>\n",
       "<table border=\"1\" class=\"dataframe\">\n",
       "  <thead>\n",
       "    <tr style=\"text-align: right;\">\n",
       "      <th></th>\n",
       "      <th>message</th>\n",
       "      <th>tweetid</th>\n",
       "      <th>clean_message</th>\n",
       "    </tr>\n",
       "  </thead>\n",
       "  <tbody>\n",
       "    <tr>\n",
       "      <th>0</th>\n",
       "      <td>europe will now be looking to china to make sure that it is not alone in fighting climate change… url-web</td>\n",
       "      <td>169760</td>\n",
       "      <td>europe looking china make sure alone fighting climate change urlweb</td>\n",
       "    </tr>\n",
       "    <tr>\n",
       "      <th>1</th>\n",
       "      <td>combine this with the polling of staffers re climate change and womens' rights and you have a fascist state. url-web</td>\n",
       "      <td>35326</td>\n",
       "      <td>combine polling staffer climate change woman right fascist state urlweb</td>\n",
       "    </tr>\n",
       "    <tr>\n",
       "      <th>2</th>\n",
       "      <td>the scary, unimpeachable evidence that climate change is already here: url-web #itstimetochange #climatechange @zeroco2_;..</td>\n",
       "      <td>224985</td>\n",
       "      <td>scary unimpeachable evidence climate change already urlweb itstimetochange climatechange</td>\n",
       "    </tr>\n",
       "    <tr>\n",
       "      <th>3</th>\n",
       "      <td>@karoli @morgfair @osborneink @dailykos \\nputin got to you too jill ! \\ntrump doesn't believe in climate change at all \\nthinks it's s hoax</td>\n",
       "      <td>476263</td>\n",
       "      <td>putin got jill trump doesnt believe climate change think hoax</td>\n",
       "    </tr>\n",
       "    <tr>\n",
       "      <th>4</th>\n",
       "      <td>rt @fakewillmoore: 'female orgasms cause global warming!'\\n-sarcastic republican</td>\n",
       "      <td>872928</td>\n",
       "      <td>female orgasm cause global warmingsarcastic republican</td>\n",
       "    </tr>\n",
       "  </tbody>\n",
       "</table>\n",
       "</div>"
      ],
      "text/plain": [
       "                                                                                                                                       message  \\\n",
       "0                                    europe will now be looking to china to make sure that it is not alone in fighting climate change… url-web   \n",
       "1                         combine this with the polling of staffers re climate change and womens' rights and you have a fascist state. url-web   \n",
       "2                  the scary, unimpeachable evidence that climate change is already here: url-web #itstimetochange #climatechange @zeroco2_;..   \n",
       "3  @karoli @morgfair @osborneink @dailykos \\nputin got to you too jill ! \\ntrump doesn't believe in climate change at all \\nthinks it's s hoax   \n",
       "4                                                             rt @fakewillmoore: 'female orgasms cause global warming!'\\n-sarcastic republican   \n",
       "\n",
       "   tweetid  \\\n",
       "0   169760   \n",
       "1    35326   \n",
       "2   224985   \n",
       "3   476263   \n",
       "4   872928   \n",
       "\n",
       "                                                                              clean_message  \n",
       "0                       europe looking china make sure alone fighting climate change urlweb  \n",
       "1                   combine polling staffer climate change woman right fascist state urlweb  \n",
       "2  scary unimpeachable evidence climate change already urlweb itstimetochange climatechange  \n",
       "3                             putin got jill trump doesnt believe climate change think hoax  \n",
       "4                                    female orgasm cause global warmingsarcastic republican  "
      ]
     },
     "execution_count": 64,
     "metadata": {},
     "output_type": "execute_result"
    }
   ],
   "source": [
    "#removing the web-urls\n",
    "pattern_url = r'http[s]?://(?:[A-Za-z]|[0-9]|[$-_@.&+]|[!*\\(\\),]|(?:%[0-9A-Fa-f][0-9A-Fa-f]))+'\n",
    "subs_url = r'url-web'\n",
    "df_test['message'] = df_test['message'].replace(to_replace = pattern_url, value = subs_url, regex = True)\n",
    "\n",
    "# Lowercase conversion\n",
    "df_test['message'] = df_test['message'].str.lower()\n",
    "\n",
    "#Removing punctuation and special characters\n",
    "def data_cleaning(tweet):\n",
    "    tweet = re.sub(r'@[a-z0-9]+', '', tweet) # removing mentions\n",
    "    tweet = re.sub(r'#', '', tweet) # remove #\n",
    "    tweet = re.sub(r'rt[\\s]+', '', tweet) # remove retweets(`rt`)\n",
    "    #tweet = re.sub(r'url-web', '', tweet) # remove web-urls\n",
    "    \n",
    "    return tweet\n",
    "\n",
    "df_test['clean_message'] = df_test['message'].apply(data_cleaning)\n",
    "\n",
    "# Remove special characters using NeatText\n",
    "df_test['clean_message'] = df_test['clean_message'].apply(nt.remove_special_characters)\n",
    "\n",
    "\n",
    " ### 4.4 Lemmatization\n",
    "lemmatizer = WordNetLemmatizer()\n",
    "\n",
    "def lemma(words, lemmatizer):\n",
    "    return ' '.join(([lemmatizer.lemmatize(word) for word in words.split()]))\n",
    "\n",
    "df_test['clean_message'] = df_test['clean_message'].apply(lemma, args=(lemmatizer, ))\n",
    "\n",
    "#remove stop words\n",
    "stop = stopwords.words('english')\n",
    "\n",
    "df_test['clean_message']= df_test['clean_message'].apply(lambda x: ' '.join([word for word in x.split() if word not in (stop)]))\n",
    "\n",
    "df_test.head()\n",
    "\n"
   ]
  },
  {
   "cell_type": "code",
   "execution_count": 65,
   "id": "d542f24f",
   "metadata": {},
   "outputs": [
    {
     "data": {
      "text/html": [
       "<div>\n",
       "<style scoped>\n",
       "    .dataframe tbody tr th:only-of-type {\n",
       "        vertical-align: middle;\n",
       "    }\n",
       "\n",
       "    .dataframe tbody tr th {\n",
       "        vertical-align: top;\n",
       "    }\n",
       "\n",
       "    .dataframe thead th {\n",
       "        text-align: right;\n",
       "    }\n",
       "</style>\n",
       "<table border=\"1\" class=\"dataframe\">\n",
       "  <thead>\n",
       "    <tr style=\"text-align: right;\">\n",
       "      <th></th>\n",
       "      <th>tweetid</th>\n",
       "      <th>clean_message</th>\n",
       "    </tr>\n",
       "  </thead>\n",
       "  <tbody>\n",
       "    <tr>\n",
       "      <th>0</th>\n",
       "      <td>169760</td>\n",
       "      <td>europe looking china make sure alone fighting climate change urlweb</td>\n",
       "    </tr>\n",
       "    <tr>\n",
       "      <th>1</th>\n",
       "      <td>35326</td>\n",
       "      <td>combine polling staffer climate change woman right fascist state urlweb</td>\n",
       "    </tr>\n",
       "  </tbody>\n",
       "</table>\n",
       "</div>"
      ],
      "text/plain": [
       "   tweetid  \\\n",
       "0   169760   \n",
       "1    35326   \n",
       "\n",
       "                                                             clean_message  \n",
       "0      europe looking china make sure alone fighting climate change urlweb  \n",
       "1  combine polling staffer climate change woman right fascist state urlweb  "
      ]
     },
     "execution_count": 65,
     "metadata": {},
     "output_type": "execute_result"
    }
   ],
   "source": [
    "df_test = df_test.drop('message', axis=1)\n",
    "df_test.head(2)"
   ]
  },
  {
   "cell_type": "code",
   "execution_count": 66,
   "id": "df3f7c9c",
   "metadata": {},
   "outputs": [],
   "source": [
    "X_list_test = []\n",
    "for sentence in df_test.clean_message:\n",
    "        # converting the text to lower case\n",
    "        sentence = sentence.lower()\n",
    "        # appendi#ng to data_list\n",
    "        X_list_test.append(sentence)"
   ]
  },
  {
   "cell_type": "code",
   "execution_count": 68,
   "id": "9cef9944",
   "metadata": {},
   "outputs": [],
   "source": [
    "feat_test = vect_bi_gram.transform(X_list_test).toarray()"
   ]
  },
  {
   "cell_type": "code",
   "execution_count": 69,
   "id": "c4486cb9",
   "metadata": {},
   "outputs": [
    {
     "data": {
      "text/plain": [
       "(10546, 10000)"
      ]
     },
     "execution_count": 69,
     "metadata": {},
     "output_type": "execute_result"
    }
   ],
   "source": [
    "feat_test.shape"
   ]
  },
  {
   "cell_type": "markdown",
   "id": "c4092f32",
   "metadata": {
    "scrolled": true
   },
   "source": [
    "#Count Vectorizer\n",
    "\n",
    "#betterVect_test = CountVectorizer(stop_words='english',max_features=10000)\n",
    "betterVect_test = TfidfVectorizer(stop_words='english',max_features=10000)\n",
    "\n",
    "vect_fit_test=betterVect_test.fit(df_test['clean_message'])\n",
    "\n",
    "betterVect_transform_test=betterVect_test.transform(df_test['clean_message'])\n",
    "\n",
    "feat_test=betterVect_transform_test.toarray()\n",
    "\n",
    "#scaling\n",
    "feat_test = scaler.fit_transform(feat_test)\n",
    "\n",
    "feat_test"
   ]
  },
  {
   "cell_type": "markdown",
   "id": "6dee40c8",
   "metadata": {},
   "source": [
    "## 5. Modelling\n",
    "<a class=\"anchor\" id=\"1.1\"></a>\n",
    "<a href=#cont>Back to Table of Contents</a>\n",
    "\n",
    "In this section, we will create one or more classification models that are able to accurately predict our classes. \n",
    "\n",
    "These are the models that will created:\n",
    "\n"
   ]
  },
  {
   "cell_type": "markdown",
   "id": "5c3d8d48",
   "metadata": {},
   "source": [
    "### 5.1 Multinomial NB"
   ]
  },
  {
   "cell_type": "code",
   "execution_count": 77,
   "id": "4a383543",
   "metadata": {},
   "outputs": [
    {
     "data": {
      "text/plain": [
       "MultinomialNB()"
      ]
     },
     "execution_count": 77,
     "metadata": {},
     "output_type": "execute_result"
    }
   ],
   "source": [
    "\n",
    "# create model object\n",
    "#lr = LogisticRegression(multi_class='ovr',max_iter=200)\n",
    "lr = MultinomialNB()\n",
    "# train model\n",
    "lr.fit(X_sample, y_sample)"
   ]
  },
  {
   "cell_type": "markdown",
   "id": "e5254430",
   "metadata": {},
   "source": [
    "#### Checking outcomes on the testing set"
   ]
  },
  {
   "cell_type": "code",
   "execution_count": 78,
   "id": "06969b6a",
   "metadata": {},
   "outputs": [],
   "source": [
    "#Generate predictions\n",
    "y_pred = lr.predict(X_test)\n",
    "\n",
    "y_pred=pd.DataFrame(y_pred)"
   ]
  },
  {
   "cell_type": "code",
   "execution_count": 79,
   "id": "5cd84388",
   "metadata": {
    "scrolled": true
   },
   "outputs": [
    {
     "name": "stdout",
     "output_type": "stream",
     "text": [
      "              precision    recall  f1-score   support\n",
      "\n",
      "           0       0.33      0.53      0.41       278\n",
      "           1       0.32      0.44      0.37       425\n",
      "           2       0.84      0.58      0.69      1755\n",
      "           3       0.59      0.77      0.67       706\n",
      "\n",
      "    accuracy                           0.60      3164\n",
      "   macro avg       0.52      0.58      0.53      3164\n",
      "weighted avg       0.67      0.60      0.62      3164\n",
      "\n"
     ]
    }
   ],
   "source": [
    "\n",
    "print(classification_report(y_test, y_pred))\n",
    "\n",
    "import warnings\n",
    "warnings.filterwarnings('ignore')"
   ]
  },
  {
   "cell_type": "code",
   "execution_count": 74,
   "id": "d97f39d8",
   "metadata": {},
   "outputs": [],
   "source": [
    "from sklearn.metrics import accuracy_score, confusion_matrix"
   ]
  },
  {
   "cell_type": "code",
   "execution_count": 80,
   "id": "9224416f",
   "metadata": {},
   "outputs": [
    {
     "data": {
      "text/plain": [
       "<function matplotlib.pyplot.show(close=None, block=None)>"
      ]
     },
     "execution_count": 80,
     "metadata": {},
     "output_type": "execute_result"
    },
    {
     "data": {
      "image/png": "[encoded data removed]",
      "text/plain": [
       "<Figure size 864x648 with 2 Axes>"
      ]
     },
     "metadata": {},
     "output_type": "display_data"
    }
   ],
   "source": [
    "con_mat = confusion_matrix(y_test, y_pred)\n",
    "\n",
    "plt.figure(figsize=(12,9))\n",
    "sns.heatmap(con_mat, annot=True)\n",
    "plt.show"
   ]
  },
  {
   "cell_type": "markdown",
   "id": "1771cf0f",
   "metadata": {},
   "source": [
    "#### Predictions on Test"
   ]
  },
  {
   "cell_type": "markdown",
   "id": "270a13a9",
   "metadata": {},
   "source": [
    "### 5.2 Decision Tree"
   ]
  },
  {
   "cell_type": "code",
   "execution_count": null,
   "id": "7ac369c1",
   "metadata": {},
   "outputs": [],
   "source": []
  },
  {
   "cell_type": "code",
   "execution_count": null,
   "id": "8a9a48fa",
   "metadata": {},
   "outputs": [],
   "source": []
  },
  {
   "cell_type": "code",
   "execution_count": null,
   "id": "8a85d60c",
   "metadata": {},
   "outputs": [],
   "source": []
  },
  {
   "cell_type": "code",
   "execution_count": null,
   "id": "f4d448c8",
   "metadata": {},
   "outputs": [],
   "source": []
  },
  {
   "cell_type": "markdown",
   "id": "38267131",
   "metadata": {},
   "source": [
    "### 5.3 Random Forests"
   ]
  },
  {
   "cell_type": "code",
   "execution_count": null,
   "id": "5131c81b",
   "metadata": {},
   "outputs": [],
   "source": [
    "\n",
    "# create model object\n",
    "model = RandomForestClassifier(n_estimators=100, class_weight='balanced')\n",
    "\n",
    "# Fit the model \n",
    "model.fit(X_train,y_train)"
   ]
  },
  {
   "cell_type": "code",
   "execution_count": null,
   "id": "8d2f8153",
   "metadata": {},
   "outputs": [],
   "source": [
    "# Train the model\n",
    "pred_forest = model.predict(X_test)"
   ]
  },
  {
   "cell_type": "code",
   "execution_count": null,
   "id": "fd2b5fde",
   "metadata": {},
   "outputs": [],
   "source": [
    "# Classification report\n",
    "print(classification_report(y_test, pred_forest))"
   ]
  },
  {
   "cell_type": "code",
   "execution_count": null,
   "id": "ca57a9c1",
   "metadata": {},
   "outputs": [],
   "source": []
  },
  {
   "cell_type": "markdown",
   "id": "7acac5b7",
   "metadata": {},
   "source": [
    "### 5.4 Naive Bayes"
   ]
  },
  {
   "cell_type": "code",
   "execution_count": null,
   "id": "5db6d614",
   "metadata": {},
   "outputs": [],
   "source": [
    "\n",
    "# Define the model \n",
    "naive_bayes = GaussianNB()\n",
    "\n",
    "# Fit the model \n",
    "naive_bayes.fit(X_train, y_train)"
   ]
  },
  {
   "cell_type": "markdown",
   "id": "4150f538",
   "metadata": {},
   "source": [
    "#### Hyperparameter tuning"
   ]
  },
  {
   "cell_type": "code",
   "execution_count": null,
   "id": "17464ca0",
   "metadata": {
    "scrolled": true
   },
   "outputs": [],
   "source": [
    "params_nb = {'var_smoothing': np.logspace(0,-9, num=10)}\n",
    "gs_nb = GridSearchCV(estimator=naive_bayes, \n",
    "                 param_grid=params_nb,    \n",
    "                 verbose=1, \n",
    "                 scoring='f1') \n",
    "gs_nb.fit(X_train, y_train)\n",
    "\n",
    "gs_nb.best_params_"
   ]
  },
  {
   "cell_type": "code",
   "execution_count": null,
   "id": "e3990540",
   "metadata": {},
   "outputs": [],
   "source": [
    "# Define the model \n",
    "naive_bayes_better = GaussianNB(var_smoothing=2.71828182846)\n",
    "# Fit the model \n",
    "naive_bayes_better.fit(X_train, y_train)"
   ]
  },
  {
   "cell_type": "markdown",
   "id": "1c7d80ed",
   "metadata": {},
   "source": [
    "#### Checking outcomes on the testing set\n"
   ]
  },
  {
   "cell_type": "code",
   "execution_count": null,
   "id": "51b7f3f4",
   "metadata": {},
   "outputs": [],
   "source": [
    "# Generate predictions\n",
    "y_pred_nb = naive_bayes.predict(X_test)\n",
    "\n",
    "y_pred_nb=pd.DataFrame(y_pred_nb)\n",
    "\n",
    "# Classification report\n",
    "print(classification_report(y_test, y_pred_nb))\n",
    "\n",
    "import warnings\n",
    "warnings.filterwarnings('ignore')"
   ]
  },
  {
   "cell_type": "markdown",
   "id": "298dcebf",
   "metadata": {},
   "source": [
    "#### Checking outcomes on tuned model\n"
   ]
  },
  {
   "cell_type": "code",
   "execution_count": null,
   "id": "0af7d8e9",
   "metadata": {},
   "outputs": [],
   "source": [
    "# Generate predictions\n",
    "y_pred_nb_better = naive_bayes_better.predict(X_test)\n",
    "\n",
    "y_pred_nb_better=pd.DataFrame(y_pred_nb_better)\n",
    "\n",
    "# Classification report\n",
    "print(classification_report(y_test, y_pred_nb_better))\n",
    "\n",
    "import warnings\n",
    "warnings.filterwarnings('ignore')"
   ]
  },
  {
   "cell_type": "markdown",
   "id": "e446cb33",
   "metadata": {},
   "source": [
    "### 5.5 k nearest neighbuors"
   ]
  },
  {
   "cell_type": "code",
   "execution_count": null,
   "id": "858a5b2b",
   "metadata": {},
   "outputs": [],
   "source": [
    "\n",
    "n_neighbors = 10 \n",
    "\n",
    "# Define the model\n",
    "knn = KNeighborsClassifier(n_neighbors,  weights='distance')\n",
    "# Fit the model \n",
    "knn.fit(X_train, y_train)"
   ]
  },
  {
   "cell_type": "markdown",
   "id": "d3c565c3",
   "metadata": {},
   "source": [
    "#### Hyperparameter tuning"
   ]
  },
  {
   "cell_type": "code",
   "execution_count": null,
   "id": "29db6823",
   "metadata": {},
   "outputs": [],
   "source": [
    "ks = [ 1, 2, 3, 4, 5, 6, 7, 8, 9, 10,20]\n",
    "\n",
    "param_grid = {'n_neighbors': ks}\n",
    "\n",
    "grid_knn = GridSearchCV(KNeighborsClassifier(), param_grid, scoring='f1')\n",
    "\n",
    "grid_knn.fit(X, y)\n",
    "grid_knn.best_params_"
   ]
  },
  {
   "cell_type": "code",
   "execution_count": null,
   "id": "cbbfde6c",
   "metadata": {},
   "outputs": [],
   "source": [
    "n_neighbors = 1 \n",
    "\n",
    "#model instance\n",
    "knn_improved = KNeighborsClassifier(n_neighbors,  weights='distance')\n",
    "# Fit the model \n",
    "knn_improved.fit(X_train, y_train)"
   ]
  },
  {
   "cell_type": "markdown",
   "id": "845f60ac",
   "metadata": {},
   "source": [
    "#### Checking outcomes on the testing set"
   ]
  },
  {
   "cell_type": "code",
   "execution_count": null,
   "id": "988efc20",
   "metadata": {},
   "outputs": [],
   "source": [
    "# Generate predictions\n",
    "y_pred_knn = knn.predict(X_test)\n",
    "\n",
    "y_pred_knn=pd.DataFrame(y_pred_knn)\n",
    "\n",
    "# Classification report\n",
    "print(classification_report(y_test, y_pred_knn))\n",
    "\n",
    "import warnings\n",
    "warnings.filterwarnings('ignore')"
   ]
  },
  {
   "cell_type": "markdown",
   "id": "263f3114",
   "metadata": {},
   "source": [
    "#### Checking outcomes on tuned model\n"
   ]
  },
  {
   "cell_type": "code",
   "execution_count": null,
   "id": "7cb03be2",
   "metadata": {},
   "outputs": [],
   "source": [
    "# Generate predictions\n",
    "y_pred_knn_improved = knn_improved.predict(X_test)\n",
    "\n",
    "y_pred_knn_improved=pd.DataFrame(y_pred_knn_improved)\n",
    "\n",
    "# Classification report\n",
    "print(classification_report(y_test, y_pred_knn_improved))\n",
    "\n",
    "import warnings\n",
    "warnings.filterwarnings('ignore')"
   ]
  },
  {
   "cell_type": "code",
   "execution_count": null,
   "id": "ced940af",
   "metadata": {},
   "outputs": [],
   "source": []
  }
 ],
 "metadata": {
  "kernelspec": {
   "display_name": "Python 3",
   "language": "python",
   "name": "python3"
  },
  "language_info": {
   "codemirror_mode": {
    "name": "ipython",
    "version": 3
   },
   "file_extension": ".py",
   "mimetype": "text/x-python",
   "name": "python",
   "nbconvert_exporter": "python",
   "pygments_lexer": "ipython3",
   "version": "3.8.8"
  }
 },
 "nbformat": 4,
 "nbformat_minor": 5
}
